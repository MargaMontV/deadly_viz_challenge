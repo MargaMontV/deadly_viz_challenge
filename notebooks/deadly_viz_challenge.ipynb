{
 "cells": [
  {
   "cell_type": "markdown",
   "metadata": {},
   "source": [
    "# Deadly Visualizations!!!\n",
    "\n",
    "![Image](../images/viz_types_portada.png)"
   ]
  },
  {
   "cell_type": "markdown",
   "metadata": {},
   "source": [
    "## Setup\n",
    "\n",
    "First we need to create a basic setup which includes:\n",
    "\n",
    "- Importing the libraries.\n",
    "\n",
    "- Reading the dataset file (source [Instituto Nacional de Estadística](https://www.ine.es/ss/Satellite?L=es_ES&c=Page&cid=1259942408928&p=1259942408928&pagename=ProductosYServicios%2FPYSLayout)).\n",
    "\n",
    "- Create a couple of columns and tables for the analysis.\n",
    "\n",
    "__NOTE:__ some functions were already created in order to help you go through the challenge. However, feel free to perform any code you might need."
   ]
  },
  {
   "cell_type": "code",
   "execution_count": 1,
   "metadata": {},
   "outputs": [
    {
     "data": {
      "text/html": [
       "        <script type=\"text/javascript\">\n",
       "        window.PlotlyConfig = {MathJaxConfig: 'local'};\n",
       "        if (window.MathJax && window.MathJax.Hub && window.MathJax.Hub.Config) {window.MathJax.Hub.Config({SVG: {font: \"STIX-Web\"}});}\n",
       "        if (typeof require !== 'undefined') {\n",
       "        require.undef(\"plotly\");\n",
       "        requirejs.config({\n",
       "            paths: {\n",
       "                'plotly': ['https://cdn.plot.ly/plotly-2.20.0.min']\n",
       "            }\n",
       "        });\n",
       "        require(['plotly'], function(Plotly) {\n",
       "            window._Plotly = Plotly;\n",
       "        });\n",
       "        }\n",
       "        </script>\n",
       "        "
      ]
     },
     "metadata": {},
     "output_type": "display_data"
    }
   ],
   "source": [
    "# imports\n",
    "\n",
    "import sys\n",
    "import re\n",
    "sys.path.insert(0, \"../modules\")\n",
    "\n",
    "import numpy as np\n",
    "import pandas as pd\n",
    "\n",
    "import plotly.express as px\n",
    "import cufflinks as cf\n",
    "cf.go_offline()\n",
    "\n",
    "import module as mod     # functions are include in module.py"
   ]
  },
  {
   "cell_type": "code",
   "execution_count": 2,
   "metadata": {},
   "outputs": [
    {
     "name": "stdout",
     "output_type": "stream",
     "text": [
      "<class 'pandas.core.frame.DataFrame'>\n",
      "RangeIndex: 301158 entries, 0 to 301157\n",
      "Data columns (total 5 columns):\n",
      " #   Column           Non-Null Count   Dtype \n",
      "---  ------           --------------   ----- \n",
      " 0   Causa de muerte  301158 non-null  object\n",
      " 1   Sexo             301158 non-null  object\n",
      " 2   Edad             301158 non-null  object\n",
      " 3   Periodo          301158 non-null  int64 \n",
      " 4   Total            301158 non-null  int64 \n",
      "dtypes: int64(2), object(3)\n",
      "memory usage: 11.5+ MB\n"
     ]
    }
   ],
   "source": [
    "# read dataset\n",
    "\n",
    "deaths = pd.read_csv('../data/7947.csv', sep=';', thousands='.')\n",
    "\n",
    "deaths.info()"
   ]
  },
  {
   "cell_type": "code",
   "execution_count": 3,
   "metadata": {},
   "outputs": [
    {
     "name": "stdout",
     "output_type": "stream",
     "text": [
      "<class 'pandas.core.frame.DataFrame'>\n",
      "RangeIndex: 301158 entries, 0 to 301157\n",
      "Data columns (total 8 columns):\n",
      " #   Column           Non-Null Count   Dtype \n",
      "---  ------           --------------   ----- \n",
      " 0   Causa de muerte  301158 non-null  object\n",
      " 1   Sexo             301158 non-null  object\n",
      " 2   Edad             301158 non-null  object\n",
      " 3   Periodo          301158 non-null  int64 \n",
      " 4   Total            301158 non-null  int64 \n",
      " 5   cause_code       301158 non-null  object\n",
      " 6   cause_group      301158 non-null  object\n",
      " 7   cause_name       301158 non-null  object\n",
      "dtypes: int64(2), object(6)\n",
      "memory usage: 18.4+ MB\n"
     ]
    }
   ],
   "source": [
    "# add some columns...you'll need them later\n",
    "\n",
    "deaths['cause_code'] = deaths['Causa de muerte'].apply(mod.cause_code)\n",
    "deaths['cause_group'] = deaths['Causa de muerte'].apply(mod.cause_types)\n",
    "deaths['cause_name'] = deaths['Causa de muerte'].apply(mod.cause_name)\n",
    "\n",
    "deaths.info()"
   ]
  },
  {
   "cell_type": "code",
   "execution_count": 4,
   "metadata": {},
   "outputs": [
    {
     "data": {
      "text/html": [
       "<div>\n",
       "<style scoped>\n",
       "    .dataframe tbody tr th:only-of-type {\n",
       "        vertical-align: middle;\n",
       "    }\n",
       "\n",
       "    .dataframe tbody tr th {\n",
       "        vertical-align: top;\n",
       "    }\n",
       "\n",
       "    .dataframe thead th {\n",
       "        text-align: right;\n",
       "    }\n",
       "</style>\n",
       "<table border=\"1\" class=\"dataframe\">\n",
       "  <thead>\n",
       "    <tr style=\"text-align: right;\">\n",
       "      <th></th>\n",
       "      <th>categorical_variable</th>\n",
       "      <th>number_of_possible_values</th>\n",
       "      <th>values</th>\n",
       "    </tr>\n",
       "  </thead>\n",
       "  <tbody>\n",
       "    <tr>\n",
       "      <th>0</th>\n",
       "      <td>cause_code</td>\n",
       "      <td>117</td>\n",
       "      <td>[001-102, 001-008, 001, 002, 003, 004, 005, 00...</td>\n",
       "    </tr>\n",
       "    <tr>\n",
       "      <th>1</th>\n",
       "      <td>cause_name</td>\n",
       "      <td>117</td>\n",
       "      <td>[I-XXII.Todas las causas, I.Enfermedades infec...</td>\n",
       "    </tr>\n",
       "    <tr>\n",
       "      <th>2</th>\n",
       "      <td>Periodo</td>\n",
       "      <td>39</td>\n",
       "      <td>[2018, 2017, 2016, 2015, 2014, 2013, 2012, 201...</td>\n",
       "    </tr>\n",
       "    <tr>\n",
       "      <th>3</th>\n",
       "      <td>Edad</td>\n",
       "      <td>22</td>\n",
       "      <td>[Todas las edades, Menos de 1 año, De 1 a 4 añ...</td>\n",
       "    </tr>\n",
       "    <tr>\n",
       "      <th>4</th>\n",
       "      <td>Sexo</td>\n",
       "      <td>3</td>\n",
       "      <td>[Total, Hombres, Mujeres]</td>\n",
       "    </tr>\n",
       "    <tr>\n",
       "      <th>5</th>\n",
       "      <td>cause_group</td>\n",
       "      <td>2</td>\n",
       "      <td>[Multiple causes, Single cause]</td>\n",
       "    </tr>\n",
       "  </tbody>\n",
       "</table>\n",
       "</div>"
      ],
      "text/plain": [
       "  categorical_variable  number_of_possible_values  \\\n",
       "0           cause_code                        117   \n",
       "1           cause_name                        117   \n",
       "2              Periodo                         39   \n",
       "3                 Edad                         22   \n",
       "4                 Sexo                          3   \n",
       "5          cause_group                          2   \n",
       "\n",
       "                                              values  \n",
       "0  [001-102, 001-008, 001, 002, 003, 004, 005, 00...  \n",
       "1  [I-XXII.Todas las causas, I.Enfermedades infec...  \n",
       "2  [2018, 2017, 2016, 2015, 2014, 2013, 2012, 201...  \n",
       "3  [Todas las edades, Menos de 1 año, De 1 a 4 añ...  \n",
       "4                          [Total, Hombres, Mujeres]  \n",
       "5                    [Multiple causes, Single cause]  "
      ]
     },
     "execution_count": 4,
     "metadata": {},
     "output_type": "execute_result"
    }
   ],
   "source": [
    "# lets check the categorical variables\n",
    "\n",
    "var_list = ['Sexo', 'Edad', 'Periodo', 'cause_code', 'cause_name', 'cause_group']\n",
    "\n",
    "categories = mod.cat_var(deaths, var_list)\n",
    "categories"
   ]
  },
  {
   "cell_type": "code",
   "execution_count": 5,
   "metadata": {},
   "outputs": [
    {
     "data": {
      "text/html": [
       "<div>\n",
       "<style scoped>\n",
       "    .dataframe tbody tr th:only-of-type {\n",
       "        vertical-align: middle;\n",
       "    }\n",
       "\n",
       "    .dataframe tbody tr th {\n",
       "        vertical-align: top;\n",
       "    }\n",
       "\n",
       "    .dataframe thead th {\n",
       "        text-align: right;\n",
       "    }\n",
       "</style>\n",
       "<table border=\"1\" class=\"dataframe\">\n",
       "  <thead>\n",
       "    <tr style=\"text-align: right;\">\n",
       "      <th></th>\n",
       "      <th>cause_code</th>\n",
       "      <th>cause_name</th>\n",
       "    </tr>\n",
       "  </thead>\n",
       "  <tbody>\n",
       "    <tr>\n",
       "      <th>0</th>\n",
       "      <td>001</td>\n",
       "      <td>Enfermedades infecciosas intestinales</td>\n",
       "    </tr>\n",
       "    <tr>\n",
       "      <th>1</th>\n",
       "      <td>001-008</td>\n",
       "      <td>I.Enfermedades infecciosas y parasitarias</td>\n",
       "    </tr>\n",
       "    <tr>\n",
       "      <th>2</th>\n",
       "      <td>001-102</td>\n",
       "      <td>I-XXII.Todas las causas</td>\n",
       "    </tr>\n",
       "    <tr>\n",
       "      <th>3</th>\n",
       "      <td>002</td>\n",
       "      <td>Tuberculosis y sus efectos tardíos</td>\n",
       "    </tr>\n",
       "    <tr>\n",
       "      <th>4</th>\n",
       "      <td>003</td>\n",
       "      <td>Enfermedad meningocócica</td>\n",
       "    </tr>\n",
       "    <tr>\n",
       "      <th>...</th>\n",
       "      <td>...</td>\n",
       "      <td>...</td>\n",
       "    </tr>\n",
       "    <tr>\n",
       "      <th>112</th>\n",
       "      <td>098</td>\n",
       "      <td>Suicidio y lesiones autoinfligidas</td>\n",
       "    </tr>\n",
       "    <tr>\n",
       "      <th>113</th>\n",
       "      <td>099</td>\n",
       "      <td>Agresiones (homicidio)</td>\n",
       "    </tr>\n",
       "    <tr>\n",
       "      <th>114</th>\n",
       "      <td>100</td>\n",
       "      <td>Eventos de intención no determinada</td>\n",
       "    </tr>\n",
       "    <tr>\n",
       "      <th>115</th>\n",
       "      <td>101</td>\n",
       "      <td>Complicaciones de la atención médica y quirúrgica</td>\n",
       "    </tr>\n",
       "    <tr>\n",
       "      <th>116</th>\n",
       "      <td>102</td>\n",
       "      <td>Otras causas externas y sus efectos tardíos</td>\n",
       "    </tr>\n",
       "  </tbody>\n",
       "</table>\n",
       "<p>117 rows × 2 columns</p>\n",
       "</div>"
      ],
      "text/plain": [
       "    cause_code                                         cause_name\n",
       "0          001              Enfermedades infecciosas intestinales\n",
       "1      001-008          I.Enfermedades infecciosas y parasitarias\n",
       "2      001-102                            I-XXII.Todas las causas\n",
       "3          002                 Tuberculosis y sus efectos tardíos\n",
       "4          003                           Enfermedad meningocócica\n",
       "..         ...                                                ...\n",
       "112        098                 Suicidio y lesiones autoinfligidas\n",
       "113        099                             Agresiones (homicidio)\n",
       "114        100                Eventos de intención no determinada\n",
       "115        101  Complicaciones de la atención médica y quirúrgica\n",
       "116        102        Otras causas externas y sus efectos tardíos\n",
       "\n",
       "[117 rows x 2 columns]"
      ]
     },
     "execution_count": 5,
     "metadata": {},
     "output_type": "execute_result"
    }
   ],
   "source": [
    "# we need also to create a causes table for the analysis\n",
    "\n",
    "causes_table = deaths[['cause_code', 'cause_name']].drop_duplicates().sort_values(by='cause_code').reset_index(drop=True)\n",
    "\n",
    "causes_table"
   ]
  },
  {
   "cell_type": "code",
   "execution_count": 6,
   "metadata": {
    "scrolled": true
   },
   "outputs": [
    {
     "data": {
      "text/html": [
       "<div>\n",
       "<style scoped>\n",
       "    .dataframe tbody tr th:only-of-type {\n",
       "        vertical-align: middle;\n",
       "    }\n",
       "\n",
       "    .dataframe tbody tr th {\n",
       "        vertical-align: top;\n",
       "    }\n",
       "\n",
       "    .dataframe thead th {\n",
       "        text-align: right;\n",
       "    }\n",
       "</style>\n",
       "<table border=\"1\" class=\"dataframe\">\n",
       "  <thead>\n",
       "    <tr style=\"text-align: right;\">\n",
       "      <th></th>\n",
       "      <th>Causa de muerte</th>\n",
       "      <th>Sexo</th>\n",
       "      <th>Edad</th>\n",
       "      <th>Periodo</th>\n",
       "      <th>Total</th>\n",
       "      <th>cause_code</th>\n",
       "      <th>cause_group</th>\n",
       "      <th>cause_name</th>\n",
       "    </tr>\n",
       "  </thead>\n",
       "  <tbody>\n",
       "    <tr>\n",
       "      <th>0</th>\n",
       "      <td>001-102  I-XXII.Todas las causas</td>\n",
       "      <td>Total</td>\n",
       "      <td>Todas las edades</td>\n",
       "      <td>2018</td>\n",
       "      <td>427721</td>\n",
       "      <td>001-102</td>\n",
       "      <td>Multiple causes</td>\n",
       "      <td>I-XXII.Todas las causas</td>\n",
       "    </tr>\n",
       "    <tr>\n",
       "      <th>1</th>\n",
       "      <td>001-102  I-XXII.Todas las causas</td>\n",
       "      <td>Total</td>\n",
       "      <td>Todas las edades</td>\n",
       "      <td>2017</td>\n",
       "      <td>424523</td>\n",
       "      <td>001-102</td>\n",
       "      <td>Multiple causes</td>\n",
       "      <td>I-XXII.Todas las causas</td>\n",
       "    </tr>\n",
       "    <tr>\n",
       "      <th>2</th>\n",
       "      <td>001-102  I-XXII.Todas las causas</td>\n",
       "      <td>Total</td>\n",
       "      <td>Todas las edades</td>\n",
       "      <td>2016</td>\n",
       "      <td>410611</td>\n",
       "      <td>001-102</td>\n",
       "      <td>Multiple causes</td>\n",
       "      <td>I-XXII.Todas las causas</td>\n",
       "    </tr>\n",
       "    <tr>\n",
       "      <th>3</th>\n",
       "      <td>001-102  I-XXII.Todas las causas</td>\n",
       "      <td>Total</td>\n",
       "      <td>Todas las edades</td>\n",
       "      <td>2015</td>\n",
       "      <td>422568</td>\n",
       "      <td>001-102</td>\n",
       "      <td>Multiple causes</td>\n",
       "      <td>I-XXII.Todas las causas</td>\n",
       "    </tr>\n",
       "    <tr>\n",
       "      <th>4</th>\n",
       "      <td>001-102  I-XXII.Todas las causas</td>\n",
       "      <td>Total</td>\n",
       "      <td>Todas las edades</td>\n",
       "      <td>2014</td>\n",
       "      <td>395830</td>\n",
       "      <td>001-102</td>\n",
       "      <td>Multiple causes</td>\n",
       "      <td>I-XXII.Todas las causas</td>\n",
       "    </tr>\n",
       "  </tbody>\n",
       "</table>\n",
       "</div>"
      ],
      "text/plain": [
       "                    Causa de muerte   Sexo              Edad  Periodo   Total  \\\n",
       "0  001-102  I-XXII.Todas las causas  Total  Todas las edades     2018  427721   \n",
       "1  001-102  I-XXII.Todas las causas  Total  Todas las edades     2017  424523   \n",
       "2  001-102  I-XXII.Todas las causas  Total  Todas las edades     2016  410611   \n",
       "3  001-102  I-XXII.Todas las causas  Total  Todas las edades     2015  422568   \n",
       "4  001-102  I-XXII.Todas las causas  Total  Todas las edades     2014  395830   \n",
       "\n",
       "  cause_code      cause_group               cause_name  \n",
       "0    001-102  Multiple causes  I-XXII.Todas las causas  \n",
       "1    001-102  Multiple causes  I-XXII.Todas las causas  \n",
       "2    001-102  Multiple causes  I-XXII.Todas las causas  \n",
       "3    001-102  Multiple causes  I-XXII.Todas las causas  \n",
       "4    001-102  Multiple causes  I-XXII.Todas las causas  "
      ]
     },
     "execution_count": 6,
     "metadata": {},
     "output_type": "execute_result"
    }
   ],
   "source": [
    "# And some space for free-style Pandas!!! (e.g.: df['column_name'].unique())\n",
    "deaths.head()"
   ]
  },
  {
   "cell_type": "code",
   "execution_count": 7,
   "metadata": {},
   "outputs": [
    {
     "data": {
      "text/plain": [
       "array([2018, 2017, 2016, 2015, 2014, 2013, 2012, 2011, 2010, 2009, 2008,\n",
       "       2007, 2006, 2005, 2004, 2003, 2002, 2001, 2000, 1999, 1998, 1997,\n",
       "       1996, 1995, 1994, 1993, 1992, 1991, 1990, 1989, 1988, 1987, 1986,\n",
       "       1985, 1984, 1983, 1982, 1981, 1980], dtype=int64)"
      ]
     },
     "execution_count": 7,
     "metadata": {},
     "output_type": "execute_result"
    }
   ],
   "source": [
    "#Years of the dataset\n",
    "deaths['Periodo'].unique()"
   ]
  },
  {
   "cell_type": "code",
   "execution_count": 8,
   "metadata": {},
   "outputs": [
    {
     "data": {
      "text/plain": [
       "array(['Total', 'Hombres', 'Mujeres'], dtype=object)"
      ]
     },
     "execution_count": 8,
     "metadata": {},
     "output_type": "execute_result"
    }
   ],
   "source": [
    "#Sexes of the dataset\n",
    "deaths['Sexo'].unique()"
   ]
  },
  {
   "cell_type": "code",
   "execution_count": 9,
   "metadata": {},
   "outputs": [
    {
     "data": {
      "text/plain": [
       "array(['Multiple causes', 'Single cause'], dtype=object)"
      ]
     },
     "execution_count": 9,
     "metadata": {},
     "output_type": "execute_result"
    }
   ],
   "source": [
    "#Causes of the dataset\n",
    "deaths['cause_group'].unique()"
   ]
  },
  {
   "cell_type": "code",
   "execution_count": 10,
   "metadata": {},
   "outputs": [
    {
     "data": {
      "text/plain": [
       "array(['Todas las edades', 'Menos de 1 año', 'De 1 a 4 años',\n",
       "       'De 5 a 9 años', 'De 10 a 14 años  ', 'De 15 a 19 años  ',\n",
       "       'De 20 a 24 años', 'De 25 a 29 años', 'De 30 a 34 años',\n",
       "       'De 35 a 39 años', 'De 40 a 44 años', 'De 45 a 49 años',\n",
       "       'De 50 a 54 años', 'De 55 a 59 años', 'De 60 a 64 años',\n",
       "       'De 65 a 69 años', 'De 70 a 74 años  ', 'De 75 a 79 años  ',\n",
       "       'De 80 a 84 años  ', 'De 85 a 89 años  ', 'De 90 a 94 años  ',\n",
       "       '95 y más años'], dtype=object)"
      ]
     },
     "execution_count": 10,
     "metadata": {},
     "output_type": "execute_result"
    }
   ],
   "source": [
    "#Edades of the dataset\n",
    "deaths['Edad'].unique()"
   ]
  },
  {
   "cell_type": "code",
   "execution_count": 11,
   "metadata": {
    "scrolled": false
   },
   "outputs": [
    {
     "data": {
      "text/plain": [
       "array(['001-102  I-XXII.Todas las causas',\n",
       "       '001-008  I.Enfermedades infecciosas y parasitarias',\n",
       "       '001  Enfermedades infecciosas intestinales',\n",
       "       '002  Tuberculosis y sus efectos tardíos',\n",
       "       '003  Enfermedad meningocócica', '004  Septicemia',\n",
       "       '005  Hepatitis vírica', '006  SIDA',\n",
       "       '007  VIH+ (portador, evidencias de laboratorio del VIH, ...)',\n",
       "       '008  Resto de enfermedades infecciosas y parasitarias y sus efectos tardíos',\n",
       "       '009-041  II.Tumores',\n",
       "       '009  Tumor maligno del labio, de la cavidad bucal y de la faringe',\n",
       "       '010  Tumor maligno del esófago',\n",
       "       '011  Tumor maligno del estómago', '012  Tumor maligno del colon',\n",
       "       '013  Tumor maligno del recto, de la porción rectosigmoide y del ano',\n",
       "       '014  Tumor maligno del hígado y vías biliares intrahepáticas',\n",
       "       '015  Tumor maligno del páncreas',\n",
       "       '016  Otros tumores malignos digestivos',\n",
       "       '017  Tumor maligno de la laringe',\n",
       "       '018  Tumor maligno de la tráquea, de los bronquios y del pulmón',\n",
       "       '019  Otros tumores malignos respiratorios e intratorácicos',\n",
       "       '020  Tumores malignos del hueso y de los cartílagos articulares',\n",
       "       '021  Melanoma maligno de la piel',\n",
       "       '022  Otros tumores malignos de la piel y de los tejidos blandos',\n",
       "       '023  Tumor maligno de la mama',\n",
       "       '024  Tumor maligno del cuello del útero',\n",
       "       '025  Tumor maligno de otras partes del útero',\n",
       "       '026  Tumor maligno del ovario',\n",
       "       '027  Tumores malignos de otros órganos genitales femeninos',\n",
       "       '028  Tumor maligno de la próstata',\n",
       "       '029  Tumores malignos de otros órganos genitales masculinos',\n",
       "       '030  Tumor maligno del riñón, excepto pelvis renal',\n",
       "       '031  Tumor maligno de la vejiga',\n",
       "       '032  Otros tumores malignos de las vías urinarias',\n",
       "       '033  Tumor maligno del encéfalo',\n",
       "       '034  Otros tumores malignos neurológicos y endocrinos',\n",
       "       '035  Tumor maligno de sitios mal definidos, secundarios y de sitios no especificados',\n",
       "       '036  Tumores malignos del tejido linfático, de los órganos hematopoyéticos y de tejidos afines, excepto leucemia',\n",
       "       '037  Leucemia', '038  Tumores in situ', '039  Tumores benignos',\n",
       "       '040  Síndrome mielodisplásico',\n",
       "       '041  Otros tumores de comportamiento incierto o desconocido',\n",
       "       '042-043  III.Enfermedades de la sangre y de los órganos hematopoyéticos, y ciertos trastornos que afectan al mecanismo de la inmunidad',\n",
       "       '042 Enfermedades de la sangre y de los órganos hematopoyéticos',\n",
       "       '043 Ciertos trastornos que afectan al mecanismo de la inmunidad',\n",
       "       '044-045  IV.Enfermedades endocrinas, nutricionales y metabólicas',\n",
       "       '044  Diabetes mellitus',\n",
       "       '045  Otras enfermedades endocrinas, nutricionales y metabólicas',\n",
       "       '046-049  V.Trastornos mentales y del comportamiento',\n",
       "       '046  Trastornos mentales orgánicos, senil y presenil',\n",
       "       '047  Trastornos mentales debidos al uso de alcohol',\n",
       "       '048  Trastornos mentales debidos al uso de drogas (drogodependencia, toxicomanía)',\n",
       "       '049  Otros trastornos mentales y del comportamiento',\n",
       "       '050-052  VI-VIII.Enfermedades del sistema nervioso y de los órganos de los sentidos',\n",
       "       '050  Meningitis (otras en 003)', '051  Enfermedad de Alzheimer',\n",
       "       '052  Otras enfermedades del sistema nervioso y de los órganos de los sentidos',\n",
       "       '053-061 IX.Enfermedades del sistema circulatorio',\n",
       "       '053  Enfermedades cardíacas reumáticas crónicas',\n",
       "       '054  Enfermedades hipertensivas',\n",
       "       '055  Infarto agudo de miocardio',\n",
       "       '056  Otras enfermedades isquémicas del corazón',\n",
       "       '057  Insuficiencia cardíaca',\n",
       "       '058 Otras enfermedades del corazón',\n",
       "       '059  Enfermedades cerebrovasculares', '060  Aterosclerosis',\n",
       "       '061  Otras enfermedades de los vasos sanguíneos',\n",
       "       '062-067  X.Enfermedades del sistema respiratorio',\n",
       "       '062  Influenza (gripe) (incluye gripe aviar y gripe A)',\n",
       "       '063  Neumonía',\n",
       "       '064  Enfermedades crónicas de las vías respiratorias inferiores (excepto asma)',\n",
       "       '065  Asma', '066  Insuficiencia respiratoria',\n",
       "       '067  Otras enfermedades del sistema respiratorio',\n",
       "       '068-072  XI.Enfermedades del sistema digestivo',\n",
       "       '068  Úlcera de estómago, duodeno y yeyuno',\n",
       "       '069  Enteritis y colitis no infecciosas',\n",
       "       '070  Enfermedad vascular intestinal',\n",
       "       '071  Cirrosis y otras enfermedades crónicas del hígado',\n",
       "       '072  Otras enfermedades del sistema digestivo',\n",
       "       '073  XII.Enfermedades de la piel y del tejido subcutáneo',\n",
       "       '074-076  XIII.Enfermedades del sistema osteomuscular y del tejido conjuntivo',\n",
       "       '074  Artritis reumatoide y osteoartrosis',\n",
       "       '075  Osteoporosis y fractura patológica',\n",
       "       '076  Otras enfermedades del sistema osteomuscular y del tejido conjuntivo',\n",
       "       '077-080  XIV.Enfermedades del sistema genitourinario',\n",
       "       '077  Enfermedades del riñón y del uréter',\n",
       "       '078  Enfermedades de los órganos genitales masculinos',\n",
       "       '079  Enfermedades de los órganos genitales femeninos y trastornos de la mama',\n",
       "       '080  Otras enfermedades del sistema genitourinario',\n",
       "       '081  XV.Embarazo, parto y puerperio',\n",
       "       '082  XVI.Afecciones originadas en el periodo perinatal',\n",
       "       '083-085  XVII.Malformaciones congénitas, deformidades y anomalías cromosómicas',\n",
       "       '083  Malformaciones congénitas del sistema nervioso',\n",
       "       '084  Malformaciones congénitas del sistema circulatorio',\n",
       "       '085  Otras malformaciones congénitas, deformidades y anomalías cromosómicas',\n",
       "       '086-089  XVIII.Síntomas, signos y hallazgos anormales clínicos y de laboratorio, no clasificados en otra parte',\n",
       "       '086 Paro cardíaco, muerte sin asistencia y otra causa desconocida de mortalidad',\n",
       "       '087  Senilidad', '088 Muerte súbita infantil',\n",
       "       '089  Resto de síntomas, signos y hallazgos anormales clínicos y de laboratorio, no clasificados en otra parte',\n",
       "       '090-102  XX.Causas externas de mortalidad',\n",
       "       '090  Accidentes de tráfico',\n",
       "       '091  Otros accidentes de transporte', '092  Caídas accidentales',\n",
       "       '093  Ahogamiento, sumersión y sofocación accidentales',\n",
       "       '094  Accidentes por fuego, humo y sustancias calientes',\n",
       "       '095  Envenenamiento accidental por psicofármacos y drogas de abuso',\n",
       "       '096  Otros envenenamientos accidentales', '097  Otros accidentes',\n",
       "       '098  Suicidio y lesiones autoinfligidas',\n",
       "       '099  Agresiones (homicidio)',\n",
       "       '100  Eventos de intención no determinada',\n",
       "       '101  Complicaciones de la atención médica y quirúrgica',\n",
       "       '102  Otras causas externas y sus efectos tardíos'], dtype=object)"
      ]
     },
     "execution_count": 11,
     "metadata": {},
     "output_type": "execute_result"
    }
   ],
   "source": [
    "#Death causes of the dataset\n",
    "deaths['Causa de muerte'].unique()"
   ]
  },
  {
   "cell_type": "code",
   "execution_count": 12,
   "metadata": {},
   "outputs": [
    {
     "data": {
      "text/plain": [
       "array(['001-102', '001-008', '001', '002', '003', '004', '005', '006',\n",
       "       '007', '008', '009-041', '009', '010', '011', '012', '013', '014',\n",
       "       '015', '016', '017', '018', '019', '020', '021', '022', '023',\n",
       "       '024', '025', '026', '027', '028', '029', '030', '031', '032',\n",
       "       '033', '034', '035', '036', '037', '038', '039', '040', '041',\n",
       "       '042-043', '042', '043', '044-045', '044', '045', '046-049', '046',\n",
       "       '047', '048', '049', '050-052', '050', '051', '052', '053-061',\n",
       "       '053', '054', '055', '056', '057', '058', '059', '060', '061',\n",
       "       '062-067', '062', '063', '064', '065', '066', '067', '068-072',\n",
       "       '068', '069', '070', '071', '072', '073', '074-076', '074', '075',\n",
       "       '076', '077-080', '077', '078', '079', '080', '081', '082',\n",
       "       '083-085', '083', '084', '085', '086-089', '086', '087', '088',\n",
       "       '089', '090-102', '090', '091', '092', '093', '094', '095', '096',\n",
       "       '097', '098', '099', '100', '101', '102'], dtype=object)"
      ]
     },
     "execution_count": 12,
     "metadata": {},
     "output_type": "execute_result"
    }
   ],
   "source": [
    "#Codes of the death causes\n",
    "deaths['cause_code'].unique()"
   ]
  },
  {
   "cell_type": "markdown",
   "metadata": {},
   "source": [
    "## Lets make some transformations\n",
    "\n",
    "Eventhough the dataset is pretty clean, the information is completely denormalized as you could see. For that matter a collection of methods (functions) are available in order to generate the tables you might need:\n",
    "\n",
    "- `row_filter(df, cat_var, cat_values)` => Filter rows by any value or group of values in a categorical variable.\n",
    "\n",
    "- `nrow_filter(df, cat_var, cat_values)` => The same but backwards. \n",
    "\n",
    "- `groupby_sum(df, group_vars, agg_var='Total', sort_var='Total')` => Add deaths by a certain variable.\n",
    "\n",
    "- `pivot_table(df, col, x_axis, value='Total')`=> Make some pivot tables, you might need them...\n",
    "\n",
    "__NOTE:__ be aware that the filtering methods can perform a filter at a time. Feel free to perform the filter you need in any way you want or feel confortable with."
   ]
  },
  {
   "cell_type": "code",
   "execution_count": 54,
   "metadata": {},
   "outputs": [
    {
     "data": {
      "text/html": [
       "<div>\n",
       "<style scoped>\n",
       "    .dataframe tbody tr th:only-of-type {\n",
       "        vertical-align: middle;\n",
       "    }\n",
       "\n",
       "    .dataframe tbody tr th {\n",
       "        vertical-align: top;\n",
       "    }\n",
       "\n",
       "    .dataframe thead th {\n",
       "        text-align: right;\n",
       "    }\n",
       "</style>\n",
       "<table border=\"1\" class=\"dataframe\">\n",
       "  <thead>\n",
       "    <tr style=\"text-align: right;\">\n",
       "      <th></th>\n",
       "      <th>Edad</th>\n",
       "      <th>Total</th>\n",
       "    </tr>\n",
       "  </thead>\n",
       "  <tbody>\n",
       "    <tr>\n",
       "      <th>422</th>\n",
       "      <td>00 a 01</td>\n",
       "      <td>5822</td>\n",
       "    </tr>\n",
       "    <tr>\n",
       "      <th>641</th>\n",
       "      <td>00 a 01</td>\n",
       "      <td>1505</td>\n",
       "    </tr>\n",
       "    <tr>\n",
       "      <th>572</th>\n",
       "      <td>00 a 01</td>\n",
       "      <td>2239</td>\n",
       "    </tr>\n",
       "    <tr>\n",
       "      <th>669</th>\n",
       "      <td>00 a 01</td>\n",
       "      <td>1092</td>\n",
       "    </tr>\n",
       "    <tr>\n",
       "      <th>540</th>\n",
       "      <td>00 a 01</td>\n",
       "      <td>2846</td>\n",
       "    </tr>\n",
       "    <tr>\n",
       "      <th>...</th>\n",
       "      <td>...</td>\n",
       "      <td>...</td>\n",
       "    </tr>\n",
       "    <tr>\n",
       "      <th>218</th>\n",
       "      <td>95 a 115</td>\n",
       "      <td>24017</td>\n",
       "    </tr>\n",
       "    <tr>\n",
       "      <th>211</th>\n",
       "      <td>95 a 115</td>\n",
       "      <td>24763</td>\n",
       "    </tr>\n",
       "    <tr>\n",
       "      <th>210</th>\n",
       "      <td>95 a 115</td>\n",
       "      <td>24896</td>\n",
       "    </tr>\n",
       "    <tr>\n",
       "      <th>238</th>\n",
       "      <td>95 a 115</td>\n",
       "      <td>22069</td>\n",
       "    </tr>\n",
       "    <tr>\n",
       "      <th>426</th>\n",
       "      <td>95 a 115</td>\n",
       "      <td>5464</td>\n",
       "    </tr>\n",
       "  </tbody>\n",
       "</table>\n",
       "<p>819 rows × 2 columns</p>\n",
       "</div>"
      ],
      "text/plain": [
       "         Edad  Total\n",
       "422   00 a 01   5822\n",
       "641   00 a 01   1505\n",
       "572   00 a 01   2239\n",
       "669   00 a 01   1092\n",
       "540   00 a 01   2846\n",
       "..        ...    ...\n",
       "218  95 a 115  24017\n",
       "211  95 a 115  24763\n",
       "210  95 a 115  24896\n",
       "238  95 a 115  22069\n",
       "426  95 a 115   5464\n",
       "\n",
       "[819 rows x 2 columns]"
      ]
     },
     "execution_count": 54,
     "metadata": {},
     "output_type": "execute_result"
    }
   ],
   "source": [
    "#Deaths by age\n",
    "hist = mod.row_filter(deaths, 'Sexo', ['Total'])\n",
    "hist_1 = mod.nrow_filter(hist, 'Edad', ['Todas las edades'])\n",
    "hist_2 = mod.row_filter(hist_1, 'cause_code', ['001-102'])\n",
    "hist_3 = hist_2.sort_values(by=['Edad'])\n",
    "hist_4 = hist_3[['Edad', 'Total']]\n",
    "hist_4[\"Edad\"] = hist_4[\"Edad\"].str.replace(\"Menos de 1 año\", \"00 a 01\")\n",
    "hist_4[\"Edad\"] = hist_4[\"Edad\"].str.replace(\"De 1 a 4 años\", \"01 a 04\")\n",
    "hist_4[\"Edad\"] = hist_4[\"Edad\"].str.replace(\"De 5 a 9 años\", \"05 a 09\")\n",
    "hist_4[\"Edad\"] = hist_4[\"Edad\"].str.replace(\"De 10 a 14 años\", \"10 a 14\")\n",
    "hist_4[\"Edad\"] = hist_4[\"Edad\"].str.replace(\"De 15 a 19 años\", \"15 a 19\")\n",
    "hist_4[\"Edad\"] = hist_4[\"Edad\"].str.replace(\"De 20 a 24 años\", \"20 a 24\")\n",
    "hist_4[\"Edad\"] = hist_4[\"Edad\"].str.replace(\"De 25 a 29 años\", \"25 a 29\")\n",
    "hist_4[\"Edad\"] = hist_4[\"Edad\"].str.replace(\"De 30 a 34 años\", \"30 a 34\")\n",
    "hist_4[\"Edad\"] = hist_4[\"Edad\"].str.replace(\"De 35 a 39 años\", \"35 a 39\")\n",
    "hist_4[\"Edad\"] = hist_4[\"Edad\"].str.replace(\"De 40 a 44 años\", \"40 a 44\")\n",
    "hist_4[\"Edad\"] = hist_4[\"Edad\"].str.replace(\"De 45 a 49 años\", \"45 a 49\")\n",
    "hist_4[\"Edad\"] = hist_4[\"Edad\"].str.replace(\"De 50 a 54 años\", \"50 a 54\")\n",
    "hist_4[\"Edad\"] = hist_4[\"Edad\"].str.replace(\"De 55 a 59 años\", \"55 a 59\")\n",
    "hist_4[\"Edad\"] = hist_4[\"Edad\"].str.replace(\"De 60 a 64 años\", \"60 a 64\")\n",
    "hist_4[\"Edad\"] = hist_4[\"Edad\"].str.replace(\"De 65 a 69 años\", \"65 a 69\")\n",
    "hist_4[\"Edad\"] = hist_4[\"Edad\"].str.replace(\"De 70 a 74 años\", \"70 a 74\")\n",
    "hist_4[\"Edad\"] = hist_4[\"Edad\"].str.replace(\"De 75 a 79 años\", \"75 a 79\")\n",
    "hist_4[\"Edad\"] = hist_4[\"Edad\"].str.replace(\"De 80 a 84 años\", \"80 a 84\")\n",
    "hist_4[\"Edad\"] = hist_4[\"Edad\"].str.replace(\"De 85 a 89 años\", \"85 a 89\")\n",
    "hist_4[\"Edad\"] = hist_4[\"Edad\"].str.replace(\"De 90 a 94 años\", \"90 a 94\")\n",
    "hist_4[\"Edad\"] = hist_4[\"Edad\"].str.replace(\"95 y más años\", \"95 a 115\")\n",
    "hist_5 = hist_4.sort_values(by=['Edad'])\n",
    "hist_5"
   ]
  },
  {
   "cell_type": "code",
   "execution_count": 13,
   "metadata": {},
   "outputs": [
    {
     "data": {
      "text/html": [
       "<div>\n",
       "<style scoped>\n",
       "    .dataframe tbody tr th:only-of-type {\n",
       "        vertical-align: middle;\n",
       "    }\n",
       "\n",
       "    .dataframe tbody tr th {\n",
       "        vertical-align: top;\n",
       "    }\n",
       "\n",
       "    .dataframe thead th {\n",
       "        text-align: right;\n",
       "    }\n",
       "</style>\n",
       "<table border=\"1\" class=\"dataframe\">\n",
       "  <thead>\n",
       "    <tr style=\"text-align: right;\">\n",
       "      <th></th>\n",
       "      <th>Causa de muerte</th>\n",
       "      <th>Sexo</th>\n",
       "      <th>Edad</th>\n",
       "      <th>Periodo</th>\n",
       "      <th>Total</th>\n",
       "      <th>cause_code</th>\n",
       "      <th>cause_group</th>\n",
       "      <th>cause_name</th>\n",
       "    </tr>\n",
       "  </thead>\n",
       "  <tbody>\n",
       "    <tr>\n",
       "      <th>0</th>\n",
       "      <td>001-102  I-XXII.Todas las causas</td>\n",
       "      <td>Hombres</td>\n",
       "      <td>Todas las edades</td>\n",
       "      <td>2018</td>\n",
       "      <td>216442</td>\n",
       "      <td>001-102</td>\n",
       "      <td>Multiple causes</td>\n",
       "      <td>I-XXII.Todas las causas</td>\n",
       "    </tr>\n",
       "    <tr>\n",
       "      <th>1</th>\n",
       "      <td>001-102  I-XXII.Todas las causas</td>\n",
       "      <td>Hombres</td>\n",
       "      <td>Todas las edades</td>\n",
       "      <td>2017</td>\n",
       "      <td>214236</td>\n",
       "      <td>001-102</td>\n",
       "      <td>Multiple causes</td>\n",
       "      <td>I-XXII.Todas las causas</td>\n",
       "    </tr>\n",
       "    <tr>\n",
       "      <th>2</th>\n",
       "      <td>001-102  I-XXII.Todas las causas</td>\n",
       "      <td>Hombres</td>\n",
       "      <td>Todas las edades</td>\n",
       "      <td>2015</td>\n",
       "      <td>213309</td>\n",
       "      <td>001-102</td>\n",
       "      <td>Multiple causes</td>\n",
       "      <td>I-XXII.Todas las causas</td>\n",
       "    </tr>\n",
       "    <tr>\n",
       "      <th>3</th>\n",
       "      <td>001-102  I-XXII.Todas las causas</td>\n",
       "      <td>Mujeres</td>\n",
       "      <td>Todas las edades</td>\n",
       "      <td>2018</td>\n",
       "      <td>211279</td>\n",
       "      <td>001-102</td>\n",
       "      <td>Multiple causes</td>\n",
       "      <td>I-XXII.Todas las causas</td>\n",
       "    </tr>\n",
       "    <tr>\n",
       "      <th>4</th>\n",
       "      <td>001-102  I-XXII.Todas las causas</td>\n",
       "      <td>Mujeres</td>\n",
       "      <td>Todas las edades</td>\n",
       "      <td>2017</td>\n",
       "      <td>210287</td>\n",
       "      <td>001-102</td>\n",
       "      <td>Multiple causes</td>\n",
       "      <td>I-XXII.Todas las causas</td>\n",
       "    </tr>\n",
       "  </tbody>\n",
       "</table>\n",
       "</div>"
      ],
      "text/plain": [
       "                    Causa de muerte     Sexo              Edad  Periodo  \\\n",
       "0  001-102  I-XXII.Todas las causas  Hombres  Todas las edades     2018   \n",
       "1  001-102  I-XXII.Todas las causas  Hombres  Todas las edades     2017   \n",
       "2  001-102  I-XXII.Todas las causas  Hombres  Todas las edades     2015   \n",
       "3  001-102  I-XXII.Todas las causas  Mujeres  Todas las edades     2018   \n",
       "4  001-102  I-XXII.Todas las causas  Mujeres  Todas las edades     2017   \n",
       "\n",
       "    Total cause_code      cause_group               cause_name  \n",
       "0  216442    001-102  Multiple causes  I-XXII.Todas las causas  \n",
       "1  214236    001-102  Multiple causes  I-XXII.Todas las causas  \n",
       "2  213309    001-102  Multiple causes  I-XXII.Todas las causas  \n",
       "3  211279    001-102  Multiple causes  I-XXII.Todas las causas  \n",
       "4  210287    001-102  Multiple causes  I-XXII.Todas las causas  "
      ]
     },
     "execution_count": 13,
     "metadata": {},
     "output_type": "execute_result"
    }
   ],
   "source": [
    "#Isolate data of men an women\n",
    "deaths_sexo = mod.row_filter(deaths, 'Sexo', ['Hombres', 'Mujeres'])\n",
    "deaths_sexo.head()"
   ]
  },
  {
   "cell_type": "code",
   "execution_count": 14,
   "metadata": {},
   "outputs": [],
   "source": [
    "#mod.nrow_filter(deaths, 'Sexo', ['Hombres', 'Mujeres'])"
   ]
  },
  {
   "cell_type": "code",
   "execution_count": 15,
   "metadata": {},
   "outputs": [
    {
     "data": {
      "text/html": [
       "<div>\n",
       "<style scoped>\n",
       "    .dataframe tbody tr th:only-of-type {\n",
       "        vertical-align: middle;\n",
       "    }\n",
       "\n",
       "    .dataframe tbody tr th {\n",
       "        vertical-align: top;\n",
       "    }\n",
       "\n",
       "    .dataframe thead th {\n",
       "        text-align: right;\n",
       "    }\n",
       "</style>\n",
       "<table border=\"1\" class=\"dataframe\">\n",
       "  <thead>\n",
       "    <tr style=\"text-align: right;\">\n",
       "      <th></th>\n",
       "      <th>Sexo</th>\n",
       "      <th>Edad</th>\n",
       "      <th>Periodo</th>\n",
       "      <th>Total</th>\n",
       "    </tr>\n",
       "  </thead>\n",
       "  <tbody>\n",
       "    <tr>\n",
       "      <th>69</th>\n",
       "      <td>Mujeres</td>\n",
       "      <td>Todas las edades</td>\n",
       "      <td>1980</td>\n",
       "      <td>0</td>\n",
       "    </tr>\n",
       "    <tr>\n",
       "      <th>70</th>\n",
       "      <td>Hombres</td>\n",
       "      <td>Todas las edades</td>\n",
       "      <td>1980</td>\n",
       "      <td>0</td>\n",
       "    </tr>\n",
       "    <tr>\n",
       "      <th>77</th>\n",
       "      <td>Mujeres</td>\n",
       "      <td>Todas las edades</td>\n",
       "      <td>1981</td>\n",
       "      <td>0</td>\n",
       "    </tr>\n",
       "    <tr>\n",
       "      <th>71</th>\n",
       "      <td>Hombres</td>\n",
       "      <td>Todas las edades</td>\n",
       "      <td>1981</td>\n",
       "      <td>0</td>\n",
       "    </tr>\n",
       "    <tr>\n",
       "      <th>75</th>\n",
       "      <td>Mujeres</td>\n",
       "      <td>Todas las edades</td>\n",
       "      <td>1982</td>\n",
       "      <td>0</td>\n",
       "    </tr>\n",
       "  </tbody>\n",
       "</table>\n",
       "</div>"
      ],
      "text/plain": [
       "       Sexo              Edad  Periodo  Total\n",
       "69  Mujeres  Todas las edades     1980      0\n",
       "70  Hombres  Todas las edades     1980      0\n",
       "77  Mujeres  Todas las edades     1981      0\n",
       "71  Hombres  Todas las edades     1981      0\n",
       "75  Mujeres  Todas las edades     1982      0"
      ]
     },
     "execution_count": 15,
     "metadata": {},
     "output_type": "execute_result"
    }
   ],
   "source": [
    "#Men and women deaths of aids\n",
    "\n",
    "dataset = mod.nrow_filter(deaths, 'Sexo', ['Total'])\n",
    "dataset_1 = mod.row_filter(dataset, 'Edad', ['Todas las edades'])\n",
    "dataset_2 = mod.row_filter(dataset_1, 'cause_code', ['006'])\n",
    "dataset_3 = dataset_2[['Sexo', 'Edad', 'Periodo', 'Total']]\n",
    "muertes_sida_HM = dataset_3.sort_values(by=['Periodo'])\n",
    "muertes_sida_HM.head()"
   ]
  },
  {
   "cell_type": "code",
   "execution_count": 16,
   "metadata": {},
   "outputs": [
    {
     "data": {
      "text/html": [
       "<div>\n",
       "<style scoped>\n",
       "    .dataframe tbody tr th:only-of-type {\n",
       "        vertical-align: middle;\n",
       "    }\n",
       "\n",
       "    .dataframe tbody tr th {\n",
       "        vertical-align: top;\n",
       "    }\n",
       "\n",
       "    .dataframe thead th {\n",
       "        text-align: right;\n",
       "    }\n",
       "</style>\n",
       "<table border=\"1\" class=\"dataframe\">\n",
       "  <thead>\n",
       "    <tr style=\"text-align: right;\">\n",
       "      <th></th>\n",
       "      <th>Sexo</th>\n",
       "      <th>Edad</th>\n",
       "      <th>Periodo</th>\n",
       "      <th>Total</th>\n",
       "    </tr>\n",
       "  </thead>\n",
       "  <tbody>\n",
       "    <tr>\n",
       "      <th>38</th>\n",
       "      <td>Total</td>\n",
       "      <td>Todas las edades</td>\n",
       "      <td>1980</td>\n",
       "      <td>0</td>\n",
       "    </tr>\n",
       "    <tr>\n",
       "      <th>37</th>\n",
       "      <td>Total</td>\n",
       "      <td>Todas las edades</td>\n",
       "      <td>1981</td>\n",
       "      <td>0</td>\n",
       "    </tr>\n",
       "    <tr>\n",
       "      <th>36</th>\n",
       "      <td>Total</td>\n",
       "      <td>Todas las edades</td>\n",
       "      <td>1982</td>\n",
       "      <td>0</td>\n",
       "    </tr>\n",
       "    <tr>\n",
       "      <th>35</th>\n",
       "      <td>Total</td>\n",
       "      <td>Todas las edades</td>\n",
       "      <td>1983</td>\n",
       "      <td>0</td>\n",
       "    </tr>\n",
       "    <tr>\n",
       "      <th>34</th>\n",
       "      <td>Total</td>\n",
       "      <td>Todas las edades</td>\n",
       "      <td>1984</td>\n",
       "      <td>0</td>\n",
       "    </tr>\n",
       "  </tbody>\n",
       "</table>\n",
       "</div>"
      ],
      "text/plain": [
       "     Sexo              Edad  Periodo  Total\n",
       "38  Total  Todas las edades     1980      0\n",
       "37  Total  Todas las edades     1981      0\n",
       "36  Total  Todas las edades     1982      0\n",
       "35  Total  Todas las edades     1983      0\n",
       "34  Total  Todas las edades     1984      0"
      ]
     },
     "execution_count": 16,
     "metadata": {},
     "output_type": "execute_result"
    }
   ],
   "source": [
    "#Deaths of aids without differentiation\n",
    "dataset = mod.row_filter(deaths, 'Sexo', ['Total'])\n",
    "dataset_1 = mod.row_filter(dataset, 'Edad', ['Todas las edades'])\n",
    "dataset_2 = mod.row_filter(dataset_1, 'cause_code', ['006'])\n",
    "dataset_3 = dataset_2[['Sexo', 'Edad', 'Periodo', 'Total']]\n",
    "muertes_sida_Todos = dataset_3.sort_values(by=['Periodo'])\n",
    "muertes_sida_Todos.head()"
   ]
  },
  {
   "cell_type": "code",
   "execution_count": 17,
   "metadata": {},
   "outputs": [
    {
     "data": {
      "text/html": [
       "<div>\n",
       "<style scoped>\n",
       "    .dataframe tbody tr th:only-of-type {\n",
       "        vertical-align: middle;\n",
       "    }\n",
       "\n",
       "    .dataframe tbody tr th {\n",
       "        vertical-align: top;\n",
       "    }\n",
       "\n",
       "    .dataframe thead th {\n",
       "        text-align: right;\n",
       "    }\n",
       "</style>\n",
       "<table border=\"1\" class=\"dataframe\">\n",
       "  <thead>\n",
       "    <tr style=\"text-align: right;\">\n",
       "      <th></th>\n",
       "      <th>cause_code</th>\n",
       "      <th>Total</th>\n",
       "    </tr>\n",
       "  </thead>\n",
       "  <tbody>\n",
       "    <tr>\n",
       "      <th>12</th>\n",
       "      <td>081</td>\n",
       "      <td>3016</td>\n",
       "    </tr>\n",
       "    <tr>\n",
       "      <th>9</th>\n",
       "      <td>073</td>\n",
       "      <td>131656</td>\n",
       "    </tr>\n",
       "    <tr>\n",
       "      <th>13</th>\n",
       "      <td>082</td>\n",
       "      <td>187080</td>\n",
       "    </tr>\n",
       "    <tr>\n",
       "      <th>14</th>\n",
       "      <td>083-085</td>\n",
       "      <td>192240</td>\n",
       "    </tr>\n",
       "    <tr>\n",
       "      <th>2</th>\n",
       "      <td>042-043</td>\n",
       "      <td>197136</td>\n",
       "    </tr>\n",
       "    <tr>\n",
       "      <th>10</th>\n",
       "      <td>074-076</td>\n",
       "      <td>464248</td>\n",
       "    </tr>\n",
       "    <tr>\n",
       "      <th>0</th>\n",
       "      <td>001-008</td>\n",
       "      <td>984972</td>\n",
       "    </tr>\n",
       "    <tr>\n",
       "      <th>11</th>\n",
       "      <td>077-080</td>\n",
       "      <td>1339144</td>\n",
       "    </tr>\n",
       "    <tr>\n",
       "      <th>4</th>\n",
       "      <td>046-049</td>\n",
       "      <td>1611472</td>\n",
       "    </tr>\n",
       "    <tr>\n",
       "      <th>15</th>\n",
       "      <td>086-089</td>\n",
       "      <td>1727316</td>\n",
       "    </tr>\n",
       "    <tr>\n",
       "      <th>3</th>\n",
       "      <td>044-045</td>\n",
       "      <td>1734160</td>\n",
       "    </tr>\n",
       "    <tr>\n",
       "      <th>5</th>\n",
       "      <td>050-052</td>\n",
       "      <td>1832240</td>\n",
       "    </tr>\n",
       "    <tr>\n",
       "      <th>16</th>\n",
       "      <td>090-102</td>\n",
       "      <td>2516624</td>\n",
       "    </tr>\n",
       "    <tr>\n",
       "      <th>8</th>\n",
       "      <td>068-072</td>\n",
       "      <td>2946224</td>\n",
       "    </tr>\n",
       "    <tr>\n",
       "      <th>7</th>\n",
       "      <td>062-067</td>\n",
       "      <td>5943228</td>\n",
       "    </tr>\n",
       "    <tr>\n",
       "      <th>1</th>\n",
       "      <td>009-041</td>\n",
       "      <td>14237728</td>\n",
       "    </tr>\n",
       "    <tr>\n",
       "      <th>6</th>\n",
       "      <td>053-061</td>\n",
       "      <td>19605948</td>\n",
       "    </tr>\n",
       "  </tbody>\n",
       "</table>\n",
       "</div>"
      ],
      "text/plain": [
       "   cause_code     Total\n",
       "12        081      3016\n",
       "9         073    131656\n",
       "13        082    187080\n",
       "14    083-085    192240\n",
       "2     042-043    197136\n",
       "10    074-076    464248\n",
       "0     001-008    984972\n",
       "11    077-080   1339144\n",
       "4     046-049   1611472\n",
       "15    086-089   1727316\n",
       "3     044-045   1734160\n",
       "5     050-052   1832240\n",
       "16    090-102   2516624\n",
       "8     068-072   2946224\n",
       "7     062-067   5943228\n",
       "1     009-041  14237728\n",
       "6     053-061  19605948"
      ]
     },
     "execution_count": 17,
     "metadata": {},
     "output_type": "execute_result"
    }
   ],
   "source": [
    "#Causes of death isolated by groups\n",
    "muerte_historica = mod.row_filter(deaths, 'cause_code', \n",
    "                                   ['001-008', '009-041', '042-043', '044-045', \n",
    "                                    '046-049', '050-052', '053-061', '062-067', '068-072', '073', \n",
    "                                    '074-076', '077-080', '081', '082', '083-085', '086-089', '090-102'])\n",
    "muerte_historica_2 = muerte_historica[['cause_code', 'Total']]\n",
    "muerte_historica_3 = muerte_historica_2.groupby(['cause_code'], \n",
    "                    as_index=False).sum().sort_values(by = 'Total', ascending= True)\n",
    "muerte_historica_3"
   ]
  },
  {
   "cell_type": "code",
   "execution_count": 68,
   "metadata": {},
   "outputs": [
    {
     "name": "stderr",
     "output_type": "stream",
     "text": [
      "C:\\Users\\Marguis\\AppData\\Local\\Temp\\ipykernel_8040\\652132155.py:16: FutureWarning:\n",
      "\n",
      "The default value of numeric_only in DataFrameGroupBy.sum is deprecated. In a future version, numeric_only will default to False. Either specify numeric_only or select only columns which should be valid for the function.\n",
      "\n"
     ]
    },
    {
     "data": {
      "text/html": [
       "<div>\n",
       "<style scoped>\n",
       "    .dataframe tbody tr th:only-of-type {\n",
       "        vertical-align: middle;\n",
       "    }\n",
       "\n",
       "    .dataframe tbody tr th {\n",
       "        vertical-align: top;\n",
       "    }\n",
       "\n",
       "    .dataframe thead th {\n",
       "        text-align: right;\n",
       "    }\n",
       "</style>\n",
       "<table border=\"1\" class=\"dataframe\">\n",
       "  <thead>\n",
       "    <tr style=\"text-align: right;\">\n",
       "      <th></th>\n",
       "      <th>cause_code</th>\n",
       "      <th>Periodo</th>\n",
       "      <th>Total</th>\n",
       "    </tr>\n",
       "  </thead>\n",
       "  <tbody>\n",
       "    <tr>\n",
       "      <th>13</th>\n",
       "      <td>082</td>\n",
       "      <td>233883</td>\n",
       "      <td>46296</td>\n",
       "    </tr>\n",
       "    <tr>\n",
       "      <th>14</th>\n",
       "      <td>083-085</td>\n",
       "      <td>233883</td>\n",
       "      <td>33509</td>\n",
       "    </tr>\n",
       "    <tr>\n",
       "      <th>16</th>\n",
       "      <td>090-102</td>\n",
       "      <td>233883</td>\n",
       "      <td>14482</td>\n",
       "    </tr>\n",
       "    <tr>\n",
       "      <th>1</th>\n",
       "      <td>009-041</td>\n",
       "      <td>233883</td>\n",
       "      <td>8454</td>\n",
       "    </tr>\n",
       "    <tr>\n",
       "      <th>15</th>\n",
       "      <td>086-089</td>\n",
       "      <td>233883</td>\n",
       "      <td>7573</td>\n",
       "    </tr>\n",
       "    <tr>\n",
       "      <th>7</th>\n",
       "      <td>062-067</td>\n",
       "      <td>233883</td>\n",
       "      <td>6194</td>\n",
       "    </tr>\n",
       "    <tr>\n",
       "      <th>0</th>\n",
       "      <td>001-008</td>\n",
       "      <td>233883</td>\n",
       "      <td>6167</td>\n",
       "    </tr>\n",
       "    <tr>\n",
       "      <th>5</th>\n",
       "      <td>050-052</td>\n",
       "      <td>233883</td>\n",
       "      <td>6032</td>\n",
       "    </tr>\n",
       "    <tr>\n",
       "      <th>6</th>\n",
       "      <td>053-061</td>\n",
       "      <td>233883</td>\n",
       "      <td>4293</td>\n",
       "    </tr>\n",
       "    <tr>\n",
       "      <th>3</th>\n",
       "      <td>044-045</td>\n",
       "      <td>233883</td>\n",
       "      <td>2744</td>\n",
       "    </tr>\n",
       "    <tr>\n",
       "      <th>8</th>\n",
       "      <td>068-072</td>\n",
       "      <td>233883</td>\n",
       "      <td>1419</td>\n",
       "    </tr>\n",
       "    <tr>\n",
       "      <th>2</th>\n",
       "      <td>042-043</td>\n",
       "      <td>233883</td>\n",
       "      <td>1033</td>\n",
       "    </tr>\n",
       "    <tr>\n",
       "      <th>11</th>\n",
       "      <td>077-080</td>\n",
       "      <td>233883</td>\n",
       "      <td>580</td>\n",
       "    </tr>\n",
       "    <tr>\n",
       "      <th>10</th>\n",
       "      <td>074-076</td>\n",
       "      <td>233883</td>\n",
       "      <td>79</td>\n",
       "    </tr>\n",
       "    <tr>\n",
       "      <th>4</th>\n",
       "      <td>046-049</td>\n",
       "      <td>233883</td>\n",
       "      <td>53</td>\n",
       "    </tr>\n",
       "    <tr>\n",
       "      <th>9</th>\n",
       "      <td>073</td>\n",
       "      <td>233883</td>\n",
       "      <td>24</td>\n",
       "    </tr>\n",
       "    <tr>\n",
       "      <th>12</th>\n",
       "      <td>081</td>\n",
       "      <td>233883</td>\n",
       "      <td>0</td>\n",
       "    </tr>\n",
       "  </tbody>\n",
       "</table>\n",
       "</div>"
      ],
      "text/plain": [
       "   cause_code  Periodo  Total\n",
       "13        082   233883  46296\n",
       "14    083-085   233883  33509\n",
       "16    090-102   233883  14482\n",
       "1     009-041   233883   8454\n",
       "15    086-089   233883   7573\n",
       "7     062-067   233883   6194\n",
       "0     001-008   233883   6167\n",
       "5     050-052   233883   6032\n",
       "6     053-061   233883   4293\n",
       "3     044-045   233883   2744\n",
       "8     068-072   233883   1419\n",
       "2     042-043   233883   1033\n",
       "11    077-080   233883    580\n",
       "10    074-076   233883     79\n",
       "4     046-049   233883     53\n",
       "9         073   233883     24\n",
       "12        081   233883      0"
      ]
     },
     "execution_count": 68,
     "metadata": {},
     "output_type": "execute_result"
    }
   ],
   "source": [
    "# Childre death causes\n",
    "children = mod.row_filter(deaths, 'cause_code', \n",
    "                                   ['001-008', '009-041', '042-043', '044-045', \n",
    "                                    '046-049', '050-052', '053-061', '062-067', '068-072', '073', \n",
    "                                    '074-076', '077-080', '081', '082', '083-085', '086-089', '090-102'])\n",
    "children_2 = mod.row_filter(children, 'Edad', ['Menos de 1 año', 'De 1 a 4 años',\n",
    "                                           'De 5 a 9 años', 'De 10 a 14 años'])\n",
    "children_3 = mod.row_filter(children_2, 'Sexo', ['Total'])\n",
    "\n",
    "children_3[\"Edad\"] = children_3[\"Edad\"].str.replace(\"Menos de 1 año\", \"00 a 01\")\n",
    "children_3[\"Edad\"] = children_3[\"Edad\"].str.replace(\"De 1 a 4 años\", \"01 a 04\")\n",
    "children_3[\"Edad\"] = children_3[\"Edad\"].str.replace(\"De 5 a 9 años\", \"05 a 09\")\n",
    "children_3[\"Edad\"] = children_3[\"Edad\"].str.replace(\"De 10 a 14 años\", \"10 a 14\")\n",
    "\n",
    "children_4 = children_3.sort_values(by=['Total'], ascending=False)\n",
    "children_5 = children_4.groupby(['cause_code'], \n",
    "                    as_index=False).sum().sort_values(by = 'Total', ascending= False)\n",
    "children_5"
   ]
  },
  {
   "cell_type": "code",
   "execution_count": 73,
   "metadata": {},
   "outputs": [
    {
     "data": {
      "text/html": [
       "<div>\n",
       "<style scoped>\n",
       "    .dataframe tbody tr th:only-of-type {\n",
       "        vertical-align: middle;\n",
       "    }\n",
       "\n",
       "    .dataframe tbody tr th {\n",
       "        vertical-align: top;\n",
       "    }\n",
       "\n",
       "    .dataframe thead th {\n",
       "        text-align: right;\n",
       "    }\n",
       "</style>\n",
       "<table border=\"1\" class=\"dataframe\">\n",
       "  <thead>\n",
       "    <tr style=\"text-align: right;\">\n",
       "      <th></th>\n",
       "      <th>Causa de muerte</th>\n",
       "      <th>Sexo</th>\n",
       "      <th>Edad</th>\n",
       "      <th>Periodo</th>\n",
       "      <th>Total</th>\n",
       "      <th>cause_code</th>\n",
       "      <th>cause_group</th>\n",
       "      <th>cause_name</th>\n",
       "    </tr>\n",
       "  </thead>\n",
       "  <tbody>\n",
       "    <tr>\n",
       "      <th>0</th>\n",
       "      <td>082  XVI.Afecciones originadas en el periodo p...</td>\n",
       "      <td>Total</td>\n",
       "      <td>00 a 01</td>\n",
       "      <td>1980</td>\n",
       "      <td>3190</td>\n",
       "      <td>082</td>\n",
       "      <td>Single cause</td>\n",
       "      <td>XVI.Afecciones originadas en el periodo perinatal</td>\n",
       "    </tr>\n",
       "    <tr>\n",
       "      <th>1</th>\n",
       "      <td>082  XVI.Afecciones originadas en el periodo p...</td>\n",
       "      <td>Total</td>\n",
       "      <td>00 a 01</td>\n",
       "      <td>1981</td>\n",
       "      <td>3115</td>\n",
       "      <td>082</td>\n",
       "      <td>Single cause</td>\n",
       "      <td>XVI.Afecciones originadas en el periodo perinatal</td>\n",
       "    </tr>\n",
       "    <tr>\n",
       "      <th>2</th>\n",
       "      <td>082  XVI.Afecciones originadas en el periodo p...</td>\n",
       "      <td>Total</td>\n",
       "      <td>00 a 01</td>\n",
       "      <td>1982</td>\n",
       "      <td>2754</td>\n",
       "      <td>082</td>\n",
       "      <td>Single cause</td>\n",
       "      <td>XVI.Afecciones originadas en el periodo perinatal</td>\n",
       "    </tr>\n",
       "    <tr>\n",
       "      <th>3</th>\n",
       "      <td>082  XVI.Afecciones originadas en el periodo p...</td>\n",
       "      <td>Total</td>\n",
       "      <td>00 a 01</td>\n",
       "      <td>1983</td>\n",
       "      <td>2484</td>\n",
       "      <td>082</td>\n",
       "      <td>Single cause</td>\n",
       "      <td>XVI.Afecciones originadas en el periodo perinatal</td>\n",
       "    </tr>\n",
       "    <tr>\n",
       "      <th>4</th>\n",
       "      <td>082  XVI.Afecciones originadas en el periodo p...</td>\n",
       "      <td>Total</td>\n",
       "      <td>00 a 01</td>\n",
       "      <td>1984</td>\n",
       "      <td>2046</td>\n",
       "      <td>082</td>\n",
       "      <td>Single cause</td>\n",
       "      <td>XVI.Afecciones originadas en el periodo perinatal</td>\n",
       "    </tr>\n",
       "    <tr>\n",
       "      <th>...</th>\n",
       "      <td>...</td>\n",
       "      <td>...</td>\n",
       "      <td>...</td>\n",
       "      <td>...</td>\n",
       "      <td>...</td>\n",
       "      <td>...</td>\n",
       "      <td>...</td>\n",
       "      <td>...</td>\n",
       "    </tr>\n",
       "    <tr>\n",
       "      <th>1715</th>\n",
       "      <td>074-076  XIII.Enfermedades del sistema osteomu...</td>\n",
       "      <td>Total</td>\n",
       "      <td>01 a 04</td>\n",
       "      <td>1995</td>\n",
       "      <td>0</td>\n",
       "      <td>074-076</td>\n",
       "      <td>Multiple causes</td>\n",
       "      <td>XIII.Enfermedades del sistema osteomuscular y ...</td>\n",
       "    </tr>\n",
       "    <tr>\n",
       "      <th>1714</th>\n",
       "      <td>074-076  XIII.Enfermedades del sistema osteomu...</td>\n",
       "      <td>Total</td>\n",
       "      <td>01 a 04</td>\n",
       "      <td>1998</td>\n",
       "      <td>0</td>\n",
       "      <td>074-076</td>\n",
       "      <td>Multiple causes</td>\n",
       "      <td>XIII.Enfermedades del sistema osteomuscular y ...</td>\n",
       "    </tr>\n",
       "    <tr>\n",
       "      <th>1713</th>\n",
       "      <td>074-076  XIII.Enfermedades del sistema osteomu...</td>\n",
       "      <td>Total</td>\n",
       "      <td>01 a 04</td>\n",
       "      <td>2000</td>\n",
       "      <td>0</td>\n",
       "      <td>074-076</td>\n",
       "      <td>Multiple causes</td>\n",
       "      <td>XIII.Enfermedades del sistema osteomuscular y ...</td>\n",
       "    </tr>\n",
       "    <tr>\n",
       "      <th>1712</th>\n",
       "      <td>073  XII.Enfermedades de la piel y del tejido ...</td>\n",
       "      <td>Total</td>\n",
       "      <td>05 a 09</td>\n",
       "      <td>1995</td>\n",
       "      <td>0</td>\n",
       "      <td>073</td>\n",
       "      <td>Single cause</td>\n",
       "      <td>XII.Enfermedades de la piel y del tejido subcu...</td>\n",
       "    </tr>\n",
       "    <tr>\n",
       "      <th>1988</th>\n",
       "      <td>074-076  XIII.Enfermedades del sistema osteomu...</td>\n",
       "      <td>Total</td>\n",
       "      <td>01 a 04</td>\n",
       "      <td>1997</td>\n",
       "      <td>0</td>\n",
       "      <td>074-076</td>\n",
       "      <td>Multiple causes</td>\n",
       "      <td>XIII.Enfermedades del sistema osteomuscular y ...</td>\n",
       "    </tr>\n",
       "  </tbody>\n",
       "</table>\n",
       "<p>1989 rows × 8 columns</p>\n",
       "</div>"
      ],
      "text/plain": [
       "                                        Causa de muerte   Sexo     Edad  \\\n",
       "0     082  XVI.Afecciones originadas en el periodo p...  Total  00 a 01   \n",
       "1     082  XVI.Afecciones originadas en el periodo p...  Total  00 a 01   \n",
       "2     082  XVI.Afecciones originadas en el periodo p...  Total  00 a 01   \n",
       "3     082  XVI.Afecciones originadas en el periodo p...  Total  00 a 01   \n",
       "4     082  XVI.Afecciones originadas en el periodo p...  Total  00 a 01   \n",
       "...                                                 ...    ...      ...   \n",
       "1715  074-076  XIII.Enfermedades del sistema osteomu...  Total  01 a 04   \n",
       "1714  074-076  XIII.Enfermedades del sistema osteomu...  Total  01 a 04   \n",
       "1713  074-076  XIII.Enfermedades del sistema osteomu...  Total  01 a 04   \n",
       "1712  073  XII.Enfermedades de la piel y del tejido ...  Total  05 a 09   \n",
       "1988  074-076  XIII.Enfermedades del sistema osteomu...  Total  01 a 04   \n",
       "\n",
       "      Periodo  Total cause_code      cause_group  \\\n",
       "0        1980   3190        082     Single cause   \n",
       "1        1981   3115        082     Single cause   \n",
       "2        1982   2754        082     Single cause   \n",
       "3        1983   2484        082     Single cause   \n",
       "4        1984   2046        082     Single cause   \n",
       "...       ...    ...        ...              ...   \n",
       "1715     1995      0    074-076  Multiple causes   \n",
       "1714     1998      0    074-076  Multiple causes   \n",
       "1713     2000      0    074-076  Multiple causes   \n",
       "1712     1995      0        073     Single cause   \n",
       "1988     1997      0    074-076  Multiple causes   \n",
       "\n",
       "                                             cause_name  \n",
       "0     XVI.Afecciones originadas en el periodo perinatal  \n",
       "1     XVI.Afecciones originadas en el periodo perinatal  \n",
       "2     XVI.Afecciones originadas en el periodo perinatal  \n",
       "3     XVI.Afecciones originadas en el periodo perinatal  \n",
       "4     XVI.Afecciones originadas en el periodo perinatal  \n",
       "...                                                 ...  \n",
       "1715  XIII.Enfermedades del sistema osteomuscular y ...  \n",
       "1714  XIII.Enfermedades del sistema osteomuscular y ...  \n",
       "1713  XIII.Enfermedades del sistema osteomuscular y ...  \n",
       "1712  XII.Enfermedades de la piel y del tejido subcu...  \n",
       "1988  XIII.Enfermedades del sistema osteomuscular y ...  \n",
       "\n",
       "[1989 rows x 8 columns]"
      ]
     },
     "execution_count": 73,
     "metadata": {},
     "output_type": "execute_result"
    }
   ],
   "source": [
    "children_4"
   ]
  },
  {
   "cell_type": "markdown",
   "metadata": {},
   "source": [
    "## ...and finally, show me some insights with Plotly!!!"
   ]
  },
  {
   "cell_type": "markdown",
   "metadata": {},
   "source": [
    "# MUERTE POR EDADES"
   ]
  },
  {
   "cell_type": "code",
   "execution_count": 55,
   "metadata": {
    "scrolled": false
   },
   "outputs": [
    {
     "data": {
      "application/vnd.plotly.v1+json": {
       "config": {
        "linkText": "Export to plot.ly",
        "plotlyServerURL": "https://plot.ly",
        "showLink": true
       },
       "data": [
        {
         "marker": {
          "color": "rgba(255, 153, 51, 0.6)",
          "line": {
           "color": "rgba(255, 153, 51, 1.0)",
           "width": 1
          }
         },
         "name": "Total",
         "orientation": "v",
         "text": "",
         "type": "bar",
         "x": [
          "00 a 01",
          "00 a 01",
          "00 a 01",
          "00 a 01",
          "00 a 01",
          "00 a 01",
          "00 a 01",
          "00 a 01",
          "00 a 01",
          "00 a 01",
          "00 a 01",
          "00 a 01",
          "00 a 01",
          "00 a 01",
          "00 a 01",
          "00 a 01",
          "00 a 01",
          "00 a 01",
          "00 a 01",
          "00 a 01",
          "00 a 01",
          "00 a 01",
          "00 a 01",
          "00 a 01",
          "00 a 01",
          "00 a 01",
          "00 a 01",
          "00 a 01",
          "00 a 01",
          "00 a 01",
          "00 a 01",
          "00 a 01",
          "00 a 01",
          "00 a 01",
          "00 a 01",
          "00 a 01",
          "00 a 01",
          "00 a 01",
          "00 a 01",
          "01 a 04",
          "01 a 04",
          "01 a 04",
          "01 a 04",
          "01 a 04",
          "01 a 04",
          "01 a 04",
          "01 a 04",
          "01 a 04",
          "01 a 04",
          "01 a 04",
          "01 a 04",
          "01 a 04",
          "01 a 04",
          "01 a 04",
          "01 a 04",
          "01 a 04",
          "01 a 04",
          "01 a 04",
          "01 a 04",
          "01 a 04",
          "01 a 04",
          "01 a 04",
          "01 a 04",
          "01 a 04",
          "01 a 04",
          "01 a 04",
          "01 a 04",
          "01 a 04",
          "01 a 04",
          "01 a 04",
          "01 a 04",
          "01 a 04",
          "01 a 04",
          "01 a 04",
          "01 a 04",
          "01 a 04",
          "01 a 04",
          "01 a 04",
          "05 a 09",
          "05 a 09",
          "05 a 09",
          "05 a 09",
          "05 a 09",
          "05 a 09",
          "05 a 09",
          "05 a 09",
          "05 a 09",
          "05 a 09",
          "05 a 09",
          "05 a 09",
          "05 a 09",
          "05 a 09",
          "05 a 09",
          "05 a 09",
          "05 a 09",
          "05 a 09",
          "05 a 09",
          "05 a 09",
          "05 a 09",
          "05 a 09",
          "05 a 09",
          "05 a 09",
          "05 a 09",
          "05 a 09",
          "05 a 09",
          "05 a 09",
          "05 a 09",
          "05 a 09",
          "05 a 09",
          "05 a 09",
          "05 a 09",
          "05 a 09",
          "05 a 09",
          "05 a 09",
          "05 a 09",
          "05 a 09",
          "05 a 09",
          "10 a 14  ",
          "10 a 14  ",
          "10 a 14  ",
          "10 a 14  ",
          "10 a 14  ",
          "10 a 14  ",
          "10 a 14  ",
          "10 a 14  ",
          "10 a 14  ",
          "10 a 14  ",
          "10 a 14  ",
          "10 a 14  ",
          "10 a 14  ",
          "10 a 14  ",
          "10 a 14  ",
          "10 a 14  ",
          "10 a 14  ",
          "10 a 14  ",
          "10 a 14  ",
          "10 a 14  ",
          "10 a 14  ",
          "10 a 14  ",
          "10 a 14  ",
          "10 a 14  ",
          "10 a 14  ",
          "10 a 14  ",
          "10 a 14  ",
          "10 a 14  ",
          "10 a 14  ",
          "10 a 14  ",
          "10 a 14  ",
          "10 a 14  ",
          "10 a 14  ",
          "10 a 14  ",
          "10 a 14  ",
          "10 a 14  ",
          "10 a 14  ",
          "10 a 14  ",
          "10 a 14  ",
          "15 a 19  ",
          "15 a 19  ",
          "15 a 19  ",
          "15 a 19  ",
          "15 a 19  ",
          "15 a 19  ",
          "15 a 19  ",
          "15 a 19  ",
          "15 a 19  ",
          "15 a 19  ",
          "15 a 19  ",
          "15 a 19  ",
          "15 a 19  ",
          "15 a 19  ",
          "15 a 19  ",
          "15 a 19  ",
          "15 a 19  ",
          "15 a 19  ",
          "15 a 19  ",
          "15 a 19  ",
          "15 a 19  ",
          "15 a 19  ",
          "15 a 19  ",
          "15 a 19  ",
          "15 a 19  ",
          "15 a 19  ",
          "15 a 19  ",
          "15 a 19  ",
          "15 a 19  ",
          "15 a 19  ",
          "15 a 19  ",
          "15 a 19  ",
          "15 a 19  ",
          "15 a 19  ",
          "15 a 19  ",
          "15 a 19  ",
          "15 a 19  ",
          "15 a 19  ",
          "15 a 19  ",
          "20 a 24",
          "20 a 24",
          "20 a 24",
          "20 a 24",
          "20 a 24",
          "20 a 24",
          "20 a 24",
          "20 a 24",
          "20 a 24",
          "20 a 24",
          "20 a 24",
          "20 a 24",
          "20 a 24",
          "20 a 24",
          "20 a 24",
          "20 a 24",
          "20 a 24",
          "20 a 24",
          "20 a 24",
          "20 a 24",
          "20 a 24",
          "20 a 24",
          "20 a 24",
          "20 a 24",
          "20 a 24",
          "20 a 24",
          "20 a 24",
          "20 a 24",
          "20 a 24",
          "20 a 24",
          "20 a 24",
          "20 a 24",
          "20 a 24",
          "20 a 24",
          "20 a 24",
          "20 a 24",
          "20 a 24",
          "20 a 24",
          "20 a 24",
          "25 a 29",
          "25 a 29",
          "25 a 29",
          "25 a 29",
          "25 a 29",
          "25 a 29",
          "25 a 29",
          "25 a 29",
          "25 a 29",
          "25 a 29",
          "25 a 29",
          "25 a 29",
          "25 a 29",
          "25 a 29",
          "25 a 29",
          "25 a 29",
          "25 a 29",
          "25 a 29",
          "25 a 29",
          "25 a 29",
          "25 a 29",
          "25 a 29",
          "25 a 29",
          "25 a 29",
          "25 a 29",
          "25 a 29",
          "25 a 29",
          "25 a 29",
          "25 a 29",
          "25 a 29",
          "25 a 29",
          "25 a 29",
          "25 a 29",
          "25 a 29",
          "25 a 29",
          "25 a 29",
          "25 a 29",
          "25 a 29",
          "25 a 29",
          "30 a 34",
          "30 a 34",
          "30 a 34",
          "30 a 34",
          "30 a 34",
          "30 a 34",
          "30 a 34",
          "30 a 34",
          "30 a 34",
          "30 a 34",
          "30 a 34",
          "30 a 34",
          "30 a 34",
          "30 a 34",
          "30 a 34",
          "30 a 34",
          "30 a 34",
          "30 a 34",
          "30 a 34",
          "30 a 34",
          "30 a 34",
          "30 a 34",
          "30 a 34",
          "30 a 34",
          "30 a 34",
          "30 a 34",
          "30 a 34",
          "30 a 34",
          "30 a 34",
          "30 a 34",
          "30 a 34",
          "30 a 34",
          "30 a 34",
          "30 a 34",
          "30 a 34",
          "30 a 34",
          "30 a 34",
          "30 a 34",
          "30 a 34",
          "35 a 39",
          "35 a 39",
          "35 a 39",
          "35 a 39",
          "35 a 39",
          "35 a 39",
          "35 a 39",
          "35 a 39",
          "35 a 39",
          "35 a 39",
          "35 a 39",
          "35 a 39",
          "35 a 39",
          "35 a 39",
          "35 a 39",
          "35 a 39",
          "35 a 39",
          "35 a 39",
          "35 a 39",
          "35 a 39",
          "35 a 39",
          "35 a 39",
          "35 a 39",
          "35 a 39",
          "35 a 39",
          "35 a 39",
          "35 a 39",
          "35 a 39",
          "35 a 39",
          "35 a 39",
          "35 a 39",
          "35 a 39",
          "35 a 39",
          "35 a 39",
          "35 a 39",
          "35 a 39",
          "35 a 39",
          "35 a 39",
          "35 a 39",
          "40 a 44",
          "40 a 44",
          "40 a 44",
          "40 a 44",
          "40 a 44",
          "40 a 44",
          "40 a 44",
          "40 a 44",
          "40 a 44",
          "40 a 44",
          "40 a 44",
          "40 a 44",
          "40 a 44",
          "40 a 44",
          "40 a 44",
          "40 a 44",
          "40 a 44",
          "40 a 44",
          "40 a 44",
          "40 a 44",
          "40 a 44",
          "40 a 44",
          "40 a 44",
          "40 a 44",
          "40 a 44",
          "40 a 44",
          "40 a 44",
          "40 a 44",
          "40 a 44",
          "40 a 44",
          "40 a 44",
          "40 a 44",
          "40 a 44",
          "40 a 44",
          "40 a 44",
          "40 a 44",
          "40 a 44",
          "40 a 44",
          "40 a 44",
          "45 a 49",
          "45 a 49",
          "45 a 49",
          "45 a 49",
          "45 a 49",
          "45 a 49",
          "45 a 49",
          "45 a 49",
          "45 a 49",
          "45 a 49",
          "45 a 49",
          "45 a 49",
          "45 a 49",
          "45 a 49",
          "45 a 49",
          "45 a 49",
          "45 a 49",
          "45 a 49",
          "45 a 49",
          "45 a 49",
          "45 a 49",
          "45 a 49",
          "45 a 49",
          "45 a 49",
          "45 a 49",
          "45 a 49",
          "45 a 49",
          "45 a 49",
          "45 a 49",
          "45 a 49",
          "45 a 49",
          "45 a 49",
          "45 a 49",
          "45 a 49",
          "45 a 49",
          "45 a 49",
          "45 a 49",
          "45 a 49",
          "45 a 49",
          "50 a 54",
          "50 a 54",
          "50 a 54",
          "50 a 54",
          "50 a 54",
          "50 a 54",
          "50 a 54",
          "50 a 54",
          "50 a 54",
          "50 a 54",
          "50 a 54",
          "50 a 54",
          "50 a 54",
          "50 a 54",
          "50 a 54",
          "50 a 54",
          "50 a 54",
          "50 a 54",
          "50 a 54",
          "50 a 54",
          "50 a 54",
          "50 a 54",
          "50 a 54",
          "50 a 54",
          "50 a 54",
          "50 a 54",
          "50 a 54",
          "50 a 54",
          "50 a 54",
          "50 a 54",
          "50 a 54",
          "50 a 54",
          "50 a 54",
          "50 a 54",
          "50 a 54",
          "50 a 54",
          "50 a 54",
          "50 a 54",
          "50 a 54",
          "55 a 59",
          "55 a 59",
          "55 a 59",
          "55 a 59",
          "55 a 59",
          "55 a 59",
          "55 a 59",
          "55 a 59",
          "55 a 59",
          "55 a 59",
          "55 a 59",
          "55 a 59",
          "55 a 59",
          "55 a 59",
          "55 a 59",
          "55 a 59",
          "55 a 59",
          "55 a 59",
          "55 a 59",
          "55 a 59",
          "55 a 59",
          "55 a 59",
          "55 a 59",
          "55 a 59",
          "55 a 59",
          "55 a 59",
          "55 a 59",
          "55 a 59",
          "55 a 59",
          "55 a 59",
          "55 a 59",
          "55 a 59",
          "55 a 59",
          "55 a 59",
          "55 a 59",
          "55 a 59",
          "55 a 59",
          "55 a 59",
          "55 a 59",
          "60 a 64",
          "60 a 64",
          "60 a 64",
          "60 a 64",
          "60 a 64",
          "60 a 64",
          "60 a 64",
          "60 a 64",
          "60 a 64",
          "60 a 64",
          "60 a 64",
          "60 a 64",
          "60 a 64",
          "60 a 64",
          "60 a 64",
          "60 a 64",
          "60 a 64",
          "60 a 64",
          "60 a 64",
          "60 a 64",
          "60 a 64",
          "60 a 64",
          "60 a 64",
          "60 a 64",
          "60 a 64",
          "60 a 64",
          "60 a 64",
          "60 a 64",
          "60 a 64",
          "60 a 64",
          "60 a 64",
          "60 a 64",
          "60 a 64",
          "60 a 64",
          "60 a 64",
          "60 a 64",
          "60 a 64",
          "60 a 64",
          "60 a 64",
          "65 a 69",
          "65 a 69",
          "65 a 69",
          "65 a 69",
          "65 a 69",
          "65 a 69",
          "65 a 69",
          "65 a 69",
          "65 a 69",
          "65 a 69",
          "65 a 69",
          "65 a 69",
          "65 a 69",
          "65 a 69",
          "65 a 69",
          "65 a 69",
          "65 a 69",
          "65 a 69",
          "65 a 69",
          "65 a 69",
          "65 a 69",
          "65 a 69",
          "65 a 69",
          "65 a 69",
          "65 a 69",
          "65 a 69",
          "65 a 69",
          "65 a 69",
          "65 a 69",
          "65 a 69",
          "65 a 69",
          "65 a 69",
          "65 a 69",
          "65 a 69",
          "65 a 69",
          "65 a 69",
          "65 a 69",
          "65 a 69",
          "65 a 69",
          "70 a 74  ",
          "70 a 74  ",
          "70 a 74  ",
          "70 a 74  ",
          "70 a 74  ",
          "70 a 74  ",
          "70 a 74  ",
          "70 a 74  ",
          "70 a 74  ",
          "70 a 74  ",
          "70 a 74  ",
          "70 a 74  ",
          "70 a 74  ",
          "70 a 74  ",
          "70 a 74  ",
          "70 a 74  ",
          "70 a 74  ",
          "70 a 74  ",
          "70 a 74  ",
          "70 a 74  ",
          "70 a 74  ",
          "70 a 74  ",
          "70 a 74  ",
          "70 a 74  ",
          "70 a 74  ",
          "70 a 74  ",
          "70 a 74  ",
          "70 a 74  ",
          "70 a 74  ",
          "70 a 74  ",
          "70 a 74  ",
          "70 a 74  ",
          "70 a 74  ",
          "70 a 74  ",
          "70 a 74  ",
          "70 a 74  ",
          "70 a 74  ",
          "70 a 74  ",
          "70 a 74  ",
          "75 a 79  ",
          "75 a 79  ",
          "75 a 79  ",
          "75 a 79  ",
          "75 a 79  ",
          "75 a 79  ",
          "75 a 79  ",
          "75 a 79  ",
          "75 a 79  ",
          "75 a 79  ",
          "75 a 79  ",
          "75 a 79  ",
          "75 a 79  ",
          "75 a 79  ",
          "75 a 79  ",
          "75 a 79  ",
          "75 a 79  ",
          "75 a 79  ",
          "75 a 79  ",
          "75 a 79  ",
          "75 a 79  ",
          "75 a 79  ",
          "75 a 79  ",
          "75 a 79  ",
          "75 a 79  ",
          "75 a 79  ",
          "75 a 79  ",
          "75 a 79  ",
          "75 a 79  ",
          "75 a 79  ",
          "75 a 79  ",
          "75 a 79  ",
          "75 a 79  ",
          "75 a 79  ",
          "75 a 79  ",
          "75 a 79  ",
          "75 a 79  ",
          "75 a 79  ",
          "75 a 79  ",
          "80 a 84  ",
          "80 a 84  ",
          "80 a 84  ",
          "80 a 84  ",
          "80 a 84  ",
          "80 a 84  ",
          "80 a 84  ",
          "80 a 84  ",
          "80 a 84  ",
          "80 a 84  ",
          "80 a 84  ",
          "80 a 84  ",
          "80 a 84  ",
          "80 a 84  ",
          "80 a 84  ",
          "80 a 84  ",
          "80 a 84  ",
          "80 a 84  ",
          "80 a 84  ",
          "80 a 84  ",
          "80 a 84  ",
          "80 a 84  ",
          "80 a 84  ",
          "80 a 84  ",
          "80 a 84  ",
          "80 a 84  ",
          "80 a 84  ",
          "80 a 84  ",
          "80 a 84  ",
          "80 a 84  ",
          "80 a 84  ",
          "80 a 84  ",
          "80 a 84  ",
          "80 a 84  ",
          "80 a 84  ",
          "80 a 84  ",
          "80 a 84  ",
          "80 a 84  ",
          "80 a 84  ",
          "85 a 89  ",
          "85 a 89  ",
          "85 a 89  ",
          "85 a 89  ",
          "85 a 89  ",
          "85 a 89  ",
          "85 a 89  ",
          "85 a 89  ",
          "85 a 89  ",
          "85 a 89  ",
          "85 a 89  ",
          "85 a 89  ",
          "85 a 89  ",
          "85 a 89  ",
          "85 a 89  ",
          "85 a 89  ",
          "85 a 89  ",
          "85 a 89  ",
          "85 a 89  ",
          "85 a 89  ",
          "85 a 89  ",
          "85 a 89  ",
          "85 a 89  ",
          "85 a 89  ",
          "85 a 89  ",
          "85 a 89  ",
          "85 a 89  ",
          "85 a 89  ",
          "85 a 89  ",
          "85 a 89  ",
          "85 a 89  ",
          "85 a 89  ",
          "85 a 89  ",
          "85 a 89  ",
          "85 a 89  ",
          "85 a 89  ",
          "85 a 89  ",
          "85 a 89  ",
          "85 a 89  ",
          "90 a 94  ",
          "90 a 94  ",
          "90 a 94  ",
          "90 a 94  ",
          "90 a 94  ",
          "90 a 94  ",
          "90 a 94  ",
          "90 a 94  ",
          "90 a 94  ",
          "90 a 94  ",
          "90 a 94  ",
          "90 a 94  ",
          "90 a 94  ",
          "90 a 94  ",
          "90 a 94  ",
          "90 a 94  ",
          "90 a 94  ",
          "90 a 94  ",
          "90 a 94  ",
          "90 a 94  ",
          "90 a 94  ",
          "90 a 94  ",
          "90 a 94  ",
          "90 a 94  ",
          "90 a 94  ",
          "90 a 94  ",
          "90 a 94  ",
          "90 a 94  ",
          "90 a 94  ",
          "90 a 94  ",
          "90 a 94  ",
          "90 a 94  ",
          "90 a 94  ",
          "90 a 94  ",
          "90 a 94  ",
          "90 a 94  ",
          "90 a 94  ",
          "90 a 94  ",
          "90 a 94  ",
          "95 a 115",
          "95 a 115",
          "95 a 115",
          "95 a 115",
          "95 a 115",
          "95 a 115",
          "95 a 115",
          "95 a 115",
          "95 a 115",
          "95 a 115",
          "95 a 115",
          "95 a 115",
          "95 a 115",
          "95 a 115",
          "95 a 115",
          "95 a 115",
          "95 a 115",
          "95 a 115",
          "95 a 115",
          "95 a 115",
          "95 a 115",
          "95 a 115",
          "95 a 115",
          "95 a 115",
          "95 a 115",
          "95 a 115",
          "95 a 115",
          "95 a 115",
          "95 a 115",
          "95 a 115",
          "95 a 115",
          "95 a 115",
          "95 a 115",
          "95 a 115",
          "95 a 115",
          "95 a 115",
          "95 a 115",
          "95 a 115",
          "95 a 115"
         ],
         "y": [
          5822,
          1505,
          2239,
          1092,
          2846,
          3179,
          3050,
          4038,
          1553,
          4670,
          7048,
          2798,
          5285,
          6644,
          1027,
          3371,
          2581,
          4071,
          1609,
          3789,
          1700,
          1657,
          1139,
          1164,
          2008,
          1996,
          1856,
          1813,
          1232,
          1774,
          1120,
          1741,
          1740,
          1404,
          1737,
          1733,
          1704,
          1704,
          1765,
          248,
          329,
          308,
          793,
          264,
          240,
          383,
          290,
          226,
          380,
          1010,
          385,
          357,
          357,
          1651,
          379,
          370,
          345,
          626,
          640,
          421,
          396,
          788,
          1120,
          411,
          1540,
          442,
          396,
          221,
          924,
          483,
          791,
          536,
          556,
          1242,
          579,
          653,
          1299,
          752,
          624,
          179,
          259,
          431,
          979,
          804,
          775,
          199,
          664,
          252,
          240,
          188,
          278,
          229,
          896,
          299,
          205,
          820,
          226,
          217,
          178,
          254,
          1178,
          432,
          460,
          321,
          343,
          179,
          589,
          926,
          361,
          500,
          226,
          364,
          222,
          206,
          588,
          206,
          300,
          248,
          193,
          851,
          203,
          754,
          745,
          198,
          733,
          503,
          713,
          848,
          1003,
          860,
          793,
          869,
          183,
          202,
          783,
          489,
          399,
          262,
          557,
          213,
          211,
          606,
          971,
          422,
          375,
          237,
          365,
          341,
          320,
          308,
          227,
          228,
          281,
          273,
          346,
          478,
          1423,
          972,
          1808,
          1806,
          1400,
          2059,
          1298,
          1801,
          1751,
          1651,
          1920,
          2066,
          1043,
          1032,
          1375,
          1367,
          1848,
          1198,
          1865,
          505,
          1698,
          914,
          2172,
          362,
          2196,
          381,
          393,
          396,
          1262,
          789,
          500,
          413,
          429,
          751,
          2153,
          616,
          923,
          786,
          394,
          3385,
          1524,
          2313,
          2004,
          1996,
          2344,
          2401,
          1943,
          2406,
          2524,
          2618,
          3026,
          2645,
          3173,
          1816,
          3347,
          3360,
          2086,
          2242,
          2208,
          2189,
          1430,
          921,
          1270,
          580,
          1178,
          595,
          607,
          574,
          659,
          1090,
          779,
          814,
          624,
          2125,
          3057,
          1746,
          700,
          1794,
          3754,
          1846,
          3347,
          766,
          1739,
          3622,
          2050,
          1950,
          978,
          1981,
          2099,
          2063,
          1543,
          1688,
          1136,
          2136,
          1426,
          3603,
          2757,
          2707,
          3764,
          3133,
          2180,
          852,
          834,
          828,
          4060,
          2297,
          2156,
          2338,
          800,
          4050,
          3815,
          756,
          2496,
          2505,
          2179,
          2339,
          1048,
          2647,
          4405,
          2568,
          1637,
          2993,
          2975,
          1211,
          1347,
          3905,
          2872,
          2869,
          2848,
          1738,
          1824,
          3588,
          3974,
          2596,
          2178,
          2013,
          5027,
          2141,
          1389,
          1132,
          2433,
          3220,
          2363,
          2358,
          4278,
          1187,
          2273,
          3218,
          2268,
          2257,
          3342,
          2228,
          4753,
          4991,
          2276,
          1146,
          3963,
          3511,
          3383,
          3763,
          4833,
          4738,
          4272,
          4260,
          4084,
          4052,
          3957,
          3933,
          3894,
          3810,
          4011,
          3732,
          3422,
          3940,
          3582,
          3357,
          2070,
          3190,
          3147,
          3099,
          2915,
          3062,
          2189,
          2966,
          2389,
          2889,
          2884,
          2101,
          2772,
          1957,
          2687,
          2589,
          2082,
          3254,
          3259,
          4108,
          4766,
          4750,
          4744,
          5209,
          5069,
          4721,
          5267,
          4777,
          5276,
          4703,
          4658,
          5282,
          4614,
          5310,
          4497,
          4459,
          5416,
          4181,
          5205,
          5545,
          4107,
          3776,
          3484,
          3465,
          3798,
          3568,
          3683,
          4830,
          3874,
          3842,
          4757,
          4237,
          4714,
          5013,
          5069,
          4848,
          4189,
          4326,
          6575,
          7535,
          5762,
          7467,
          6973,
          7096,
          6732,
          6777,
          7703,
          5862,
          6815,
          6888,
          6923,
          7266,
          6950,
          7193,
          7100,
          7095,
          7297,
          5925,
          6648,
          6057,
          7371,
          7492,
          7475,
          6504,
          7307,
          6028,
          6602,
          6523,
          6305,
          6507,
          6415,
          6359,
          6190,
          6663,
          6161,
          6149,
          6512,
          9034,
          9505,
          9715,
          8294,
          8528,
          8758,
          8781,
          9094,
          10249,
          9213,
          8264,
          9461,
          9342,
          9331,
          9381,
          9401,
          9426,
          9205,
          9916,
          9442,
          11506,
          10081,
          10103,
          10114,
          10168,
          10204,
          10281,
          10282,
          10289,
          10522,
          10290,
          10611,
          10776,
          10967,
          11149,
          11184,
          11217,
          11487,
          10029,
          12091,
          12024,
          14437,
          11181,
          13153,
          12134,
          11211,
          12468,
          13052,
          12664,
          12887,
          13165,
          12988,
          13080,
          13026,
          13041,
          13167,
          12569,
          15578,
          16011,
          16002,
          14428,
          14184,
          13238,
          13625,
          14816,
          13397,
          13294,
          13876,
          14651,
          15855,
          15654,
          15774,
          16120,
          15946,
          16090,
          16044,
          15961,
          15310,
          17672,
          22109,
          22165,
          22385,
          22406,
          17553,
          20060,
          15761,
          17012,
          16184,
          15972,
          16905,
          17127,
          16389,
          17399,
          17320,
          22150,
          22546,
          17743,
          17493,
          21375,
          19344,
          19278,
          19100,
          18230,
          22171,
          19945,
          18030,
          17866,
          22047,
          17863,
          18187,
          20056,
          21135,
          20679,
          22380,
          21322,
          22540,
          17866,
          29045,
          30731,
          28259,
          26826,
          30223,
          26555,
          26636,
          27850,
          22532,
          30967,
          23662,
          23445,
          22262,
          22090,
          22060,
          21501,
          26866,
          26110,
          27019,
          20982,
          27721,
          29420,
          24425,
          24416,
          29890,
          30204,
          30057,
          24328,
          30004,
          27619,
          30139,
          23721,
          23859,
          24138,
          24497,
          30727,
          30699,
          28231,
          30036,
          41042,
          41327,
          41592,
          41353,
          41379,
          40546,
          39405,
          40226,
          31039,
          40026,
          31377,
          41084,
          35741,
          28266,
          28775,
          29961,
          41879,
          40068,
          29946,
          42231,
          39959,
          42781,
          38707,
          37942,
          37865,
          37865,
          37131,
          36781,
          35487,
          37283,
          38901,
          36139,
          39403,
          36635,
          31610,
          39969,
          33020,
          33621,
          32883,
          47928,
          50009,
          48799,
          50143,
          50186,
          48421,
          47937,
          47300,
          49438,
          47782,
          47488,
          47719,
          45522,
          50588,
          57516,
          46259,
          50940,
          50245,
          57377,
          55521,
          45167,
          49750,
          51939,
          56267,
          52020,
          49648,
          42532,
          52778,
          55859,
          56332,
          41376,
          55264,
          55099,
          54672,
          54576,
          40776,
          53856,
          51758,
          55622,
          58568,
          58968,
          57071,
          74869,
          76613,
          59071,
          60927,
          58695,
          54481,
          72313,
          53881,
          72445,
          59591,
          72688,
          73005,
          59497,
          63052,
          59287,
          58873,
          58018,
          58291,
          71892,
          44320,
          71705,
          70874,
          68007,
          68011,
          50736,
          46141,
          72103,
          70037,
          51184,
          69294,
          72142,
          72251,
          53900,
          55898,
          60073,
          46236,
          92255,
          30258,
          79519,
          60226,
          62627,
          32364,
          81309,
          38626,
          45535,
          34859,
          34086,
          42924,
          31639,
          47908,
          48622,
          49063,
          64022,
          38070,
          54430,
          39245,
          67818,
          89152,
          82739,
          59209,
          86575,
          91326,
          59856,
          63748,
          51629,
          59660,
          77293,
          60360,
          62222,
          73552,
          74620,
          70717,
          51921,
          57150,
          56078,
          42271,
          48781,
          32962,
          40554,
          55156,
          55401,
          37635,
          31886,
          35673,
          44198,
          38089,
          44812,
          44610,
          45201,
          45369,
          46498,
          22488,
          42694,
          13663,
          37319,
          14206,
          59790,
          30194,
          23906,
          28227,
          26932,
          14126,
          67510,
          24353,
          66432,
          20232,
          70918,
          18143,
          17941,
          17641,
          72355,
          16067,
          15862,
          19642,
          28716,
          20807,
          19415,
          18292,
          18015,
          17089,
          16393,
          4116,
          15117,
          13969,
          3793,
          13143,
          3906,
          12908,
          12157,
          21332,
          33933,
          28485,
          8316,
          23351,
          4709,
          4693,
          5678,
          6203,
          6459,
          7097,
          7499,
          7824,
          5391,
          9177,
          7436,
          32302,
          10188,
          10812,
          24017,
          24763,
          24896,
          22069,
          5464
         ]
        }
       ],
       "layout": {
        "legend": {
         "bgcolor": "#F5F6F9",
         "font": {
          "color": "#4D5663"
         }
        },
        "paper_bgcolor": "#F5F6F9",
        "plot_bgcolor": "#F5F6F9",
        "template": {
         "data": {
          "bar": [
           {
            "error_x": {
             "color": "#2a3f5f"
            },
            "error_y": {
             "color": "#2a3f5f"
            },
            "marker": {
             "line": {
              "color": "#E5ECF6",
              "width": 0.5
             },
             "pattern": {
              "fillmode": "overlay",
              "size": 10,
              "solidity": 0.2
             }
            },
            "type": "bar"
           }
          ],
          "barpolar": [
           {
            "marker": {
             "line": {
              "color": "#E5ECF6",
              "width": 0.5
             },
             "pattern": {
              "fillmode": "overlay",
              "size": 10,
              "solidity": 0.2
             }
            },
            "type": "barpolar"
           }
          ],
          "carpet": [
           {
            "aaxis": {
             "endlinecolor": "#2a3f5f",
             "gridcolor": "white",
             "linecolor": "white",
             "minorgridcolor": "white",
             "startlinecolor": "#2a3f5f"
            },
            "baxis": {
             "endlinecolor": "#2a3f5f",
             "gridcolor": "white",
             "linecolor": "white",
             "minorgridcolor": "white",
             "startlinecolor": "#2a3f5f"
            },
            "type": "carpet"
           }
          ],
          "choropleth": [
           {
            "colorbar": {
             "outlinewidth": 0,
             "ticks": ""
            },
            "type": "choropleth"
           }
          ],
          "contour": [
           {
            "colorbar": {
             "outlinewidth": 0,
             "ticks": ""
            },
            "colorscale": [
             [
              0,
              "#0d0887"
             ],
             [
              0.1111111111111111,
              "#46039f"
             ],
             [
              0.2222222222222222,
              "#7201a8"
             ],
             [
              0.3333333333333333,
              "#9c179e"
             ],
             [
              0.4444444444444444,
              "#bd3786"
             ],
             [
              0.5555555555555556,
              "#d8576b"
             ],
             [
              0.6666666666666666,
              "#ed7953"
             ],
             [
              0.7777777777777778,
              "#fb9f3a"
             ],
             [
              0.8888888888888888,
              "#fdca26"
             ],
             [
              1,
              "#f0f921"
             ]
            ],
            "type": "contour"
           }
          ],
          "contourcarpet": [
           {
            "colorbar": {
             "outlinewidth": 0,
             "ticks": ""
            },
            "type": "contourcarpet"
           }
          ],
          "heatmap": [
           {
            "colorbar": {
             "outlinewidth": 0,
             "ticks": ""
            },
            "colorscale": [
             [
              0,
              "#0d0887"
             ],
             [
              0.1111111111111111,
              "#46039f"
             ],
             [
              0.2222222222222222,
              "#7201a8"
             ],
             [
              0.3333333333333333,
              "#9c179e"
             ],
             [
              0.4444444444444444,
              "#bd3786"
             ],
             [
              0.5555555555555556,
              "#d8576b"
             ],
             [
              0.6666666666666666,
              "#ed7953"
             ],
             [
              0.7777777777777778,
              "#fb9f3a"
             ],
             [
              0.8888888888888888,
              "#fdca26"
             ],
             [
              1,
              "#f0f921"
             ]
            ],
            "type": "heatmap"
           }
          ],
          "heatmapgl": [
           {
            "colorbar": {
             "outlinewidth": 0,
             "ticks": ""
            },
            "colorscale": [
             [
              0,
              "#0d0887"
             ],
             [
              0.1111111111111111,
              "#46039f"
             ],
             [
              0.2222222222222222,
              "#7201a8"
             ],
             [
              0.3333333333333333,
              "#9c179e"
             ],
             [
              0.4444444444444444,
              "#bd3786"
             ],
             [
              0.5555555555555556,
              "#d8576b"
             ],
             [
              0.6666666666666666,
              "#ed7953"
             ],
             [
              0.7777777777777778,
              "#fb9f3a"
             ],
             [
              0.8888888888888888,
              "#fdca26"
             ],
             [
              1,
              "#f0f921"
             ]
            ],
            "type": "heatmapgl"
           }
          ],
          "histogram": [
           {
            "marker": {
             "pattern": {
              "fillmode": "overlay",
              "size": 10,
              "solidity": 0.2
             }
            },
            "type": "histogram"
           }
          ],
          "histogram2d": [
           {
            "colorbar": {
             "outlinewidth": 0,
             "ticks": ""
            },
            "colorscale": [
             [
              0,
              "#0d0887"
             ],
             [
              0.1111111111111111,
              "#46039f"
             ],
             [
              0.2222222222222222,
              "#7201a8"
             ],
             [
              0.3333333333333333,
              "#9c179e"
             ],
             [
              0.4444444444444444,
              "#bd3786"
             ],
             [
              0.5555555555555556,
              "#d8576b"
             ],
             [
              0.6666666666666666,
              "#ed7953"
             ],
             [
              0.7777777777777778,
              "#fb9f3a"
             ],
             [
              0.8888888888888888,
              "#fdca26"
             ],
             [
              1,
              "#f0f921"
             ]
            ],
            "type": "histogram2d"
           }
          ],
          "histogram2dcontour": [
           {
            "colorbar": {
             "outlinewidth": 0,
             "ticks": ""
            },
            "colorscale": [
             [
              0,
              "#0d0887"
             ],
             [
              0.1111111111111111,
              "#46039f"
             ],
             [
              0.2222222222222222,
              "#7201a8"
             ],
             [
              0.3333333333333333,
              "#9c179e"
             ],
             [
              0.4444444444444444,
              "#bd3786"
             ],
             [
              0.5555555555555556,
              "#d8576b"
             ],
             [
              0.6666666666666666,
              "#ed7953"
             ],
             [
              0.7777777777777778,
              "#fb9f3a"
             ],
             [
              0.8888888888888888,
              "#fdca26"
             ],
             [
              1,
              "#f0f921"
             ]
            ],
            "type": "histogram2dcontour"
           }
          ],
          "mesh3d": [
           {
            "colorbar": {
             "outlinewidth": 0,
             "ticks": ""
            },
            "type": "mesh3d"
           }
          ],
          "parcoords": [
           {
            "line": {
             "colorbar": {
              "outlinewidth": 0,
              "ticks": ""
             }
            },
            "type": "parcoords"
           }
          ],
          "pie": [
           {
            "automargin": true,
            "type": "pie"
           }
          ],
          "scatter": [
           {
            "fillpattern": {
             "fillmode": "overlay",
             "size": 10,
             "solidity": 0.2
            },
            "type": "scatter"
           }
          ],
          "scatter3d": [
           {
            "line": {
             "colorbar": {
              "outlinewidth": 0,
              "ticks": ""
             }
            },
            "marker": {
             "colorbar": {
              "outlinewidth": 0,
              "ticks": ""
             }
            },
            "type": "scatter3d"
           }
          ],
          "scattercarpet": [
           {
            "marker": {
             "colorbar": {
              "outlinewidth": 0,
              "ticks": ""
             }
            },
            "type": "scattercarpet"
           }
          ],
          "scattergeo": [
           {
            "marker": {
             "colorbar": {
              "outlinewidth": 0,
              "ticks": ""
             }
            },
            "type": "scattergeo"
           }
          ],
          "scattergl": [
           {
            "marker": {
             "colorbar": {
              "outlinewidth": 0,
              "ticks": ""
             }
            },
            "type": "scattergl"
           }
          ],
          "scattermapbox": [
           {
            "marker": {
             "colorbar": {
              "outlinewidth": 0,
              "ticks": ""
             }
            },
            "type": "scattermapbox"
           }
          ],
          "scatterpolar": [
           {
            "marker": {
             "colorbar": {
              "outlinewidth": 0,
              "ticks": ""
             }
            },
            "type": "scatterpolar"
           }
          ],
          "scatterpolargl": [
           {
            "marker": {
             "colorbar": {
              "outlinewidth": 0,
              "ticks": ""
             }
            },
            "type": "scatterpolargl"
           }
          ],
          "scatterternary": [
           {
            "marker": {
             "colorbar": {
              "outlinewidth": 0,
              "ticks": ""
             }
            },
            "type": "scatterternary"
           }
          ],
          "surface": [
           {
            "colorbar": {
             "outlinewidth": 0,
             "ticks": ""
            },
            "colorscale": [
             [
              0,
              "#0d0887"
             ],
             [
              0.1111111111111111,
              "#46039f"
             ],
             [
              0.2222222222222222,
              "#7201a8"
             ],
             [
              0.3333333333333333,
              "#9c179e"
             ],
             [
              0.4444444444444444,
              "#bd3786"
             ],
             [
              0.5555555555555556,
              "#d8576b"
             ],
             [
              0.6666666666666666,
              "#ed7953"
             ],
             [
              0.7777777777777778,
              "#fb9f3a"
             ],
             [
              0.8888888888888888,
              "#fdca26"
             ],
             [
              1,
              "#f0f921"
             ]
            ],
            "type": "surface"
           }
          ],
          "table": [
           {
            "cells": {
             "fill": {
              "color": "#EBF0F8"
             },
             "line": {
              "color": "white"
             }
            },
            "header": {
             "fill": {
              "color": "#C8D4E3"
             },
             "line": {
              "color": "white"
             }
            },
            "type": "table"
           }
          ]
         },
         "layout": {
          "annotationdefaults": {
           "arrowcolor": "#2a3f5f",
           "arrowhead": 0,
           "arrowwidth": 1
          },
          "autotypenumbers": "strict",
          "coloraxis": {
           "colorbar": {
            "outlinewidth": 0,
            "ticks": ""
           }
          },
          "colorscale": {
           "diverging": [
            [
             0,
             "#8e0152"
            ],
            [
             0.1,
             "#c51b7d"
            ],
            [
             0.2,
             "#de77ae"
            ],
            [
             0.3,
             "#f1b6da"
            ],
            [
             0.4,
             "#fde0ef"
            ],
            [
             0.5,
             "#f7f7f7"
            ],
            [
             0.6,
             "#e6f5d0"
            ],
            [
             0.7,
             "#b8e186"
            ],
            [
             0.8,
             "#7fbc41"
            ],
            [
             0.9,
             "#4d9221"
            ],
            [
             1,
             "#276419"
            ]
           ],
           "sequential": [
            [
             0,
             "#0d0887"
            ],
            [
             0.1111111111111111,
             "#46039f"
            ],
            [
             0.2222222222222222,
             "#7201a8"
            ],
            [
             0.3333333333333333,
             "#9c179e"
            ],
            [
             0.4444444444444444,
             "#bd3786"
            ],
            [
             0.5555555555555556,
             "#d8576b"
            ],
            [
             0.6666666666666666,
             "#ed7953"
            ],
            [
             0.7777777777777778,
             "#fb9f3a"
            ],
            [
             0.8888888888888888,
             "#fdca26"
            ],
            [
             1,
             "#f0f921"
            ]
           ],
           "sequentialminus": [
            [
             0,
             "#0d0887"
            ],
            [
             0.1111111111111111,
             "#46039f"
            ],
            [
             0.2222222222222222,
             "#7201a8"
            ],
            [
             0.3333333333333333,
             "#9c179e"
            ],
            [
             0.4444444444444444,
             "#bd3786"
            ],
            [
             0.5555555555555556,
             "#d8576b"
            ],
            [
             0.6666666666666666,
             "#ed7953"
            ],
            [
             0.7777777777777778,
             "#fb9f3a"
            ],
            [
             0.8888888888888888,
             "#fdca26"
            ],
            [
             1,
             "#f0f921"
            ]
           ]
          },
          "colorway": [
           "#636efa",
           "#EF553B",
           "#00cc96",
           "#ab63fa",
           "#FFA15A",
           "#19d3f3",
           "#FF6692",
           "#B6E880",
           "#FF97FF",
           "#FECB52"
          ],
          "font": {
           "color": "#2a3f5f"
          },
          "geo": {
           "bgcolor": "white",
           "lakecolor": "white",
           "landcolor": "#E5ECF6",
           "showlakes": true,
           "showland": true,
           "subunitcolor": "white"
          },
          "hoverlabel": {
           "align": "left"
          },
          "hovermode": "closest",
          "mapbox": {
           "style": "light"
          },
          "paper_bgcolor": "white",
          "plot_bgcolor": "#E5ECF6",
          "polar": {
           "angularaxis": {
            "gridcolor": "white",
            "linecolor": "white",
            "ticks": ""
           },
           "bgcolor": "#E5ECF6",
           "radialaxis": {
            "gridcolor": "white",
            "linecolor": "white",
            "ticks": ""
           }
          },
          "scene": {
           "xaxis": {
            "backgroundcolor": "#E5ECF6",
            "gridcolor": "white",
            "gridwidth": 2,
            "linecolor": "white",
            "showbackground": true,
            "ticks": "",
            "zerolinecolor": "white"
           },
           "yaxis": {
            "backgroundcolor": "#E5ECF6",
            "gridcolor": "white",
            "gridwidth": 2,
            "linecolor": "white",
            "showbackground": true,
            "ticks": "",
            "zerolinecolor": "white"
           },
           "zaxis": {
            "backgroundcolor": "#E5ECF6",
            "gridcolor": "white",
            "gridwidth": 2,
            "linecolor": "white",
            "showbackground": true,
            "ticks": "",
            "zerolinecolor": "white"
           }
          },
          "shapedefaults": {
           "line": {
            "color": "#2a3f5f"
           }
          },
          "ternary": {
           "aaxis": {
            "gridcolor": "white",
            "linecolor": "white",
            "ticks": ""
           },
           "baxis": {
            "gridcolor": "white",
            "linecolor": "white",
            "ticks": ""
           },
           "bgcolor": "#E5ECF6",
           "caxis": {
            "gridcolor": "white",
            "linecolor": "white",
            "ticks": ""
           }
          },
          "title": {
           "x": 0.05
          },
          "xaxis": {
           "automargin": true,
           "gridcolor": "white",
           "linecolor": "white",
           "ticks": "",
           "title": {
            "standoff": 15
           },
           "zerolinecolor": "white",
           "zerolinewidth": 2
          },
          "yaxis": {
           "automargin": true,
           "gridcolor": "white",
           "linecolor": "white",
           "ticks": "",
           "title": {
            "standoff": 15
           },
           "zerolinecolor": "white",
           "zerolinewidth": 2
          }
         }
        },
        "title": {
         "font": {
          "color": "#4D5663"
         },
         "text": "MUERTE POR EDADES"
        },
        "xaxis": {
         "gridcolor": "#E1E5ED",
         "showgrid": true,
         "tickfont": {
          "color": "#4D5663"
         },
         "title": {
          "font": {
           "color": "#4D5663"
          },
          "text": "Edad"
         },
         "zerolinecolor": "#E1E5ED"
        },
        "yaxis": {
         "gridcolor": "#E1E5ED",
         "showgrid": true,
         "tickfont": {
          "color": "#4D5663"
         },
         "title": {
          "font": {
           "color": "#4D5663"
          },
          "text": "Número de muertes"
         },
         "zerolinecolor": "#E1E5ED"
        }
       }
      },
      "text/html": [
       "<div>                            <div id=\"68ba97fb-4154-4515-bd49-9a7df5bbe953\" class=\"plotly-graph-div\" style=\"height:525px; width:100%;\"></div>            <script type=\"text/javascript\">                require([\"plotly\"], function(Plotly) {                    window.PLOTLYENV=window.PLOTLYENV || {};\n",
       "                    window.PLOTLYENV.BASE_URL='https://plot.ly';                                    if (document.getElementById(\"68ba97fb-4154-4515-bd49-9a7df5bbe953\")) {                    Plotly.newPlot(                        \"68ba97fb-4154-4515-bd49-9a7df5bbe953\",                        [{\"marker\":{\"color\":\"rgba(255, 153, 51, 0.6)\",\"line\":{\"color\":\"rgba(255, 153, 51, 1.0)\",\"width\":1}},\"name\":\"Total\",\"orientation\":\"v\",\"text\":\"\",\"x\":[\"00 a 01\",\"00 a 01\",\"00 a 01\",\"00 a 01\",\"00 a 01\",\"00 a 01\",\"00 a 01\",\"00 a 01\",\"00 a 01\",\"00 a 01\",\"00 a 01\",\"00 a 01\",\"00 a 01\",\"00 a 01\",\"00 a 01\",\"00 a 01\",\"00 a 01\",\"00 a 01\",\"00 a 01\",\"00 a 01\",\"00 a 01\",\"00 a 01\",\"00 a 01\",\"00 a 01\",\"00 a 01\",\"00 a 01\",\"00 a 01\",\"00 a 01\",\"00 a 01\",\"00 a 01\",\"00 a 01\",\"00 a 01\",\"00 a 01\",\"00 a 01\",\"00 a 01\",\"00 a 01\",\"00 a 01\",\"00 a 01\",\"00 a 01\",\"01 a 04\",\"01 a 04\",\"01 a 04\",\"01 a 04\",\"01 a 04\",\"01 a 04\",\"01 a 04\",\"01 a 04\",\"01 a 04\",\"01 a 04\",\"01 a 04\",\"01 a 04\",\"01 a 04\",\"01 a 04\",\"01 a 04\",\"01 a 04\",\"01 a 04\",\"01 a 04\",\"01 a 04\",\"01 a 04\",\"01 a 04\",\"01 a 04\",\"01 a 04\",\"01 a 04\",\"01 a 04\",\"01 a 04\",\"01 a 04\",\"01 a 04\",\"01 a 04\",\"01 a 04\",\"01 a 04\",\"01 a 04\",\"01 a 04\",\"01 a 04\",\"01 a 04\",\"01 a 04\",\"01 a 04\",\"01 a 04\",\"01 a 04\",\"05 a 09\",\"05 a 09\",\"05 a 09\",\"05 a 09\",\"05 a 09\",\"05 a 09\",\"05 a 09\",\"05 a 09\",\"05 a 09\",\"05 a 09\",\"05 a 09\",\"05 a 09\",\"05 a 09\",\"05 a 09\",\"05 a 09\",\"05 a 09\",\"05 a 09\",\"05 a 09\",\"05 a 09\",\"05 a 09\",\"05 a 09\",\"05 a 09\",\"05 a 09\",\"05 a 09\",\"05 a 09\",\"05 a 09\",\"05 a 09\",\"05 a 09\",\"05 a 09\",\"05 a 09\",\"05 a 09\",\"05 a 09\",\"05 a 09\",\"05 a 09\",\"05 a 09\",\"05 a 09\",\"05 a 09\",\"05 a 09\",\"05 a 09\",\"10 a 14  \",\"10 a 14  \",\"10 a 14  \",\"10 a 14  \",\"10 a 14  \",\"10 a 14  \",\"10 a 14  \",\"10 a 14  \",\"10 a 14  \",\"10 a 14  \",\"10 a 14  \",\"10 a 14  \",\"10 a 14  \",\"10 a 14  \",\"10 a 14  \",\"10 a 14  \",\"10 a 14  \",\"10 a 14  \",\"10 a 14  \",\"10 a 14  \",\"10 a 14  \",\"10 a 14  \",\"10 a 14  \",\"10 a 14  \",\"10 a 14  \",\"10 a 14  \",\"10 a 14  \",\"10 a 14  \",\"10 a 14  \",\"10 a 14  \",\"10 a 14  \",\"10 a 14  \",\"10 a 14  \",\"10 a 14  \",\"10 a 14  \",\"10 a 14  \",\"10 a 14  \",\"10 a 14  \",\"10 a 14  \",\"15 a 19  \",\"15 a 19  \",\"15 a 19  \",\"15 a 19  \",\"15 a 19  \",\"15 a 19  \",\"15 a 19  \",\"15 a 19  \",\"15 a 19  \",\"15 a 19  \",\"15 a 19  \",\"15 a 19  \",\"15 a 19  \",\"15 a 19  \",\"15 a 19  \",\"15 a 19  \",\"15 a 19  \",\"15 a 19  \",\"15 a 19  \",\"15 a 19  \",\"15 a 19  \",\"15 a 19  \",\"15 a 19  \",\"15 a 19  \",\"15 a 19  \",\"15 a 19  \",\"15 a 19  \",\"15 a 19  \",\"15 a 19  \",\"15 a 19  \",\"15 a 19  \",\"15 a 19  \",\"15 a 19  \",\"15 a 19  \",\"15 a 19  \",\"15 a 19  \",\"15 a 19  \",\"15 a 19  \",\"15 a 19  \",\"20 a 24\",\"20 a 24\",\"20 a 24\",\"20 a 24\",\"20 a 24\",\"20 a 24\",\"20 a 24\",\"20 a 24\",\"20 a 24\",\"20 a 24\",\"20 a 24\",\"20 a 24\",\"20 a 24\",\"20 a 24\",\"20 a 24\",\"20 a 24\",\"20 a 24\",\"20 a 24\",\"20 a 24\",\"20 a 24\",\"20 a 24\",\"20 a 24\",\"20 a 24\",\"20 a 24\",\"20 a 24\",\"20 a 24\",\"20 a 24\",\"20 a 24\",\"20 a 24\",\"20 a 24\",\"20 a 24\",\"20 a 24\",\"20 a 24\",\"20 a 24\",\"20 a 24\",\"20 a 24\",\"20 a 24\",\"20 a 24\",\"20 a 24\",\"25 a 29\",\"25 a 29\",\"25 a 29\",\"25 a 29\",\"25 a 29\",\"25 a 29\",\"25 a 29\",\"25 a 29\",\"25 a 29\",\"25 a 29\",\"25 a 29\",\"25 a 29\",\"25 a 29\",\"25 a 29\",\"25 a 29\",\"25 a 29\",\"25 a 29\",\"25 a 29\",\"25 a 29\",\"25 a 29\",\"25 a 29\",\"25 a 29\",\"25 a 29\",\"25 a 29\",\"25 a 29\",\"25 a 29\",\"25 a 29\",\"25 a 29\",\"25 a 29\",\"25 a 29\",\"25 a 29\",\"25 a 29\",\"25 a 29\",\"25 a 29\",\"25 a 29\",\"25 a 29\",\"25 a 29\",\"25 a 29\",\"25 a 29\",\"30 a 34\",\"30 a 34\",\"30 a 34\",\"30 a 34\",\"30 a 34\",\"30 a 34\",\"30 a 34\",\"30 a 34\",\"30 a 34\",\"30 a 34\",\"30 a 34\",\"30 a 34\",\"30 a 34\",\"30 a 34\",\"30 a 34\",\"30 a 34\",\"30 a 34\",\"30 a 34\",\"30 a 34\",\"30 a 34\",\"30 a 34\",\"30 a 34\",\"30 a 34\",\"30 a 34\",\"30 a 34\",\"30 a 34\",\"30 a 34\",\"30 a 34\",\"30 a 34\",\"30 a 34\",\"30 a 34\",\"30 a 34\",\"30 a 34\",\"30 a 34\",\"30 a 34\",\"30 a 34\",\"30 a 34\",\"30 a 34\",\"30 a 34\",\"35 a 39\",\"35 a 39\",\"35 a 39\",\"35 a 39\",\"35 a 39\",\"35 a 39\",\"35 a 39\",\"35 a 39\",\"35 a 39\",\"35 a 39\",\"35 a 39\",\"35 a 39\",\"35 a 39\",\"35 a 39\",\"35 a 39\",\"35 a 39\",\"35 a 39\",\"35 a 39\",\"35 a 39\",\"35 a 39\",\"35 a 39\",\"35 a 39\",\"35 a 39\",\"35 a 39\",\"35 a 39\",\"35 a 39\",\"35 a 39\",\"35 a 39\",\"35 a 39\",\"35 a 39\",\"35 a 39\",\"35 a 39\",\"35 a 39\",\"35 a 39\",\"35 a 39\",\"35 a 39\",\"35 a 39\",\"35 a 39\",\"35 a 39\",\"40 a 44\",\"40 a 44\",\"40 a 44\",\"40 a 44\",\"40 a 44\",\"40 a 44\",\"40 a 44\",\"40 a 44\",\"40 a 44\",\"40 a 44\",\"40 a 44\",\"40 a 44\",\"40 a 44\",\"40 a 44\",\"40 a 44\",\"40 a 44\",\"40 a 44\",\"40 a 44\",\"40 a 44\",\"40 a 44\",\"40 a 44\",\"40 a 44\",\"40 a 44\",\"40 a 44\",\"40 a 44\",\"40 a 44\",\"40 a 44\",\"40 a 44\",\"40 a 44\",\"40 a 44\",\"40 a 44\",\"40 a 44\",\"40 a 44\",\"40 a 44\",\"40 a 44\",\"40 a 44\",\"40 a 44\",\"40 a 44\",\"40 a 44\",\"45 a 49\",\"45 a 49\",\"45 a 49\",\"45 a 49\",\"45 a 49\",\"45 a 49\",\"45 a 49\",\"45 a 49\",\"45 a 49\",\"45 a 49\",\"45 a 49\",\"45 a 49\",\"45 a 49\",\"45 a 49\",\"45 a 49\",\"45 a 49\",\"45 a 49\",\"45 a 49\",\"45 a 49\",\"45 a 49\",\"45 a 49\",\"45 a 49\",\"45 a 49\",\"45 a 49\",\"45 a 49\",\"45 a 49\",\"45 a 49\",\"45 a 49\",\"45 a 49\",\"45 a 49\",\"45 a 49\",\"45 a 49\",\"45 a 49\",\"45 a 49\",\"45 a 49\",\"45 a 49\",\"45 a 49\",\"45 a 49\",\"45 a 49\",\"50 a 54\",\"50 a 54\",\"50 a 54\",\"50 a 54\",\"50 a 54\",\"50 a 54\",\"50 a 54\",\"50 a 54\",\"50 a 54\",\"50 a 54\",\"50 a 54\",\"50 a 54\",\"50 a 54\",\"50 a 54\",\"50 a 54\",\"50 a 54\",\"50 a 54\",\"50 a 54\",\"50 a 54\",\"50 a 54\",\"50 a 54\",\"50 a 54\",\"50 a 54\",\"50 a 54\",\"50 a 54\",\"50 a 54\",\"50 a 54\",\"50 a 54\",\"50 a 54\",\"50 a 54\",\"50 a 54\",\"50 a 54\",\"50 a 54\",\"50 a 54\",\"50 a 54\",\"50 a 54\",\"50 a 54\",\"50 a 54\",\"50 a 54\",\"55 a 59\",\"55 a 59\",\"55 a 59\",\"55 a 59\",\"55 a 59\",\"55 a 59\",\"55 a 59\",\"55 a 59\",\"55 a 59\",\"55 a 59\",\"55 a 59\",\"55 a 59\",\"55 a 59\",\"55 a 59\",\"55 a 59\",\"55 a 59\",\"55 a 59\",\"55 a 59\",\"55 a 59\",\"55 a 59\",\"55 a 59\",\"55 a 59\",\"55 a 59\",\"55 a 59\",\"55 a 59\",\"55 a 59\",\"55 a 59\",\"55 a 59\",\"55 a 59\",\"55 a 59\",\"55 a 59\",\"55 a 59\",\"55 a 59\",\"55 a 59\",\"55 a 59\",\"55 a 59\",\"55 a 59\",\"55 a 59\",\"55 a 59\",\"60 a 64\",\"60 a 64\",\"60 a 64\",\"60 a 64\",\"60 a 64\",\"60 a 64\",\"60 a 64\",\"60 a 64\",\"60 a 64\",\"60 a 64\",\"60 a 64\",\"60 a 64\",\"60 a 64\",\"60 a 64\",\"60 a 64\",\"60 a 64\",\"60 a 64\",\"60 a 64\",\"60 a 64\",\"60 a 64\",\"60 a 64\",\"60 a 64\",\"60 a 64\",\"60 a 64\",\"60 a 64\",\"60 a 64\",\"60 a 64\",\"60 a 64\",\"60 a 64\",\"60 a 64\",\"60 a 64\",\"60 a 64\",\"60 a 64\",\"60 a 64\",\"60 a 64\",\"60 a 64\",\"60 a 64\",\"60 a 64\",\"60 a 64\",\"65 a 69\",\"65 a 69\",\"65 a 69\",\"65 a 69\",\"65 a 69\",\"65 a 69\",\"65 a 69\",\"65 a 69\",\"65 a 69\",\"65 a 69\",\"65 a 69\",\"65 a 69\",\"65 a 69\",\"65 a 69\",\"65 a 69\",\"65 a 69\",\"65 a 69\",\"65 a 69\",\"65 a 69\",\"65 a 69\",\"65 a 69\",\"65 a 69\",\"65 a 69\",\"65 a 69\",\"65 a 69\",\"65 a 69\",\"65 a 69\",\"65 a 69\",\"65 a 69\",\"65 a 69\",\"65 a 69\",\"65 a 69\",\"65 a 69\",\"65 a 69\",\"65 a 69\",\"65 a 69\",\"65 a 69\",\"65 a 69\",\"65 a 69\",\"70 a 74  \",\"70 a 74  \",\"70 a 74  \",\"70 a 74  \",\"70 a 74  \",\"70 a 74  \",\"70 a 74  \",\"70 a 74  \",\"70 a 74  \",\"70 a 74  \",\"70 a 74  \",\"70 a 74  \",\"70 a 74  \",\"70 a 74  \",\"70 a 74  \",\"70 a 74  \",\"70 a 74  \",\"70 a 74  \",\"70 a 74  \",\"70 a 74  \",\"70 a 74  \",\"70 a 74  \",\"70 a 74  \",\"70 a 74  \",\"70 a 74  \",\"70 a 74  \",\"70 a 74  \",\"70 a 74  \",\"70 a 74  \",\"70 a 74  \",\"70 a 74  \",\"70 a 74  \",\"70 a 74  \",\"70 a 74  \",\"70 a 74  \",\"70 a 74  \",\"70 a 74  \",\"70 a 74  \",\"70 a 74  \",\"75 a 79  \",\"75 a 79  \",\"75 a 79  \",\"75 a 79  \",\"75 a 79  \",\"75 a 79  \",\"75 a 79  \",\"75 a 79  \",\"75 a 79  \",\"75 a 79  \",\"75 a 79  \",\"75 a 79  \",\"75 a 79  \",\"75 a 79  \",\"75 a 79  \",\"75 a 79  \",\"75 a 79  \",\"75 a 79  \",\"75 a 79  \",\"75 a 79  \",\"75 a 79  \",\"75 a 79  \",\"75 a 79  \",\"75 a 79  \",\"75 a 79  \",\"75 a 79  \",\"75 a 79  \",\"75 a 79  \",\"75 a 79  \",\"75 a 79  \",\"75 a 79  \",\"75 a 79  \",\"75 a 79  \",\"75 a 79  \",\"75 a 79  \",\"75 a 79  \",\"75 a 79  \",\"75 a 79  \",\"75 a 79  \",\"80 a 84  \",\"80 a 84  \",\"80 a 84  \",\"80 a 84  \",\"80 a 84  \",\"80 a 84  \",\"80 a 84  \",\"80 a 84  \",\"80 a 84  \",\"80 a 84  \",\"80 a 84  \",\"80 a 84  \",\"80 a 84  \",\"80 a 84  \",\"80 a 84  \",\"80 a 84  \",\"80 a 84  \",\"80 a 84  \",\"80 a 84  \",\"80 a 84  \",\"80 a 84  \",\"80 a 84  \",\"80 a 84  \",\"80 a 84  \",\"80 a 84  \",\"80 a 84  \",\"80 a 84  \",\"80 a 84  \",\"80 a 84  \",\"80 a 84  \",\"80 a 84  \",\"80 a 84  \",\"80 a 84  \",\"80 a 84  \",\"80 a 84  \",\"80 a 84  \",\"80 a 84  \",\"80 a 84  \",\"80 a 84  \",\"85 a 89  \",\"85 a 89  \",\"85 a 89  \",\"85 a 89  \",\"85 a 89  \",\"85 a 89  \",\"85 a 89  \",\"85 a 89  \",\"85 a 89  \",\"85 a 89  \",\"85 a 89  \",\"85 a 89  \",\"85 a 89  \",\"85 a 89  \",\"85 a 89  \",\"85 a 89  \",\"85 a 89  \",\"85 a 89  \",\"85 a 89  \",\"85 a 89  \",\"85 a 89  \",\"85 a 89  \",\"85 a 89  \",\"85 a 89  \",\"85 a 89  \",\"85 a 89  \",\"85 a 89  \",\"85 a 89  \",\"85 a 89  \",\"85 a 89  \",\"85 a 89  \",\"85 a 89  \",\"85 a 89  \",\"85 a 89  \",\"85 a 89  \",\"85 a 89  \",\"85 a 89  \",\"85 a 89  \",\"85 a 89  \",\"90 a 94  \",\"90 a 94  \",\"90 a 94  \",\"90 a 94  \",\"90 a 94  \",\"90 a 94  \",\"90 a 94  \",\"90 a 94  \",\"90 a 94  \",\"90 a 94  \",\"90 a 94  \",\"90 a 94  \",\"90 a 94  \",\"90 a 94  \",\"90 a 94  \",\"90 a 94  \",\"90 a 94  \",\"90 a 94  \",\"90 a 94  \",\"90 a 94  \",\"90 a 94  \",\"90 a 94  \",\"90 a 94  \",\"90 a 94  \",\"90 a 94  \",\"90 a 94  \",\"90 a 94  \",\"90 a 94  \",\"90 a 94  \",\"90 a 94  \",\"90 a 94  \",\"90 a 94  \",\"90 a 94  \",\"90 a 94  \",\"90 a 94  \",\"90 a 94  \",\"90 a 94  \",\"90 a 94  \",\"90 a 94  \",\"95 a 115\",\"95 a 115\",\"95 a 115\",\"95 a 115\",\"95 a 115\",\"95 a 115\",\"95 a 115\",\"95 a 115\",\"95 a 115\",\"95 a 115\",\"95 a 115\",\"95 a 115\",\"95 a 115\",\"95 a 115\",\"95 a 115\",\"95 a 115\",\"95 a 115\",\"95 a 115\",\"95 a 115\",\"95 a 115\",\"95 a 115\",\"95 a 115\",\"95 a 115\",\"95 a 115\",\"95 a 115\",\"95 a 115\",\"95 a 115\",\"95 a 115\",\"95 a 115\",\"95 a 115\",\"95 a 115\",\"95 a 115\",\"95 a 115\",\"95 a 115\",\"95 a 115\",\"95 a 115\",\"95 a 115\",\"95 a 115\",\"95 a 115\"],\"y\":[5822,1505,2239,1092,2846,3179,3050,4038,1553,4670,7048,2798,5285,6644,1027,3371,2581,4071,1609,3789,1700,1657,1139,1164,2008,1996,1856,1813,1232,1774,1120,1741,1740,1404,1737,1733,1704,1704,1765,248,329,308,793,264,240,383,290,226,380,1010,385,357,357,1651,379,370,345,626,640,421,396,788,1120,411,1540,442,396,221,924,483,791,536,556,1242,579,653,1299,752,624,179,259,431,979,804,775,199,664,252,240,188,278,229,896,299,205,820,226,217,178,254,1178,432,460,321,343,179,589,926,361,500,226,364,222,206,588,206,300,248,193,851,203,754,745,198,733,503,713,848,1003,860,793,869,183,202,783,489,399,262,557,213,211,606,971,422,375,237,365,341,320,308,227,228,281,273,346,478,1423,972,1808,1806,1400,2059,1298,1801,1751,1651,1920,2066,1043,1032,1375,1367,1848,1198,1865,505,1698,914,2172,362,2196,381,393,396,1262,789,500,413,429,751,2153,616,923,786,394,3385,1524,2313,2004,1996,2344,2401,1943,2406,2524,2618,3026,2645,3173,1816,3347,3360,2086,2242,2208,2189,1430,921,1270,580,1178,595,607,574,659,1090,779,814,624,2125,3057,1746,700,1794,3754,1846,3347,766,1739,3622,2050,1950,978,1981,2099,2063,1543,1688,1136,2136,1426,3603,2757,2707,3764,3133,2180,852,834,828,4060,2297,2156,2338,800,4050,3815,756,2496,2505,2179,2339,1048,2647,4405,2568,1637,2993,2975,1211,1347,3905,2872,2869,2848,1738,1824,3588,3974,2596,2178,2013,5027,2141,1389,1132,2433,3220,2363,2358,4278,1187,2273,3218,2268,2257,3342,2228,4753,4991,2276,1146,3963,3511,3383,3763,4833,4738,4272,4260,4084,4052,3957,3933,3894,3810,4011,3732,3422,3940,3582,3357,2070,3190,3147,3099,2915,3062,2189,2966,2389,2889,2884,2101,2772,1957,2687,2589,2082,3254,3259,4108,4766,4750,4744,5209,5069,4721,5267,4777,5276,4703,4658,5282,4614,5310,4497,4459,5416,4181,5205,5545,4107,3776,3484,3465,3798,3568,3683,4830,3874,3842,4757,4237,4714,5013,5069,4848,4189,4326,6575,7535,5762,7467,6973,7096,6732,6777,7703,5862,6815,6888,6923,7266,6950,7193,7100,7095,7297,5925,6648,6057,7371,7492,7475,6504,7307,6028,6602,6523,6305,6507,6415,6359,6190,6663,6161,6149,6512,9034,9505,9715,8294,8528,8758,8781,9094,10249,9213,8264,9461,9342,9331,9381,9401,9426,9205,9916,9442,11506,10081,10103,10114,10168,10204,10281,10282,10289,10522,10290,10611,10776,10967,11149,11184,11217,11487,10029,12091,12024,14437,11181,13153,12134,11211,12468,13052,12664,12887,13165,12988,13080,13026,13041,13167,12569,15578,16011,16002,14428,14184,13238,13625,14816,13397,13294,13876,14651,15855,15654,15774,16120,15946,16090,16044,15961,15310,17672,22109,22165,22385,22406,17553,20060,15761,17012,16184,15972,16905,17127,16389,17399,17320,22150,22546,17743,17493,21375,19344,19278,19100,18230,22171,19945,18030,17866,22047,17863,18187,20056,21135,20679,22380,21322,22540,17866,29045,30731,28259,26826,30223,26555,26636,27850,22532,30967,23662,23445,22262,22090,22060,21501,26866,26110,27019,20982,27721,29420,24425,24416,29890,30204,30057,24328,30004,27619,30139,23721,23859,24138,24497,30727,30699,28231,30036,41042,41327,41592,41353,41379,40546,39405,40226,31039,40026,31377,41084,35741,28266,28775,29961,41879,40068,29946,42231,39959,42781,38707,37942,37865,37865,37131,36781,35487,37283,38901,36139,39403,36635,31610,39969,33020,33621,32883,47928,50009,48799,50143,50186,48421,47937,47300,49438,47782,47488,47719,45522,50588,57516,46259,50940,50245,57377,55521,45167,49750,51939,56267,52020,49648,42532,52778,55859,56332,41376,55264,55099,54672,54576,40776,53856,51758,55622,58568,58968,57071,74869,76613,59071,60927,58695,54481,72313,53881,72445,59591,72688,73005,59497,63052,59287,58873,58018,58291,71892,44320,71705,70874,68007,68011,50736,46141,72103,70037,51184,69294,72142,72251,53900,55898,60073,46236,92255,30258,79519,60226,62627,32364,81309,38626,45535,34859,34086,42924,31639,47908,48622,49063,64022,38070,54430,39245,67818,89152,82739,59209,86575,91326,59856,63748,51629,59660,77293,60360,62222,73552,74620,70717,51921,57150,56078,42271,48781,32962,40554,55156,55401,37635,31886,35673,44198,38089,44812,44610,45201,45369,46498,22488,42694,13663,37319,14206,59790,30194,23906,28227,26932,14126,67510,24353,66432,20232,70918,18143,17941,17641,72355,16067,15862,19642,28716,20807,19415,18292,18015,17089,16393,4116,15117,13969,3793,13143,3906,12908,12157,21332,33933,28485,8316,23351,4709,4693,5678,6203,6459,7097,7499,7824,5391,9177,7436,32302,10188,10812,24017,24763,24896,22069,5464],\"type\":\"bar\"}],                        {\"legend\":{\"bgcolor\":\"#F5F6F9\",\"font\":{\"color\":\"#4D5663\"}},\"paper_bgcolor\":\"#F5F6F9\",\"plot_bgcolor\":\"#F5F6F9\",\"template\":{\"data\":{\"barpolar\":[{\"marker\":{\"line\":{\"color\":\"#E5ECF6\",\"width\":0.5},\"pattern\":{\"fillmode\":\"overlay\",\"size\":10,\"solidity\":0.2}},\"type\":\"barpolar\"}],\"bar\":[{\"error_x\":{\"color\":\"#2a3f5f\"},\"error_y\":{\"color\":\"#2a3f5f\"},\"marker\":{\"line\":{\"color\":\"#E5ECF6\",\"width\":0.5},\"pattern\":{\"fillmode\":\"overlay\",\"size\":10,\"solidity\":0.2}},\"type\":\"bar\"}],\"carpet\":[{\"aaxis\":{\"endlinecolor\":\"#2a3f5f\",\"gridcolor\":\"white\",\"linecolor\":\"white\",\"minorgridcolor\":\"white\",\"startlinecolor\":\"#2a3f5f\"},\"baxis\":{\"endlinecolor\":\"#2a3f5f\",\"gridcolor\":\"white\",\"linecolor\":\"white\",\"minorgridcolor\":\"white\",\"startlinecolor\":\"#2a3f5f\"},\"type\":\"carpet\"}],\"choropleth\":[{\"colorbar\":{\"outlinewidth\":0,\"ticks\":\"\"},\"type\":\"choropleth\"}],\"contourcarpet\":[{\"colorbar\":{\"outlinewidth\":0,\"ticks\":\"\"},\"type\":\"contourcarpet\"}],\"contour\":[{\"colorbar\":{\"outlinewidth\":0,\"ticks\":\"\"},\"colorscale\":[[0.0,\"#0d0887\"],[0.1111111111111111,\"#46039f\"],[0.2222222222222222,\"#7201a8\"],[0.3333333333333333,\"#9c179e\"],[0.4444444444444444,\"#bd3786\"],[0.5555555555555556,\"#d8576b\"],[0.6666666666666666,\"#ed7953\"],[0.7777777777777778,\"#fb9f3a\"],[0.8888888888888888,\"#fdca26\"],[1.0,\"#f0f921\"]],\"type\":\"contour\"}],\"heatmapgl\":[{\"colorbar\":{\"outlinewidth\":0,\"ticks\":\"\"},\"colorscale\":[[0.0,\"#0d0887\"],[0.1111111111111111,\"#46039f\"],[0.2222222222222222,\"#7201a8\"],[0.3333333333333333,\"#9c179e\"],[0.4444444444444444,\"#bd3786\"],[0.5555555555555556,\"#d8576b\"],[0.6666666666666666,\"#ed7953\"],[0.7777777777777778,\"#fb9f3a\"],[0.8888888888888888,\"#fdca26\"],[1.0,\"#f0f921\"]],\"type\":\"heatmapgl\"}],\"heatmap\":[{\"colorbar\":{\"outlinewidth\":0,\"ticks\":\"\"},\"colorscale\":[[0.0,\"#0d0887\"],[0.1111111111111111,\"#46039f\"],[0.2222222222222222,\"#7201a8\"],[0.3333333333333333,\"#9c179e\"],[0.4444444444444444,\"#bd3786\"],[0.5555555555555556,\"#d8576b\"],[0.6666666666666666,\"#ed7953\"],[0.7777777777777778,\"#fb9f3a\"],[0.8888888888888888,\"#fdca26\"],[1.0,\"#f0f921\"]],\"type\":\"heatmap\"}],\"histogram2dcontour\":[{\"colorbar\":{\"outlinewidth\":0,\"ticks\":\"\"},\"colorscale\":[[0.0,\"#0d0887\"],[0.1111111111111111,\"#46039f\"],[0.2222222222222222,\"#7201a8\"],[0.3333333333333333,\"#9c179e\"],[0.4444444444444444,\"#bd3786\"],[0.5555555555555556,\"#d8576b\"],[0.6666666666666666,\"#ed7953\"],[0.7777777777777778,\"#fb9f3a\"],[0.8888888888888888,\"#fdca26\"],[1.0,\"#f0f921\"]],\"type\":\"histogram2dcontour\"}],\"histogram2d\":[{\"colorbar\":{\"outlinewidth\":0,\"ticks\":\"\"},\"colorscale\":[[0.0,\"#0d0887\"],[0.1111111111111111,\"#46039f\"],[0.2222222222222222,\"#7201a8\"],[0.3333333333333333,\"#9c179e\"],[0.4444444444444444,\"#bd3786\"],[0.5555555555555556,\"#d8576b\"],[0.6666666666666666,\"#ed7953\"],[0.7777777777777778,\"#fb9f3a\"],[0.8888888888888888,\"#fdca26\"],[1.0,\"#f0f921\"]],\"type\":\"histogram2d\"}],\"histogram\":[{\"marker\":{\"pattern\":{\"fillmode\":\"overlay\",\"size\":10,\"solidity\":0.2}},\"type\":\"histogram\"}],\"mesh3d\":[{\"colorbar\":{\"outlinewidth\":0,\"ticks\":\"\"},\"type\":\"mesh3d\"}],\"parcoords\":[{\"line\":{\"colorbar\":{\"outlinewidth\":0,\"ticks\":\"\"}},\"type\":\"parcoords\"}],\"pie\":[{\"automargin\":true,\"type\":\"pie\"}],\"scatter3d\":[{\"line\":{\"colorbar\":{\"outlinewidth\":0,\"ticks\":\"\"}},\"marker\":{\"colorbar\":{\"outlinewidth\":0,\"ticks\":\"\"}},\"type\":\"scatter3d\"}],\"scattercarpet\":[{\"marker\":{\"colorbar\":{\"outlinewidth\":0,\"ticks\":\"\"}},\"type\":\"scattercarpet\"}],\"scattergeo\":[{\"marker\":{\"colorbar\":{\"outlinewidth\":0,\"ticks\":\"\"}},\"type\":\"scattergeo\"}],\"scattergl\":[{\"marker\":{\"colorbar\":{\"outlinewidth\":0,\"ticks\":\"\"}},\"type\":\"scattergl\"}],\"scattermapbox\":[{\"marker\":{\"colorbar\":{\"outlinewidth\":0,\"ticks\":\"\"}},\"type\":\"scattermapbox\"}],\"scatterpolargl\":[{\"marker\":{\"colorbar\":{\"outlinewidth\":0,\"ticks\":\"\"}},\"type\":\"scatterpolargl\"}],\"scatterpolar\":[{\"marker\":{\"colorbar\":{\"outlinewidth\":0,\"ticks\":\"\"}},\"type\":\"scatterpolar\"}],\"scatter\":[{\"fillpattern\":{\"fillmode\":\"overlay\",\"size\":10,\"solidity\":0.2},\"type\":\"scatter\"}],\"scatterternary\":[{\"marker\":{\"colorbar\":{\"outlinewidth\":0,\"ticks\":\"\"}},\"type\":\"scatterternary\"}],\"surface\":[{\"colorbar\":{\"outlinewidth\":0,\"ticks\":\"\"},\"colorscale\":[[0.0,\"#0d0887\"],[0.1111111111111111,\"#46039f\"],[0.2222222222222222,\"#7201a8\"],[0.3333333333333333,\"#9c179e\"],[0.4444444444444444,\"#bd3786\"],[0.5555555555555556,\"#d8576b\"],[0.6666666666666666,\"#ed7953\"],[0.7777777777777778,\"#fb9f3a\"],[0.8888888888888888,\"#fdca26\"],[1.0,\"#f0f921\"]],\"type\":\"surface\"}],\"table\":[{\"cells\":{\"fill\":{\"color\":\"#EBF0F8\"},\"line\":{\"color\":\"white\"}},\"header\":{\"fill\":{\"color\":\"#C8D4E3\"},\"line\":{\"color\":\"white\"}},\"type\":\"table\"}]},\"layout\":{\"annotationdefaults\":{\"arrowcolor\":\"#2a3f5f\",\"arrowhead\":0,\"arrowwidth\":1},\"autotypenumbers\":\"strict\",\"coloraxis\":{\"colorbar\":{\"outlinewidth\":0,\"ticks\":\"\"}},\"colorscale\":{\"diverging\":[[0,\"#8e0152\"],[0.1,\"#c51b7d\"],[0.2,\"#de77ae\"],[0.3,\"#f1b6da\"],[0.4,\"#fde0ef\"],[0.5,\"#f7f7f7\"],[0.6,\"#e6f5d0\"],[0.7,\"#b8e186\"],[0.8,\"#7fbc41\"],[0.9,\"#4d9221\"],[1,\"#276419\"]],\"sequential\":[[0.0,\"#0d0887\"],[0.1111111111111111,\"#46039f\"],[0.2222222222222222,\"#7201a8\"],[0.3333333333333333,\"#9c179e\"],[0.4444444444444444,\"#bd3786\"],[0.5555555555555556,\"#d8576b\"],[0.6666666666666666,\"#ed7953\"],[0.7777777777777778,\"#fb9f3a\"],[0.8888888888888888,\"#fdca26\"],[1.0,\"#f0f921\"]],\"sequentialminus\":[[0.0,\"#0d0887\"],[0.1111111111111111,\"#46039f\"],[0.2222222222222222,\"#7201a8\"],[0.3333333333333333,\"#9c179e\"],[0.4444444444444444,\"#bd3786\"],[0.5555555555555556,\"#d8576b\"],[0.6666666666666666,\"#ed7953\"],[0.7777777777777778,\"#fb9f3a\"],[0.8888888888888888,\"#fdca26\"],[1.0,\"#f0f921\"]]},\"colorway\":[\"#636efa\",\"#EF553B\",\"#00cc96\",\"#ab63fa\",\"#FFA15A\",\"#19d3f3\",\"#FF6692\",\"#B6E880\",\"#FF97FF\",\"#FECB52\"],\"font\":{\"color\":\"#2a3f5f\"},\"geo\":{\"bgcolor\":\"white\",\"lakecolor\":\"white\",\"landcolor\":\"#E5ECF6\",\"showlakes\":true,\"showland\":true,\"subunitcolor\":\"white\"},\"hoverlabel\":{\"align\":\"left\"},\"hovermode\":\"closest\",\"mapbox\":{\"style\":\"light\"},\"paper_bgcolor\":\"white\",\"plot_bgcolor\":\"#E5ECF6\",\"polar\":{\"angularaxis\":{\"gridcolor\":\"white\",\"linecolor\":\"white\",\"ticks\":\"\"},\"bgcolor\":\"#E5ECF6\",\"radialaxis\":{\"gridcolor\":\"white\",\"linecolor\":\"white\",\"ticks\":\"\"}},\"scene\":{\"xaxis\":{\"backgroundcolor\":\"#E5ECF6\",\"gridcolor\":\"white\",\"gridwidth\":2,\"linecolor\":\"white\",\"showbackground\":true,\"ticks\":\"\",\"zerolinecolor\":\"white\"},\"yaxis\":{\"backgroundcolor\":\"#E5ECF6\",\"gridcolor\":\"white\",\"gridwidth\":2,\"linecolor\":\"white\",\"showbackground\":true,\"ticks\":\"\",\"zerolinecolor\":\"white\"},\"zaxis\":{\"backgroundcolor\":\"#E5ECF6\",\"gridcolor\":\"white\",\"gridwidth\":2,\"linecolor\":\"white\",\"showbackground\":true,\"ticks\":\"\",\"zerolinecolor\":\"white\"}},\"shapedefaults\":{\"line\":{\"color\":\"#2a3f5f\"}},\"ternary\":{\"aaxis\":{\"gridcolor\":\"white\",\"linecolor\":\"white\",\"ticks\":\"\"},\"baxis\":{\"gridcolor\":\"white\",\"linecolor\":\"white\",\"ticks\":\"\"},\"bgcolor\":\"#E5ECF6\",\"caxis\":{\"gridcolor\":\"white\",\"linecolor\":\"white\",\"ticks\":\"\"}},\"title\":{\"x\":0.05},\"xaxis\":{\"automargin\":true,\"gridcolor\":\"white\",\"linecolor\":\"white\",\"ticks\":\"\",\"title\":{\"standoff\":15},\"zerolinecolor\":\"white\",\"zerolinewidth\":2},\"yaxis\":{\"automargin\":true,\"gridcolor\":\"white\",\"linecolor\":\"white\",\"ticks\":\"\",\"title\":{\"standoff\":15},\"zerolinecolor\":\"white\",\"zerolinewidth\":2}}},\"title\":{\"font\":{\"color\":\"#4D5663\"},\"text\":\"MUERTE POR EDADES\"},\"xaxis\":{\"gridcolor\":\"#E1E5ED\",\"showgrid\":true,\"tickfont\":{\"color\":\"#4D5663\"},\"title\":{\"font\":{\"color\":\"#4D5663\"},\"text\":\"Edad\"},\"zerolinecolor\":\"#E1E5ED\"},\"yaxis\":{\"gridcolor\":\"#E1E5ED\",\"showgrid\":true,\"tickfont\":{\"color\":\"#4D5663\"},\"title\":{\"font\":{\"color\":\"#4D5663\"},\"text\":\"N\\u00famero de muertes\"},\"zerolinecolor\":\"#E1E5ED\"}},                        {\"showLink\": true, \"linkText\": \"Export to plot.ly\", \"plotlyServerURL\": \"https://plot.ly\", \"responsive\": true}                    ).then(function(){\n",
       "                            \n",
       "var gd = document.getElementById('68ba97fb-4154-4515-bd49-9a7df5bbe953');\n",
       "var x = new MutationObserver(function (mutations, observer) {{\n",
       "        var display = window.getComputedStyle(gd).display;\n",
       "        if (!display || display === 'none') {{\n",
       "            console.log([gd, 'removed!']);\n",
       "            Plotly.purge(gd);\n",
       "            observer.disconnect();\n",
       "        }}\n",
       "}});\n",
       "\n",
       "// Listen for the removal of the full notebook cells\n",
       "var notebookContainer = gd.closest('#notebook-container');\n",
       "if (notebookContainer) {{\n",
       "    x.observe(notebookContainer, {childList: true});\n",
       "}}\n",
       "\n",
       "// Listen for the clearing of the current output cell\n",
       "var outputEl = gd.closest('.output');\n",
       "if (outputEl) {{\n",
       "    x.observe(outputEl, {childList: true});\n",
       "}}\n",
       "\n",
       "                        })                };                });            </script>        </div>"
      ]
     },
     "metadata": {},
     "output_type": "display_data"
    }
   ],
   "source": [
    "hist_5.iplot(kind='bar',\n",
    "                  x='Edad',\n",
    "                y='Total',\n",
    "                  xTitle='Edad',\n",
    "                  yTitle='Número de muertes',\n",
    "                  title='MUERTE POR EDADES')"
   ]
  },
  {
   "cell_type": "markdown",
   "metadata": {},
   "source": [
    "# EVOLUCIÓN DE MUERTES POR SIDA"
   ]
  },
  {
   "cell_type": "code",
   "execution_count": 20,
   "metadata": {
    "scrolled": false
   },
   "outputs": [
    {
     "data": {
      "application/vnd.plotly.v1+json": {
       "config": {
        "linkText": "Export to plot.ly",
        "plotlyServerURL": "https://plot.ly",
        "showLink": true
       },
       "data": [
        {
         "marker": {
          "color": "rgba(255, 153, 51, 0.6)",
          "line": {
           "color": "rgba(255, 153, 51, 1.0)",
           "width": 1
          }
         },
         "name": "Total",
         "orientation": "v",
         "text": "",
         "type": "bar",
         "x": [
          1980,
          1981,
          1982,
          1983,
          1984,
          1985,
          1986,
          1987,
          1988,
          1989,
          1990,
          1991,
          1992,
          1993,
          1994,
          1995,
          1996,
          1997,
          1998,
          1999,
          2000,
          2001,
          2002,
          2003,
          2004,
          2005,
          2006,
          2007,
          2008,
          2009,
          2010,
          2011,
          2012,
          2013,
          2014,
          2015,
          2016,
          2017,
          2018
         ],
         "y": [
          0,
          0,
          0,
          0,
          0,
          47,
          164,
          409,
          768,
          1288,
          1898,
          2503,
          3256,
          3980,
          4770,
          5551,
          5432,
          2844,
          1779,
          1802,
          1711,
          1632,
          1611,
          1632,
          1551,
          1450,
          1313,
          1307,
          1211,
          1079,
          1020,
          953,
          880,
          749,
          700,
          633,
          498,
          442,
          423
         ]
        }
       ],
       "layout": {
        "legend": {
         "bgcolor": "#F5F6F9",
         "font": {
          "color": "#4D5663"
         }
        },
        "paper_bgcolor": "#F5F6F9",
        "plot_bgcolor": "#F5F6F9",
        "template": {
         "data": {
          "bar": [
           {
            "error_x": {
             "color": "#2a3f5f"
            },
            "error_y": {
             "color": "#2a3f5f"
            },
            "marker": {
             "line": {
              "color": "#E5ECF6",
              "width": 0.5
             },
             "pattern": {
              "fillmode": "overlay",
              "size": 10,
              "solidity": 0.2
             }
            },
            "type": "bar"
           }
          ],
          "barpolar": [
           {
            "marker": {
             "line": {
              "color": "#E5ECF6",
              "width": 0.5
             },
             "pattern": {
              "fillmode": "overlay",
              "size": 10,
              "solidity": 0.2
             }
            },
            "type": "barpolar"
           }
          ],
          "carpet": [
           {
            "aaxis": {
             "endlinecolor": "#2a3f5f",
             "gridcolor": "white",
             "linecolor": "white",
             "minorgridcolor": "white",
             "startlinecolor": "#2a3f5f"
            },
            "baxis": {
             "endlinecolor": "#2a3f5f",
             "gridcolor": "white",
             "linecolor": "white",
             "minorgridcolor": "white",
             "startlinecolor": "#2a3f5f"
            },
            "type": "carpet"
           }
          ],
          "choropleth": [
           {
            "colorbar": {
             "outlinewidth": 0,
             "ticks": ""
            },
            "type": "choropleth"
           }
          ],
          "contour": [
           {
            "colorbar": {
             "outlinewidth": 0,
             "ticks": ""
            },
            "colorscale": [
             [
              0,
              "#0d0887"
             ],
             [
              0.1111111111111111,
              "#46039f"
             ],
             [
              0.2222222222222222,
              "#7201a8"
             ],
             [
              0.3333333333333333,
              "#9c179e"
             ],
             [
              0.4444444444444444,
              "#bd3786"
             ],
             [
              0.5555555555555556,
              "#d8576b"
             ],
             [
              0.6666666666666666,
              "#ed7953"
             ],
             [
              0.7777777777777778,
              "#fb9f3a"
             ],
             [
              0.8888888888888888,
              "#fdca26"
             ],
             [
              1,
              "#f0f921"
             ]
            ],
            "type": "contour"
           }
          ],
          "contourcarpet": [
           {
            "colorbar": {
             "outlinewidth": 0,
             "ticks": ""
            },
            "type": "contourcarpet"
           }
          ],
          "heatmap": [
           {
            "colorbar": {
             "outlinewidth": 0,
             "ticks": ""
            },
            "colorscale": [
             [
              0,
              "#0d0887"
             ],
             [
              0.1111111111111111,
              "#46039f"
             ],
             [
              0.2222222222222222,
              "#7201a8"
             ],
             [
              0.3333333333333333,
              "#9c179e"
             ],
             [
              0.4444444444444444,
              "#bd3786"
             ],
             [
              0.5555555555555556,
              "#d8576b"
             ],
             [
              0.6666666666666666,
              "#ed7953"
             ],
             [
              0.7777777777777778,
              "#fb9f3a"
             ],
             [
              0.8888888888888888,
              "#fdca26"
             ],
             [
              1,
              "#f0f921"
             ]
            ],
            "type": "heatmap"
           }
          ],
          "heatmapgl": [
           {
            "colorbar": {
             "outlinewidth": 0,
             "ticks": ""
            },
            "colorscale": [
             [
              0,
              "#0d0887"
             ],
             [
              0.1111111111111111,
              "#46039f"
             ],
             [
              0.2222222222222222,
              "#7201a8"
             ],
             [
              0.3333333333333333,
              "#9c179e"
             ],
             [
              0.4444444444444444,
              "#bd3786"
             ],
             [
              0.5555555555555556,
              "#d8576b"
             ],
             [
              0.6666666666666666,
              "#ed7953"
             ],
             [
              0.7777777777777778,
              "#fb9f3a"
             ],
             [
              0.8888888888888888,
              "#fdca26"
             ],
             [
              1,
              "#f0f921"
             ]
            ],
            "type": "heatmapgl"
           }
          ],
          "histogram": [
           {
            "marker": {
             "pattern": {
              "fillmode": "overlay",
              "size": 10,
              "solidity": 0.2
             }
            },
            "type": "histogram"
           }
          ],
          "histogram2d": [
           {
            "colorbar": {
             "outlinewidth": 0,
             "ticks": ""
            },
            "colorscale": [
             [
              0,
              "#0d0887"
             ],
             [
              0.1111111111111111,
              "#46039f"
             ],
             [
              0.2222222222222222,
              "#7201a8"
             ],
             [
              0.3333333333333333,
              "#9c179e"
             ],
             [
              0.4444444444444444,
              "#bd3786"
             ],
             [
              0.5555555555555556,
              "#d8576b"
             ],
             [
              0.6666666666666666,
              "#ed7953"
             ],
             [
              0.7777777777777778,
              "#fb9f3a"
             ],
             [
              0.8888888888888888,
              "#fdca26"
             ],
             [
              1,
              "#f0f921"
             ]
            ],
            "type": "histogram2d"
           }
          ],
          "histogram2dcontour": [
           {
            "colorbar": {
             "outlinewidth": 0,
             "ticks": ""
            },
            "colorscale": [
             [
              0,
              "#0d0887"
             ],
             [
              0.1111111111111111,
              "#46039f"
             ],
             [
              0.2222222222222222,
              "#7201a8"
             ],
             [
              0.3333333333333333,
              "#9c179e"
             ],
             [
              0.4444444444444444,
              "#bd3786"
             ],
             [
              0.5555555555555556,
              "#d8576b"
             ],
             [
              0.6666666666666666,
              "#ed7953"
             ],
             [
              0.7777777777777778,
              "#fb9f3a"
             ],
             [
              0.8888888888888888,
              "#fdca26"
             ],
             [
              1,
              "#f0f921"
             ]
            ],
            "type": "histogram2dcontour"
           }
          ],
          "mesh3d": [
           {
            "colorbar": {
             "outlinewidth": 0,
             "ticks": ""
            },
            "type": "mesh3d"
           }
          ],
          "parcoords": [
           {
            "line": {
             "colorbar": {
              "outlinewidth": 0,
              "ticks": ""
             }
            },
            "type": "parcoords"
           }
          ],
          "pie": [
           {
            "automargin": true,
            "type": "pie"
           }
          ],
          "scatter": [
           {
            "fillpattern": {
             "fillmode": "overlay",
             "size": 10,
             "solidity": 0.2
            },
            "type": "scatter"
           }
          ],
          "scatter3d": [
           {
            "line": {
             "colorbar": {
              "outlinewidth": 0,
              "ticks": ""
             }
            },
            "marker": {
             "colorbar": {
              "outlinewidth": 0,
              "ticks": ""
             }
            },
            "type": "scatter3d"
           }
          ],
          "scattercarpet": [
           {
            "marker": {
             "colorbar": {
              "outlinewidth": 0,
              "ticks": ""
             }
            },
            "type": "scattercarpet"
           }
          ],
          "scattergeo": [
           {
            "marker": {
             "colorbar": {
              "outlinewidth": 0,
              "ticks": ""
             }
            },
            "type": "scattergeo"
           }
          ],
          "scattergl": [
           {
            "marker": {
             "colorbar": {
              "outlinewidth": 0,
              "ticks": ""
             }
            },
            "type": "scattergl"
           }
          ],
          "scattermapbox": [
           {
            "marker": {
             "colorbar": {
              "outlinewidth": 0,
              "ticks": ""
             }
            },
            "type": "scattermapbox"
           }
          ],
          "scatterpolar": [
           {
            "marker": {
             "colorbar": {
              "outlinewidth": 0,
              "ticks": ""
             }
            },
            "type": "scatterpolar"
           }
          ],
          "scatterpolargl": [
           {
            "marker": {
             "colorbar": {
              "outlinewidth": 0,
              "ticks": ""
             }
            },
            "type": "scatterpolargl"
           }
          ],
          "scatterternary": [
           {
            "marker": {
             "colorbar": {
              "outlinewidth": 0,
              "ticks": ""
             }
            },
            "type": "scatterternary"
           }
          ],
          "surface": [
           {
            "colorbar": {
             "outlinewidth": 0,
             "ticks": ""
            },
            "colorscale": [
             [
              0,
              "#0d0887"
             ],
             [
              0.1111111111111111,
              "#46039f"
             ],
             [
              0.2222222222222222,
              "#7201a8"
             ],
             [
              0.3333333333333333,
              "#9c179e"
             ],
             [
              0.4444444444444444,
              "#bd3786"
             ],
             [
              0.5555555555555556,
              "#d8576b"
             ],
             [
              0.6666666666666666,
              "#ed7953"
             ],
             [
              0.7777777777777778,
              "#fb9f3a"
             ],
             [
              0.8888888888888888,
              "#fdca26"
             ],
             [
              1,
              "#f0f921"
             ]
            ],
            "type": "surface"
           }
          ],
          "table": [
           {
            "cells": {
             "fill": {
              "color": "#EBF0F8"
             },
             "line": {
              "color": "white"
             }
            },
            "header": {
             "fill": {
              "color": "#C8D4E3"
             },
             "line": {
              "color": "white"
             }
            },
            "type": "table"
           }
          ]
         },
         "layout": {
          "annotationdefaults": {
           "arrowcolor": "#2a3f5f",
           "arrowhead": 0,
           "arrowwidth": 1
          },
          "autotypenumbers": "strict",
          "coloraxis": {
           "colorbar": {
            "outlinewidth": 0,
            "ticks": ""
           }
          },
          "colorscale": {
           "diverging": [
            [
             0,
             "#8e0152"
            ],
            [
             0.1,
             "#c51b7d"
            ],
            [
             0.2,
             "#de77ae"
            ],
            [
             0.3,
             "#f1b6da"
            ],
            [
             0.4,
             "#fde0ef"
            ],
            [
             0.5,
             "#f7f7f7"
            ],
            [
             0.6,
             "#e6f5d0"
            ],
            [
             0.7,
             "#b8e186"
            ],
            [
             0.8,
             "#7fbc41"
            ],
            [
             0.9,
             "#4d9221"
            ],
            [
             1,
             "#276419"
            ]
           ],
           "sequential": [
            [
             0,
             "#0d0887"
            ],
            [
             0.1111111111111111,
             "#46039f"
            ],
            [
             0.2222222222222222,
             "#7201a8"
            ],
            [
             0.3333333333333333,
             "#9c179e"
            ],
            [
             0.4444444444444444,
             "#bd3786"
            ],
            [
             0.5555555555555556,
             "#d8576b"
            ],
            [
             0.6666666666666666,
             "#ed7953"
            ],
            [
             0.7777777777777778,
             "#fb9f3a"
            ],
            [
             0.8888888888888888,
             "#fdca26"
            ],
            [
             1,
             "#f0f921"
            ]
           ],
           "sequentialminus": [
            [
             0,
             "#0d0887"
            ],
            [
             0.1111111111111111,
             "#46039f"
            ],
            [
             0.2222222222222222,
             "#7201a8"
            ],
            [
             0.3333333333333333,
             "#9c179e"
            ],
            [
             0.4444444444444444,
             "#bd3786"
            ],
            [
             0.5555555555555556,
             "#d8576b"
            ],
            [
             0.6666666666666666,
             "#ed7953"
            ],
            [
             0.7777777777777778,
             "#fb9f3a"
            ],
            [
             0.8888888888888888,
             "#fdca26"
            ],
            [
             1,
             "#f0f921"
            ]
           ]
          },
          "colorway": [
           "#636efa",
           "#EF553B",
           "#00cc96",
           "#ab63fa",
           "#FFA15A",
           "#19d3f3",
           "#FF6692",
           "#B6E880",
           "#FF97FF",
           "#FECB52"
          ],
          "font": {
           "color": "#2a3f5f"
          },
          "geo": {
           "bgcolor": "white",
           "lakecolor": "white",
           "landcolor": "#E5ECF6",
           "showlakes": true,
           "showland": true,
           "subunitcolor": "white"
          },
          "hoverlabel": {
           "align": "left"
          },
          "hovermode": "closest",
          "mapbox": {
           "style": "light"
          },
          "paper_bgcolor": "white",
          "plot_bgcolor": "#E5ECF6",
          "polar": {
           "angularaxis": {
            "gridcolor": "white",
            "linecolor": "white",
            "ticks": ""
           },
           "bgcolor": "#E5ECF6",
           "radialaxis": {
            "gridcolor": "white",
            "linecolor": "white",
            "ticks": ""
           }
          },
          "scene": {
           "xaxis": {
            "backgroundcolor": "#E5ECF6",
            "gridcolor": "white",
            "gridwidth": 2,
            "linecolor": "white",
            "showbackground": true,
            "ticks": "",
            "zerolinecolor": "white"
           },
           "yaxis": {
            "backgroundcolor": "#E5ECF6",
            "gridcolor": "white",
            "gridwidth": 2,
            "linecolor": "white",
            "showbackground": true,
            "ticks": "",
            "zerolinecolor": "white"
           },
           "zaxis": {
            "backgroundcolor": "#E5ECF6",
            "gridcolor": "white",
            "gridwidth": 2,
            "linecolor": "white",
            "showbackground": true,
            "ticks": "",
            "zerolinecolor": "white"
           }
          },
          "shapedefaults": {
           "line": {
            "color": "#2a3f5f"
           }
          },
          "ternary": {
           "aaxis": {
            "gridcolor": "white",
            "linecolor": "white",
            "ticks": ""
           },
           "baxis": {
            "gridcolor": "white",
            "linecolor": "white",
            "ticks": ""
           },
           "bgcolor": "#E5ECF6",
           "caxis": {
            "gridcolor": "white",
            "linecolor": "white",
            "ticks": ""
           }
          },
          "title": {
           "x": 0.05
          },
          "xaxis": {
           "automargin": true,
           "gridcolor": "white",
           "linecolor": "white",
           "ticks": "",
           "title": {
            "standoff": 15
           },
           "zerolinecolor": "white",
           "zerolinewidth": 2
          },
          "yaxis": {
           "automargin": true,
           "gridcolor": "white",
           "linecolor": "white",
           "ticks": "",
           "title": {
            "standoff": 15
           },
           "zerolinecolor": "white",
           "zerolinewidth": 2
          }
         }
        },
        "title": {
         "font": {
          "color": "#4D5663"
         },
         "text": "EVOLUCIÓN DE MUERTES POR SIDA EN ESPAÑA"
        },
        "xaxis": {
         "gridcolor": "#E1E5ED",
         "showgrid": true,
         "tickfont": {
          "color": "#4D5663"
         },
         "title": {
          "font": {
           "color": "#4D5663"
          },
          "text": "Periodo"
         },
         "zerolinecolor": "#E1E5ED"
        },
        "yaxis": {
         "gridcolor": "#E1E5ED",
         "showgrid": true,
         "tickfont": {
          "color": "#4D5663"
         },
         "title": {
          "font": {
           "color": "#4D5663"
          },
          "text": "Número de muertes"
         },
         "zerolinecolor": "#E1E5ED"
        }
       }
      },
      "text/html": [
       "<div>                            <div id=\"915408c9-acc1-40ce-9f8b-d6885e49fac3\" class=\"plotly-graph-div\" style=\"height:525px; width:100%;\"></div>            <script type=\"text/javascript\">                require([\"plotly\"], function(Plotly) {                    window.PLOTLYENV=window.PLOTLYENV || {};\n",
       "                    window.PLOTLYENV.BASE_URL='https://plot.ly';                                    if (document.getElementById(\"915408c9-acc1-40ce-9f8b-d6885e49fac3\")) {                    Plotly.newPlot(                        \"915408c9-acc1-40ce-9f8b-d6885e49fac3\",                        [{\"marker\":{\"color\":\"rgba(255, 153, 51, 0.6)\",\"line\":{\"color\":\"rgba(255, 153, 51, 1.0)\",\"width\":1}},\"name\":\"Total\",\"orientation\":\"v\",\"text\":\"\",\"x\":[1980,1981,1982,1983,1984,1985,1986,1987,1988,1989,1990,1991,1992,1993,1994,1995,1996,1997,1998,1999,2000,2001,2002,2003,2004,2005,2006,2007,2008,2009,2010,2011,2012,2013,2014,2015,2016,2017,2018],\"y\":[0,0,0,0,0,47,164,409,768,1288,1898,2503,3256,3980,4770,5551,5432,2844,1779,1802,1711,1632,1611,1632,1551,1450,1313,1307,1211,1079,1020,953,880,749,700,633,498,442,423],\"type\":\"bar\"}],                        {\"legend\":{\"bgcolor\":\"#F5F6F9\",\"font\":{\"color\":\"#4D5663\"}},\"paper_bgcolor\":\"#F5F6F9\",\"plot_bgcolor\":\"#F5F6F9\",\"template\":{\"data\":{\"barpolar\":[{\"marker\":{\"line\":{\"color\":\"#E5ECF6\",\"width\":0.5},\"pattern\":{\"fillmode\":\"overlay\",\"size\":10,\"solidity\":0.2}},\"type\":\"barpolar\"}],\"bar\":[{\"error_x\":{\"color\":\"#2a3f5f\"},\"error_y\":{\"color\":\"#2a3f5f\"},\"marker\":{\"line\":{\"color\":\"#E5ECF6\",\"width\":0.5},\"pattern\":{\"fillmode\":\"overlay\",\"size\":10,\"solidity\":0.2}},\"type\":\"bar\"}],\"carpet\":[{\"aaxis\":{\"endlinecolor\":\"#2a3f5f\",\"gridcolor\":\"white\",\"linecolor\":\"white\",\"minorgridcolor\":\"white\",\"startlinecolor\":\"#2a3f5f\"},\"baxis\":{\"endlinecolor\":\"#2a3f5f\",\"gridcolor\":\"white\",\"linecolor\":\"white\",\"minorgridcolor\":\"white\",\"startlinecolor\":\"#2a3f5f\"},\"type\":\"carpet\"}],\"choropleth\":[{\"colorbar\":{\"outlinewidth\":0,\"ticks\":\"\"},\"type\":\"choropleth\"}],\"contourcarpet\":[{\"colorbar\":{\"outlinewidth\":0,\"ticks\":\"\"},\"type\":\"contourcarpet\"}],\"contour\":[{\"colorbar\":{\"outlinewidth\":0,\"ticks\":\"\"},\"colorscale\":[[0.0,\"#0d0887\"],[0.1111111111111111,\"#46039f\"],[0.2222222222222222,\"#7201a8\"],[0.3333333333333333,\"#9c179e\"],[0.4444444444444444,\"#bd3786\"],[0.5555555555555556,\"#d8576b\"],[0.6666666666666666,\"#ed7953\"],[0.7777777777777778,\"#fb9f3a\"],[0.8888888888888888,\"#fdca26\"],[1.0,\"#f0f921\"]],\"type\":\"contour\"}],\"heatmapgl\":[{\"colorbar\":{\"outlinewidth\":0,\"ticks\":\"\"},\"colorscale\":[[0.0,\"#0d0887\"],[0.1111111111111111,\"#46039f\"],[0.2222222222222222,\"#7201a8\"],[0.3333333333333333,\"#9c179e\"],[0.4444444444444444,\"#bd3786\"],[0.5555555555555556,\"#d8576b\"],[0.6666666666666666,\"#ed7953\"],[0.7777777777777778,\"#fb9f3a\"],[0.8888888888888888,\"#fdca26\"],[1.0,\"#f0f921\"]],\"type\":\"heatmapgl\"}],\"heatmap\":[{\"colorbar\":{\"outlinewidth\":0,\"ticks\":\"\"},\"colorscale\":[[0.0,\"#0d0887\"],[0.1111111111111111,\"#46039f\"],[0.2222222222222222,\"#7201a8\"],[0.3333333333333333,\"#9c179e\"],[0.4444444444444444,\"#bd3786\"],[0.5555555555555556,\"#d8576b\"],[0.6666666666666666,\"#ed7953\"],[0.7777777777777778,\"#fb9f3a\"],[0.8888888888888888,\"#fdca26\"],[1.0,\"#f0f921\"]],\"type\":\"heatmap\"}],\"histogram2dcontour\":[{\"colorbar\":{\"outlinewidth\":0,\"ticks\":\"\"},\"colorscale\":[[0.0,\"#0d0887\"],[0.1111111111111111,\"#46039f\"],[0.2222222222222222,\"#7201a8\"],[0.3333333333333333,\"#9c179e\"],[0.4444444444444444,\"#bd3786\"],[0.5555555555555556,\"#d8576b\"],[0.6666666666666666,\"#ed7953\"],[0.7777777777777778,\"#fb9f3a\"],[0.8888888888888888,\"#fdca26\"],[1.0,\"#f0f921\"]],\"type\":\"histogram2dcontour\"}],\"histogram2d\":[{\"colorbar\":{\"outlinewidth\":0,\"ticks\":\"\"},\"colorscale\":[[0.0,\"#0d0887\"],[0.1111111111111111,\"#46039f\"],[0.2222222222222222,\"#7201a8\"],[0.3333333333333333,\"#9c179e\"],[0.4444444444444444,\"#bd3786\"],[0.5555555555555556,\"#d8576b\"],[0.6666666666666666,\"#ed7953\"],[0.7777777777777778,\"#fb9f3a\"],[0.8888888888888888,\"#fdca26\"],[1.0,\"#f0f921\"]],\"type\":\"histogram2d\"}],\"histogram\":[{\"marker\":{\"pattern\":{\"fillmode\":\"overlay\",\"size\":10,\"solidity\":0.2}},\"type\":\"histogram\"}],\"mesh3d\":[{\"colorbar\":{\"outlinewidth\":0,\"ticks\":\"\"},\"type\":\"mesh3d\"}],\"parcoords\":[{\"line\":{\"colorbar\":{\"outlinewidth\":0,\"ticks\":\"\"}},\"type\":\"parcoords\"}],\"pie\":[{\"automargin\":true,\"type\":\"pie\"}],\"scatter3d\":[{\"line\":{\"colorbar\":{\"outlinewidth\":0,\"ticks\":\"\"}},\"marker\":{\"colorbar\":{\"outlinewidth\":0,\"ticks\":\"\"}},\"type\":\"scatter3d\"}],\"scattercarpet\":[{\"marker\":{\"colorbar\":{\"outlinewidth\":0,\"ticks\":\"\"}},\"type\":\"scattercarpet\"}],\"scattergeo\":[{\"marker\":{\"colorbar\":{\"outlinewidth\":0,\"ticks\":\"\"}},\"type\":\"scattergeo\"}],\"scattergl\":[{\"marker\":{\"colorbar\":{\"outlinewidth\":0,\"ticks\":\"\"}},\"type\":\"scattergl\"}],\"scattermapbox\":[{\"marker\":{\"colorbar\":{\"outlinewidth\":0,\"ticks\":\"\"}},\"type\":\"scattermapbox\"}],\"scatterpolargl\":[{\"marker\":{\"colorbar\":{\"outlinewidth\":0,\"ticks\":\"\"}},\"type\":\"scatterpolargl\"}],\"scatterpolar\":[{\"marker\":{\"colorbar\":{\"outlinewidth\":0,\"ticks\":\"\"}},\"type\":\"scatterpolar\"}],\"scatter\":[{\"fillpattern\":{\"fillmode\":\"overlay\",\"size\":10,\"solidity\":0.2},\"type\":\"scatter\"}],\"scatterternary\":[{\"marker\":{\"colorbar\":{\"outlinewidth\":0,\"ticks\":\"\"}},\"type\":\"scatterternary\"}],\"surface\":[{\"colorbar\":{\"outlinewidth\":0,\"ticks\":\"\"},\"colorscale\":[[0.0,\"#0d0887\"],[0.1111111111111111,\"#46039f\"],[0.2222222222222222,\"#7201a8\"],[0.3333333333333333,\"#9c179e\"],[0.4444444444444444,\"#bd3786\"],[0.5555555555555556,\"#d8576b\"],[0.6666666666666666,\"#ed7953\"],[0.7777777777777778,\"#fb9f3a\"],[0.8888888888888888,\"#fdca26\"],[1.0,\"#f0f921\"]],\"type\":\"surface\"}],\"table\":[{\"cells\":{\"fill\":{\"color\":\"#EBF0F8\"},\"line\":{\"color\":\"white\"}},\"header\":{\"fill\":{\"color\":\"#C8D4E3\"},\"line\":{\"color\":\"white\"}},\"type\":\"table\"}]},\"layout\":{\"annotationdefaults\":{\"arrowcolor\":\"#2a3f5f\",\"arrowhead\":0,\"arrowwidth\":1},\"autotypenumbers\":\"strict\",\"coloraxis\":{\"colorbar\":{\"outlinewidth\":0,\"ticks\":\"\"}},\"colorscale\":{\"diverging\":[[0,\"#8e0152\"],[0.1,\"#c51b7d\"],[0.2,\"#de77ae\"],[0.3,\"#f1b6da\"],[0.4,\"#fde0ef\"],[0.5,\"#f7f7f7\"],[0.6,\"#e6f5d0\"],[0.7,\"#b8e186\"],[0.8,\"#7fbc41\"],[0.9,\"#4d9221\"],[1,\"#276419\"]],\"sequential\":[[0.0,\"#0d0887\"],[0.1111111111111111,\"#46039f\"],[0.2222222222222222,\"#7201a8\"],[0.3333333333333333,\"#9c179e\"],[0.4444444444444444,\"#bd3786\"],[0.5555555555555556,\"#d8576b\"],[0.6666666666666666,\"#ed7953\"],[0.7777777777777778,\"#fb9f3a\"],[0.8888888888888888,\"#fdca26\"],[1.0,\"#f0f921\"]],\"sequentialminus\":[[0.0,\"#0d0887\"],[0.1111111111111111,\"#46039f\"],[0.2222222222222222,\"#7201a8\"],[0.3333333333333333,\"#9c179e\"],[0.4444444444444444,\"#bd3786\"],[0.5555555555555556,\"#d8576b\"],[0.6666666666666666,\"#ed7953\"],[0.7777777777777778,\"#fb9f3a\"],[0.8888888888888888,\"#fdca26\"],[1.0,\"#f0f921\"]]},\"colorway\":[\"#636efa\",\"#EF553B\",\"#00cc96\",\"#ab63fa\",\"#FFA15A\",\"#19d3f3\",\"#FF6692\",\"#B6E880\",\"#FF97FF\",\"#FECB52\"],\"font\":{\"color\":\"#2a3f5f\"},\"geo\":{\"bgcolor\":\"white\",\"lakecolor\":\"white\",\"landcolor\":\"#E5ECF6\",\"showlakes\":true,\"showland\":true,\"subunitcolor\":\"white\"},\"hoverlabel\":{\"align\":\"left\"},\"hovermode\":\"closest\",\"mapbox\":{\"style\":\"light\"},\"paper_bgcolor\":\"white\",\"plot_bgcolor\":\"#E5ECF6\",\"polar\":{\"angularaxis\":{\"gridcolor\":\"white\",\"linecolor\":\"white\",\"ticks\":\"\"},\"bgcolor\":\"#E5ECF6\",\"radialaxis\":{\"gridcolor\":\"white\",\"linecolor\":\"white\",\"ticks\":\"\"}},\"scene\":{\"xaxis\":{\"backgroundcolor\":\"#E5ECF6\",\"gridcolor\":\"white\",\"gridwidth\":2,\"linecolor\":\"white\",\"showbackground\":true,\"ticks\":\"\",\"zerolinecolor\":\"white\"},\"yaxis\":{\"backgroundcolor\":\"#E5ECF6\",\"gridcolor\":\"white\",\"gridwidth\":2,\"linecolor\":\"white\",\"showbackground\":true,\"ticks\":\"\",\"zerolinecolor\":\"white\"},\"zaxis\":{\"backgroundcolor\":\"#E5ECF6\",\"gridcolor\":\"white\",\"gridwidth\":2,\"linecolor\":\"white\",\"showbackground\":true,\"ticks\":\"\",\"zerolinecolor\":\"white\"}},\"shapedefaults\":{\"line\":{\"color\":\"#2a3f5f\"}},\"ternary\":{\"aaxis\":{\"gridcolor\":\"white\",\"linecolor\":\"white\",\"ticks\":\"\"},\"baxis\":{\"gridcolor\":\"white\",\"linecolor\":\"white\",\"ticks\":\"\"},\"bgcolor\":\"#E5ECF6\",\"caxis\":{\"gridcolor\":\"white\",\"linecolor\":\"white\",\"ticks\":\"\"}},\"title\":{\"x\":0.05},\"xaxis\":{\"automargin\":true,\"gridcolor\":\"white\",\"linecolor\":\"white\",\"ticks\":\"\",\"title\":{\"standoff\":15},\"zerolinecolor\":\"white\",\"zerolinewidth\":2},\"yaxis\":{\"automargin\":true,\"gridcolor\":\"white\",\"linecolor\":\"white\",\"ticks\":\"\",\"title\":{\"standoff\":15},\"zerolinecolor\":\"white\",\"zerolinewidth\":2}}},\"title\":{\"font\":{\"color\":\"#4D5663\"},\"text\":\"EVOLUCI\\u00d3N DE MUERTES POR SIDA EN ESPA\\u00d1A\"},\"xaxis\":{\"gridcolor\":\"#E1E5ED\",\"showgrid\":true,\"tickfont\":{\"color\":\"#4D5663\"},\"title\":{\"font\":{\"color\":\"#4D5663\"},\"text\":\"Periodo\"},\"zerolinecolor\":\"#E1E5ED\"},\"yaxis\":{\"gridcolor\":\"#E1E5ED\",\"showgrid\":true,\"tickfont\":{\"color\":\"#4D5663\"},\"title\":{\"font\":{\"color\":\"#4D5663\"},\"text\":\"N\\u00famero de muertes\"},\"zerolinecolor\":\"#E1E5ED\"}},                        {\"showLink\": true, \"linkText\": \"Export to plot.ly\", \"plotlyServerURL\": \"https://plot.ly\", \"responsive\": true}                    ).then(function(){\n",
       "                            \n",
       "var gd = document.getElementById('915408c9-acc1-40ce-9f8b-d6885e49fac3');\n",
       "var x = new MutationObserver(function (mutations, observer) {{\n",
       "        var display = window.getComputedStyle(gd).display;\n",
       "        if (!display || display === 'none') {{\n",
       "            console.log([gd, 'removed!']);\n",
       "            Plotly.purge(gd);\n",
       "            observer.disconnect();\n",
       "        }}\n",
       "}});\n",
       "\n",
       "// Listen for the removal of the full notebook cells\n",
       "var notebookContainer = gd.closest('#notebook-container');\n",
       "if (notebookContainer) {{\n",
       "    x.observe(notebookContainer, {childList: true});\n",
       "}}\n",
       "\n",
       "// Listen for the clearing of the current output cell\n",
       "var outputEl = gd.closest('.output');\n",
       "if (outputEl) {{\n",
       "    x.observe(outputEl, {childList: true});\n",
       "}}\n",
       "\n",
       "                        })                };                });            </script>        </div>"
      ]
     },
     "metadata": {},
     "output_type": "display_data"
    }
   ],
   "source": [
    "muertes_sida_Todos.iplot(kind='bar',\n",
    "                  x='Periodo',\n",
    "                y='Total',\n",
    "                  xTitle='Periodo',\n",
    "                  yTitle='Número de muertes',\n",
    "                  title='EVOLUCIÓN DE MUERTES POR SIDA EN ESPAÑA')"
   ]
  },
  {
   "cell_type": "code",
   "execution_count": 24,
   "metadata": {
    "scrolled": false
   },
   "outputs": [
    {
     "data": {
      "application/vnd.plotly.v1+json": {
       "config": {
        "linkText": "Export to plot.ly",
        "plotlyServerURL": "https://plot.ly",
        "showLink": true
       },
       "data": [
        {
         "line": {
          "color": "rgba(255, 153, 51, 1.0)",
          "dash": "solid",
          "shape": "linear",
          "width": 1.3
         },
         "mode": "lines",
         "name": "Total",
         "text": "",
         "type": "scatter",
         "x": [
          1980,
          1981,
          1982,
          1983,
          1984,
          1985,
          1986,
          1987,
          1988,
          1989,
          1990,
          1991,
          1992,
          1993,
          1994,
          1995,
          1996,
          1997,
          1998,
          1999,
          2000,
          2001,
          2002,
          2003,
          2004,
          2005,
          2006,
          2007,
          2008,
          2009,
          2010,
          2011,
          2012,
          2013,
          2014,
          2015,
          2016,
          2017,
          2018
         ],
         "y": [
          0,
          0,
          0,
          0,
          0,
          47,
          164,
          409,
          768,
          1288,
          1898,
          2503,
          3256,
          3980,
          4770,
          5551,
          5432,
          2844,
          1779,
          1802,
          1711,
          1632,
          1611,
          1632,
          1551,
          1450,
          1313,
          1307,
          1211,
          1079,
          1020,
          953,
          880,
          749,
          700,
          633,
          498,
          442,
          423
         ]
        }
       ],
       "layout": {
        "legend": {
         "bgcolor": "#F5F6F9",
         "font": {
          "color": "#4D5663"
         }
        },
        "paper_bgcolor": "#F5F6F9",
        "plot_bgcolor": "#F5F6F9",
        "template": {
         "data": {
          "bar": [
           {
            "error_x": {
             "color": "#2a3f5f"
            },
            "error_y": {
             "color": "#2a3f5f"
            },
            "marker": {
             "line": {
              "color": "#E5ECF6",
              "width": 0.5
             },
             "pattern": {
              "fillmode": "overlay",
              "size": 10,
              "solidity": 0.2
             }
            },
            "type": "bar"
           }
          ],
          "barpolar": [
           {
            "marker": {
             "line": {
              "color": "#E5ECF6",
              "width": 0.5
             },
             "pattern": {
              "fillmode": "overlay",
              "size": 10,
              "solidity": 0.2
             }
            },
            "type": "barpolar"
           }
          ],
          "carpet": [
           {
            "aaxis": {
             "endlinecolor": "#2a3f5f",
             "gridcolor": "white",
             "linecolor": "white",
             "minorgridcolor": "white",
             "startlinecolor": "#2a3f5f"
            },
            "baxis": {
             "endlinecolor": "#2a3f5f",
             "gridcolor": "white",
             "linecolor": "white",
             "minorgridcolor": "white",
             "startlinecolor": "#2a3f5f"
            },
            "type": "carpet"
           }
          ],
          "choropleth": [
           {
            "colorbar": {
             "outlinewidth": 0,
             "ticks": ""
            },
            "type": "choropleth"
           }
          ],
          "contour": [
           {
            "colorbar": {
             "outlinewidth": 0,
             "ticks": ""
            },
            "colorscale": [
             [
              0,
              "#0d0887"
             ],
             [
              0.1111111111111111,
              "#46039f"
             ],
             [
              0.2222222222222222,
              "#7201a8"
             ],
             [
              0.3333333333333333,
              "#9c179e"
             ],
             [
              0.4444444444444444,
              "#bd3786"
             ],
             [
              0.5555555555555556,
              "#d8576b"
             ],
             [
              0.6666666666666666,
              "#ed7953"
             ],
             [
              0.7777777777777778,
              "#fb9f3a"
             ],
             [
              0.8888888888888888,
              "#fdca26"
             ],
             [
              1,
              "#f0f921"
             ]
            ],
            "type": "contour"
           }
          ],
          "contourcarpet": [
           {
            "colorbar": {
             "outlinewidth": 0,
             "ticks": ""
            },
            "type": "contourcarpet"
           }
          ],
          "heatmap": [
           {
            "colorbar": {
             "outlinewidth": 0,
             "ticks": ""
            },
            "colorscale": [
             [
              0,
              "#0d0887"
             ],
             [
              0.1111111111111111,
              "#46039f"
             ],
             [
              0.2222222222222222,
              "#7201a8"
             ],
             [
              0.3333333333333333,
              "#9c179e"
             ],
             [
              0.4444444444444444,
              "#bd3786"
             ],
             [
              0.5555555555555556,
              "#d8576b"
             ],
             [
              0.6666666666666666,
              "#ed7953"
             ],
             [
              0.7777777777777778,
              "#fb9f3a"
             ],
             [
              0.8888888888888888,
              "#fdca26"
             ],
             [
              1,
              "#f0f921"
             ]
            ],
            "type": "heatmap"
           }
          ],
          "heatmapgl": [
           {
            "colorbar": {
             "outlinewidth": 0,
             "ticks": ""
            },
            "colorscale": [
             [
              0,
              "#0d0887"
             ],
             [
              0.1111111111111111,
              "#46039f"
             ],
             [
              0.2222222222222222,
              "#7201a8"
             ],
             [
              0.3333333333333333,
              "#9c179e"
             ],
             [
              0.4444444444444444,
              "#bd3786"
             ],
             [
              0.5555555555555556,
              "#d8576b"
             ],
             [
              0.6666666666666666,
              "#ed7953"
             ],
             [
              0.7777777777777778,
              "#fb9f3a"
             ],
             [
              0.8888888888888888,
              "#fdca26"
             ],
             [
              1,
              "#f0f921"
             ]
            ],
            "type": "heatmapgl"
           }
          ],
          "histogram": [
           {
            "marker": {
             "pattern": {
              "fillmode": "overlay",
              "size": 10,
              "solidity": 0.2
             }
            },
            "type": "histogram"
           }
          ],
          "histogram2d": [
           {
            "colorbar": {
             "outlinewidth": 0,
             "ticks": ""
            },
            "colorscale": [
             [
              0,
              "#0d0887"
             ],
             [
              0.1111111111111111,
              "#46039f"
             ],
             [
              0.2222222222222222,
              "#7201a8"
             ],
             [
              0.3333333333333333,
              "#9c179e"
             ],
             [
              0.4444444444444444,
              "#bd3786"
             ],
             [
              0.5555555555555556,
              "#d8576b"
             ],
             [
              0.6666666666666666,
              "#ed7953"
             ],
             [
              0.7777777777777778,
              "#fb9f3a"
             ],
             [
              0.8888888888888888,
              "#fdca26"
             ],
             [
              1,
              "#f0f921"
             ]
            ],
            "type": "histogram2d"
           }
          ],
          "histogram2dcontour": [
           {
            "colorbar": {
             "outlinewidth": 0,
             "ticks": ""
            },
            "colorscale": [
             [
              0,
              "#0d0887"
             ],
             [
              0.1111111111111111,
              "#46039f"
             ],
             [
              0.2222222222222222,
              "#7201a8"
             ],
             [
              0.3333333333333333,
              "#9c179e"
             ],
             [
              0.4444444444444444,
              "#bd3786"
             ],
             [
              0.5555555555555556,
              "#d8576b"
             ],
             [
              0.6666666666666666,
              "#ed7953"
             ],
             [
              0.7777777777777778,
              "#fb9f3a"
             ],
             [
              0.8888888888888888,
              "#fdca26"
             ],
             [
              1,
              "#f0f921"
             ]
            ],
            "type": "histogram2dcontour"
           }
          ],
          "mesh3d": [
           {
            "colorbar": {
             "outlinewidth": 0,
             "ticks": ""
            },
            "type": "mesh3d"
           }
          ],
          "parcoords": [
           {
            "line": {
             "colorbar": {
              "outlinewidth": 0,
              "ticks": ""
             }
            },
            "type": "parcoords"
           }
          ],
          "pie": [
           {
            "automargin": true,
            "type": "pie"
           }
          ],
          "scatter": [
           {
            "fillpattern": {
             "fillmode": "overlay",
             "size": 10,
             "solidity": 0.2
            },
            "type": "scatter"
           }
          ],
          "scatter3d": [
           {
            "line": {
             "colorbar": {
              "outlinewidth": 0,
              "ticks": ""
             }
            },
            "marker": {
             "colorbar": {
              "outlinewidth": 0,
              "ticks": ""
             }
            },
            "type": "scatter3d"
           }
          ],
          "scattercarpet": [
           {
            "marker": {
             "colorbar": {
              "outlinewidth": 0,
              "ticks": ""
             }
            },
            "type": "scattercarpet"
           }
          ],
          "scattergeo": [
           {
            "marker": {
             "colorbar": {
              "outlinewidth": 0,
              "ticks": ""
             }
            },
            "type": "scattergeo"
           }
          ],
          "scattergl": [
           {
            "marker": {
             "colorbar": {
              "outlinewidth": 0,
              "ticks": ""
             }
            },
            "type": "scattergl"
           }
          ],
          "scattermapbox": [
           {
            "marker": {
             "colorbar": {
              "outlinewidth": 0,
              "ticks": ""
             }
            },
            "type": "scattermapbox"
           }
          ],
          "scatterpolar": [
           {
            "marker": {
             "colorbar": {
              "outlinewidth": 0,
              "ticks": ""
             }
            },
            "type": "scatterpolar"
           }
          ],
          "scatterpolargl": [
           {
            "marker": {
             "colorbar": {
              "outlinewidth": 0,
              "ticks": ""
             }
            },
            "type": "scatterpolargl"
           }
          ],
          "scatterternary": [
           {
            "marker": {
             "colorbar": {
              "outlinewidth": 0,
              "ticks": ""
             }
            },
            "type": "scatterternary"
           }
          ],
          "surface": [
           {
            "colorbar": {
             "outlinewidth": 0,
             "ticks": ""
            },
            "colorscale": [
             [
              0,
              "#0d0887"
             ],
             [
              0.1111111111111111,
              "#46039f"
             ],
             [
              0.2222222222222222,
              "#7201a8"
             ],
             [
              0.3333333333333333,
              "#9c179e"
             ],
             [
              0.4444444444444444,
              "#bd3786"
             ],
             [
              0.5555555555555556,
              "#d8576b"
             ],
             [
              0.6666666666666666,
              "#ed7953"
             ],
             [
              0.7777777777777778,
              "#fb9f3a"
             ],
             [
              0.8888888888888888,
              "#fdca26"
             ],
             [
              1,
              "#f0f921"
             ]
            ],
            "type": "surface"
           }
          ],
          "table": [
           {
            "cells": {
             "fill": {
              "color": "#EBF0F8"
             },
             "line": {
              "color": "white"
             }
            },
            "header": {
             "fill": {
              "color": "#C8D4E3"
             },
             "line": {
              "color": "white"
             }
            },
            "type": "table"
           }
          ]
         },
         "layout": {
          "annotationdefaults": {
           "arrowcolor": "#2a3f5f",
           "arrowhead": 0,
           "arrowwidth": 1
          },
          "autotypenumbers": "strict",
          "coloraxis": {
           "colorbar": {
            "outlinewidth": 0,
            "ticks": ""
           }
          },
          "colorscale": {
           "diverging": [
            [
             0,
             "#8e0152"
            ],
            [
             0.1,
             "#c51b7d"
            ],
            [
             0.2,
             "#de77ae"
            ],
            [
             0.3,
             "#f1b6da"
            ],
            [
             0.4,
             "#fde0ef"
            ],
            [
             0.5,
             "#f7f7f7"
            ],
            [
             0.6,
             "#e6f5d0"
            ],
            [
             0.7,
             "#b8e186"
            ],
            [
             0.8,
             "#7fbc41"
            ],
            [
             0.9,
             "#4d9221"
            ],
            [
             1,
             "#276419"
            ]
           ],
           "sequential": [
            [
             0,
             "#0d0887"
            ],
            [
             0.1111111111111111,
             "#46039f"
            ],
            [
             0.2222222222222222,
             "#7201a8"
            ],
            [
             0.3333333333333333,
             "#9c179e"
            ],
            [
             0.4444444444444444,
             "#bd3786"
            ],
            [
             0.5555555555555556,
             "#d8576b"
            ],
            [
             0.6666666666666666,
             "#ed7953"
            ],
            [
             0.7777777777777778,
             "#fb9f3a"
            ],
            [
             0.8888888888888888,
             "#fdca26"
            ],
            [
             1,
             "#f0f921"
            ]
           ],
           "sequentialminus": [
            [
             0,
             "#0d0887"
            ],
            [
             0.1111111111111111,
             "#46039f"
            ],
            [
             0.2222222222222222,
             "#7201a8"
            ],
            [
             0.3333333333333333,
             "#9c179e"
            ],
            [
             0.4444444444444444,
             "#bd3786"
            ],
            [
             0.5555555555555556,
             "#d8576b"
            ],
            [
             0.6666666666666666,
             "#ed7953"
            ],
            [
             0.7777777777777778,
             "#fb9f3a"
            ],
            [
             0.8888888888888888,
             "#fdca26"
            ],
            [
             1,
             "#f0f921"
            ]
           ]
          },
          "colorway": [
           "#636efa",
           "#EF553B",
           "#00cc96",
           "#ab63fa",
           "#FFA15A",
           "#19d3f3",
           "#FF6692",
           "#B6E880",
           "#FF97FF",
           "#FECB52"
          ],
          "font": {
           "color": "#2a3f5f"
          },
          "geo": {
           "bgcolor": "white",
           "lakecolor": "white",
           "landcolor": "#E5ECF6",
           "showlakes": true,
           "showland": true,
           "subunitcolor": "white"
          },
          "hoverlabel": {
           "align": "left"
          },
          "hovermode": "closest",
          "mapbox": {
           "style": "light"
          },
          "paper_bgcolor": "white",
          "plot_bgcolor": "#E5ECF6",
          "polar": {
           "angularaxis": {
            "gridcolor": "white",
            "linecolor": "white",
            "ticks": ""
           },
           "bgcolor": "#E5ECF6",
           "radialaxis": {
            "gridcolor": "white",
            "linecolor": "white",
            "ticks": ""
           }
          },
          "scene": {
           "xaxis": {
            "backgroundcolor": "#E5ECF6",
            "gridcolor": "white",
            "gridwidth": 2,
            "linecolor": "white",
            "showbackground": true,
            "ticks": "",
            "zerolinecolor": "white"
           },
           "yaxis": {
            "backgroundcolor": "#E5ECF6",
            "gridcolor": "white",
            "gridwidth": 2,
            "linecolor": "white",
            "showbackground": true,
            "ticks": "",
            "zerolinecolor": "white"
           },
           "zaxis": {
            "backgroundcolor": "#E5ECF6",
            "gridcolor": "white",
            "gridwidth": 2,
            "linecolor": "white",
            "showbackground": true,
            "ticks": "",
            "zerolinecolor": "white"
           }
          },
          "shapedefaults": {
           "line": {
            "color": "#2a3f5f"
           }
          },
          "ternary": {
           "aaxis": {
            "gridcolor": "white",
            "linecolor": "white",
            "ticks": ""
           },
           "baxis": {
            "gridcolor": "white",
            "linecolor": "white",
            "ticks": ""
           },
           "bgcolor": "#E5ECF6",
           "caxis": {
            "gridcolor": "white",
            "linecolor": "white",
            "ticks": ""
           }
          },
          "title": {
           "x": 0.05
          },
          "xaxis": {
           "automargin": true,
           "gridcolor": "white",
           "linecolor": "white",
           "ticks": "",
           "title": {
            "standoff": 15
           },
           "zerolinecolor": "white",
           "zerolinewidth": 2
          },
          "yaxis": {
           "automargin": true,
           "gridcolor": "white",
           "linecolor": "white",
           "ticks": "",
           "title": {
            "standoff": 15
           },
           "zerolinecolor": "white",
           "zerolinewidth": 2
          }
         }
        },
        "title": {
         "font": {
          "color": "#4D5663"
         },
         "text": "MUERTES POR SIDA"
        },
        "xaxis": {
         "gridcolor": "#E1E5ED",
         "showgrid": true,
         "tickfont": {
          "color": "#4D5663"
         },
         "title": {
          "font": {
           "color": "#4D5663"
          },
          "text": "Periodo"
         },
         "zerolinecolor": "#E1E5ED"
        },
        "yaxis": {
         "gridcolor": "#E1E5ED",
         "showgrid": true,
         "tickfont": {
          "color": "#4D5663"
         },
         "title": {
          "font": {
           "color": "#4D5663"
          },
          "text": "Número de muertes"
         },
         "zerolinecolor": "#E1E5ED"
        }
       }
      },
      "text/html": [
       "<div>                            <div id=\"320b889b-55aa-48eb-8d6f-b15e28481437\" class=\"plotly-graph-div\" style=\"height:525px; width:100%;\"></div>            <script type=\"text/javascript\">                require([\"plotly\"], function(Plotly) {                    window.PLOTLYENV=window.PLOTLYENV || {};\n",
       "                    window.PLOTLYENV.BASE_URL='https://plot.ly';                                    if (document.getElementById(\"320b889b-55aa-48eb-8d6f-b15e28481437\")) {                    Plotly.newPlot(                        \"320b889b-55aa-48eb-8d6f-b15e28481437\",                        [{\"line\":{\"color\":\"rgba(255, 153, 51, 1.0)\",\"dash\":\"solid\",\"shape\":\"linear\",\"width\":1.3},\"mode\":\"lines\",\"name\":\"Total\",\"text\":\"\",\"x\":[1980,1981,1982,1983,1984,1985,1986,1987,1988,1989,1990,1991,1992,1993,1994,1995,1996,1997,1998,1999,2000,2001,2002,2003,2004,2005,2006,2007,2008,2009,2010,2011,2012,2013,2014,2015,2016,2017,2018],\"y\":[0,0,0,0,0,47,164,409,768,1288,1898,2503,3256,3980,4770,5551,5432,2844,1779,1802,1711,1632,1611,1632,1551,1450,1313,1307,1211,1079,1020,953,880,749,700,633,498,442,423],\"type\":\"scatter\"}],                        {\"legend\":{\"bgcolor\":\"#F5F6F9\",\"font\":{\"color\":\"#4D5663\"}},\"paper_bgcolor\":\"#F5F6F9\",\"plot_bgcolor\":\"#F5F6F9\",\"template\":{\"data\":{\"barpolar\":[{\"marker\":{\"line\":{\"color\":\"#E5ECF6\",\"width\":0.5},\"pattern\":{\"fillmode\":\"overlay\",\"size\":10,\"solidity\":0.2}},\"type\":\"barpolar\"}],\"bar\":[{\"error_x\":{\"color\":\"#2a3f5f\"},\"error_y\":{\"color\":\"#2a3f5f\"},\"marker\":{\"line\":{\"color\":\"#E5ECF6\",\"width\":0.5},\"pattern\":{\"fillmode\":\"overlay\",\"size\":10,\"solidity\":0.2}},\"type\":\"bar\"}],\"carpet\":[{\"aaxis\":{\"endlinecolor\":\"#2a3f5f\",\"gridcolor\":\"white\",\"linecolor\":\"white\",\"minorgridcolor\":\"white\",\"startlinecolor\":\"#2a3f5f\"},\"baxis\":{\"endlinecolor\":\"#2a3f5f\",\"gridcolor\":\"white\",\"linecolor\":\"white\",\"minorgridcolor\":\"white\",\"startlinecolor\":\"#2a3f5f\"},\"type\":\"carpet\"}],\"choropleth\":[{\"colorbar\":{\"outlinewidth\":0,\"ticks\":\"\"},\"type\":\"choropleth\"}],\"contourcarpet\":[{\"colorbar\":{\"outlinewidth\":0,\"ticks\":\"\"},\"type\":\"contourcarpet\"}],\"contour\":[{\"colorbar\":{\"outlinewidth\":0,\"ticks\":\"\"},\"colorscale\":[[0.0,\"#0d0887\"],[0.1111111111111111,\"#46039f\"],[0.2222222222222222,\"#7201a8\"],[0.3333333333333333,\"#9c179e\"],[0.4444444444444444,\"#bd3786\"],[0.5555555555555556,\"#d8576b\"],[0.6666666666666666,\"#ed7953\"],[0.7777777777777778,\"#fb9f3a\"],[0.8888888888888888,\"#fdca26\"],[1.0,\"#f0f921\"]],\"type\":\"contour\"}],\"heatmapgl\":[{\"colorbar\":{\"outlinewidth\":0,\"ticks\":\"\"},\"colorscale\":[[0.0,\"#0d0887\"],[0.1111111111111111,\"#46039f\"],[0.2222222222222222,\"#7201a8\"],[0.3333333333333333,\"#9c179e\"],[0.4444444444444444,\"#bd3786\"],[0.5555555555555556,\"#d8576b\"],[0.6666666666666666,\"#ed7953\"],[0.7777777777777778,\"#fb9f3a\"],[0.8888888888888888,\"#fdca26\"],[1.0,\"#f0f921\"]],\"type\":\"heatmapgl\"}],\"heatmap\":[{\"colorbar\":{\"outlinewidth\":0,\"ticks\":\"\"},\"colorscale\":[[0.0,\"#0d0887\"],[0.1111111111111111,\"#46039f\"],[0.2222222222222222,\"#7201a8\"],[0.3333333333333333,\"#9c179e\"],[0.4444444444444444,\"#bd3786\"],[0.5555555555555556,\"#d8576b\"],[0.6666666666666666,\"#ed7953\"],[0.7777777777777778,\"#fb9f3a\"],[0.8888888888888888,\"#fdca26\"],[1.0,\"#f0f921\"]],\"type\":\"heatmap\"}],\"histogram2dcontour\":[{\"colorbar\":{\"outlinewidth\":0,\"ticks\":\"\"},\"colorscale\":[[0.0,\"#0d0887\"],[0.1111111111111111,\"#46039f\"],[0.2222222222222222,\"#7201a8\"],[0.3333333333333333,\"#9c179e\"],[0.4444444444444444,\"#bd3786\"],[0.5555555555555556,\"#d8576b\"],[0.6666666666666666,\"#ed7953\"],[0.7777777777777778,\"#fb9f3a\"],[0.8888888888888888,\"#fdca26\"],[1.0,\"#f0f921\"]],\"type\":\"histogram2dcontour\"}],\"histogram2d\":[{\"colorbar\":{\"outlinewidth\":0,\"ticks\":\"\"},\"colorscale\":[[0.0,\"#0d0887\"],[0.1111111111111111,\"#46039f\"],[0.2222222222222222,\"#7201a8\"],[0.3333333333333333,\"#9c179e\"],[0.4444444444444444,\"#bd3786\"],[0.5555555555555556,\"#d8576b\"],[0.6666666666666666,\"#ed7953\"],[0.7777777777777778,\"#fb9f3a\"],[0.8888888888888888,\"#fdca26\"],[1.0,\"#f0f921\"]],\"type\":\"histogram2d\"}],\"histogram\":[{\"marker\":{\"pattern\":{\"fillmode\":\"overlay\",\"size\":10,\"solidity\":0.2}},\"type\":\"histogram\"}],\"mesh3d\":[{\"colorbar\":{\"outlinewidth\":0,\"ticks\":\"\"},\"type\":\"mesh3d\"}],\"parcoords\":[{\"line\":{\"colorbar\":{\"outlinewidth\":0,\"ticks\":\"\"}},\"type\":\"parcoords\"}],\"pie\":[{\"automargin\":true,\"type\":\"pie\"}],\"scatter3d\":[{\"line\":{\"colorbar\":{\"outlinewidth\":0,\"ticks\":\"\"}},\"marker\":{\"colorbar\":{\"outlinewidth\":0,\"ticks\":\"\"}},\"type\":\"scatter3d\"}],\"scattercarpet\":[{\"marker\":{\"colorbar\":{\"outlinewidth\":0,\"ticks\":\"\"}},\"type\":\"scattercarpet\"}],\"scattergeo\":[{\"marker\":{\"colorbar\":{\"outlinewidth\":0,\"ticks\":\"\"}},\"type\":\"scattergeo\"}],\"scattergl\":[{\"marker\":{\"colorbar\":{\"outlinewidth\":0,\"ticks\":\"\"}},\"type\":\"scattergl\"}],\"scattermapbox\":[{\"marker\":{\"colorbar\":{\"outlinewidth\":0,\"ticks\":\"\"}},\"type\":\"scattermapbox\"}],\"scatterpolargl\":[{\"marker\":{\"colorbar\":{\"outlinewidth\":0,\"ticks\":\"\"}},\"type\":\"scatterpolargl\"}],\"scatterpolar\":[{\"marker\":{\"colorbar\":{\"outlinewidth\":0,\"ticks\":\"\"}},\"type\":\"scatterpolar\"}],\"scatter\":[{\"fillpattern\":{\"fillmode\":\"overlay\",\"size\":10,\"solidity\":0.2},\"type\":\"scatter\"}],\"scatterternary\":[{\"marker\":{\"colorbar\":{\"outlinewidth\":0,\"ticks\":\"\"}},\"type\":\"scatterternary\"}],\"surface\":[{\"colorbar\":{\"outlinewidth\":0,\"ticks\":\"\"},\"colorscale\":[[0.0,\"#0d0887\"],[0.1111111111111111,\"#46039f\"],[0.2222222222222222,\"#7201a8\"],[0.3333333333333333,\"#9c179e\"],[0.4444444444444444,\"#bd3786\"],[0.5555555555555556,\"#d8576b\"],[0.6666666666666666,\"#ed7953\"],[0.7777777777777778,\"#fb9f3a\"],[0.8888888888888888,\"#fdca26\"],[1.0,\"#f0f921\"]],\"type\":\"surface\"}],\"table\":[{\"cells\":{\"fill\":{\"color\":\"#EBF0F8\"},\"line\":{\"color\":\"white\"}},\"header\":{\"fill\":{\"color\":\"#C8D4E3\"},\"line\":{\"color\":\"white\"}},\"type\":\"table\"}]},\"layout\":{\"annotationdefaults\":{\"arrowcolor\":\"#2a3f5f\",\"arrowhead\":0,\"arrowwidth\":1},\"autotypenumbers\":\"strict\",\"coloraxis\":{\"colorbar\":{\"outlinewidth\":0,\"ticks\":\"\"}},\"colorscale\":{\"diverging\":[[0,\"#8e0152\"],[0.1,\"#c51b7d\"],[0.2,\"#de77ae\"],[0.3,\"#f1b6da\"],[0.4,\"#fde0ef\"],[0.5,\"#f7f7f7\"],[0.6,\"#e6f5d0\"],[0.7,\"#b8e186\"],[0.8,\"#7fbc41\"],[0.9,\"#4d9221\"],[1,\"#276419\"]],\"sequential\":[[0.0,\"#0d0887\"],[0.1111111111111111,\"#46039f\"],[0.2222222222222222,\"#7201a8\"],[0.3333333333333333,\"#9c179e\"],[0.4444444444444444,\"#bd3786\"],[0.5555555555555556,\"#d8576b\"],[0.6666666666666666,\"#ed7953\"],[0.7777777777777778,\"#fb9f3a\"],[0.8888888888888888,\"#fdca26\"],[1.0,\"#f0f921\"]],\"sequentialminus\":[[0.0,\"#0d0887\"],[0.1111111111111111,\"#46039f\"],[0.2222222222222222,\"#7201a8\"],[0.3333333333333333,\"#9c179e\"],[0.4444444444444444,\"#bd3786\"],[0.5555555555555556,\"#d8576b\"],[0.6666666666666666,\"#ed7953\"],[0.7777777777777778,\"#fb9f3a\"],[0.8888888888888888,\"#fdca26\"],[1.0,\"#f0f921\"]]},\"colorway\":[\"#636efa\",\"#EF553B\",\"#00cc96\",\"#ab63fa\",\"#FFA15A\",\"#19d3f3\",\"#FF6692\",\"#B6E880\",\"#FF97FF\",\"#FECB52\"],\"font\":{\"color\":\"#2a3f5f\"},\"geo\":{\"bgcolor\":\"white\",\"lakecolor\":\"white\",\"landcolor\":\"#E5ECF6\",\"showlakes\":true,\"showland\":true,\"subunitcolor\":\"white\"},\"hoverlabel\":{\"align\":\"left\"},\"hovermode\":\"closest\",\"mapbox\":{\"style\":\"light\"},\"paper_bgcolor\":\"white\",\"plot_bgcolor\":\"#E5ECF6\",\"polar\":{\"angularaxis\":{\"gridcolor\":\"white\",\"linecolor\":\"white\",\"ticks\":\"\"},\"bgcolor\":\"#E5ECF6\",\"radialaxis\":{\"gridcolor\":\"white\",\"linecolor\":\"white\",\"ticks\":\"\"}},\"scene\":{\"xaxis\":{\"backgroundcolor\":\"#E5ECF6\",\"gridcolor\":\"white\",\"gridwidth\":2,\"linecolor\":\"white\",\"showbackground\":true,\"ticks\":\"\",\"zerolinecolor\":\"white\"},\"yaxis\":{\"backgroundcolor\":\"#E5ECF6\",\"gridcolor\":\"white\",\"gridwidth\":2,\"linecolor\":\"white\",\"showbackground\":true,\"ticks\":\"\",\"zerolinecolor\":\"white\"},\"zaxis\":{\"backgroundcolor\":\"#E5ECF6\",\"gridcolor\":\"white\",\"gridwidth\":2,\"linecolor\":\"white\",\"showbackground\":true,\"ticks\":\"\",\"zerolinecolor\":\"white\"}},\"shapedefaults\":{\"line\":{\"color\":\"#2a3f5f\"}},\"ternary\":{\"aaxis\":{\"gridcolor\":\"white\",\"linecolor\":\"white\",\"ticks\":\"\"},\"baxis\":{\"gridcolor\":\"white\",\"linecolor\":\"white\",\"ticks\":\"\"},\"bgcolor\":\"#E5ECF6\",\"caxis\":{\"gridcolor\":\"white\",\"linecolor\":\"white\",\"ticks\":\"\"}},\"title\":{\"x\":0.05},\"xaxis\":{\"automargin\":true,\"gridcolor\":\"white\",\"linecolor\":\"white\",\"ticks\":\"\",\"title\":{\"standoff\":15},\"zerolinecolor\":\"white\",\"zerolinewidth\":2},\"yaxis\":{\"automargin\":true,\"gridcolor\":\"white\",\"linecolor\":\"white\",\"ticks\":\"\",\"title\":{\"standoff\":15},\"zerolinecolor\":\"white\",\"zerolinewidth\":2}}},\"title\":{\"font\":{\"color\":\"#4D5663\"},\"text\":\"MUERTES POR SIDA\"},\"xaxis\":{\"gridcolor\":\"#E1E5ED\",\"showgrid\":true,\"tickfont\":{\"color\":\"#4D5663\"},\"title\":{\"font\":{\"color\":\"#4D5663\"},\"text\":\"Periodo\"},\"zerolinecolor\":\"#E1E5ED\"},\"yaxis\":{\"gridcolor\":\"#E1E5ED\",\"showgrid\":true,\"tickfont\":{\"color\":\"#4D5663\"},\"title\":{\"font\":{\"color\":\"#4D5663\"},\"text\":\"N\\u00famero de muertes\"},\"zerolinecolor\":\"#E1E5ED\"}},                        {\"showLink\": true, \"linkText\": \"Export to plot.ly\", \"plotlyServerURL\": \"https://plot.ly\", \"responsive\": true}                    ).then(function(){\n",
       "                            \n",
       "var gd = document.getElementById('320b889b-55aa-48eb-8d6f-b15e28481437');\n",
       "var x = new MutationObserver(function (mutations, observer) {{\n",
       "        var display = window.getComputedStyle(gd).display;\n",
       "        if (!display || display === 'none') {{\n",
       "            console.log([gd, 'removed!']);\n",
       "            Plotly.purge(gd);\n",
       "            observer.disconnect();\n",
       "        }}\n",
       "}});\n",
       "\n",
       "// Listen for the removal of the full notebook cells\n",
       "var notebookContainer = gd.closest('#notebook-container');\n",
       "if (notebookContainer) {{\n",
       "    x.observe(notebookContainer, {childList: true});\n",
       "}}\n",
       "\n",
       "// Listen for the clearing of the current output cell\n",
       "var outputEl = gd.closest('.output');\n",
       "if (outputEl) {{\n",
       "    x.observe(outputEl, {childList: true});\n",
       "}}\n",
       "\n",
       "                        })                };                });            </script>        </div>"
      ]
     },
     "metadata": {},
     "output_type": "display_data"
    }
   ],
   "source": [
    "muertes_sida_Todos.iplot(kind='line',\n",
    "                    x='Periodo',\n",
    "                y='Total',\n",
    "                  xTitle='Periodo',\n",
    "                  yTitle='Número de muertes',\n",
    "                  title='MUERTES POR SIDA')"
   ]
  },
  {
   "cell_type": "markdown",
   "metadata": {},
   "source": [
    "# EVOLUCIÓN DE MUERTES POR SIDA EN HOMBRES Y MUJERES"
   ]
  },
  {
   "cell_type": "code",
   "execution_count": 21,
   "metadata": {
    "scrolled": false
   },
   "outputs": [
    {
     "data": {
      "application/vnd.plotly.v1+json": {
       "config": {
        "plotlyServerURL": "https://plot.ly"
       },
       "data": [
        {
         "alignmentgroup": "True",
         "hovertemplate": "Sexo=Mujeres<br>Periodo=%{x}<br>Total=%{y}<extra></extra>",
         "legendgroup": "Mujeres",
         "marker": {
          "color": "#636efa",
          "pattern": {
           "shape": ""
          }
         },
         "name": "Mujeres",
         "offsetgroup": "Mujeres",
         "orientation": "v",
         "showlegend": true,
         "textposition": "auto",
         "type": "bar",
         "x": [
          1980,
          1981,
          1982,
          1983,
          1984,
          1985,
          1986,
          1987,
          1988,
          1989,
          1990,
          1991,
          1992,
          1993,
          1994,
          1995,
          1996,
          1997,
          1998,
          1999,
          2000,
          2001,
          2002,
          2003,
          2004,
          2005,
          2006,
          2007,
          2008,
          2009,
          2010,
          2011,
          2012,
          2013,
          2014,
          2015,
          2016,
          2017,
          2018
         ],
         "xaxis": "x",
         "y": [
          0,
          0,
          0,
          0,
          0,
          3,
          29,
          75,
          121,
          230,
          322,
          388,
          550,
          761,
          920,
          1042,
          1077,
          508,
          303,
          314,
          320,
          336,
          294,
          343,
          280,
          282,
          278,
          248,
          264,
          226,
          207,
          197,
          205,
          146,
          169,
          120,
          113,
          100,
          81
         ],
         "yaxis": "y"
        },
        {
         "alignmentgroup": "True",
         "hovertemplate": "Sexo=Hombres<br>Periodo=%{x}<br>Total=%{y}<extra></extra>",
         "legendgroup": "Hombres",
         "marker": {
          "color": "#EF553B",
          "pattern": {
           "shape": ""
          }
         },
         "name": "Hombres",
         "offsetgroup": "Hombres",
         "orientation": "v",
         "showlegend": true,
         "textposition": "auto",
         "type": "bar",
         "x": [
          1980,
          1981,
          1982,
          1983,
          1984,
          1985,
          1986,
          1987,
          1988,
          1989,
          1990,
          1991,
          1992,
          1993,
          1994,
          1995,
          1996,
          1997,
          1998,
          1999,
          2000,
          2001,
          2002,
          2003,
          2004,
          2005,
          2006,
          2007,
          2008,
          2009,
          2010,
          2011,
          2012,
          2013,
          2014,
          2015,
          2016,
          2017,
          2018
         ],
         "xaxis": "x",
         "y": [
          0,
          0,
          0,
          0,
          0,
          44,
          135,
          334,
          647,
          1058,
          1576,
          2115,
          2706,
          3219,
          3850,
          4509,
          4355,
          2336,
          1476,
          1488,
          1391,
          1296,
          1317,
          1289,
          1271,
          1168,
          1035,
          1059,
          947,
          853,
          813,
          756,
          675,
          603,
          531,
          513,
          385,
          342,
          342
         ],
         "yaxis": "y"
        }
       ],
       "layout": {
        "barmode": "group",
        "legend": {
         "title": {
          "text": "Sexo"
         },
         "tracegroupgap": 0
        },
        "template": {
         "data": {
          "bar": [
           {
            "error_x": {
             "color": "#2a3f5f"
            },
            "error_y": {
             "color": "#2a3f5f"
            },
            "marker": {
             "line": {
              "color": "#E5ECF6",
              "width": 0.5
             },
             "pattern": {
              "fillmode": "overlay",
              "size": 10,
              "solidity": 0.2
             }
            },
            "type": "bar"
           }
          ],
          "barpolar": [
           {
            "marker": {
             "line": {
              "color": "#E5ECF6",
              "width": 0.5
             },
             "pattern": {
              "fillmode": "overlay",
              "size": 10,
              "solidity": 0.2
             }
            },
            "type": "barpolar"
           }
          ],
          "carpet": [
           {
            "aaxis": {
             "endlinecolor": "#2a3f5f",
             "gridcolor": "white",
             "linecolor": "white",
             "minorgridcolor": "white",
             "startlinecolor": "#2a3f5f"
            },
            "baxis": {
             "endlinecolor": "#2a3f5f",
             "gridcolor": "white",
             "linecolor": "white",
             "minorgridcolor": "white",
             "startlinecolor": "#2a3f5f"
            },
            "type": "carpet"
           }
          ],
          "choropleth": [
           {
            "colorbar": {
             "outlinewidth": 0,
             "ticks": ""
            },
            "type": "choropleth"
           }
          ],
          "contour": [
           {
            "colorbar": {
             "outlinewidth": 0,
             "ticks": ""
            },
            "colorscale": [
             [
              0,
              "#0d0887"
             ],
             [
              0.1111111111111111,
              "#46039f"
             ],
             [
              0.2222222222222222,
              "#7201a8"
             ],
             [
              0.3333333333333333,
              "#9c179e"
             ],
             [
              0.4444444444444444,
              "#bd3786"
             ],
             [
              0.5555555555555556,
              "#d8576b"
             ],
             [
              0.6666666666666666,
              "#ed7953"
             ],
             [
              0.7777777777777778,
              "#fb9f3a"
             ],
             [
              0.8888888888888888,
              "#fdca26"
             ],
             [
              1,
              "#f0f921"
             ]
            ],
            "type": "contour"
           }
          ],
          "contourcarpet": [
           {
            "colorbar": {
             "outlinewidth": 0,
             "ticks": ""
            },
            "type": "contourcarpet"
           }
          ],
          "heatmap": [
           {
            "colorbar": {
             "outlinewidth": 0,
             "ticks": ""
            },
            "colorscale": [
             [
              0,
              "#0d0887"
             ],
             [
              0.1111111111111111,
              "#46039f"
             ],
             [
              0.2222222222222222,
              "#7201a8"
             ],
             [
              0.3333333333333333,
              "#9c179e"
             ],
             [
              0.4444444444444444,
              "#bd3786"
             ],
             [
              0.5555555555555556,
              "#d8576b"
             ],
             [
              0.6666666666666666,
              "#ed7953"
             ],
             [
              0.7777777777777778,
              "#fb9f3a"
             ],
             [
              0.8888888888888888,
              "#fdca26"
             ],
             [
              1,
              "#f0f921"
             ]
            ],
            "type": "heatmap"
           }
          ],
          "heatmapgl": [
           {
            "colorbar": {
             "outlinewidth": 0,
             "ticks": ""
            },
            "colorscale": [
             [
              0,
              "#0d0887"
             ],
             [
              0.1111111111111111,
              "#46039f"
             ],
             [
              0.2222222222222222,
              "#7201a8"
             ],
             [
              0.3333333333333333,
              "#9c179e"
             ],
             [
              0.4444444444444444,
              "#bd3786"
             ],
             [
              0.5555555555555556,
              "#d8576b"
             ],
             [
              0.6666666666666666,
              "#ed7953"
             ],
             [
              0.7777777777777778,
              "#fb9f3a"
             ],
             [
              0.8888888888888888,
              "#fdca26"
             ],
             [
              1,
              "#f0f921"
             ]
            ],
            "type": "heatmapgl"
           }
          ],
          "histogram": [
           {
            "marker": {
             "pattern": {
              "fillmode": "overlay",
              "size": 10,
              "solidity": 0.2
             }
            },
            "type": "histogram"
           }
          ],
          "histogram2d": [
           {
            "colorbar": {
             "outlinewidth": 0,
             "ticks": ""
            },
            "colorscale": [
             [
              0,
              "#0d0887"
             ],
             [
              0.1111111111111111,
              "#46039f"
             ],
             [
              0.2222222222222222,
              "#7201a8"
             ],
             [
              0.3333333333333333,
              "#9c179e"
             ],
             [
              0.4444444444444444,
              "#bd3786"
             ],
             [
              0.5555555555555556,
              "#d8576b"
             ],
             [
              0.6666666666666666,
              "#ed7953"
             ],
             [
              0.7777777777777778,
              "#fb9f3a"
             ],
             [
              0.8888888888888888,
              "#fdca26"
             ],
             [
              1,
              "#f0f921"
             ]
            ],
            "type": "histogram2d"
           }
          ],
          "histogram2dcontour": [
           {
            "colorbar": {
             "outlinewidth": 0,
             "ticks": ""
            },
            "colorscale": [
             [
              0,
              "#0d0887"
             ],
             [
              0.1111111111111111,
              "#46039f"
             ],
             [
              0.2222222222222222,
              "#7201a8"
             ],
             [
              0.3333333333333333,
              "#9c179e"
             ],
             [
              0.4444444444444444,
              "#bd3786"
             ],
             [
              0.5555555555555556,
              "#d8576b"
             ],
             [
              0.6666666666666666,
              "#ed7953"
             ],
             [
              0.7777777777777778,
              "#fb9f3a"
             ],
             [
              0.8888888888888888,
              "#fdca26"
             ],
             [
              1,
              "#f0f921"
             ]
            ],
            "type": "histogram2dcontour"
           }
          ],
          "mesh3d": [
           {
            "colorbar": {
             "outlinewidth": 0,
             "ticks": ""
            },
            "type": "mesh3d"
           }
          ],
          "parcoords": [
           {
            "line": {
             "colorbar": {
              "outlinewidth": 0,
              "ticks": ""
             }
            },
            "type": "parcoords"
           }
          ],
          "pie": [
           {
            "automargin": true,
            "type": "pie"
           }
          ],
          "scatter": [
           {
            "fillpattern": {
             "fillmode": "overlay",
             "size": 10,
             "solidity": 0.2
            },
            "type": "scatter"
           }
          ],
          "scatter3d": [
           {
            "line": {
             "colorbar": {
              "outlinewidth": 0,
              "ticks": ""
             }
            },
            "marker": {
             "colorbar": {
              "outlinewidth": 0,
              "ticks": ""
             }
            },
            "type": "scatter3d"
           }
          ],
          "scattercarpet": [
           {
            "marker": {
             "colorbar": {
              "outlinewidth": 0,
              "ticks": ""
             }
            },
            "type": "scattercarpet"
           }
          ],
          "scattergeo": [
           {
            "marker": {
             "colorbar": {
              "outlinewidth": 0,
              "ticks": ""
             }
            },
            "type": "scattergeo"
           }
          ],
          "scattergl": [
           {
            "marker": {
             "colorbar": {
              "outlinewidth": 0,
              "ticks": ""
             }
            },
            "type": "scattergl"
           }
          ],
          "scattermapbox": [
           {
            "marker": {
             "colorbar": {
              "outlinewidth": 0,
              "ticks": ""
             }
            },
            "type": "scattermapbox"
           }
          ],
          "scatterpolar": [
           {
            "marker": {
             "colorbar": {
              "outlinewidth": 0,
              "ticks": ""
             }
            },
            "type": "scatterpolar"
           }
          ],
          "scatterpolargl": [
           {
            "marker": {
             "colorbar": {
              "outlinewidth": 0,
              "ticks": ""
             }
            },
            "type": "scatterpolargl"
           }
          ],
          "scatterternary": [
           {
            "marker": {
             "colorbar": {
              "outlinewidth": 0,
              "ticks": ""
             }
            },
            "type": "scatterternary"
           }
          ],
          "surface": [
           {
            "colorbar": {
             "outlinewidth": 0,
             "ticks": ""
            },
            "colorscale": [
             [
              0,
              "#0d0887"
             ],
             [
              0.1111111111111111,
              "#46039f"
             ],
             [
              0.2222222222222222,
              "#7201a8"
             ],
             [
              0.3333333333333333,
              "#9c179e"
             ],
             [
              0.4444444444444444,
              "#bd3786"
             ],
             [
              0.5555555555555556,
              "#d8576b"
             ],
             [
              0.6666666666666666,
              "#ed7953"
             ],
             [
              0.7777777777777778,
              "#fb9f3a"
             ],
             [
              0.8888888888888888,
              "#fdca26"
             ],
             [
              1,
              "#f0f921"
             ]
            ],
            "type": "surface"
           }
          ],
          "table": [
           {
            "cells": {
             "fill": {
              "color": "#EBF0F8"
             },
             "line": {
              "color": "white"
             }
            },
            "header": {
             "fill": {
              "color": "#C8D4E3"
             },
             "line": {
              "color": "white"
             }
            },
            "type": "table"
           }
          ]
         },
         "layout": {
          "annotationdefaults": {
           "arrowcolor": "#2a3f5f",
           "arrowhead": 0,
           "arrowwidth": 1
          },
          "autotypenumbers": "strict",
          "coloraxis": {
           "colorbar": {
            "outlinewidth": 0,
            "ticks": ""
           }
          },
          "colorscale": {
           "diverging": [
            [
             0,
             "#8e0152"
            ],
            [
             0.1,
             "#c51b7d"
            ],
            [
             0.2,
             "#de77ae"
            ],
            [
             0.3,
             "#f1b6da"
            ],
            [
             0.4,
             "#fde0ef"
            ],
            [
             0.5,
             "#f7f7f7"
            ],
            [
             0.6,
             "#e6f5d0"
            ],
            [
             0.7,
             "#b8e186"
            ],
            [
             0.8,
             "#7fbc41"
            ],
            [
             0.9,
             "#4d9221"
            ],
            [
             1,
             "#276419"
            ]
           ],
           "sequential": [
            [
             0,
             "#0d0887"
            ],
            [
             0.1111111111111111,
             "#46039f"
            ],
            [
             0.2222222222222222,
             "#7201a8"
            ],
            [
             0.3333333333333333,
             "#9c179e"
            ],
            [
             0.4444444444444444,
             "#bd3786"
            ],
            [
             0.5555555555555556,
             "#d8576b"
            ],
            [
             0.6666666666666666,
             "#ed7953"
            ],
            [
             0.7777777777777778,
             "#fb9f3a"
            ],
            [
             0.8888888888888888,
             "#fdca26"
            ],
            [
             1,
             "#f0f921"
            ]
           ],
           "sequentialminus": [
            [
             0,
             "#0d0887"
            ],
            [
             0.1111111111111111,
             "#46039f"
            ],
            [
             0.2222222222222222,
             "#7201a8"
            ],
            [
             0.3333333333333333,
             "#9c179e"
            ],
            [
             0.4444444444444444,
             "#bd3786"
            ],
            [
             0.5555555555555556,
             "#d8576b"
            ],
            [
             0.6666666666666666,
             "#ed7953"
            ],
            [
             0.7777777777777778,
             "#fb9f3a"
            ],
            [
             0.8888888888888888,
             "#fdca26"
            ],
            [
             1,
             "#f0f921"
            ]
           ]
          },
          "colorway": [
           "#636efa",
           "#EF553B",
           "#00cc96",
           "#ab63fa",
           "#FFA15A",
           "#19d3f3",
           "#FF6692",
           "#B6E880",
           "#FF97FF",
           "#FECB52"
          ],
          "font": {
           "color": "#2a3f5f"
          },
          "geo": {
           "bgcolor": "white",
           "lakecolor": "white",
           "landcolor": "#E5ECF6",
           "showlakes": true,
           "showland": true,
           "subunitcolor": "white"
          },
          "hoverlabel": {
           "align": "left"
          },
          "hovermode": "closest",
          "mapbox": {
           "style": "light"
          },
          "paper_bgcolor": "white",
          "plot_bgcolor": "#E5ECF6",
          "polar": {
           "angularaxis": {
            "gridcolor": "white",
            "linecolor": "white",
            "ticks": ""
           },
           "bgcolor": "#E5ECF6",
           "radialaxis": {
            "gridcolor": "white",
            "linecolor": "white",
            "ticks": ""
           }
          },
          "scene": {
           "xaxis": {
            "backgroundcolor": "#E5ECF6",
            "gridcolor": "white",
            "gridwidth": 2,
            "linecolor": "white",
            "showbackground": true,
            "ticks": "",
            "zerolinecolor": "white"
           },
           "yaxis": {
            "backgroundcolor": "#E5ECF6",
            "gridcolor": "white",
            "gridwidth": 2,
            "linecolor": "white",
            "showbackground": true,
            "ticks": "",
            "zerolinecolor": "white"
           },
           "zaxis": {
            "backgroundcolor": "#E5ECF6",
            "gridcolor": "white",
            "gridwidth": 2,
            "linecolor": "white",
            "showbackground": true,
            "ticks": "",
            "zerolinecolor": "white"
           }
          },
          "shapedefaults": {
           "line": {
            "color": "#2a3f5f"
           }
          },
          "ternary": {
           "aaxis": {
            "gridcolor": "white",
            "linecolor": "white",
            "ticks": ""
           },
           "baxis": {
            "gridcolor": "white",
            "linecolor": "white",
            "ticks": ""
           },
           "bgcolor": "#E5ECF6",
           "caxis": {
            "gridcolor": "white",
            "linecolor": "white",
            "ticks": ""
           }
          },
          "title": {
           "x": 0.05
          },
          "xaxis": {
           "automargin": true,
           "gridcolor": "white",
           "linecolor": "white",
           "ticks": "",
           "title": {
            "standoff": 15
           },
           "zerolinecolor": "white",
           "zerolinewidth": 2
          },
          "yaxis": {
           "automargin": true,
           "gridcolor": "white",
           "linecolor": "white",
           "ticks": "",
           "title": {
            "standoff": 15
           },
           "zerolinecolor": "white",
           "zerolinewidth": 2
          }
         }
        },
        "title": {
         "text": "EVOLUCIÓN DE MUERTES POR SIDA EN HOMBRES Y MUJERES EN ESPAÑA"
        },
        "xaxis": {
         "anchor": "y",
         "domain": [
          0,
          1
         ],
         "title": {
          "text": "Periodo"
         }
        },
        "yaxis": {
         "anchor": "x",
         "domain": [
          0,
          1
         ],
         "title": {
          "text": "Total"
         }
        }
       }
      },
      "text/html": [
       "<div>                            <div id=\"257363c9-ba43-4774-91aa-81e09d1f0d7e\" class=\"plotly-graph-div\" style=\"height:525px; width:100%;\"></div>            <script type=\"text/javascript\">                require([\"plotly\"], function(Plotly) {                    window.PLOTLYENV=window.PLOTLYENV || {};                                    if (document.getElementById(\"257363c9-ba43-4774-91aa-81e09d1f0d7e\")) {                    Plotly.newPlot(                        \"257363c9-ba43-4774-91aa-81e09d1f0d7e\",                        [{\"alignmentgroup\":\"True\",\"hovertemplate\":\"Sexo=Mujeres<br>Periodo=%{x}<br>Total=%{y}<extra></extra>\",\"legendgroup\":\"Mujeres\",\"marker\":{\"color\":\"#636efa\",\"pattern\":{\"shape\":\"\"}},\"name\":\"Mujeres\",\"offsetgroup\":\"Mujeres\",\"orientation\":\"v\",\"showlegend\":true,\"textposition\":\"auto\",\"x\":[1980,1981,1982,1983,1984,1985,1986,1987,1988,1989,1990,1991,1992,1993,1994,1995,1996,1997,1998,1999,2000,2001,2002,2003,2004,2005,2006,2007,2008,2009,2010,2011,2012,2013,2014,2015,2016,2017,2018],\"xaxis\":\"x\",\"y\":[0,0,0,0,0,3,29,75,121,230,322,388,550,761,920,1042,1077,508,303,314,320,336,294,343,280,282,278,248,264,226,207,197,205,146,169,120,113,100,81],\"yaxis\":\"y\",\"type\":\"bar\"},{\"alignmentgroup\":\"True\",\"hovertemplate\":\"Sexo=Hombres<br>Periodo=%{x}<br>Total=%{y}<extra></extra>\",\"legendgroup\":\"Hombres\",\"marker\":{\"color\":\"#EF553B\",\"pattern\":{\"shape\":\"\"}},\"name\":\"Hombres\",\"offsetgroup\":\"Hombres\",\"orientation\":\"v\",\"showlegend\":true,\"textposition\":\"auto\",\"x\":[1980,1981,1982,1983,1984,1985,1986,1987,1988,1989,1990,1991,1992,1993,1994,1995,1996,1997,1998,1999,2000,2001,2002,2003,2004,2005,2006,2007,2008,2009,2010,2011,2012,2013,2014,2015,2016,2017,2018],\"xaxis\":\"x\",\"y\":[0,0,0,0,0,44,135,334,647,1058,1576,2115,2706,3219,3850,4509,4355,2336,1476,1488,1391,1296,1317,1289,1271,1168,1035,1059,947,853,813,756,675,603,531,513,385,342,342],\"yaxis\":\"y\",\"type\":\"bar\"}],                        {\"template\":{\"data\":{\"histogram2dcontour\":[{\"type\":\"histogram2dcontour\",\"colorbar\":{\"outlinewidth\":0,\"ticks\":\"\"},\"colorscale\":[[0.0,\"#0d0887\"],[0.1111111111111111,\"#46039f\"],[0.2222222222222222,\"#7201a8\"],[0.3333333333333333,\"#9c179e\"],[0.4444444444444444,\"#bd3786\"],[0.5555555555555556,\"#d8576b\"],[0.6666666666666666,\"#ed7953\"],[0.7777777777777778,\"#fb9f3a\"],[0.8888888888888888,\"#fdca26\"],[1.0,\"#f0f921\"]]}],\"choropleth\":[{\"type\":\"choropleth\",\"colorbar\":{\"outlinewidth\":0,\"ticks\":\"\"}}],\"histogram2d\":[{\"type\":\"histogram2d\",\"colorbar\":{\"outlinewidth\":0,\"ticks\":\"\"},\"colorscale\":[[0.0,\"#0d0887\"],[0.1111111111111111,\"#46039f\"],[0.2222222222222222,\"#7201a8\"],[0.3333333333333333,\"#9c179e\"],[0.4444444444444444,\"#bd3786\"],[0.5555555555555556,\"#d8576b\"],[0.6666666666666666,\"#ed7953\"],[0.7777777777777778,\"#fb9f3a\"],[0.8888888888888888,\"#fdca26\"],[1.0,\"#f0f921\"]]}],\"heatmap\":[{\"type\":\"heatmap\",\"colorbar\":{\"outlinewidth\":0,\"ticks\":\"\"},\"colorscale\":[[0.0,\"#0d0887\"],[0.1111111111111111,\"#46039f\"],[0.2222222222222222,\"#7201a8\"],[0.3333333333333333,\"#9c179e\"],[0.4444444444444444,\"#bd3786\"],[0.5555555555555556,\"#d8576b\"],[0.6666666666666666,\"#ed7953\"],[0.7777777777777778,\"#fb9f3a\"],[0.8888888888888888,\"#fdca26\"],[1.0,\"#f0f921\"]]}],\"heatmapgl\":[{\"type\":\"heatmapgl\",\"colorbar\":{\"outlinewidth\":0,\"ticks\":\"\"},\"colorscale\":[[0.0,\"#0d0887\"],[0.1111111111111111,\"#46039f\"],[0.2222222222222222,\"#7201a8\"],[0.3333333333333333,\"#9c179e\"],[0.4444444444444444,\"#bd3786\"],[0.5555555555555556,\"#d8576b\"],[0.6666666666666666,\"#ed7953\"],[0.7777777777777778,\"#fb9f3a\"],[0.8888888888888888,\"#fdca26\"],[1.0,\"#f0f921\"]]}],\"contourcarpet\":[{\"type\":\"contourcarpet\",\"colorbar\":{\"outlinewidth\":0,\"ticks\":\"\"}}],\"contour\":[{\"type\":\"contour\",\"colorbar\":{\"outlinewidth\":0,\"ticks\":\"\"},\"colorscale\":[[0.0,\"#0d0887\"],[0.1111111111111111,\"#46039f\"],[0.2222222222222222,\"#7201a8\"],[0.3333333333333333,\"#9c179e\"],[0.4444444444444444,\"#bd3786\"],[0.5555555555555556,\"#d8576b\"],[0.6666666666666666,\"#ed7953\"],[0.7777777777777778,\"#fb9f3a\"],[0.8888888888888888,\"#fdca26\"],[1.0,\"#f0f921\"]]}],\"surface\":[{\"type\":\"surface\",\"colorbar\":{\"outlinewidth\":0,\"ticks\":\"\"},\"colorscale\":[[0.0,\"#0d0887\"],[0.1111111111111111,\"#46039f\"],[0.2222222222222222,\"#7201a8\"],[0.3333333333333333,\"#9c179e\"],[0.4444444444444444,\"#bd3786\"],[0.5555555555555556,\"#d8576b\"],[0.6666666666666666,\"#ed7953\"],[0.7777777777777778,\"#fb9f3a\"],[0.8888888888888888,\"#fdca26\"],[1.0,\"#f0f921\"]]}],\"mesh3d\":[{\"type\":\"mesh3d\",\"colorbar\":{\"outlinewidth\":0,\"ticks\":\"\"}}],\"scatter\":[{\"fillpattern\":{\"fillmode\":\"overlay\",\"size\":10,\"solidity\":0.2},\"type\":\"scatter\"}],\"parcoords\":[{\"type\":\"parcoords\",\"line\":{\"colorbar\":{\"outlinewidth\":0,\"ticks\":\"\"}}}],\"scatterpolargl\":[{\"type\":\"scatterpolargl\",\"marker\":{\"colorbar\":{\"outlinewidth\":0,\"ticks\":\"\"}}}],\"bar\":[{\"error_x\":{\"color\":\"#2a3f5f\"},\"error_y\":{\"color\":\"#2a3f5f\"},\"marker\":{\"line\":{\"color\":\"#E5ECF6\",\"width\":0.5},\"pattern\":{\"fillmode\":\"overlay\",\"size\":10,\"solidity\":0.2}},\"type\":\"bar\"}],\"scattergeo\":[{\"type\":\"scattergeo\",\"marker\":{\"colorbar\":{\"outlinewidth\":0,\"ticks\":\"\"}}}],\"scatterpolar\":[{\"type\":\"scatterpolar\",\"marker\":{\"colorbar\":{\"outlinewidth\":0,\"ticks\":\"\"}}}],\"histogram\":[{\"marker\":{\"pattern\":{\"fillmode\":\"overlay\",\"size\":10,\"solidity\":0.2}},\"type\":\"histogram\"}],\"scattergl\":[{\"type\":\"scattergl\",\"marker\":{\"colorbar\":{\"outlinewidth\":0,\"ticks\":\"\"}}}],\"scatter3d\":[{\"type\":\"scatter3d\",\"line\":{\"colorbar\":{\"outlinewidth\":0,\"ticks\":\"\"}},\"marker\":{\"colorbar\":{\"outlinewidth\":0,\"ticks\":\"\"}}}],\"scattermapbox\":[{\"type\":\"scattermapbox\",\"marker\":{\"colorbar\":{\"outlinewidth\":0,\"ticks\":\"\"}}}],\"scatterternary\":[{\"type\":\"scatterternary\",\"marker\":{\"colorbar\":{\"outlinewidth\":0,\"ticks\":\"\"}}}],\"scattercarpet\":[{\"type\":\"scattercarpet\",\"marker\":{\"colorbar\":{\"outlinewidth\":0,\"ticks\":\"\"}}}],\"carpet\":[{\"aaxis\":{\"endlinecolor\":\"#2a3f5f\",\"gridcolor\":\"white\",\"linecolor\":\"white\",\"minorgridcolor\":\"white\",\"startlinecolor\":\"#2a3f5f\"},\"baxis\":{\"endlinecolor\":\"#2a3f5f\",\"gridcolor\":\"white\",\"linecolor\":\"white\",\"minorgridcolor\":\"white\",\"startlinecolor\":\"#2a3f5f\"},\"type\":\"carpet\"}],\"table\":[{\"cells\":{\"fill\":{\"color\":\"#EBF0F8\"},\"line\":{\"color\":\"white\"}},\"header\":{\"fill\":{\"color\":\"#C8D4E3\"},\"line\":{\"color\":\"white\"}},\"type\":\"table\"}],\"barpolar\":[{\"marker\":{\"line\":{\"color\":\"#E5ECF6\",\"width\":0.5},\"pattern\":{\"fillmode\":\"overlay\",\"size\":10,\"solidity\":0.2}},\"type\":\"barpolar\"}],\"pie\":[{\"automargin\":true,\"type\":\"pie\"}]},\"layout\":{\"autotypenumbers\":\"strict\",\"colorway\":[\"#636efa\",\"#EF553B\",\"#00cc96\",\"#ab63fa\",\"#FFA15A\",\"#19d3f3\",\"#FF6692\",\"#B6E880\",\"#FF97FF\",\"#FECB52\"],\"font\":{\"color\":\"#2a3f5f\"},\"hovermode\":\"closest\",\"hoverlabel\":{\"align\":\"left\"},\"paper_bgcolor\":\"white\",\"plot_bgcolor\":\"#E5ECF6\",\"polar\":{\"bgcolor\":\"#E5ECF6\",\"angularaxis\":{\"gridcolor\":\"white\",\"linecolor\":\"white\",\"ticks\":\"\"},\"radialaxis\":{\"gridcolor\":\"white\",\"linecolor\":\"white\",\"ticks\":\"\"}},\"ternary\":{\"bgcolor\":\"#E5ECF6\",\"aaxis\":{\"gridcolor\":\"white\",\"linecolor\":\"white\",\"ticks\":\"\"},\"baxis\":{\"gridcolor\":\"white\",\"linecolor\":\"white\",\"ticks\":\"\"},\"caxis\":{\"gridcolor\":\"white\",\"linecolor\":\"white\",\"ticks\":\"\"}},\"coloraxis\":{\"colorbar\":{\"outlinewidth\":0,\"ticks\":\"\"}},\"colorscale\":{\"sequential\":[[0.0,\"#0d0887\"],[0.1111111111111111,\"#46039f\"],[0.2222222222222222,\"#7201a8\"],[0.3333333333333333,\"#9c179e\"],[0.4444444444444444,\"#bd3786\"],[0.5555555555555556,\"#d8576b\"],[0.6666666666666666,\"#ed7953\"],[0.7777777777777778,\"#fb9f3a\"],[0.8888888888888888,\"#fdca26\"],[1.0,\"#f0f921\"]],\"sequentialminus\":[[0.0,\"#0d0887\"],[0.1111111111111111,\"#46039f\"],[0.2222222222222222,\"#7201a8\"],[0.3333333333333333,\"#9c179e\"],[0.4444444444444444,\"#bd3786\"],[0.5555555555555556,\"#d8576b\"],[0.6666666666666666,\"#ed7953\"],[0.7777777777777778,\"#fb9f3a\"],[0.8888888888888888,\"#fdca26\"],[1.0,\"#f0f921\"]],\"diverging\":[[0,\"#8e0152\"],[0.1,\"#c51b7d\"],[0.2,\"#de77ae\"],[0.3,\"#f1b6da\"],[0.4,\"#fde0ef\"],[0.5,\"#f7f7f7\"],[0.6,\"#e6f5d0\"],[0.7,\"#b8e186\"],[0.8,\"#7fbc41\"],[0.9,\"#4d9221\"],[1,\"#276419\"]]},\"xaxis\":{\"gridcolor\":\"white\",\"linecolor\":\"white\",\"ticks\":\"\",\"title\":{\"standoff\":15},\"zerolinecolor\":\"white\",\"automargin\":true,\"zerolinewidth\":2},\"yaxis\":{\"gridcolor\":\"white\",\"linecolor\":\"white\",\"ticks\":\"\",\"title\":{\"standoff\":15},\"zerolinecolor\":\"white\",\"automargin\":true,\"zerolinewidth\":2},\"scene\":{\"xaxis\":{\"backgroundcolor\":\"#E5ECF6\",\"gridcolor\":\"white\",\"linecolor\":\"white\",\"showbackground\":true,\"ticks\":\"\",\"zerolinecolor\":\"white\",\"gridwidth\":2},\"yaxis\":{\"backgroundcolor\":\"#E5ECF6\",\"gridcolor\":\"white\",\"linecolor\":\"white\",\"showbackground\":true,\"ticks\":\"\",\"zerolinecolor\":\"white\",\"gridwidth\":2},\"zaxis\":{\"backgroundcolor\":\"#E5ECF6\",\"gridcolor\":\"white\",\"linecolor\":\"white\",\"showbackground\":true,\"ticks\":\"\",\"zerolinecolor\":\"white\",\"gridwidth\":2}},\"shapedefaults\":{\"line\":{\"color\":\"#2a3f5f\"}},\"annotationdefaults\":{\"arrowcolor\":\"#2a3f5f\",\"arrowhead\":0,\"arrowwidth\":1},\"geo\":{\"bgcolor\":\"white\",\"landcolor\":\"#E5ECF6\",\"subunitcolor\":\"white\",\"showland\":true,\"showlakes\":true,\"lakecolor\":\"white\"},\"title\":{\"x\":0.05},\"mapbox\":{\"style\":\"light\"}}},\"xaxis\":{\"anchor\":\"y\",\"domain\":[0.0,1.0],\"title\":{\"text\":\"Periodo\"}},\"yaxis\":{\"anchor\":\"x\",\"domain\":[0.0,1.0],\"title\":{\"text\":\"Total\"}},\"legend\":{\"title\":{\"text\":\"Sexo\"},\"tracegroupgap\":0},\"title\":{\"text\":\"EVOLUCI\\u00d3N DE MUERTES POR SIDA EN HOMBRES Y MUJERES EN ESPA\\u00d1A\"},\"barmode\":\"group\"},                        {\"responsive\": true}                    ).then(function(){\n",
       "                            \n",
       "var gd = document.getElementById('257363c9-ba43-4774-91aa-81e09d1f0d7e');\n",
       "var x = new MutationObserver(function (mutations, observer) {{\n",
       "        var display = window.getComputedStyle(gd).display;\n",
       "        if (!display || display === 'none') {{\n",
       "            console.log([gd, 'removed!']);\n",
       "            Plotly.purge(gd);\n",
       "            observer.disconnect();\n",
       "        }}\n",
       "}});\n",
       "\n",
       "// Listen for the removal of the full notebook cells\n",
       "var notebookContainer = gd.closest('#notebook-container');\n",
       "if (notebookContainer) {{\n",
       "    x.observe(notebookContainer, {childList: true});\n",
       "}}\n",
       "\n",
       "// Listen for the clearing of the current output cell\n",
       "var outputEl = gd.closest('.output');\n",
       "if (outputEl) {{\n",
       "    x.observe(outputEl, {childList: true});\n",
       "}}\n",
       "\n",
       "                        })                };                });            </script>        </div>"
      ]
     },
     "metadata": {},
     "output_type": "display_data"
    }
   ],
   "source": [
    "px.bar(muertes_sida_HM,  x='Periodo',\n",
    "                y='Total', \n",
    "                 color=\"Sexo\", barmode=\"group\", \n",
    "                   title = \"EVOLUCIÓN DE MUERTES POR SIDA EN HOMBRES Y MUJERES EN ESPAÑA\")"
   ]
  },
  {
   "cell_type": "markdown",
   "metadata": {},
   "source": [
    "# MAYOR CAUSA DE MUERTE HISTÓRICA EN ESPAÑA"
   ]
  },
  {
   "cell_type": "code",
   "execution_count": 22,
   "metadata": {
    "scrolled": false
   },
   "outputs": [
    {
     "data": {
      "application/vnd.plotly.v1+json": {
       "config": {
        "plotlyServerURL": "https://plot.ly"
       },
       "data": [
        {
         "alignmentgroup": "True",
         "hovertemplate": "Total=%{x}<br>cause_code=%{y}<extra></extra>",
         "legendgroup": "",
         "marker": {
          "color": "#636efa",
          "pattern": {
           "shape": ""
          }
         },
         "name": "",
         "offsetgroup": "",
         "orientation": "h",
         "showlegend": false,
         "textposition": "auto",
         "type": "bar",
         "x": [
          3016,
          131656,
          187080,
          192240,
          197136,
          464248,
          984972,
          1339144,
          1611472,
          1727316,
          1734160,
          1832240,
          2516624,
          2946224,
          5943228,
          14237728,
          19605948
         ],
         "xaxis": "x",
         "y": [
          "081",
          "073",
          "082",
          "083-085",
          "042-043",
          "074-076",
          "001-008",
          "077-080",
          "046-049",
          "086-089",
          "044-045",
          "050-052",
          "090-102",
          "068-072",
          "062-067",
          "009-041",
          "053-061"
         ],
         "yaxis": "y"
        }
       ],
       "layout": {
        "barmode": "relative",
        "legend": {
         "tracegroupgap": 0
        },
        "template": {
         "data": {
          "bar": [
           {
            "error_x": {
             "color": "#2a3f5f"
            },
            "error_y": {
             "color": "#2a3f5f"
            },
            "marker": {
             "line": {
              "color": "#E5ECF6",
              "width": 0.5
             },
             "pattern": {
              "fillmode": "overlay",
              "size": 10,
              "solidity": 0.2
             }
            },
            "type": "bar"
           }
          ],
          "barpolar": [
           {
            "marker": {
             "line": {
              "color": "#E5ECF6",
              "width": 0.5
             },
             "pattern": {
              "fillmode": "overlay",
              "size": 10,
              "solidity": 0.2
             }
            },
            "type": "barpolar"
           }
          ],
          "carpet": [
           {
            "aaxis": {
             "endlinecolor": "#2a3f5f",
             "gridcolor": "white",
             "linecolor": "white",
             "minorgridcolor": "white",
             "startlinecolor": "#2a3f5f"
            },
            "baxis": {
             "endlinecolor": "#2a3f5f",
             "gridcolor": "white",
             "linecolor": "white",
             "minorgridcolor": "white",
             "startlinecolor": "#2a3f5f"
            },
            "type": "carpet"
           }
          ],
          "choropleth": [
           {
            "colorbar": {
             "outlinewidth": 0,
             "ticks": ""
            },
            "type": "choropleth"
           }
          ],
          "contour": [
           {
            "colorbar": {
             "outlinewidth": 0,
             "ticks": ""
            },
            "colorscale": [
             [
              0,
              "#0d0887"
             ],
             [
              0.1111111111111111,
              "#46039f"
             ],
             [
              0.2222222222222222,
              "#7201a8"
             ],
             [
              0.3333333333333333,
              "#9c179e"
             ],
             [
              0.4444444444444444,
              "#bd3786"
             ],
             [
              0.5555555555555556,
              "#d8576b"
             ],
             [
              0.6666666666666666,
              "#ed7953"
             ],
             [
              0.7777777777777778,
              "#fb9f3a"
             ],
             [
              0.8888888888888888,
              "#fdca26"
             ],
             [
              1,
              "#f0f921"
             ]
            ],
            "type": "contour"
           }
          ],
          "contourcarpet": [
           {
            "colorbar": {
             "outlinewidth": 0,
             "ticks": ""
            },
            "type": "contourcarpet"
           }
          ],
          "heatmap": [
           {
            "colorbar": {
             "outlinewidth": 0,
             "ticks": ""
            },
            "colorscale": [
             [
              0,
              "#0d0887"
             ],
             [
              0.1111111111111111,
              "#46039f"
             ],
             [
              0.2222222222222222,
              "#7201a8"
             ],
             [
              0.3333333333333333,
              "#9c179e"
             ],
             [
              0.4444444444444444,
              "#bd3786"
             ],
             [
              0.5555555555555556,
              "#d8576b"
             ],
             [
              0.6666666666666666,
              "#ed7953"
             ],
             [
              0.7777777777777778,
              "#fb9f3a"
             ],
             [
              0.8888888888888888,
              "#fdca26"
             ],
             [
              1,
              "#f0f921"
             ]
            ],
            "type": "heatmap"
           }
          ],
          "heatmapgl": [
           {
            "colorbar": {
             "outlinewidth": 0,
             "ticks": ""
            },
            "colorscale": [
             [
              0,
              "#0d0887"
             ],
             [
              0.1111111111111111,
              "#46039f"
             ],
             [
              0.2222222222222222,
              "#7201a8"
             ],
             [
              0.3333333333333333,
              "#9c179e"
             ],
             [
              0.4444444444444444,
              "#bd3786"
             ],
             [
              0.5555555555555556,
              "#d8576b"
             ],
             [
              0.6666666666666666,
              "#ed7953"
             ],
             [
              0.7777777777777778,
              "#fb9f3a"
             ],
             [
              0.8888888888888888,
              "#fdca26"
             ],
             [
              1,
              "#f0f921"
             ]
            ],
            "type": "heatmapgl"
           }
          ],
          "histogram": [
           {
            "marker": {
             "pattern": {
              "fillmode": "overlay",
              "size": 10,
              "solidity": 0.2
             }
            },
            "type": "histogram"
           }
          ],
          "histogram2d": [
           {
            "colorbar": {
             "outlinewidth": 0,
             "ticks": ""
            },
            "colorscale": [
             [
              0,
              "#0d0887"
             ],
             [
              0.1111111111111111,
              "#46039f"
             ],
             [
              0.2222222222222222,
              "#7201a8"
             ],
             [
              0.3333333333333333,
              "#9c179e"
             ],
             [
              0.4444444444444444,
              "#bd3786"
             ],
             [
              0.5555555555555556,
              "#d8576b"
             ],
             [
              0.6666666666666666,
              "#ed7953"
             ],
             [
              0.7777777777777778,
              "#fb9f3a"
             ],
             [
              0.8888888888888888,
              "#fdca26"
             ],
             [
              1,
              "#f0f921"
             ]
            ],
            "type": "histogram2d"
           }
          ],
          "histogram2dcontour": [
           {
            "colorbar": {
             "outlinewidth": 0,
             "ticks": ""
            },
            "colorscale": [
             [
              0,
              "#0d0887"
             ],
             [
              0.1111111111111111,
              "#46039f"
             ],
             [
              0.2222222222222222,
              "#7201a8"
             ],
             [
              0.3333333333333333,
              "#9c179e"
             ],
             [
              0.4444444444444444,
              "#bd3786"
             ],
             [
              0.5555555555555556,
              "#d8576b"
             ],
             [
              0.6666666666666666,
              "#ed7953"
             ],
             [
              0.7777777777777778,
              "#fb9f3a"
             ],
             [
              0.8888888888888888,
              "#fdca26"
             ],
             [
              1,
              "#f0f921"
             ]
            ],
            "type": "histogram2dcontour"
           }
          ],
          "mesh3d": [
           {
            "colorbar": {
             "outlinewidth": 0,
             "ticks": ""
            },
            "type": "mesh3d"
           }
          ],
          "parcoords": [
           {
            "line": {
             "colorbar": {
              "outlinewidth": 0,
              "ticks": ""
             }
            },
            "type": "parcoords"
           }
          ],
          "pie": [
           {
            "automargin": true,
            "type": "pie"
           }
          ],
          "scatter": [
           {
            "fillpattern": {
             "fillmode": "overlay",
             "size": 10,
             "solidity": 0.2
            },
            "type": "scatter"
           }
          ],
          "scatter3d": [
           {
            "line": {
             "colorbar": {
              "outlinewidth": 0,
              "ticks": ""
             }
            },
            "marker": {
             "colorbar": {
              "outlinewidth": 0,
              "ticks": ""
             }
            },
            "type": "scatter3d"
           }
          ],
          "scattercarpet": [
           {
            "marker": {
             "colorbar": {
              "outlinewidth": 0,
              "ticks": ""
             }
            },
            "type": "scattercarpet"
           }
          ],
          "scattergeo": [
           {
            "marker": {
             "colorbar": {
              "outlinewidth": 0,
              "ticks": ""
             }
            },
            "type": "scattergeo"
           }
          ],
          "scattergl": [
           {
            "marker": {
             "colorbar": {
              "outlinewidth": 0,
              "ticks": ""
             }
            },
            "type": "scattergl"
           }
          ],
          "scattermapbox": [
           {
            "marker": {
             "colorbar": {
              "outlinewidth": 0,
              "ticks": ""
             }
            },
            "type": "scattermapbox"
           }
          ],
          "scatterpolar": [
           {
            "marker": {
             "colorbar": {
              "outlinewidth": 0,
              "ticks": ""
             }
            },
            "type": "scatterpolar"
           }
          ],
          "scatterpolargl": [
           {
            "marker": {
             "colorbar": {
              "outlinewidth": 0,
              "ticks": ""
             }
            },
            "type": "scatterpolargl"
           }
          ],
          "scatterternary": [
           {
            "marker": {
             "colorbar": {
              "outlinewidth": 0,
              "ticks": ""
             }
            },
            "type": "scatterternary"
           }
          ],
          "surface": [
           {
            "colorbar": {
             "outlinewidth": 0,
             "ticks": ""
            },
            "colorscale": [
             [
              0,
              "#0d0887"
             ],
             [
              0.1111111111111111,
              "#46039f"
             ],
             [
              0.2222222222222222,
              "#7201a8"
             ],
             [
              0.3333333333333333,
              "#9c179e"
             ],
             [
              0.4444444444444444,
              "#bd3786"
             ],
             [
              0.5555555555555556,
              "#d8576b"
             ],
             [
              0.6666666666666666,
              "#ed7953"
             ],
             [
              0.7777777777777778,
              "#fb9f3a"
             ],
             [
              0.8888888888888888,
              "#fdca26"
             ],
             [
              1,
              "#f0f921"
             ]
            ],
            "type": "surface"
           }
          ],
          "table": [
           {
            "cells": {
             "fill": {
              "color": "#EBF0F8"
             },
             "line": {
              "color": "white"
             }
            },
            "header": {
             "fill": {
              "color": "#C8D4E3"
             },
             "line": {
              "color": "white"
             }
            },
            "type": "table"
           }
          ]
         },
         "layout": {
          "annotationdefaults": {
           "arrowcolor": "#2a3f5f",
           "arrowhead": 0,
           "arrowwidth": 1
          },
          "autotypenumbers": "strict",
          "coloraxis": {
           "colorbar": {
            "outlinewidth": 0,
            "ticks": ""
           }
          },
          "colorscale": {
           "diverging": [
            [
             0,
             "#8e0152"
            ],
            [
             0.1,
             "#c51b7d"
            ],
            [
             0.2,
             "#de77ae"
            ],
            [
             0.3,
             "#f1b6da"
            ],
            [
             0.4,
             "#fde0ef"
            ],
            [
             0.5,
             "#f7f7f7"
            ],
            [
             0.6,
             "#e6f5d0"
            ],
            [
             0.7,
             "#b8e186"
            ],
            [
             0.8,
             "#7fbc41"
            ],
            [
             0.9,
             "#4d9221"
            ],
            [
             1,
             "#276419"
            ]
           ],
           "sequential": [
            [
             0,
             "#0d0887"
            ],
            [
             0.1111111111111111,
             "#46039f"
            ],
            [
             0.2222222222222222,
             "#7201a8"
            ],
            [
             0.3333333333333333,
             "#9c179e"
            ],
            [
             0.4444444444444444,
             "#bd3786"
            ],
            [
             0.5555555555555556,
             "#d8576b"
            ],
            [
             0.6666666666666666,
             "#ed7953"
            ],
            [
             0.7777777777777778,
             "#fb9f3a"
            ],
            [
             0.8888888888888888,
             "#fdca26"
            ],
            [
             1,
             "#f0f921"
            ]
           ],
           "sequentialminus": [
            [
             0,
             "#0d0887"
            ],
            [
             0.1111111111111111,
             "#46039f"
            ],
            [
             0.2222222222222222,
             "#7201a8"
            ],
            [
             0.3333333333333333,
             "#9c179e"
            ],
            [
             0.4444444444444444,
             "#bd3786"
            ],
            [
             0.5555555555555556,
             "#d8576b"
            ],
            [
             0.6666666666666666,
             "#ed7953"
            ],
            [
             0.7777777777777778,
             "#fb9f3a"
            ],
            [
             0.8888888888888888,
             "#fdca26"
            ],
            [
             1,
             "#f0f921"
            ]
           ]
          },
          "colorway": [
           "#636efa",
           "#EF553B",
           "#00cc96",
           "#ab63fa",
           "#FFA15A",
           "#19d3f3",
           "#FF6692",
           "#B6E880",
           "#FF97FF",
           "#FECB52"
          ],
          "font": {
           "color": "#2a3f5f"
          },
          "geo": {
           "bgcolor": "white",
           "lakecolor": "white",
           "landcolor": "#E5ECF6",
           "showlakes": true,
           "showland": true,
           "subunitcolor": "white"
          },
          "hoverlabel": {
           "align": "left"
          },
          "hovermode": "closest",
          "mapbox": {
           "style": "light"
          },
          "paper_bgcolor": "white",
          "plot_bgcolor": "#E5ECF6",
          "polar": {
           "angularaxis": {
            "gridcolor": "white",
            "linecolor": "white",
            "ticks": ""
           },
           "bgcolor": "#E5ECF6",
           "radialaxis": {
            "gridcolor": "white",
            "linecolor": "white",
            "ticks": ""
           }
          },
          "scene": {
           "xaxis": {
            "backgroundcolor": "#E5ECF6",
            "gridcolor": "white",
            "gridwidth": 2,
            "linecolor": "white",
            "showbackground": true,
            "ticks": "",
            "zerolinecolor": "white"
           },
           "yaxis": {
            "backgroundcolor": "#E5ECF6",
            "gridcolor": "white",
            "gridwidth": 2,
            "linecolor": "white",
            "showbackground": true,
            "ticks": "",
            "zerolinecolor": "white"
           },
           "zaxis": {
            "backgroundcolor": "#E5ECF6",
            "gridcolor": "white",
            "gridwidth": 2,
            "linecolor": "white",
            "showbackground": true,
            "ticks": "",
            "zerolinecolor": "white"
           }
          },
          "shapedefaults": {
           "line": {
            "color": "#2a3f5f"
           }
          },
          "ternary": {
           "aaxis": {
            "gridcolor": "white",
            "linecolor": "white",
            "ticks": ""
           },
           "baxis": {
            "gridcolor": "white",
            "linecolor": "white",
            "ticks": ""
           },
           "bgcolor": "#E5ECF6",
           "caxis": {
            "gridcolor": "white",
            "linecolor": "white",
            "ticks": ""
           }
          },
          "title": {
           "x": 0.05
          },
          "xaxis": {
           "automargin": true,
           "gridcolor": "white",
           "linecolor": "white",
           "ticks": "",
           "title": {
            "standoff": 15
           },
           "zerolinecolor": "white",
           "zerolinewidth": 2
          },
          "yaxis": {
           "automargin": true,
           "gridcolor": "white",
           "linecolor": "white",
           "ticks": "",
           "title": {
            "standoff": 15
           },
           "zerolinecolor": "white",
           "zerolinewidth": 2
          }
         }
        },
        "title": {
         "text": "MAYOR CAUSA DE MUERTE HISTÓRICA EN ESPAÑA"
        },
        "xaxis": {
         "anchor": "y",
         "domain": [
          0,
          1
         ],
         "title": {
          "text": "Total"
         }
        },
        "yaxis": {
         "anchor": "x",
         "domain": [
          0,
          1
         ],
         "title": {
          "text": "cause_code"
         }
        }
       }
      },
      "text/html": [
       "<div>                            <div id=\"49523709-c00f-4137-9c87-0eb0ac0d213e\" class=\"plotly-graph-div\" style=\"height:525px; width:100%;\"></div>            <script type=\"text/javascript\">                require([\"plotly\"], function(Plotly) {                    window.PLOTLYENV=window.PLOTLYENV || {};                                    if (document.getElementById(\"49523709-c00f-4137-9c87-0eb0ac0d213e\")) {                    Plotly.newPlot(                        \"49523709-c00f-4137-9c87-0eb0ac0d213e\",                        [{\"alignmentgroup\":\"True\",\"hovertemplate\":\"Total=%{x}<br>cause_code=%{y}<extra></extra>\",\"legendgroup\":\"\",\"marker\":{\"color\":\"#636efa\",\"pattern\":{\"shape\":\"\"}},\"name\":\"\",\"offsetgroup\":\"\",\"orientation\":\"h\",\"showlegend\":false,\"textposition\":\"auto\",\"x\":[3016,131656,187080,192240,197136,464248,984972,1339144,1611472,1727316,1734160,1832240,2516624,2946224,5943228,14237728,19605948],\"xaxis\":\"x\",\"y\":[\"081\",\"073\",\"082\",\"083-085\",\"042-043\",\"074-076\",\"001-008\",\"077-080\",\"046-049\",\"086-089\",\"044-045\",\"050-052\",\"090-102\",\"068-072\",\"062-067\",\"009-041\",\"053-061\"],\"yaxis\":\"y\",\"type\":\"bar\"}],                        {\"template\":{\"data\":{\"histogram2dcontour\":[{\"type\":\"histogram2dcontour\",\"colorbar\":{\"outlinewidth\":0,\"ticks\":\"\"},\"colorscale\":[[0.0,\"#0d0887\"],[0.1111111111111111,\"#46039f\"],[0.2222222222222222,\"#7201a8\"],[0.3333333333333333,\"#9c179e\"],[0.4444444444444444,\"#bd3786\"],[0.5555555555555556,\"#d8576b\"],[0.6666666666666666,\"#ed7953\"],[0.7777777777777778,\"#fb9f3a\"],[0.8888888888888888,\"#fdca26\"],[1.0,\"#f0f921\"]]}],\"choropleth\":[{\"type\":\"choropleth\",\"colorbar\":{\"outlinewidth\":0,\"ticks\":\"\"}}],\"histogram2d\":[{\"type\":\"histogram2d\",\"colorbar\":{\"outlinewidth\":0,\"ticks\":\"\"},\"colorscale\":[[0.0,\"#0d0887\"],[0.1111111111111111,\"#46039f\"],[0.2222222222222222,\"#7201a8\"],[0.3333333333333333,\"#9c179e\"],[0.4444444444444444,\"#bd3786\"],[0.5555555555555556,\"#d8576b\"],[0.6666666666666666,\"#ed7953\"],[0.7777777777777778,\"#fb9f3a\"],[0.8888888888888888,\"#fdca26\"],[1.0,\"#f0f921\"]]}],\"heatmap\":[{\"type\":\"heatmap\",\"colorbar\":{\"outlinewidth\":0,\"ticks\":\"\"},\"colorscale\":[[0.0,\"#0d0887\"],[0.1111111111111111,\"#46039f\"],[0.2222222222222222,\"#7201a8\"],[0.3333333333333333,\"#9c179e\"],[0.4444444444444444,\"#bd3786\"],[0.5555555555555556,\"#d8576b\"],[0.6666666666666666,\"#ed7953\"],[0.7777777777777778,\"#fb9f3a\"],[0.8888888888888888,\"#fdca26\"],[1.0,\"#f0f921\"]]}],\"heatmapgl\":[{\"type\":\"heatmapgl\",\"colorbar\":{\"outlinewidth\":0,\"ticks\":\"\"},\"colorscale\":[[0.0,\"#0d0887\"],[0.1111111111111111,\"#46039f\"],[0.2222222222222222,\"#7201a8\"],[0.3333333333333333,\"#9c179e\"],[0.4444444444444444,\"#bd3786\"],[0.5555555555555556,\"#d8576b\"],[0.6666666666666666,\"#ed7953\"],[0.7777777777777778,\"#fb9f3a\"],[0.8888888888888888,\"#fdca26\"],[1.0,\"#f0f921\"]]}],\"contourcarpet\":[{\"type\":\"contourcarpet\",\"colorbar\":{\"outlinewidth\":0,\"ticks\":\"\"}}],\"contour\":[{\"type\":\"contour\",\"colorbar\":{\"outlinewidth\":0,\"ticks\":\"\"},\"colorscale\":[[0.0,\"#0d0887\"],[0.1111111111111111,\"#46039f\"],[0.2222222222222222,\"#7201a8\"],[0.3333333333333333,\"#9c179e\"],[0.4444444444444444,\"#bd3786\"],[0.5555555555555556,\"#d8576b\"],[0.6666666666666666,\"#ed7953\"],[0.7777777777777778,\"#fb9f3a\"],[0.8888888888888888,\"#fdca26\"],[1.0,\"#f0f921\"]]}],\"surface\":[{\"type\":\"surface\",\"colorbar\":{\"outlinewidth\":0,\"ticks\":\"\"},\"colorscale\":[[0.0,\"#0d0887\"],[0.1111111111111111,\"#46039f\"],[0.2222222222222222,\"#7201a8\"],[0.3333333333333333,\"#9c179e\"],[0.4444444444444444,\"#bd3786\"],[0.5555555555555556,\"#d8576b\"],[0.6666666666666666,\"#ed7953\"],[0.7777777777777778,\"#fb9f3a\"],[0.8888888888888888,\"#fdca26\"],[1.0,\"#f0f921\"]]}],\"mesh3d\":[{\"type\":\"mesh3d\",\"colorbar\":{\"outlinewidth\":0,\"ticks\":\"\"}}],\"scatter\":[{\"fillpattern\":{\"fillmode\":\"overlay\",\"size\":10,\"solidity\":0.2},\"type\":\"scatter\"}],\"parcoords\":[{\"type\":\"parcoords\",\"line\":{\"colorbar\":{\"outlinewidth\":0,\"ticks\":\"\"}}}],\"scatterpolargl\":[{\"type\":\"scatterpolargl\",\"marker\":{\"colorbar\":{\"outlinewidth\":0,\"ticks\":\"\"}}}],\"bar\":[{\"error_x\":{\"color\":\"#2a3f5f\"},\"error_y\":{\"color\":\"#2a3f5f\"},\"marker\":{\"line\":{\"color\":\"#E5ECF6\",\"width\":0.5},\"pattern\":{\"fillmode\":\"overlay\",\"size\":10,\"solidity\":0.2}},\"type\":\"bar\"}],\"scattergeo\":[{\"type\":\"scattergeo\",\"marker\":{\"colorbar\":{\"outlinewidth\":0,\"ticks\":\"\"}}}],\"scatterpolar\":[{\"type\":\"scatterpolar\",\"marker\":{\"colorbar\":{\"outlinewidth\":0,\"ticks\":\"\"}}}],\"histogram\":[{\"marker\":{\"pattern\":{\"fillmode\":\"overlay\",\"size\":10,\"solidity\":0.2}},\"type\":\"histogram\"}],\"scattergl\":[{\"type\":\"scattergl\",\"marker\":{\"colorbar\":{\"outlinewidth\":0,\"ticks\":\"\"}}}],\"scatter3d\":[{\"type\":\"scatter3d\",\"line\":{\"colorbar\":{\"outlinewidth\":0,\"ticks\":\"\"}},\"marker\":{\"colorbar\":{\"outlinewidth\":0,\"ticks\":\"\"}}}],\"scattermapbox\":[{\"type\":\"scattermapbox\",\"marker\":{\"colorbar\":{\"outlinewidth\":0,\"ticks\":\"\"}}}],\"scatterternary\":[{\"type\":\"scatterternary\",\"marker\":{\"colorbar\":{\"outlinewidth\":0,\"ticks\":\"\"}}}],\"scattercarpet\":[{\"type\":\"scattercarpet\",\"marker\":{\"colorbar\":{\"outlinewidth\":0,\"ticks\":\"\"}}}],\"carpet\":[{\"aaxis\":{\"endlinecolor\":\"#2a3f5f\",\"gridcolor\":\"white\",\"linecolor\":\"white\",\"minorgridcolor\":\"white\",\"startlinecolor\":\"#2a3f5f\"},\"baxis\":{\"endlinecolor\":\"#2a3f5f\",\"gridcolor\":\"white\",\"linecolor\":\"white\",\"minorgridcolor\":\"white\",\"startlinecolor\":\"#2a3f5f\"},\"type\":\"carpet\"}],\"table\":[{\"cells\":{\"fill\":{\"color\":\"#EBF0F8\"},\"line\":{\"color\":\"white\"}},\"header\":{\"fill\":{\"color\":\"#C8D4E3\"},\"line\":{\"color\":\"white\"}},\"type\":\"table\"}],\"barpolar\":[{\"marker\":{\"line\":{\"color\":\"#E5ECF6\",\"width\":0.5},\"pattern\":{\"fillmode\":\"overlay\",\"size\":10,\"solidity\":0.2}},\"type\":\"barpolar\"}],\"pie\":[{\"automargin\":true,\"type\":\"pie\"}]},\"layout\":{\"autotypenumbers\":\"strict\",\"colorway\":[\"#636efa\",\"#EF553B\",\"#00cc96\",\"#ab63fa\",\"#FFA15A\",\"#19d3f3\",\"#FF6692\",\"#B6E880\",\"#FF97FF\",\"#FECB52\"],\"font\":{\"color\":\"#2a3f5f\"},\"hovermode\":\"closest\",\"hoverlabel\":{\"align\":\"left\"},\"paper_bgcolor\":\"white\",\"plot_bgcolor\":\"#E5ECF6\",\"polar\":{\"bgcolor\":\"#E5ECF6\",\"angularaxis\":{\"gridcolor\":\"white\",\"linecolor\":\"white\",\"ticks\":\"\"},\"radialaxis\":{\"gridcolor\":\"white\",\"linecolor\":\"white\",\"ticks\":\"\"}},\"ternary\":{\"bgcolor\":\"#E5ECF6\",\"aaxis\":{\"gridcolor\":\"white\",\"linecolor\":\"white\",\"ticks\":\"\"},\"baxis\":{\"gridcolor\":\"white\",\"linecolor\":\"white\",\"ticks\":\"\"},\"caxis\":{\"gridcolor\":\"white\",\"linecolor\":\"white\",\"ticks\":\"\"}},\"coloraxis\":{\"colorbar\":{\"outlinewidth\":0,\"ticks\":\"\"}},\"colorscale\":{\"sequential\":[[0.0,\"#0d0887\"],[0.1111111111111111,\"#46039f\"],[0.2222222222222222,\"#7201a8\"],[0.3333333333333333,\"#9c179e\"],[0.4444444444444444,\"#bd3786\"],[0.5555555555555556,\"#d8576b\"],[0.6666666666666666,\"#ed7953\"],[0.7777777777777778,\"#fb9f3a\"],[0.8888888888888888,\"#fdca26\"],[1.0,\"#f0f921\"]],\"sequentialminus\":[[0.0,\"#0d0887\"],[0.1111111111111111,\"#46039f\"],[0.2222222222222222,\"#7201a8\"],[0.3333333333333333,\"#9c179e\"],[0.4444444444444444,\"#bd3786\"],[0.5555555555555556,\"#d8576b\"],[0.6666666666666666,\"#ed7953\"],[0.7777777777777778,\"#fb9f3a\"],[0.8888888888888888,\"#fdca26\"],[1.0,\"#f0f921\"]],\"diverging\":[[0,\"#8e0152\"],[0.1,\"#c51b7d\"],[0.2,\"#de77ae\"],[0.3,\"#f1b6da\"],[0.4,\"#fde0ef\"],[0.5,\"#f7f7f7\"],[0.6,\"#e6f5d0\"],[0.7,\"#b8e186\"],[0.8,\"#7fbc41\"],[0.9,\"#4d9221\"],[1,\"#276419\"]]},\"xaxis\":{\"gridcolor\":\"white\",\"linecolor\":\"white\",\"ticks\":\"\",\"title\":{\"standoff\":15},\"zerolinecolor\":\"white\",\"automargin\":true,\"zerolinewidth\":2},\"yaxis\":{\"gridcolor\":\"white\",\"linecolor\":\"white\",\"ticks\":\"\",\"title\":{\"standoff\":15},\"zerolinecolor\":\"white\",\"automargin\":true,\"zerolinewidth\":2},\"scene\":{\"xaxis\":{\"backgroundcolor\":\"#E5ECF6\",\"gridcolor\":\"white\",\"linecolor\":\"white\",\"showbackground\":true,\"ticks\":\"\",\"zerolinecolor\":\"white\",\"gridwidth\":2},\"yaxis\":{\"backgroundcolor\":\"#E5ECF6\",\"gridcolor\":\"white\",\"linecolor\":\"white\",\"showbackground\":true,\"ticks\":\"\",\"zerolinecolor\":\"white\",\"gridwidth\":2},\"zaxis\":{\"backgroundcolor\":\"#E5ECF6\",\"gridcolor\":\"white\",\"linecolor\":\"white\",\"showbackground\":true,\"ticks\":\"\",\"zerolinecolor\":\"white\",\"gridwidth\":2}},\"shapedefaults\":{\"line\":{\"color\":\"#2a3f5f\"}},\"annotationdefaults\":{\"arrowcolor\":\"#2a3f5f\",\"arrowhead\":0,\"arrowwidth\":1},\"geo\":{\"bgcolor\":\"white\",\"landcolor\":\"#E5ECF6\",\"subunitcolor\":\"white\",\"showland\":true,\"showlakes\":true,\"lakecolor\":\"white\"},\"title\":{\"x\":0.05},\"mapbox\":{\"style\":\"light\"}}},\"xaxis\":{\"anchor\":\"y\",\"domain\":[0.0,1.0],\"title\":{\"text\":\"Total\"}},\"yaxis\":{\"anchor\":\"x\",\"domain\":[0.0,1.0],\"title\":{\"text\":\"cause_code\"}},\"legend\":{\"tracegroupgap\":0},\"title\":{\"text\":\"MAYOR CAUSA DE MUERTE HIST\\u00d3RICA EN ESPA\\u00d1A\"},\"barmode\":\"relative\"},                        {\"responsive\": true}                    ).then(function(){\n",
       "                            \n",
       "var gd = document.getElementById('49523709-c00f-4137-9c87-0eb0ac0d213e');\n",
       "var x = new MutationObserver(function (mutations, observer) {{\n",
       "        var display = window.getComputedStyle(gd).display;\n",
       "        if (!display || display === 'none') {{\n",
       "            console.log([gd, 'removed!']);\n",
       "            Plotly.purge(gd);\n",
       "            observer.disconnect();\n",
       "        }}\n",
       "}});\n",
       "\n",
       "// Listen for the removal of the full notebook cells\n",
       "var notebookContainer = gd.closest('#notebook-container');\n",
       "if (notebookContainer) {{\n",
       "    x.observe(notebookContainer, {childList: true});\n",
       "}}\n",
       "\n",
       "// Listen for the clearing of the current output cell\n",
       "var outputEl = gd.closest('.output');\n",
       "if (outputEl) {{\n",
       "    x.observe(outputEl, {childList: true});\n",
       "}}\n",
       "\n",
       "                        })                };                });            </script>        </div>"
      ]
     },
     "metadata": {},
     "output_type": "display_data"
    }
   ],
   "source": [
    "px.bar(muerte_historica_3, x=\"Total\", y=\"cause_code\", orientation='h', \n",
    "                   title = \"MAYOR CAUSA DE MUERTE HISTÓRICA EN ESPAÑA\")"
   ]
  },
  {
   "cell_type": "code",
   "execution_count": 23,
   "metadata": {
    "scrolled": false
   },
   "outputs": [
    {
     "data": {
      "text/html": [
       "<div>\n",
       "<style scoped>\n",
       "    .dataframe tbody tr th:only-of-type {\n",
       "        vertical-align: middle;\n",
       "    }\n",
       "\n",
       "    .dataframe tbody tr th {\n",
       "        vertical-align: top;\n",
       "    }\n",
       "\n",
       "    .dataframe thead th {\n",
       "        text-align: right;\n",
       "    }\n",
       "</style>\n",
       "<table border=\"1\" class=\"dataframe\">\n",
       "  <thead>\n",
       "    <tr style=\"text-align: right;\">\n",
       "      <th></th>\n",
       "      <th>cause_code</th>\n",
       "      <th>Causa de muerte</th>\n",
       "    </tr>\n",
       "  </thead>\n",
       "  <tbody>\n",
       "    <tr>\n",
       "      <th>0</th>\n",
       "      <td>001-008</td>\n",
       "      <td>001-008  I.Enfermedades infecciosas y parasita...</td>\n",
       "    </tr>\n",
       "    <tr>\n",
       "      <th>1</th>\n",
       "      <td>009-041</td>\n",
       "      <td>009-041  II.Tumores009-041  II.Tumores009-041 ...</td>\n",
       "    </tr>\n",
       "    <tr>\n",
       "      <th>2</th>\n",
       "      <td>042-043</td>\n",
       "      <td>042-043  III.Enfermedades de la sangre y de lo...</td>\n",
       "    </tr>\n",
       "    <tr>\n",
       "      <th>3</th>\n",
       "      <td>044-045</td>\n",
       "      <td>044-045  IV.Enfermedades endocrinas, nutricion...</td>\n",
       "    </tr>\n",
       "    <tr>\n",
       "      <th>4</th>\n",
       "      <td>046-049</td>\n",
       "      <td>046-049  V.Trastornos mentales y del comportam...</td>\n",
       "    </tr>\n",
       "    <tr>\n",
       "      <th>5</th>\n",
       "      <td>050-052</td>\n",
       "      <td>050-052  VI-VIII.Enfermedades del sistema nerv...</td>\n",
       "    </tr>\n",
       "    <tr>\n",
       "      <th>6</th>\n",
       "      <td>053-061</td>\n",
       "      <td>053-061 IX.Enfermedades del sistema circulator...</td>\n",
       "    </tr>\n",
       "    <tr>\n",
       "      <th>7</th>\n",
       "      <td>062-067</td>\n",
       "      <td>062-067  X.Enfermedades del sistema respirator...</td>\n",
       "    </tr>\n",
       "    <tr>\n",
       "      <th>8</th>\n",
       "      <td>068-072</td>\n",
       "      <td>068-072  XI.Enfermedades del sistema digestivo...</td>\n",
       "    </tr>\n",
       "    <tr>\n",
       "      <th>9</th>\n",
       "      <td>073</td>\n",
       "      <td>073  XII.Enfermedades de la piel y del tejido ...</td>\n",
       "    </tr>\n",
       "    <tr>\n",
       "      <th>10</th>\n",
       "      <td>074-076</td>\n",
       "      <td>074-076  XIII.Enfermedades del sistema osteomu...</td>\n",
       "    </tr>\n",
       "    <tr>\n",
       "      <th>11</th>\n",
       "      <td>077-080</td>\n",
       "      <td>077-080  XIV.Enfermedades del sistema genitour...</td>\n",
       "    </tr>\n",
       "    <tr>\n",
       "      <th>12</th>\n",
       "      <td>081</td>\n",
       "      <td>081  XV.Embarazo, parto y puerperio081  XV.Emb...</td>\n",
       "    </tr>\n",
       "    <tr>\n",
       "      <th>13</th>\n",
       "      <td>082</td>\n",
       "      <td>082  XVI.Afecciones originadas en el periodo p...</td>\n",
       "    </tr>\n",
       "    <tr>\n",
       "      <th>14</th>\n",
       "      <td>083-085</td>\n",
       "      <td>083-085  XVII.Malformaciones congénitas, defor...</td>\n",
       "    </tr>\n",
       "    <tr>\n",
       "      <th>15</th>\n",
       "      <td>086-089</td>\n",
       "      <td>086-089  XVIII.Síntomas, signos y hallazgos an...</td>\n",
       "    </tr>\n",
       "    <tr>\n",
       "      <th>16</th>\n",
       "      <td>090-102</td>\n",
       "      <td>090-102  XX.Causas externas de mortalidad090-1...</td>\n",
       "    </tr>\n",
       "  </tbody>\n",
       "</table>\n",
       "</div>"
      ],
      "text/plain": [
       "   cause_code                                    Causa de muerte\n",
       "0     001-008  001-008  I.Enfermedades infecciosas y parasita...\n",
       "1     009-041  009-041  II.Tumores009-041  II.Tumores009-041 ...\n",
       "2     042-043  042-043  III.Enfermedades de la sangre y de lo...\n",
       "3     044-045  044-045  IV.Enfermedades endocrinas, nutricion...\n",
       "4     046-049  046-049  V.Trastornos mentales y del comportam...\n",
       "5     050-052  050-052  VI-VIII.Enfermedades del sistema nerv...\n",
       "6     053-061  053-061 IX.Enfermedades del sistema circulator...\n",
       "7     062-067  062-067  X.Enfermedades del sistema respirator...\n",
       "8     068-072  068-072  XI.Enfermedades del sistema digestivo...\n",
       "9         073  073  XII.Enfermedades de la piel y del tejido ...\n",
       "10    074-076  074-076  XIII.Enfermedades del sistema osteomu...\n",
       "11    077-080  077-080  XIV.Enfermedades del sistema genitour...\n",
       "12        081  081  XV.Embarazo, parto y puerperio081  XV.Emb...\n",
       "13        082  082  XVI.Afecciones originadas en el periodo p...\n",
       "14    083-085  083-085  XVII.Malformaciones congénitas, defor...\n",
       "15    086-089  086-089  XVIII.Síntomas, signos y hallazgos an...\n",
       "16    090-102  090-102  XX.Causas externas de mortalidad090-1..."
      ]
     },
     "execution_count": 23,
     "metadata": {},
     "output_type": "execute_result"
    }
   ],
   "source": [
    "code_meaning = mod.row_filter(deaths, 'cause_code', \n",
    "                                   ['001-008', '009-041', '042-043', '044-045', \n",
    "                                    '046-049', '050-052', '053-061', '062-067', '068-072', '073', \n",
    "                                    '074-076', '077-080', '081', '082', '083-085', '086-089', '090-102'])\n",
    "code_meaning_2 = code_meaning[['cause_code', 'Causa de muerte']].groupby(['cause_code'], \n",
    "                    as_index=False).sum().sort_values(by = 'cause_code', ascending= True)\n",
    "code_meaning_2"
   ]
  },
  {
   "cell_type": "markdown",
   "metadata": {},
   "source": [
    "# PRINCIPALES CAUSAS DE MUERTE INFANTIL"
   ]
  },
  {
   "cell_type": "code",
   "execution_count": 72,
   "metadata": {
    "scrolled": false
   },
   "outputs": [
    {
     "data": {
      "application/vnd.plotly.v1+json": {
       "config": {
        "linkText": "Export to plot.ly",
        "plotlyServerURL": "https://plot.ly",
        "showLink": true
       },
       "data": [
        {
         "marker": {
          "color": "rgba(255, 153, 51, 0.6)",
          "line": {
           "color": "rgba(255, 153, 51, 1.0)",
           "width": 1
          }
         },
         "name": "Total",
         "orientation": "v",
         "text": "",
         "type": "bar",
         "x": [
          "082",
          "083-085",
          "090-102",
          "009-041",
          "086-089",
          "062-067",
          "001-008",
          "050-052",
          "053-061",
          "044-045",
          "068-072",
          "042-043",
          "077-080",
          "074-076",
          "046-049",
          "073",
          "081"
         ],
         "y": [
          46296,
          33509,
          14482,
          8454,
          7573,
          6194,
          6167,
          6032,
          4293,
          2744,
          1419,
          1033,
          580,
          79,
          53,
          24,
          0
         ]
        }
       ],
       "layout": {
        "legend": {
         "bgcolor": "#F5F6F9",
         "font": {
          "color": "#4D5663"
         }
        },
        "paper_bgcolor": "#F5F6F9",
        "plot_bgcolor": "#F5F6F9",
        "template": {
         "data": {
          "bar": [
           {
            "error_x": {
             "color": "#2a3f5f"
            },
            "error_y": {
             "color": "#2a3f5f"
            },
            "marker": {
             "line": {
              "color": "#E5ECF6",
              "width": 0.5
             },
             "pattern": {
              "fillmode": "overlay",
              "size": 10,
              "solidity": 0.2
             }
            },
            "type": "bar"
           }
          ],
          "barpolar": [
           {
            "marker": {
             "line": {
              "color": "#E5ECF6",
              "width": 0.5
             },
             "pattern": {
              "fillmode": "overlay",
              "size": 10,
              "solidity": 0.2
             }
            },
            "type": "barpolar"
           }
          ],
          "carpet": [
           {
            "aaxis": {
             "endlinecolor": "#2a3f5f",
             "gridcolor": "white",
             "linecolor": "white",
             "minorgridcolor": "white",
             "startlinecolor": "#2a3f5f"
            },
            "baxis": {
             "endlinecolor": "#2a3f5f",
             "gridcolor": "white",
             "linecolor": "white",
             "minorgridcolor": "white",
             "startlinecolor": "#2a3f5f"
            },
            "type": "carpet"
           }
          ],
          "choropleth": [
           {
            "colorbar": {
             "outlinewidth": 0,
             "ticks": ""
            },
            "type": "choropleth"
           }
          ],
          "contour": [
           {
            "colorbar": {
             "outlinewidth": 0,
             "ticks": ""
            },
            "colorscale": [
             [
              0,
              "#0d0887"
             ],
             [
              0.1111111111111111,
              "#46039f"
             ],
             [
              0.2222222222222222,
              "#7201a8"
             ],
             [
              0.3333333333333333,
              "#9c179e"
             ],
             [
              0.4444444444444444,
              "#bd3786"
             ],
             [
              0.5555555555555556,
              "#d8576b"
             ],
             [
              0.6666666666666666,
              "#ed7953"
             ],
             [
              0.7777777777777778,
              "#fb9f3a"
             ],
             [
              0.8888888888888888,
              "#fdca26"
             ],
             [
              1,
              "#f0f921"
             ]
            ],
            "type": "contour"
           }
          ],
          "contourcarpet": [
           {
            "colorbar": {
             "outlinewidth": 0,
             "ticks": ""
            },
            "type": "contourcarpet"
           }
          ],
          "heatmap": [
           {
            "colorbar": {
             "outlinewidth": 0,
             "ticks": ""
            },
            "colorscale": [
             [
              0,
              "#0d0887"
             ],
             [
              0.1111111111111111,
              "#46039f"
             ],
             [
              0.2222222222222222,
              "#7201a8"
             ],
             [
              0.3333333333333333,
              "#9c179e"
             ],
             [
              0.4444444444444444,
              "#bd3786"
             ],
             [
              0.5555555555555556,
              "#d8576b"
             ],
             [
              0.6666666666666666,
              "#ed7953"
             ],
             [
              0.7777777777777778,
              "#fb9f3a"
             ],
             [
              0.8888888888888888,
              "#fdca26"
             ],
             [
              1,
              "#f0f921"
             ]
            ],
            "type": "heatmap"
           }
          ],
          "heatmapgl": [
           {
            "colorbar": {
             "outlinewidth": 0,
             "ticks": ""
            },
            "colorscale": [
             [
              0,
              "#0d0887"
             ],
             [
              0.1111111111111111,
              "#46039f"
             ],
             [
              0.2222222222222222,
              "#7201a8"
             ],
             [
              0.3333333333333333,
              "#9c179e"
             ],
             [
              0.4444444444444444,
              "#bd3786"
             ],
             [
              0.5555555555555556,
              "#d8576b"
             ],
             [
              0.6666666666666666,
              "#ed7953"
             ],
             [
              0.7777777777777778,
              "#fb9f3a"
             ],
             [
              0.8888888888888888,
              "#fdca26"
             ],
             [
              1,
              "#f0f921"
             ]
            ],
            "type": "heatmapgl"
           }
          ],
          "histogram": [
           {
            "marker": {
             "pattern": {
              "fillmode": "overlay",
              "size": 10,
              "solidity": 0.2
             }
            },
            "type": "histogram"
           }
          ],
          "histogram2d": [
           {
            "colorbar": {
             "outlinewidth": 0,
             "ticks": ""
            },
            "colorscale": [
             [
              0,
              "#0d0887"
             ],
             [
              0.1111111111111111,
              "#46039f"
             ],
             [
              0.2222222222222222,
              "#7201a8"
             ],
             [
              0.3333333333333333,
              "#9c179e"
             ],
             [
              0.4444444444444444,
              "#bd3786"
             ],
             [
              0.5555555555555556,
              "#d8576b"
             ],
             [
              0.6666666666666666,
              "#ed7953"
             ],
             [
              0.7777777777777778,
              "#fb9f3a"
             ],
             [
              0.8888888888888888,
              "#fdca26"
             ],
             [
              1,
              "#f0f921"
             ]
            ],
            "type": "histogram2d"
           }
          ],
          "histogram2dcontour": [
           {
            "colorbar": {
             "outlinewidth": 0,
             "ticks": ""
            },
            "colorscale": [
             [
              0,
              "#0d0887"
             ],
             [
              0.1111111111111111,
              "#46039f"
             ],
             [
              0.2222222222222222,
              "#7201a8"
             ],
             [
              0.3333333333333333,
              "#9c179e"
             ],
             [
              0.4444444444444444,
              "#bd3786"
             ],
             [
              0.5555555555555556,
              "#d8576b"
             ],
             [
              0.6666666666666666,
              "#ed7953"
             ],
             [
              0.7777777777777778,
              "#fb9f3a"
             ],
             [
              0.8888888888888888,
              "#fdca26"
             ],
             [
              1,
              "#f0f921"
             ]
            ],
            "type": "histogram2dcontour"
           }
          ],
          "mesh3d": [
           {
            "colorbar": {
             "outlinewidth": 0,
             "ticks": ""
            },
            "type": "mesh3d"
           }
          ],
          "parcoords": [
           {
            "line": {
             "colorbar": {
              "outlinewidth": 0,
              "ticks": ""
             }
            },
            "type": "parcoords"
           }
          ],
          "pie": [
           {
            "automargin": true,
            "type": "pie"
           }
          ],
          "scatter": [
           {
            "fillpattern": {
             "fillmode": "overlay",
             "size": 10,
             "solidity": 0.2
            },
            "type": "scatter"
           }
          ],
          "scatter3d": [
           {
            "line": {
             "colorbar": {
              "outlinewidth": 0,
              "ticks": ""
             }
            },
            "marker": {
             "colorbar": {
              "outlinewidth": 0,
              "ticks": ""
             }
            },
            "type": "scatter3d"
           }
          ],
          "scattercarpet": [
           {
            "marker": {
             "colorbar": {
              "outlinewidth": 0,
              "ticks": ""
             }
            },
            "type": "scattercarpet"
           }
          ],
          "scattergeo": [
           {
            "marker": {
             "colorbar": {
              "outlinewidth": 0,
              "ticks": ""
             }
            },
            "type": "scattergeo"
           }
          ],
          "scattergl": [
           {
            "marker": {
             "colorbar": {
              "outlinewidth": 0,
              "ticks": ""
             }
            },
            "type": "scattergl"
           }
          ],
          "scattermapbox": [
           {
            "marker": {
             "colorbar": {
              "outlinewidth": 0,
              "ticks": ""
             }
            },
            "type": "scattermapbox"
           }
          ],
          "scatterpolar": [
           {
            "marker": {
             "colorbar": {
              "outlinewidth": 0,
              "ticks": ""
             }
            },
            "type": "scatterpolar"
           }
          ],
          "scatterpolargl": [
           {
            "marker": {
             "colorbar": {
              "outlinewidth": 0,
              "ticks": ""
             }
            },
            "type": "scatterpolargl"
           }
          ],
          "scatterternary": [
           {
            "marker": {
             "colorbar": {
              "outlinewidth": 0,
              "ticks": ""
             }
            },
            "type": "scatterternary"
           }
          ],
          "surface": [
           {
            "colorbar": {
             "outlinewidth": 0,
             "ticks": ""
            },
            "colorscale": [
             [
              0,
              "#0d0887"
             ],
             [
              0.1111111111111111,
              "#46039f"
             ],
             [
              0.2222222222222222,
              "#7201a8"
             ],
             [
              0.3333333333333333,
              "#9c179e"
             ],
             [
              0.4444444444444444,
              "#bd3786"
             ],
             [
              0.5555555555555556,
              "#d8576b"
             ],
             [
              0.6666666666666666,
              "#ed7953"
             ],
             [
              0.7777777777777778,
              "#fb9f3a"
             ],
             [
              0.8888888888888888,
              "#fdca26"
             ],
             [
              1,
              "#f0f921"
             ]
            ],
            "type": "surface"
           }
          ],
          "table": [
           {
            "cells": {
             "fill": {
              "color": "#EBF0F8"
             },
             "line": {
              "color": "white"
             }
            },
            "header": {
             "fill": {
              "color": "#C8D4E3"
             },
             "line": {
              "color": "white"
             }
            },
            "type": "table"
           }
          ]
         },
         "layout": {
          "annotationdefaults": {
           "arrowcolor": "#2a3f5f",
           "arrowhead": 0,
           "arrowwidth": 1
          },
          "autotypenumbers": "strict",
          "coloraxis": {
           "colorbar": {
            "outlinewidth": 0,
            "ticks": ""
           }
          },
          "colorscale": {
           "diverging": [
            [
             0,
             "#8e0152"
            ],
            [
             0.1,
             "#c51b7d"
            ],
            [
             0.2,
             "#de77ae"
            ],
            [
             0.3,
             "#f1b6da"
            ],
            [
             0.4,
             "#fde0ef"
            ],
            [
             0.5,
             "#f7f7f7"
            ],
            [
             0.6,
             "#e6f5d0"
            ],
            [
             0.7,
             "#b8e186"
            ],
            [
             0.8,
             "#7fbc41"
            ],
            [
             0.9,
             "#4d9221"
            ],
            [
             1,
             "#276419"
            ]
           ],
           "sequential": [
            [
             0,
             "#0d0887"
            ],
            [
             0.1111111111111111,
             "#46039f"
            ],
            [
             0.2222222222222222,
             "#7201a8"
            ],
            [
             0.3333333333333333,
             "#9c179e"
            ],
            [
             0.4444444444444444,
             "#bd3786"
            ],
            [
             0.5555555555555556,
             "#d8576b"
            ],
            [
             0.6666666666666666,
             "#ed7953"
            ],
            [
             0.7777777777777778,
             "#fb9f3a"
            ],
            [
             0.8888888888888888,
             "#fdca26"
            ],
            [
             1,
             "#f0f921"
            ]
           ],
           "sequentialminus": [
            [
             0,
             "#0d0887"
            ],
            [
             0.1111111111111111,
             "#46039f"
            ],
            [
             0.2222222222222222,
             "#7201a8"
            ],
            [
             0.3333333333333333,
             "#9c179e"
            ],
            [
             0.4444444444444444,
             "#bd3786"
            ],
            [
             0.5555555555555556,
             "#d8576b"
            ],
            [
             0.6666666666666666,
             "#ed7953"
            ],
            [
             0.7777777777777778,
             "#fb9f3a"
            ],
            [
             0.8888888888888888,
             "#fdca26"
            ],
            [
             1,
             "#f0f921"
            ]
           ]
          },
          "colorway": [
           "#636efa",
           "#EF553B",
           "#00cc96",
           "#ab63fa",
           "#FFA15A",
           "#19d3f3",
           "#FF6692",
           "#B6E880",
           "#FF97FF",
           "#FECB52"
          ],
          "font": {
           "color": "#2a3f5f"
          },
          "geo": {
           "bgcolor": "white",
           "lakecolor": "white",
           "landcolor": "#E5ECF6",
           "showlakes": true,
           "showland": true,
           "subunitcolor": "white"
          },
          "hoverlabel": {
           "align": "left"
          },
          "hovermode": "closest",
          "mapbox": {
           "style": "light"
          },
          "paper_bgcolor": "white",
          "plot_bgcolor": "#E5ECF6",
          "polar": {
           "angularaxis": {
            "gridcolor": "white",
            "linecolor": "white",
            "ticks": ""
           },
           "bgcolor": "#E5ECF6",
           "radialaxis": {
            "gridcolor": "white",
            "linecolor": "white",
            "ticks": ""
           }
          },
          "scene": {
           "xaxis": {
            "backgroundcolor": "#E5ECF6",
            "gridcolor": "white",
            "gridwidth": 2,
            "linecolor": "white",
            "showbackground": true,
            "ticks": "",
            "zerolinecolor": "white"
           },
           "yaxis": {
            "backgroundcolor": "#E5ECF6",
            "gridcolor": "white",
            "gridwidth": 2,
            "linecolor": "white",
            "showbackground": true,
            "ticks": "",
            "zerolinecolor": "white"
           },
           "zaxis": {
            "backgroundcolor": "#E5ECF6",
            "gridcolor": "white",
            "gridwidth": 2,
            "linecolor": "white",
            "showbackground": true,
            "ticks": "",
            "zerolinecolor": "white"
           }
          },
          "shapedefaults": {
           "line": {
            "color": "#2a3f5f"
           }
          },
          "ternary": {
           "aaxis": {
            "gridcolor": "white",
            "linecolor": "white",
            "ticks": ""
           },
           "baxis": {
            "gridcolor": "white",
            "linecolor": "white",
            "ticks": ""
           },
           "bgcolor": "#E5ECF6",
           "caxis": {
            "gridcolor": "white",
            "linecolor": "white",
            "ticks": ""
           }
          },
          "title": {
           "x": 0.05
          },
          "xaxis": {
           "automargin": true,
           "gridcolor": "white",
           "linecolor": "white",
           "ticks": "",
           "title": {
            "standoff": 15
           },
           "zerolinecolor": "white",
           "zerolinewidth": 2
          },
          "yaxis": {
           "automargin": true,
           "gridcolor": "white",
           "linecolor": "white",
           "ticks": "",
           "title": {
            "standoff": 15
           },
           "zerolinecolor": "white",
           "zerolinewidth": 2
          }
         }
        },
        "title": {
         "font": {
          "color": "#4D5663"
         },
         "text": "PRINCIPALES CAUSAS DE MUERTE INFANTIL"
        },
        "xaxis": {
         "gridcolor": "#E1E5ED",
         "showgrid": true,
         "tickfont": {
          "color": "#4D5663"
         },
         "title": {
          "font": {
           "color": "#4D5663"
          },
          "text": "Causas de muerte infantil"
         },
         "zerolinecolor": "#E1E5ED"
        },
        "yaxis": {
         "gridcolor": "#E1E5ED",
         "showgrid": true,
         "tickfont": {
          "color": "#4D5663"
         },
         "title": {
          "font": {
           "color": "#4D5663"
          },
          "text": "Número de muertes"
         },
         "zerolinecolor": "#E1E5ED"
        }
       }
      },
      "text/html": [
       "<div>                            <div id=\"058a4926-701f-45be-969f-78d4cd3bffc3\" class=\"plotly-graph-div\" style=\"height:525px; width:100%;\"></div>            <script type=\"text/javascript\">                require([\"plotly\"], function(Plotly) {                    window.PLOTLYENV=window.PLOTLYENV || {};\n",
       "                    window.PLOTLYENV.BASE_URL='https://plot.ly';                                    if (document.getElementById(\"058a4926-701f-45be-969f-78d4cd3bffc3\")) {                    Plotly.newPlot(                        \"058a4926-701f-45be-969f-78d4cd3bffc3\",                        [{\"marker\":{\"color\":\"rgba(255, 153, 51, 0.6)\",\"line\":{\"color\":\"rgba(255, 153, 51, 1.0)\",\"width\":1}},\"name\":\"Total\",\"orientation\":\"v\",\"text\":\"\",\"x\":[\"082\",\"083-085\",\"090-102\",\"009-041\",\"086-089\",\"062-067\",\"001-008\",\"050-052\",\"053-061\",\"044-045\",\"068-072\",\"042-043\",\"077-080\",\"074-076\",\"046-049\",\"073\",\"081\"],\"y\":[46296,33509,14482,8454,7573,6194,6167,6032,4293,2744,1419,1033,580,79,53,24,0],\"type\":\"bar\"}],                        {\"legend\":{\"bgcolor\":\"#F5F6F9\",\"font\":{\"color\":\"#4D5663\"}},\"paper_bgcolor\":\"#F5F6F9\",\"plot_bgcolor\":\"#F5F6F9\",\"template\":{\"data\":{\"barpolar\":[{\"marker\":{\"line\":{\"color\":\"#E5ECF6\",\"width\":0.5},\"pattern\":{\"fillmode\":\"overlay\",\"size\":10,\"solidity\":0.2}},\"type\":\"barpolar\"}],\"bar\":[{\"error_x\":{\"color\":\"#2a3f5f\"},\"error_y\":{\"color\":\"#2a3f5f\"},\"marker\":{\"line\":{\"color\":\"#E5ECF6\",\"width\":0.5},\"pattern\":{\"fillmode\":\"overlay\",\"size\":10,\"solidity\":0.2}},\"type\":\"bar\"}],\"carpet\":[{\"aaxis\":{\"endlinecolor\":\"#2a3f5f\",\"gridcolor\":\"white\",\"linecolor\":\"white\",\"minorgridcolor\":\"white\",\"startlinecolor\":\"#2a3f5f\"},\"baxis\":{\"endlinecolor\":\"#2a3f5f\",\"gridcolor\":\"white\",\"linecolor\":\"white\",\"minorgridcolor\":\"white\",\"startlinecolor\":\"#2a3f5f\"},\"type\":\"carpet\"}],\"choropleth\":[{\"colorbar\":{\"outlinewidth\":0,\"ticks\":\"\"},\"type\":\"choropleth\"}],\"contourcarpet\":[{\"colorbar\":{\"outlinewidth\":0,\"ticks\":\"\"},\"type\":\"contourcarpet\"}],\"contour\":[{\"colorbar\":{\"outlinewidth\":0,\"ticks\":\"\"},\"colorscale\":[[0.0,\"#0d0887\"],[0.1111111111111111,\"#46039f\"],[0.2222222222222222,\"#7201a8\"],[0.3333333333333333,\"#9c179e\"],[0.4444444444444444,\"#bd3786\"],[0.5555555555555556,\"#d8576b\"],[0.6666666666666666,\"#ed7953\"],[0.7777777777777778,\"#fb9f3a\"],[0.8888888888888888,\"#fdca26\"],[1.0,\"#f0f921\"]],\"type\":\"contour\"}],\"heatmapgl\":[{\"colorbar\":{\"outlinewidth\":0,\"ticks\":\"\"},\"colorscale\":[[0.0,\"#0d0887\"],[0.1111111111111111,\"#46039f\"],[0.2222222222222222,\"#7201a8\"],[0.3333333333333333,\"#9c179e\"],[0.4444444444444444,\"#bd3786\"],[0.5555555555555556,\"#d8576b\"],[0.6666666666666666,\"#ed7953\"],[0.7777777777777778,\"#fb9f3a\"],[0.8888888888888888,\"#fdca26\"],[1.0,\"#f0f921\"]],\"type\":\"heatmapgl\"}],\"heatmap\":[{\"colorbar\":{\"outlinewidth\":0,\"ticks\":\"\"},\"colorscale\":[[0.0,\"#0d0887\"],[0.1111111111111111,\"#46039f\"],[0.2222222222222222,\"#7201a8\"],[0.3333333333333333,\"#9c179e\"],[0.4444444444444444,\"#bd3786\"],[0.5555555555555556,\"#d8576b\"],[0.6666666666666666,\"#ed7953\"],[0.7777777777777778,\"#fb9f3a\"],[0.8888888888888888,\"#fdca26\"],[1.0,\"#f0f921\"]],\"type\":\"heatmap\"}],\"histogram2dcontour\":[{\"colorbar\":{\"outlinewidth\":0,\"ticks\":\"\"},\"colorscale\":[[0.0,\"#0d0887\"],[0.1111111111111111,\"#46039f\"],[0.2222222222222222,\"#7201a8\"],[0.3333333333333333,\"#9c179e\"],[0.4444444444444444,\"#bd3786\"],[0.5555555555555556,\"#d8576b\"],[0.6666666666666666,\"#ed7953\"],[0.7777777777777778,\"#fb9f3a\"],[0.8888888888888888,\"#fdca26\"],[1.0,\"#f0f921\"]],\"type\":\"histogram2dcontour\"}],\"histogram2d\":[{\"colorbar\":{\"outlinewidth\":0,\"ticks\":\"\"},\"colorscale\":[[0.0,\"#0d0887\"],[0.1111111111111111,\"#46039f\"],[0.2222222222222222,\"#7201a8\"],[0.3333333333333333,\"#9c179e\"],[0.4444444444444444,\"#bd3786\"],[0.5555555555555556,\"#d8576b\"],[0.6666666666666666,\"#ed7953\"],[0.7777777777777778,\"#fb9f3a\"],[0.8888888888888888,\"#fdca26\"],[1.0,\"#f0f921\"]],\"type\":\"histogram2d\"}],\"histogram\":[{\"marker\":{\"pattern\":{\"fillmode\":\"overlay\",\"size\":10,\"solidity\":0.2}},\"type\":\"histogram\"}],\"mesh3d\":[{\"colorbar\":{\"outlinewidth\":0,\"ticks\":\"\"},\"type\":\"mesh3d\"}],\"parcoords\":[{\"line\":{\"colorbar\":{\"outlinewidth\":0,\"ticks\":\"\"}},\"type\":\"parcoords\"}],\"pie\":[{\"automargin\":true,\"type\":\"pie\"}],\"scatter3d\":[{\"line\":{\"colorbar\":{\"outlinewidth\":0,\"ticks\":\"\"}},\"marker\":{\"colorbar\":{\"outlinewidth\":0,\"ticks\":\"\"}},\"type\":\"scatter3d\"}],\"scattercarpet\":[{\"marker\":{\"colorbar\":{\"outlinewidth\":0,\"ticks\":\"\"}},\"type\":\"scattercarpet\"}],\"scattergeo\":[{\"marker\":{\"colorbar\":{\"outlinewidth\":0,\"ticks\":\"\"}},\"type\":\"scattergeo\"}],\"scattergl\":[{\"marker\":{\"colorbar\":{\"outlinewidth\":0,\"ticks\":\"\"}},\"type\":\"scattergl\"}],\"scattermapbox\":[{\"marker\":{\"colorbar\":{\"outlinewidth\":0,\"ticks\":\"\"}},\"type\":\"scattermapbox\"}],\"scatterpolargl\":[{\"marker\":{\"colorbar\":{\"outlinewidth\":0,\"ticks\":\"\"}},\"type\":\"scatterpolargl\"}],\"scatterpolar\":[{\"marker\":{\"colorbar\":{\"outlinewidth\":0,\"ticks\":\"\"}},\"type\":\"scatterpolar\"}],\"scatter\":[{\"fillpattern\":{\"fillmode\":\"overlay\",\"size\":10,\"solidity\":0.2},\"type\":\"scatter\"}],\"scatterternary\":[{\"marker\":{\"colorbar\":{\"outlinewidth\":0,\"ticks\":\"\"}},\"type\":\"scatterternary\"}],\"surface\":[{\"colorbar\":{\"outlinewidth\":0,\"ticks\":\"\"},\"colorscale\":[[0.0,\"#0d0887\"],[0.1111111111111111,\"#46039f\"],[0.2222222222222222,\"#7201a8\"],[0.3333333333333333,\"#9c179e\"],[0.4444444444444444,\"#bd3786\"],[0.5555555555555556,\"#d8576b\"],[0.6666666666666666,\"#ed7953\"],[0.7777777777777778,\"#fb9f3a\"],[0.8888888888888888,\"#fdca26\"],[1.0,\"#f0f921\"]],\"type\":\"surface\"}],\"table\":[{\"cells\":{\"fill\":{\"color\":\"#EBF0F8\"},\"line\":{\"color\":\"white\"}},\"header\":{\"fill\":{\"color\":\"#C8D4E3\"},\"line\":{\"color\":\"white\"}},\"type\":\"table\"}]},\"layout\":{\"annotationdefaults\":{\"arrowcolor\":\"#2a3f5f\",\"arrowhead\":0,\"arrowwidth\":1},\"autotypenumbers\":\"strict\",\"coloraxis\":{\"colorbar\":{\"outlinewidth\":0,\"ticks\":\"\"}},\"colorscale\":{\"diverging\":[[0,\"#8e0152\"],[0.1,\"#c51b7d\"],[0.2,\"#de77ae\"],[0.3,\"#f1b6da\"],[0.4,\"#fde0ef\"],[0.5,\"#f7f7f7\"],[0.6,\"#e6f5d0\"],[0.7,\"#b8e186\"],[0.8,\"#7fbc41\"],[0.9,\"#4d9221\"],[1,\"#276419\"]],\"sequential\":[[0.0,\"#0d0887\"],[0.1111111111111111,\"#46039f\"],[0.2222222222222222,\"#7201a8\"],[0.3333333333333333,\"#9c179e\"],[0.4444444444444444,\"#bd3786\"],[0.5555555555555556,\"#d8576b\"],[0.6666666666666666,\"#ed7953\"],[0.7777777777777778,\"#fb9f3a\"],[0.8888888888888888,\"#fdca26\"],[1.0,\"#f0f921\"]],\"sequentialminus\":[[0.0,\"#0d0887\"],[0.1111111111111111,\"#46039f\"],[0.2222222222222222,\"#7201a8\"],[0.3333333333333333,\"#9c179e\"],[0.4444444444444444,\"#bd3786\"],[0.5555555555555556,\"#d8576b\"],[0.6666666666666666,\"#ed7953\"],[0.7777777777777778,\"#fb9f3a\"],[0.8888888888888888,\"#fdca26\"],[1.0,\"#f0f921\"]]},\"colorway\":[\"#636efa\",\"#EF553B\",\"#00cc96\",\"#ab63fa\",\"#FFA15A\",\"#19d3f3\",\"#FF6692\",\"#B6E880\",\"#FF97FF\",\"#FECB52\"],\"font\":{\"color\":\"#2a3f5f\"},\"geo\":{\"bgcolor\":\"white\",\"lakecolor\":\"white\",\"landcolor\":\"#E5ECF6\",\"showlakes\":true,\"showland\":true,\"subunitcolor\":\"white\"},\"hoverlabel\":{\"align\":\"left\"},\"hovermode\":\"closest\",\"mapbox\":{\"style\":\"light\"},\"paper_bgcolor\":\"white\",\"plot_bgcolor\":\"#E5ECF6\",\"polar\":{\"angularaxis\":{\"gridcolor\":\"white\",\"linecolor\":\"white\",\"ticks\":\"\"},\"bgcolor\":\"#E5ECF6\",\"radialaxis\":{\"gridcolor\":\"white\",\"linecolor\":\"white\",\"ticks\":\"\"}},\"scene\":{\"xaxis\":{\"backgroundcolor\":\"#E5ECF6\",\"gridcolor\":\"white\",\"gridwidth\":2,\"linecolor\":\"white\",\"showbackground\":true,\"ticks\":\"\",\"zerolinecolor\":\"white\"},\"yaxis\":{\"backgroundcolor\":\"#E5ECF6\",\"gridcolor\":\"white\",\"gridwidth\":2,\"linecolor\":\"white\",\"showbackground\":true,\"ticks\":\"\",\"zerolinecolor\":\"white\"},\"zaxis\":{\"backgroundcolor\":\"#E5ECF6\",\"gridcolor\":\"white\",\"gridwidth\":2,\"linecolor\":\"white\",\"showbackground\":true,\"ticks\":\"\",\"zerolinecolor\":\"white\"}},\"shapedefaults\":{\"line\":{\"color\":\"#2a3f5f\"}},\"ternary\":{\"aaxis\":{\"gridcolor\":\"white\",\"linecolor\":\"white\",\"ticks\":\"\"},\"baxis\":{\"gridcolor\":\"white\",\"linecolor\":\"white\",\"ticks\":\"\"},\"bgcolor\":\"#E5ECF6\",\"caxis\":{\"gridcolor\":\"white\",\"linecolor\":\"white\",\"ticks\":\"\"}},\"title\":{\"x\":0.05},\"xaxis\":{\"automargin\":true,\"gridcolor\":\"white\",\"linecolor\":\"white\",\"ticks\":\"\",\"title\":{\"standoff\":15},\"zerolinecolor\":\"white\",\"zerolinewidth\":2},\"yaxis\":{\"automargin\":true,\"gridcolor\":\"white\",\"linecolor\":\"white\",\"ticks\":\"\",\"title\":{\"standoff\":15},\"zerolinecolor\":\"white\",\"zerolinewidth\":2}}},\"title\":{\"font\":{\"color\":\"#4D5663\"},\"text\":\"PRINCIPALES CAUSAS DE MUERTE INFANTIL\"},\"xaxis\":{\"gridcolor\":\"#E1E5ED\",\"showgrid\":true,\"tickfont\":{\"color\":\"#4D5663\"},\"title\":{\"font\":{\"color\":\"#4D5663\"},\"text\":\"Causas de muerte infantil\"},\"zerolinecolor\":\"#E1E5ED\"},\"yaxis\":{\"gridcolor\":\"#E1E5ED\",\"showgrid\":true,\"tickfont\":{\"color\":\"#4D5663\"},\"title\":{\"font\":{\"color\":\"#4D5663\"},\"text\":\"N\\u00famero de muertes\"},\"zerolinecolor\":\"#E1E5ED\"}},                        {\"showLink\": true, \"linkText\": \"Export to plot.ly\", \"plotlyServerURL\": \"https://plot.ly\", \"responsive\": true}                    ).then(function(){\n",
       "                            \n",
       "var gd = document.getElementById('058a4926-701f-45be-969f-78d4cd3bffc3');\n",
       "var x = new MutationObserver(function (mutations, observer) {{\n",
       "        var display = window.getComputedStyle(gd).display;\n",
       "        if (!display || display === 'none') {{\n",
       "            console.log([gd, 'removed!']);\n",
       "            Plotly.purge(gd);\n",
       "            observer.disconnect();\n",
       "        }}\n",
       "}});\n",
       "\n",
       "// Listen for the removal of the full notebook cells\n",
       "var notebookContainer = gd.closest('#notebook-container');\n",
       "if (notebookContainer) {{\n",
       "    x.observe(notebookContainer, {childList: true});\n",
       "}}\n",
       "\n",
       "// Listen for the clearing of the current output cell\n",
       "var outputEl = gd.closest('.output');\n",
       "if (outputEl) {{\n",
       "    x.observe(outputEl, {childList: true});\n",
       "}}\n",
       "\n",
       "                        })                };                });            </script>        </div>"
      ]
     },
     "metadata": {},
     "output_type": "display_data"
    }
   ],
   "source": [
    "children_5.iplot(kind='bar',\n",
    "                  x='cause_code',\n",
    "                y='Total',\n",
    "                  xTitle='Causas de muerte infantil',\n",
    "                  yTitle='Número de muertes',\n",
    "                  title='PRINCIPALES CAUSAS DE MUERTE INFANTIL')"
   ]
  },
  {
   "cell_type": "code",
   "execution_count": 70,
   "metadata": {},
   "outputs": [
    {
     "data": {
      "text/html": [
       "<div>\n",
       "<style scoped>\n",
       "    .dataframe tbody tr th:only-of-type {\n",
       "        vertical-align: middle;\n",
       "    }\n",
       "\n",
       "    .dataframe tbody tr th {\n",
       "        vertical-align: top;\n",
       "    }\n",
       "\n",
       "    .dataframe thead th {\n",
       "        text-align: right;\n",
       "    }\n",
       "</style>\n",
       "<table border=\"1\" class=\"dataframe\">\n",
       "  <thead>\n",
       "    <tr style=\"text-align: right;\">\n",
       "      <th></th>\n",
       "      <th>cause_code</th>\n",
       "      <th>Causa de muerte</th>\n",
       "    </tr>\n",
       "  </thead>\n",
       "  <tbody>\n",
       "    <tr>\n",
       "      <th>0</th>\n",
       "      <td>001-008</td>\n",
       "      <td>001-008  I.Enfermedades infecciosas y parasita...</td>\n",
       "    </tr>\n",
       "    <tr>\n",
       "      <th>1</th>\n",
       "      <td>009-041</td>\n",
       "      <td>009-041  II.Tumores009-041  II.Tumores009-041 ...</td>\n",
       "    </tr>\n",
       "    <tr>\n",
       "      <th>2</th>\n",
       "      <td>042-043</td>\n",
       "      <td>042-043  III.Enfermedades de la sangre y de lo...</td>\n",
       "    </tr>\n",
       "    <tr>\n",
       "      <th>3</th>\n",
       "      <td>044-045</td>\n",
       "      <td>044-045  IV.Enfermedades endocrinas, nutricion...</td>\n",
       "    </tr>\n",
       "    <tr>\n",
       "      <th>4</th>\n",
       "      <td>046-049</td>\n",
       "      <td>046-049  V.Trastornos mentales y del comportam...</td>\n",
       "    </tr>\n",
       "    <tr>\n",
       "      <th>5</th>\n",
       "      <td>050-052</td>\n",
       "      <td>050-052  VI-VIII.Enfermedades del sistema nerv...</td>\n",
       "    </tr>\n",
       "    <tr>\n",
       "      <th>6</th>\n",
       "      <td>053-061</td>\n",
       "      <td>053-061 IX.Enfermedades del sistema circulator...</td>\n",
       "    </tr>\n",
       "    <tr>\n",
       "      <th>7</th>\n",
       "      <td>062-067</td>\n",
       "      <td>062-067  X.Enfermedades del sistema respirator...</td>\n",
       "    </tr>\n",
       "    <tr>\n",
       "      <th>8</th>\n",
       "      <td>068-072</td>\n",
       "      <td>068-072  XI.Enfermedades del sistema digestivo...</td>\n",
       "    </tr>\n",
       "    <tr>\n",
       "      <th>9</th>\n",
       "      <td>073</td>\n",
       "      <td>073  XII.Enfermedades de la piel y del tejido ...</td>\n",
       "    </tr>\n",
       "    <tr>\n",
       "      <th>10</th>\n",
       "      <td>074-076</td>\n",
       "      <td>074-076  XIII.Enfermedades del sistema osteomu...</td>\n",
       "    </tr>\n",
       "    <tr>\n",
       "      <th>11</th>\n",
       "      <td>077-080</td>\n",
       "      <td>077-080  XIV.Enfermedades del sistema genitour...</td>\n",
       "    </tr>\n",
       "    <tr>\n",
       "      <th>12</th>\n",
       "      <td>081</td>\n",
       "      <td>081  XV.Embarazo, parto y puerperio081  XV.Emb...</td>\n",
       "    </tr>\n",
       "    <tr>\n",
       "      <th>13</th>\n",
       "      <td>082</td>\n",
       "      <td>082  XVI.Afecciones originadas en el periodo p...</td>\n",
       "    </tr>\n",
       "    <tr>\n",
       "      <th>14</th>\n",
       "      <td>083-085</td>\n",
       "      <td>083-085  XVII.Malformaciones congénitas, defor...</td>\n",
       "    </tr>\n",
       "    <tr>\n",
       "      <th>15</th>\n",
       "      <td>086-089</td>\n",
       "      <td>086-089  XVIII.Síntomas, signos y hallazgos an...</td>\n",
       "    </tr>\n",
       "    <tr>\n",
       "      <th>16</th>\n",
       "      <td>090-102</td>\n",
       "      <td>090-102  XX.Causas externas de mortalidad090-1...</td>\n",
       "    </tr>\n",
       "  </tbody>\n",
       "</table>\n",
       "</div>"
      ],
      "text/plain": [
       "   cause_code                                    Causa de muerte\n",
       "0     001-008  001-008  I.Enfermedades infecciosas y parasita...\n",
       "1     009-041  009-041  II.Tumores009-041  II.Tumores009-041 ...\n",
       "2     042-043  042-043  III.Enfermedades de la sangre y de lo...\n",
       "3     044-045  044-045  IV.Enfermedades endocrinas, nutricion...\n",
       "4     046-049  046-049  V.Trastornos mentales y del comportam...\n",
       "5     050-052  050-052  VI-VIII.Enfermedades del sistema nerv...\n",
       "6     053-061  053-061 IX.Enfermedades del sistema circulator...\n",
       "7     062-067  062-067  X.Enfermedades del sistema respirator...\n",
       "8     068-072  068-072  XI.Enfermedades del sistema digestivo...\n",
       "9         073  073  XII.Enfermedades de la piel y del tejido ...\n",
       "10    074-076  074-076  XIII.Enfermedades del sistema osteomu...\n",
       "11    077-080  077-080  XIV.Enfermedades del sistema genitour...\n",
       "12        081  081  XV.Embarazo, parto y puerperio081  XV.Emb...\n",
       "13        082  082  XVI.Afecciones originadas en el periodo p...\n",
       "14    083-085  083-085  XVII.Malformaciones congénitas, defor...\n",
       "15    086-089  086-089  XVIII.Síntomas, signos y hallazgos an...\n",
       "16    090-102  090-102  XX.Causas externas de mortalidad090-1..."
      ]
     },
     "execution_count": 70,
     "metadata": {},
     "output_type": "execute_result"
    }
   ],
   "source": [
    "code_meaning = mod.row_filter(deaths, 'cause_code', \n",
    "                                   ['001-008', '009-041', '042-043', '044-045', \n",
    "                                    '046-049', '050-052', '053-061', '062-067', '068-072', '073', \n",
    "                                    '074-076', '077-080', '081', '082', '083-085', '086-089', '090-102'])\n",
    "code_meaning_2 = code_meaning[['cause_code', 'Causa de muerte']].groupby(['cause_code'], \n",
    "                    as_index=False).sum().sort_values(by = 'cause_code', ascending= True)\n",
    "code_meaning_2"
   ]
  },
  {
   "cell_type": "markdown",
   "metadata": {},
   "source": [
    "# EVOLUCIÓN DE LAS MUERTES INFANTILES EN EL TIEMPO"
   ]
  },
  {
   "cell_type": "code",
   "execution_count": 76,
   "metadata": {},
   "outputs": [
    {
     "data": {
      "application/vnd.plotly.v1+json": {
       "config": {
        "linkText": "Export to plot.ly",
        "plotlyServerURL": "https://plot.ly",
        "showLink": true
       },
       "data": [
        {
         "marker": {
          "color": "rgba(255, 153, 51, 0.6)",
          "line": {
           "color": "rgba(255, 153, 51, 1.0)",
           "width": 1
          }
         },
         "name": "Total",
         "orientation": "v",
         "text": "",
         "type": "bar",
         "x": [
          1980,
          1981,
          1982,
          1983,
          1984,
          1980,
          1981,
          1985,
          1986,
          1987,
          1982,
          1983,
          1990,
          1989,
          1984,
          1988,
          1992,
          1991,
          1986,
          1985,
          1987,
          1993,
          1988,
          2004,
          2007,
          1992,
          2008,
          2005,
          1989,
          1994,
          1990,
          2002,
          1991,
          2006,
          2009,
          1993,
          2001,
          2003,
          1995,
          1996,
          2000,
          2011,
          2010,
          1994,
          2012,
          1997,
          1999,
          1998,
          2014,
          1995,
          1996,
          2013,
          1997,
          2015,
          1998,
          2016,
          2017,
          1999,
          2018,
          2000,
          1980,
          2003,
          2002,
          2001,
          2005,
          2004,
          2006,
          2008,
          2010,
          1980,
          2007,
          2011,
          1981,
          1980,
          1981,
          2009,
          1982,
          1980,
          1982,
          1983,
          1981,
          1983,
          2012,
          1984,
          1980,
          1983,
          1982,
          1984,
          1985,
          1986,
          1984,
          1985,
          1985,
          1980,
          1985,
          2016,
          2013,
          1983,
          1981,
          2014,
          1986,
          1981,
          1989,
          1986,
          1980,
          2015,
          1987,
          1980,
          2017,
          1987,
          1981,
          1982,
          1986,
          1982,
          1987,
          1991,
          1989,
          1988,
          1988,
          1984,
          2018,
          1981,
          1981,
          1980,
          1990,
          1983,
          1982,
          1981,
          1988,
          1987,
          1990,
          1982,
          1980,
          1982,
          1985,
          1983,
          1984,
          1993,
          1990,
          1988,
          1989,
          1992,
          1981,
          1981,
          1984,
          1988,
          1985,
          1991,
          1980,
          1992,
          1986,
          1994,
          1993,
          1986,
          1983,
          1984,
          1983,
          1982,
          1991,
          1987,
          1982,
          1982,
          1994,
          1986,
          1992,
          1983,
          1988,
          1983,
          1983,
          1984,
          1980,
          1986,
          1997,
          1996,
          1980,
          1985,
          1985,
          1987,
          1981,
          1985,
          1987,
          1989,
          1990,
          1989,
          1981,
          1990,
          1993,
          1984,
          1995,
          1996,
          1988,
          1990,
          1994,
          1984,
          1989,
          1989,
          1991,
          1990,
          1991,
          1989,
          1985,
          1982,
          1997,
          1992,
          1986,
          1988,
          1993,
          1992,
          1992,
          1986,
          1987,
          1995,
          1983,
          1998,
          1980,
          1986,
          1987,
          1988,
          1999,
          1994,
          1991,
          2003,
          1993,
          1995,
          2000,
          1981,
          2004,
          1998,
          1984,
          1987,
          1989,
          1996,
          2009,
          2005,
          1998,
          1998,
          2000,
          1980,
          2006,
          2001,
          1996,
          2002,
          2002,
          1997,
          2001,
          1999,
          1990,
          1985,
          2008,
          1988,
          1999,
          1983,
          1994,
          1986,
          1984,
          1989,
          1980,
          1991,
          1996,
          2004,
          1982,
          2003,
          1985,
          1995,
          1988,
          2007,
          1983,
          2011,
          2007,
          2010,
          2005,
          1991,
          2012,
          1995,
          2010,
          1997,
          2000,
          1980,
          1996,
          1981,
          1993,
          1992,
          2001,
          1998,
          2002,
          2013,
          2003,
          1992,
          2006,
          1987,
          1993,
          2000,
          1994,
          2008,
          2006,
          1981,
          1984,
          1997,
          1990,
          1984,
          2015,
          1980,
          2017,
          1993,
          1984,
          2002,
          2012,
          1988,
          1995,
          1999,
          1983,
          1992,
          2009,
          1986,
          1982,
          2008,
          1987,
          1991,
          2003,
          2005,
          1996,
          1980,
          2010,
          1985,
          2009,
          2002,
          1982,
          1995,
          2007,
          2011,
          1984,
          1981,
          1980,
          1980,
          2004,
          1989,
          1997,
          2007,
          1991,
          1990,
          1994,
          1993,
          2014,
          1993,
          1993,
          2017,
          1985,
          1991,
          1999,
          2008,
          1981,
          2004,
          2005,
          2003,
          1981,
          1985,
          2018,
          2001,
          1986,
          1985,
          2003,
          1992,
          2014,
          2003,
          1982,
          1982,
          1981,
          2009,
          2013,
          1991,
          1989,
          2004,
          2016,
          1995,
          1996,
          2009,
          2002,
          1998,
          1983,
          2010,
          1994,
          1983,
          1997,
          2012,
          2006,
          1990,
          1980,
          2002,
          2015,
          1994,
          1985,
          1983,
          2006,
          2000,
          2001,
          1981,
          1992,
          1994,
          1985,
          1990,
          2005,
          2011,
          1981,
          1990,
          2017,
          2005,
          2008,
          2018,
          2008,
          1998,
          2013,
          1982,
          1981,
          1991,
          2003,
          1988,
          1989,
          2007,
          1986,
          2013,
          2000,
          1986,
          1987,
          2005,
          2016,
          1988,
          1995,
          2011,
          1997,
          2009,
          1987,
          1986,
          1984,
          1980,
          2000,
          2010,
          2014,
          1982,
          2016,
          1987,
          2004,
          2009,
          2018,
          1982,
          2001,
          1992,
          1987,
          2012,
          2010,
          1984,
          1988,
          1983,
          1999,
          1990,
          1990,
          1988,
          1994,
          1982,
          1982,
          1983,
          1986,
          2004,
          1982,
          2014,
          1983,
          2007,
          1984,
          2005,
          1993,
          1999,
          2008,
          2006,
          2012,
          2015,
          1983,
          1996,
          1989,
          1986,
          1999,
          1984,
          1989,
          2011,
          2006,
          2008,
          1994,
          2011,
          1994,
          1988,
          2012,
          1987,
          2001,
          1997,
          1999,
          2016,
          1986,
          1984,
          2013,
          1999,
          1993,
          2018,
          2006,
          2012,
          2015,
          1983,
          2008,
          1985,
          1991,
          1988,
          2007,
          2003,
          1985,
          1997,
          1995,
          1980,
          1989,
          2000,
          2017,
          2009,
          1998,
          2015,
          1986,
          1986,
          1996,
          2007,
          1992,
          1983,
          1988,
          1996,
          1988,
          1984,
          1992,
          2001,
          2017,
          1984,
          2004,
          2018,
          2005,
          1993,
          1998,
          2006,
          1995,
          1983,
          2009,
          2003,
          2011,
          1989,
          2004,
          1990,
          2004,
          1985,
          1987,
          2013,
          2007,
          1982,
          1987,
          1984,
          1997,
          1998,
          2010,
          2002,
          1994,
          2016,
          1985,
          2016,
          2012,
          2014,
          1998,
          2014,
          1992,
          1995,
          1985,
          1997,
          2006,
          1981,
          1993,
          2010,
          1984,
          1991,
          1986,
          2000,
          1986,
          2016,
          1987,
          1985,
          2001,
          1989,
          1986,
          2013,
          1989,
          1996,
          2006,
          1990,
          1981,
          2010,
          1992,
          1990,
          1997,
          2007,
          2000,
          1989,
          1980,
          2018,
          1998,
          2013,
          2002,
          1996,
          1994,
          1994,
          1987,
          1980,
          1980,
          2012,
          2014,
          1999,
          1997,
          1984,
          2005,
          2002,
          1981,
          1987,
          2011,
          2003,
          2006,
          1998,
          2000,
          2004,
          1993,
          2009,
          1981,
          1991,
          2005,
          1992,
          1995,
          2008,
          1990,
          2010,
          2002,
          1983,
          1994,
          1990,
          2015,
          1990,
          2005,
          1988,
          1987,
          2005,
          2000,
          2014,
          1988,
          1992,
          1991,
          1999,
          1998,
          2009,
          2006,
          2007,
          1993,
          1995,
          2013,
          2009,
          1998,
          1993,
          2018,
          1989,
          1981,
          2017,
          2015,
          1985,
          1990,
          2018,
          2000,
          2008,
          2011,
          2007,
          1995,
          2011,
          2009,
          2007,
          1995,
          1996,
          1994,
          2018,
          1998,
          1994,
          2004,
          1982,
          1993,
          2000,
          1991,
          2016,
          2017,
          2000,
          1989,
          2001,
          1980,
          2012,
          1996,
          1991,
          2003,
          2008,
          1995,
          2002,
          1982,
          1996,
          2001,
          1990,
          2005,
          2002,
          2011,
          2014,
          2015,
          1992,
          2003,
          1980,
          1996,
          2009,
          2012,
          1993,
          1988,
          1995,
          1996,
          1980,
          1992,
          2006,
          1993,
          1989,
          2008,
          1991,
          2007,
          2003,
          2007,
          2011,
          1991,
          2013,
          2009,
          1988,
          2001,
          1999,
          2007,
          2011,
          1985,
          1987,
          1992,
          2003,
          1999,
          2003,
          1996,
          2017,
          1995,
          1983,
          1988,
          2017,
          1991,
          2004,
          1990,
          2004,
          1988,
          2006,
          2001,
          1995,
          2009,
          2012,
          1981,
          1986,
          1980,
          1992,
          2006,
          2018,
          1986,
          1994,
          2001,
          1998,
          2000,
          2010,
          2002,
          2013,
          2012,
          2011,
          2016,
          2010,
          2008,
          1996,
          1981,
          2016,
          1991,
          1985,
          2008,
          2004,
          2007,
          2015,
          2015,
          2007,
          2009,
          2012,
          2010,
          2010,
          1985,
          1991,
          1987,
          1994,
          2017,
          2003,
          2001,
          2003,
          1986,
          1999,
          1998,
          1997,
          2004,
          1991,
          2003,
          2004,
          1985,
          2011,
          1999,
          1987,
          1992,
          2012,
          2008,
          1989,
          2018,
          2005,
          2006,
          1983,
          2018,
          2002,
          2016,
          1996,
          2002,
          2003,
          1999,
          1987,
          1996,
          1993,
          2002,
          2008,
          2000,
          2015,
          2015,
          1984,
          1995,
          2014,
          1997,
          2013,
          1983,
          2006,
          2014,
          2002,
          2005,
          1997,
          2010,
          2010,
          2005,
          2005,
          1981,
          1995,
          2015,
          1990,
          2013,
          2016,
          2012,
          1987,
          1999,
          1997,
          1989,
          2002,
          1999,
          2009,
          2008,
          1997,
          1984,
          2012,
          2004,
          2012,
          2014,
          2001,
          2010,
          1994,
          1989,
          1995,
          1992,
          2008,
          2018,
          2015,
          1993,
          1986,
          2016,
          1982,
          2014,
          2009,
          2017,
          2014,
          2004,
          2005,
          2017,
          1997,
          2013,
          2009,
          1990,
          2000,
          1995,
          1996,
          2006,
          1995,
          1991,
          2002,
          1982,
          2013,
          1992,
          2017,
          1980,
          1998,
          1985,
          2012,
          2016,
          2001,
          1991,
          2016,
          2016,
          2006,
          1986,
          2017,
          2014,
          2016,
          1982,
          2002,
          2014,
          1996,
          1982,
          2010,
          2000,
          1984,
          1989,
          1982,
          1983,
          1997,
          2001,
          1993,
          2004,
          2017,
          2008,
          1988,
          1993,
          1991,
          1987,
          2013,
          1995,
          2004,
          1996,
          1999,
          1985,
          2018,
          2015,
          2009,
          1998,
          2005,
          1998,
          2002,
          1999,
          1992,
          2007,
          1990,
          2011,
          1980,
          2015,
          2006,
          1997,
          2007,
          2017,
          1993,
          1991,
          1986,
          1984,
          1985,
          1980,
          2011,
          1990,
          2001,
          2011,
          1994,
          2003,
          1984,
          2016,
          2010,
          2010,
          2010,
          2001,
          2000,
          1994,
          1982,
          2007,
          1994,
          2011,
          2008,
          1999,
          1998,
          1988,
          2011,
          1995,
          2008,
          2012,
          2008,
          2015,
          1996,
          2015,
          2002,
          1998,
          2014,
          1983,
          2014,
          2013,
          2017,
          2001,
          2018,
          2003,
          1998,
          1983,
          1989,
          1997,
          2016,
          1983,
          2016,
          1998,
          1987,
          2018,
          2011,
          1998,
          2001,
          1989,
          1991,
          1994,
          2006,
          1989,
          2014,
          1987,
          1990,
          1999,
          1981,
          1992,
          2016,
          2016,
          2005,
          1984,
          1990,
          1997,
          2007,
          1993,
          2005,
          2015,
          2017,
          1990,
          2007,
          2014,
          2012,
          1992,
          2017,
          2015,
          1999,
          1995,
          1993,
          2015,
          1988,
          2011,
          2018,
          1984,
          2000,
          1989,
          1990,
          2013,
          1987,
          2017,
          2011,
          2000,
          2015,
          2018,
          2005,
          2014,
          2007,
          1993,
          2012,
          2013,
          2011,
          2018,
          2015,
          1986,
          2009,
          2000,
          1993,
          1997,
          2001,
          2010,
          2018,
          1999,
          2009,
          2003,
          2017,
          1996,
          2012,
          2012,
          2017,
          2018,
          1981,
          2013,
          2018,
          2010,
          1982,
          2012,
          2008,
          1992,
          2012,
          1993,
          1990,
          2014,
          1984,
          2013,
          2004,
          2011,
          1988,
          2009,
          2001,
          2005,
          2013,
          2002,
          2005,
          2010,
          2013,
          1983,
          2011,
          1994,
          2013,
          2016,
          2014,
          2001,
          2017,
          1994,
          2016,
          2006,
          2000,
          2018,
          2011,
          2006,
          2005,
          1988,
          2000,
          2000,
          1994,
          2007,
          2015,
          1997,
          2004,
          2003,
          1999,
          2000,
          2012,
          2015,
          2002,
          1986,
          2000,
          1996,
          1997,
          2002,
          2013,
          2007,
          1990,
          2004,
          2010,
          2011,
          2006,
          2012,
          2007,
          1988,
          2016,
          2008,
          1993,
          2008,
          2000,
          2007,
          2003,
          1999,
          2014,
          2014,
          2005,
          2005,
          1981,
          1981,
          2008,
          2000,
          2011,
          1997,
          1996,
          1982,
          2015,
          2011,
          1994,
          1985,
          1990,
          1998,
          2018,
          2009,
          1993,
          1987,
          2004,
          2004,
          2015,
          2018,
          2010,
          1989,
          2008,
          1997,
          1999,
          2009,
          2008,
          1996,
          2017,
          1992,
          2015,
          1999,
          2010,
          2001,
          2003,
          2002,
          2015,
          1982,
          1989,
          2016,
          2009,
          2004,
          2008,
          1983,
          1986,
          2007,
          2004,
          2013,
          2005,
          2012,
          2010,
          1988,
          1997,
          2010,
          2014,
          1993,
          2016,
          1984,
          1994,
          1998,
          2009,
          1992,
          1994,
          2006,
          2000,
          2013,
          2002,
          2006,
          2008,
          1996,
          2001,
          2014,
          2003,
          2018,
          2012,
          2010,
          2016,
          1980,
          1995,
          1995,
          1986,
          1985,
          2002,
          2008,
          2009,
          2004,
          2003,
          1998,
          1994,
          2017,
          2015,
          2017,
          1992,
          1998,
          2001,
          1995,
          2002,
          1989,
          2015,
          2018,
          2010,
          2004,
          2004,
          2017,
          2009,
          2013,
          1997,
          2003,
          2009,
          2015,
          2010,
          1995,
          2011,
          2008,
          2011,
          2018,
          1992,
          2005,
          1993,
          2012,
          1994,
          2000,
          2014,
          1999,
          2003,
          2001,
          2001,
          1995,
          2014,
          2018,
          2001,
          2003,
          2005,
          1987,
          1997,
          1991,
          2007,
          2001,
          1991,
          1997,
          1993,
          1989,
          1987,
          2017,
          1998,
          1996,
          2003,
          1988,
          1991,
          2013,
          2008,
          2010,
          2007,
          2009,
          2006,
          2004,
          1991,
          2016,
          1993,
          1999,
          2011,
          2008,
          1996,
          2015,
          2000,
          2010,
          2006,
          1998,
          2013,
          2018,
          2002,
          1982,
          1981,
          2006,
          2014,
          1997,
          2005,
          2016,
          2014,
          1983,
          2010,
          2013,
          1988,
          2012,
          2017,
          1990,
          2016,
          2001,
          1985,
          1987,
          1980,
          2016,
          2006,
          1994,
          2006,
          2007,
          1992,
          2010,
          2007,
          1999,
          1995,
          2012,
          1982,
          2018,
          2014,
          2017,
          2006,
          2018,
          2005,
          2017,
          1980,
          1996,
          2014,
          1998,
          2017,
          2000,
          2003,
          2014,
          1998,
          1995,
          1981,
          1984,
          1989,
          1990,
          2016,
          2009,
          2011,
          1987,
          1995,
          2014,
          1988,
          1991,
          1987,
          1992,
          2001,
          2001,
          1990,
          2008,
          1992,
          1998,
          2002,
          1996,
          1991,
          2004,
          2002,
          2014,
          2014,
          2001,
          2003,
          2016,
          1981,
          1999,
          1983,
          2009,
          2015,
          2005,
          2006,
          2007,
          2010,
          2011,
          2008,
          1983,
          2018,
          1980,
          1999,
          2017,
          2017,
          1997,
          2013,
          2016,
          2001,
          1995,
          1989,
          2016,
          1981,
          1999,
          2016,
          1982,
          1982,
          2013,
          2007,
          1983,
          2004,
          1981,
          2002,
          1980,
          2005,
          2009,
          1999,
          1994,
          2017,
          1998,
          1996,
          2003,
          2005,
          2006,
          1994,
          2016,
          2006,
          2013,
          1996,
          2000,
          1998,
          2013,
          2000,
          2011,
          1988,
          1990,
          1996,
          1992,
          2009,
          2012,
          2002,
          2011,
          1997,
          2012,
          2016,
          2009,
          1982,
          1995,
          2008,
          1996,
          2013,
          1999,
          2000,
          2002,
          2009,
          2010,
          2014,
          2010,
          1980,
          1984,
          1989,
          2015,
          2004,
          1998,
          2005,
          1999,
          1996,
          2014,
          2012,
          2007,
          2017,
          1988,
          1989,
          1984,
          1986,
          1987,
          1989,
          1990,
          1989,
          1986,
          1992,
          1991,
          2011,
          2013,
          2004,
          1987,
          1985,
          1986,
          1993,
          1985,
          1988,
          1992,
          1993,
          2011,
          2005,
          1998,
          2018,
          2006,
          1991,
          2018,
          2001,
          1991,
          1995,
          2013,
          1991,
          1988,
          1984,
          1991,
          1989,
          1990,
          2015,
          2012,
          1997,
          1996,
          2007,
          1984,
          1980,
          2010,
          1983,
          1989,
          1986,
          2012,
          2009,
          2003,
          1981,
          1991,
          2006,
          2018,
          1994,
          2009,
          2011,
          2012,
          2013,
          2014,
          2016,
          2017,
          2018,
          1980,
          1999,
          2010,
          2003,
          2000,
          2001,
          2014,
          2008,
          2009,
          2010,
          2012,
          2015,
          2015,
          2007,
          2015,
          2016,
          2017,
          1981,
          2003,
          2004,
          1988,
          2018,
          1990,
          2013,
          1991,
          1993,
          2018,
          2016,
          2017,
          1999,
          2012,
          2001,
          1995,
          2002,
          1994,
          1992,
          1992,
          1998,
          2004,
          1998,
          1984,
          1983,
          1998,
          1985,
          1986,
          1994,
          2002,
          2017,
          1980,
          1981,
          1982,
          1983,
          1982,
          1984,
          1991,
          1987,
          1988,
          2018,
          1984,
          1988,
          1990,
          1995,
          1996,
          1997,
          1987,
          1999,
          2002,
          2000,
          2003,
          2005,
          2006,
          2007,
          2008,
          2006,
          2006,
          2017,
          2018,
          2016,
          2015,
          2014,
          2013,
          1980,
          1981,
          1982,
          1983,
          1984,
          1986,
          1985,
          2001,
          1997,
          1986,
          2005,
          2003,
          2014,
          2013,
          2011,
          2010,
          2009,
          2008,
          2007,
          2005,
          2009,
          2004,
          2002,
          2018,
          2001,
          2000,
          1998,
          1994,
          1993,
          2010,
          2008,
          1988,
          1997,
          1990,
          1989,
          1991,
          2016,
          1992,
          1993,
          1994,
          1995,
          1996,
          1998,
          2007,
          1999,
          2000,
          2001,
          2002,
          2003,
          2004,
          2005,
          2006,
          1992,
          1985,
          1984,
          1982,
          2013,
          2014,
          2015,
          2017,
          1980,
          2006,
          1991,
          1983,
          2011,
          1984,
          1992,
          1985,
          1987,
          1988,
          1989,
          1990,
          2018,
          2000,
          1988,
          2013,
          1984,
          2015,
          2016,
          2017,
          2018,
          1980,
          1981,
          1982,
          2012,
          1981,
          1985,
          2001,
          1999,
          1989,
          1990,
          1991,
          2003,
          2002,
          1992,
          1993,
          1994,
          1991,
          1999,
          1998,
          1997,
          1996,
          1995,
          1994,
          1993,
          1992,
          1996,
          1995,
          1997,
          1987,
          1985,
          2003,
          1983,
          1999,
          2002,
          2003,
          2004,
          2000,
          2001,
          2002,
          2003,
          1996,
          1997,
          1998,
          1986,
          2006,
          1989,
          1993,
          1995,
          2012,
          2011,
          2010,
          2009,
          2008,
          2007,
          2005,
          2008,
          2004,
          1985,
          2014,
          2012,
          1982,
          2005,
          1998,
          1997,
          1996,
          1995,
          1994,
          1993,
          1992,
          1988,
          1987,
          2000,
          1999,
          2001,
          2011,
          2016,
          1985,
          1986,
          1987,
          1986,
          1984,
          2017,
          2001,
          1990,
          1996,
          2002,
          2014,
          2013,
          2011,
          2010,
          2008,
          2007,
          2004,
          2015,
          1988,
          2002,
          2004,
          2005,
          1983,
          2007,
          2008,
          2009,
          2010,
          1986,
          2000,
          2016,
          2009,
          2007,
          1997,
          2009,
          2003,
          2004,
          1994,
          2011,
          2012,
          2014,
          1993,
          1983,
          2006,
          1999,
          2008,
          2015,
          1988,
          2005,
          1989,
          2015,
          2018,
          2006,
          2004,
          2003,
          1982,
          2007,
          1992,
          2004,
          1997,
          2000,
          2017,
          2018,
          1980,
          1999,
          2016,
          2015,
          2014,
          2013,
          2013,
          2005,
          2009,
          2006,
          2007,
          2011,
          1983,
          1984,
          1985,
          1986,
          1987,
          1981,
          2004,
          2012,
          2000,
          1991,
          2000,
          1993,
          1994,
          1997,
          1998,
          1999,
          2001,
          1995,
          2015,
          2016,
          2017,
          2002,
          2003,
          2008,
          2004,
          2005,
          2006,
          2007,
          2009,
          2010,
          2011,
          2012,
          2018,
          2005,
          1985,
          1994,
          1987,
          1989,
          1990,
          1992,
          1982,
          1980,
          2012,
          2006,
          2007,
          1983,
          2008,
          1985,
          2010,
          2011,
          2013,
          2015,
          2017,
          2018,
          1981,
          1982,
          1993,
          1986,
          1997,
          2003,
          1996,
          2002,
          2002,
          2015,
          2012,
          2013,
          2014,
          2001,
          2017,
          2018,
          2017,
          1980,
          1981,
          1985,
          1986,
          1987,
          1990,
          1994,
          1995,
          1998,
          2000,
          1995,
          1997
         ],
         "y": [
          3190,
          3115,
          2754,
          2484,
          2046,
          1804,
          1785,
          1652,
          1613,
          1606,
          1554,
          1416,
          1354,
          1351,
          1341,
          1304,
          1201,
          1181,
          1147,
          1132,
          1075,
          1051,
          986,
          971,
          945,
          923,
          917,
          909,
          909,
          904,
          902,
          893,
          893,
          892,
          879,
          871,
          870,
          860,
          847,
          841,
          831,
          812,
          807,
          806,
          802,
          779,
          766,
          759,
          747,
          720,
          717,
          693,
          673,
          649,
          626,
          614,
          610,
          607,
          595,
          575,
          522,
          519,
          518,
          496,
          492,
          488,
          468,
          466,
          434,
          431,
          431,
          423,
          422,
          421,
          414,
          383,
          359,
          357,
          356,
          354,
          326,
          325,
          312,
          311,
          309,
          305,
          303,
          298,
          289,
          289,
          289,
          289,
          284,
          280,
          278,
          275,
          274,
          273,
          266,
          265,
          261,
          260,
          260,
          260,
          259,
          259,
          254,
          252,
          252,
          251,
          248,
          245,
          244,
          240,
          236,
          235,
          235,
          234,
          233,
          233,
          226,
          223,
          220,
          220,
          215,
          215,
          213,
          213,
          213,
          211,
          210,
          208,
          205,
          204,
          202,
          202,
          200,
          200,
          197,
          195,
          192,
          188,
          185,
          184,
          183,
          183,
          182,
          181,
          181,
          176,
          175,
          174,
          173,
          173,
          172,
          172,
          172,
          171,
          169,
          165,
          165,
          165,
          164,
          163,
          162,
          161,
          160,
          160,
          159,
          159,
          159,
          155,
          154,
          154,
          151,
          151,
          149,
          148,
          146,
          146,
          146,
          146,
          144,
          143,
          142,
          139,
          139,
          139,
          139,
          138,
          137,
          136,
          136,
          136,
          135,
          134,
          132,
          131,
          129,
          129,
          129,
          127,
          126,
          125,
          124,
          123,
          122,
          122,
          120,
          119,
          118,
          118,
          117,
          117,
          116,
          114,
          113,
          113,
          112,
          112,
          111,
          111,
          111,
          111,
          110,
          110,
          109,
          109,
          108,
          107,
          107,
          107,
          106,
          106,
          106,
          105,
          105,
          104,
          104,
          103,
          103,
          103,
          102,
          101,
          101,
          101,
          101,
          100,
          100,
          100,
          100,
          100,
          100,
          99,
          99,
          99,
          98,
          98,
          98,
          97,
          96,
          96,
          96,
          94,
          94,
          94,
          93,
          92,
          92,
          92,
          92,
          92,
          92,
          91,
          91,
          90,
          89,
          89,
          88,
          87,
          87,
          87,
          86,
          86,
          85,
          85,
          84,
          84,
          84,
          84,
          84,
          83,
          82,
          82,
          81,
          81,
          81,
          81,
          81,
          81,
          80,
          80,
          80,
          80,
          80,
          80,
          79,
          79,
          79,
          79,
          78,
          78,
          78,
          78,
          78,
          77,
          77,
          77,
          76,
          76,
          76,
          76,
          76,
          76,
          75,
          75,
          75,
          74,
          74,
          74,
          74,
          74,
          74,
          74,
          73,
          73,
          73,
          73,
          73,
          72,
          72,
          72,
          72,
          71,
          71,
          71,
          70,
          70,
          70,
          70,
          70,
          70,
          70,
          69,
          69,
          69,
          69,
          68,
          68,
          68,
          68,
          68,
          68,
          67,
          67,
          67,
          66,
          66,
          66,
          66,
          66,
          66,
          65,
          65,
          65,
          65,
          65,
          65,
          65,
          64,
          64,
          64,
          64,
          64,
          64,
          63,
          63,
          63,
          62,
          62,
          62,
          62,
          61,
          61,
          61,
          61,
          61,
          61,
          60,
          60,
          60,
          59,
          59,
          59,
          59,
          59,
          59,
          58,
          58,
          58,
          58,
          58,
          58,
          58,
          58,
          58,
          58,
          57,
          57,
          57,
          57,
          57,
          57,
          57,
          57,
          56,
          56,
          56,
          56,
          56,
          56,
          56,
          56,
          55,
          55,
          55,
          55,
          55,
          55,
          55,
          55,
          54,
          54,
          54,
          54,
          54,
          54,
          54,
          53,
          53,
          53,
          53,
          52,
          52,
          52,
          52,
          52,
          51,
          51,
          51,
          51,
          51,
          51,
          51,
          50,
          50,
          50,
          50,
          50,
          50,
          50,
          49,
          49,
          49,
          49,
          49,
          48,
          48,
          48,
          48,
          48,
          48,
          47,
          47,
          47,
          47,
          47,
          47,
          46,
          46,
          46,
          46,
          46,
          46,
          46,
          45,
          45,
          45,
          45,
          45,
          45,
          45,
          44,
          44,
          44,
          44,
          44,
          44,
          44,
          43,
          43,
          43,
          43,
          43,
          43,
          43,
          43,
          42,
          42,
          42,
          42,
          42,
          42,
          42,
          42,
          42,
          42,
          42,
          42,
          41,
          41,
          41,
          41,
          41,
          41,
          40,
          40,
          40,
          40,
          40,
          40,
          40,
          40,
          40,
          40,
          40,
          40,
          39,
          39,
          39,
          39,
          39,
          39,
          39,
          38,
          38,
          38,
          38,
          38,
          38,
          38,
          38,
          38,
          38,
          38,
          38,
          38,
          38,
          38,
          37,
          37,
          37,
          37,
          37,
          36,
          36,
          36,
          36,
          36,
          36,
          36,
          36,
          36,
          36,
          36,
          36,
          35,
          35,
          35,
          35,
          35,
          35,
          34,
          34,
          34,
          34,
          34,
          34,
          34,
          34,
          34,
          34,
          34,
          34,
          34,
          34,
          33,
          33,
          33,
          33,
          33,
          33,
          33,
          33,
          32,
          32,
          32,
          32,
          32,
          32,
          32,
          32,
          32,
          32,
          32,
          32,
          31,
          31,
          31,
          31,
          31,
          31,
          31,
          31,
          31,
          31,
          31,
          31,
          31,
          31,
          31,
          31,
          31,
          31,
          31,
          31,
          31,
          30,
          30,
          30,
          30,
          30,
          30,
          30,
          30,
          30,
          30,
          30,
          30,
          30,
          30,
          30,
          30,
          30,
          30,
          29,
          29,
          29,
          29,
          29,
          29,
          29,
          29,
          29,
          29,
          29,
          29,
          29,
          29,
          29,
          28,
          28,
          28,
          28,
          28,
          28,
          28,
          28,
          28,
          28,
          28,
          28,
          27,
          27,
          27,
          27,
          27,
          27,
          27,
          27,
          27,
          27,
          27,
          27,
          27,
          26,
          26,
          26,
          26,
          26,
          26,
          26,
          26,
          26,
          26,
          26,
          25,
          25,
          25,
          25,
          25,
          25,
          25,
          25,
          25,
          25,
          25,
          25,
          25,
          25,
          25,
          25,
          25,
          24,
          24,
          24,
          24,
          24,
          24,
          24,
          24,
          24,
          24,
          24,
          24,
          24,
          24,
          24,
          24,
          24,
          24,
          24,
          24,
          24,
          24,
          23,
          23,
          23,
          23,
          23,
          23,
          23,
          23,
          23,
          23,
          23,
          23,
          23,
          23,
          23,
          23,
          23,
          23,
          23,
          22,
          22,
          22,
          22,
          22,
          22,
          22,
          22,
          22,
          22,
          22,
          22,
          22,
          22,
          22,
          22,
          22,
          22,
          22,
          21,
          21,
          21,
          21,
          21,
          21,
          21,
          21,
          21,
          21,
          21,
          21,
          21,
          21,
          21,
          21,
          21,
          21,
          21,
          21,
          20,
          20,
          20,
          20,
          20,
          20,
          20,
          20,
          20,
          20,
          20,
          20,
          20,
          20,
          20,
          20,
          20,
          19,
          19,
          19,
          19,
          19,
          19,
          19,
          19,
          19,
          19,
          19,
          19,
          19,
          19,
          19,
          19,
          19,
          19,
          19,
          19,
          19,
          19,
          19,
          19,
          19,
          18,
          18,
          18,
          18,
          18,
          18,
          18,
          18,
          18,
          18,
          18,
          18,
          18,
          18,
          18,
          18,
          18,
          18,
          18,
          18,
          18,
          18,
          18,
          18,
          18,
          18,
          18,
          18,
          17,
          17,
          17,
          17,
          17,
          17,
          17,
          17,
          17,
          17,
          17,
          17,
          17,
          17,
          17,
          17,
          16,
          16,
          16,
          16,
          16,
          16,
          16,
          16,
          16,
          16,
          16,
          16,
          16,
          16,
          16,
          16,
          16,
          16,
          16,
          16,
          16,
          16,
          16,
          16,
          16,
          16,
          16,
          16,
          16,
          16,
          16,
          16,
          16,
          16,
          16,
          16,
          16,
          16,
          15,
          15,
          15,
          15,
          15,
          15,
          15,
          15,
          15,
          15,
          15,
          15,
          15,
          15,
          15,
          15,
          15,
          15,
          15,
          15,
          15,
          15,
          15,
          15,
          15,
          15,
          15,
          15,
          14,
          14,
          14,
          14,
          14,
          14,
          14,
          14,
          14,
          14,
          14,
          14,
          14,
          14,
          14,
          14,
          14,
          14,
          14,
          14,
          14,
          14,
          14,
          13,
          13,
          13,
          13,
          13,
          13,
          13,
          13,
          13,
          13,
          13,
          13,
          13,
          13,
          13,
          13,
          13,
          13,
          13,
          13,
          13,
          12,
          12,
          12,
          12,
          12,
          12,
          12,
          12,
          12,
          12,
          12,
          12,
          12,
          12,
          12,
          12,
          12,
          12,
          12,
          12,
          12,
          12,
          12,
          12,
          12,
          12,
          12,
          12,
          12,
          12,
          12,
          11,
          11,
          11,
          11,
          11,
          11,
          11,
          11,
          11,
          11,
          11,
          11,
          11,
          11,
          11,
          11,
          11,
          11,
          11,
          11,
          11,
          11,
          11,
          11,
          11,
          11,
          11,
          11,
          11,
          10,
          10,
          10,
          10,
          10,
          10,
          10,
          10,
          10,
          10,
          10,
          10,
          10,
          10,
          10,
          10,
          10,
          10,
          10,
          10,
          10,
          10,
          10,
          10,
          10,
          10,
          10,
          10,
          10,
          10,
          10,
          10,
          10,
          10,
          9,
          9,
          9,
          9,
          9,
          9,
          9,
          9,
          9,
          9,
          9,
          9,
          9,
          9,
          9,
          9,
          9,
          9,
          9,
          9,
          9,
          9,
          9,
          9,
          9,
          9,
          9,
          9,
          9,
          9,
          9,
          9,
          9,
          9,
          9,
          8,
          8,
          8,
          8,
          8,
          8,
          8,
          8,
          8,
          8,
          8,
          8,
          8,
          8,
          8,
          8,
          8,
          8,
          8,
          8,
          8,
          8,
          8,
          8,
          8,
          8,
          8,
          8,
          8,
          8,
          8,
          8,
          8,
          8,
          8,
          8,
          8,
          8,
          8,
          8,
          8,
          8,
          8,
          8,
          8,
          8,
          8,
          7,
          7,
          7,
          7,
          7,
          7,
          7,
          7,
          7,
          7,
          7,
          7,
          7,
          7,
          7,
          7,
          7,
          7,
          7,
          7,
          7,
          7,
          7,
          7,
          7,
          7,
          7,
          7,
          7,
          7,
          7,
          7,
          7,
          7,
          7,
          7,
          7,
          7,
          7,
          7,
          7,
          7,
          7,
          7,
          7,
          7,
          6,
          6,
          6,
          6,
          6,
          6,
          6,
          6,
          6,
          6,
          6,
          6,
          6,
          6,
          6,
          6,
          6,
          6,
          6,
          6,
          6,
          6,
          6,
          6,
          6,
          6,
          6,
          6,
          6,
          6,
          6,
          6,
          6,
          6,
          6,
          6,
          6,
          6,
          6,
          6,
          6,
          6,
          6,
          6,
          6,
          6,
          6,
          5,
          5,
          5,
          5,
          5,
          5,
          5,
          5,
          5,
          5,
          5,
          5,
          5,
          5,
          5,
          5,
          5,
          5,
          5,
          5,
          5,
          5,
          5,
          5,
          5,
          5,
          5,
          5,
          5,
          5,
          5,
          5,
          5,
          5,
          5,
          5,
          5,
          5,
          5,
          5,
          5,
          5,
          5,
          5,
          4,
          4,
          4,
          4,
          4,
          4,
          4,
          4,
          4,
          4,
          4,
          4,
          4,
          4,
          4,
          4,
          4,
          4,
          4,
          4,
          4,
          4,
          4,
          4,
          4,
          4,
          4,
          4,
          4,
          4,
          4,
          4,
          4,
          4,
          4,
          4,
          4,
          4,
          4,
          4,
          4,
          4,
          4,
          3,
          3,
          3,
          3,
          3,
          3,
          3,
          3,
          3,
          3,
          3,
          3,
          3,
          3,
          3,
          3,
          3,
          3,
          3,
          3,
          3,
          3,
          3,
          3,
          3,
          3,
          3,
          3,
          3,
          3,
          3,
          3,
          3,
          3,
          3,
          3,
          3,
          3,
          2,
          2,
          2,
          2,
          2,
          2,
          2,
          2,
          2,
          2,
          2,
          2,
          2,
          2,
          2,
          2,
          2,
          2,
          2,
          2,
          2,
          2,
          2,
          2,
          2,
          2,
          2,
          2,
          2,
          2,
          2,
          2,
          2,
          2,
          2,
          2,
          2,
          2,
          2,
          2,
          2,
          2,
          2,
          2,
          2,
          2,
          2,
          2,
          2,
          2,
          2,
          2,
          2,
          2,
          2,
          2,
          2,
          2,
          2,
          2,
          2,
          2,
          2,
          2,
          2,
          2,
          2,
          2,
          1,
          1,
          1,
          1,
          1,
          1,
          1,
          1,
          1,
          1,
          1,
          1,
          1,
          1,
          1,
          1,
          1,
          1,
          1,
          1,
          1,
          1,
          1,
          1,
          1,
          1,
          1,
          1,
          1,
          1,
          1,
          1,
          1,
          1,
          1,
          1,
          1,
          1,
          1,
          1,
          1,
          1,
          1,
          1,
          1,
          1,
          1,
          1,
          1,
          1,
          1,
          1,
          1,
          1,
          1,
          1,
          1,
          1,
          1,
          1,
          1,
          1,
          1,
          1,
          1,
          1,
          1,
          1,
          1,
          1,
          1,
          1,
          1,
          1,
          1,
          1,
          1,
          1,
          1,
          1,
          1,
          1,
          1,
          1,
          1,
          1,
          1,
          1,
          1,
          1,
          1,
          1,
          1,
          1,
          1,
          1,
          1,
          1,
          1,
          1,
          1,
          1,
          1,
          1,
          1,
          1,
          1,
          1,
          1,
          1,
          1,
          1,
          1,
          1,
          0,
          0,
          0,
          0,
          0,
          0,
          0,
          0,
          0,
          0,
          0,
          0,
          0,
          0,
          0,
          0,
          0,
          0,
          0,
          0,
          0,
          0,
          0,
          0,
          0,
          0,
          0,
          0,
          0,
          0,
          0,
          0,
          0,
          0,
          0,
          0,
          0,
          0,
          0,
          0,
          0,
          0,
          0,
          0,
          0,
          0,
          0,
          0,
          0,
          0,
          0,
          0,
          0,
          0,
          0,
          0,
          0,
          0,
          0,
          0,
          0,
          0,
          0,
          0,
          0,
          0,
          0,
          0,
          0,
          0,
          0,
          0,
          0,
          0,
          0,
          0,
          0,
          0,
          0,
          0,
          0,
          0,
          0,
          0,
          0,
          0,
          0,
          0,
          0,
          0,
          0,
          0,
          0,
          0,
          0,
          0,
          0,
          0,
          0,
          0,
          0,
          0,
          0,
          0,
          0,
          0,
          0,
          0,
          0,
          0,
          0,
          0,
          0,
          0,
          0,
          0,
          0,
          0,
          0,
          0,
          0,
          0,
          0,
          0,
          0,
          0,
          0,
          0,
          0,
          0,
          0,
          0,
          0,
          0,
          0,
          0,
          0,
          0,
          0,
          0,
          0,
          0,
          0,
          0,
          0,
          0,
          0,
          0,
          0,
          0,
          0,
          0,
          0,
          0,
          0,
          0,
          0,
          0,
          0,
          0,
          0,
          0,
          0,
          0,
          0,
          0,
          0,
          0,
          0,
          0,
          0,
          0,
          0,
          0,
          0,
          0,
          0,
          0,
          0,
          0,
          0,
          0,
          0,
          0,
          0,
          0,
          0,
          0,
          0,
          0,
          0,
          0,
          0,
          0,
          0,
          0,
          0,
          0,
          0,
          0,
          0,
          0,
          0,
          0,
          0,
          0,
          0,
          0,
          0,
          0,
          0,
          0,
          0,
          0,
          0,
          0,
          0,
          0,
          0,
          0,
          0,
          0,
          0,
          0,
          0,
          0,
          0,
          0,
          0,
          0,
          0,
          0,
          0,
          0,
          0,
          0,
          0,
          0,
          0,
          0,
          0,
          0,
          0,
          0,
          0,
          0,
          0,
          0,
          0,
          0,
          0,
          0,
          0,
          0,
          0,
          0,
          0,
          0,
          0,
          0,
          0,
          0,
          0,
          0,
          0,
          0,
          0,
          0,
          0,
          0,
          0,
          0,
          0,
          0,
          0,
          0,
          0,
          0,
          0,
          0,
          0,
          0,
          0,
          0,
          0,
          0,
          0,
          0,
          0,
          0,
          0,
          0,
          0,
          0,
          0,
          0,
          0,
          0,
          0,
          0,
          0,
          0,
          0,
          0,
          0,
          0,
          0,
          0,
          0,
          0,
          0,
          0,
          0,
          0,
          0,
          0,
          0,
          0,
          0,
          0,
          0,
          0,
          0,
          0,
          0,
          0,
          0,
          0,
          0,
          0,
          0,
          0,
          0,
          0,
          0,
          0,
          0,
          0,
          0,
          0,
          0,
          0,
          0,
          0,
          0,
          0,
          0,
          0,
          0,
          0,
          0,
          0,
          0,
          0,
          0,
          0,
          0,
          0,
          0,
          0,
          0,
          0,
          0,
          0,
          0,
          0,
          0,
          0,
          0,
          0,
          0,
          0,
          0,
          0,
          0,
          0,
          0,
          0,
          0,
          0,
          0,
          0,
          0,
          0,
          0,
          0,
          0,
          0,
          0,
          0,
          0,
          0,
          0,
          0,
          0,
          0,
          0,
          0,
          0,
          0,
          0,
          0,
          0,
          0
         ]
        }
       ],
       "layout": {
        "legend": {
         "bgcolor": "#F5F6F9",
         "font": {
          "color": "#4D5663"
         }
        },
        "paper_bgcolor": "#F5F6F9",
        "plot_bgcolor": "#F5F6F9",
        "template": {
         "data": {
          "bar": [
           {
            "error_x": {
             "color": "#2a3f5f"
            },
            "error_y": {
             "color": "#2a3f5f"
            },
            "marker": {
             "line": {
              "color": "#E5ECF6",
              "width": 0.5
             },
             "pattern": {
              "fillmode": "overlay",
              "size": 10,
              "solidity": 0.2
             }
            },
            "type": "bar"
           }
          ],
          "barpolar": [
           {
            "marker": {
             "line": {
              "color": "#E5ECF6",
              "width": 0.5
             },
             "pattern": {
              "fillmode": "overlay",
              "size": 10,
              "solidity": 0.2
             }
            },
            "type": "barpolar"
           }
          ],
          "carpet": [
           {
            "aaxis": {
             "endlinecolor": "#2a3f5f",
             "gridcolor": "white",
             "linecolor": "white",
             "minorgridcolor": "white",
             "startlinecolor": "#2a3f5f"
            },
            "baxis": {
             "endlinecolor": "#2a3f5f",
             "gridcolor": "white",
             "linecolor": "white",
             "minorgridcolor": "white",
             "startlinecolor": "#2a3f5f"
            },
            "type": "carpet"
           }
          ],
          "choropleth": [
           {
            "colorbar": {
             "outlinewidth": 0,
             "ticks": ""
            },
            "type": "choropleth"
           }
          ],
          "contour": [
           {
            "colorbar": {
             "outlinewidth": 0,
             "ticks": ""
            },
            "colorscale": [
             [
              0,
              "#0d0887"
             ],
             [
              0.1111111111111111,
              "#46039f"
             ],
             [
              0.2222222222222222,
              "#7201a8"
             ],
             [
              0.3333333333333333,
              "#9c179e"
             ],
             [
              0.4444444444444444,
              "#bd3786"
             ],
             [
              0.5555555555555556,
              "#d8576b"
             ],
             [
              0.6666666666666666,
              "#ed7953"
             ],
             [
              0.7777777777777778,
              "#fb9f3a"
             ],
             [
              0.8888888888888888,
              "#fdca26"
             ],
             [
              1,
              "#f0f921"
             ]
            ],
            "type": "contour"
           }
          ],
          "contourcarpet": [
           {
            "colorbar": {
             "outlinewidth": 0,
             "ticks": ""
            },
            "type": "contourcarpet"
           }
          ],
          "heatmap": [
           {
            "colorbar": {
             "outlinewidth": 0,
             "ticks": ""
            },
            "colorscale": [
             [
              0,
              "#0d0887"
             ],
             [
              0.1111111111111111,
              "#46039f"
             ],
             [
              0.2222222222222222,
              "#7201a8"
             ],
             [
              0.3333333333333333,
              "#9c179e"
             ],
             [
              0.4444444444444444,
              "#bd3786"
             ],
             [
              0.5555555555555556,
              "#d8576b"
             ],
             [
              0.6666666666666666,
              "#ed7953"
             ],
             [
              0.7777777777777778,
              "#fb9f3a"
             ],
             [
              0.8888888888888888,
              "#fdca26"
             ],
             [
              1,
              "#f0f921"
             ]
            ],
            "type": "heatmap"
           }
          ],
          "heatmapgl": [
           {
            "colorbar": {
             "outlinewidth": 0,
             "ticks": ""
            },
            "colorscale": [
             [
              0,
              "#0d0887"
             ],
             [
              0.1111111111111111,
              "#46039f"
             ],
             [
              0.2222222222222222,
              "#7201a8"
             ],
             [
              0.3333333333333333,
              "#9c179e"
             ],
             [
              0.4444444444444444,
              "#bd3786"
             ],
             [
              0.5555555555555556,
              "#d8576b"
             ],
             [
              0.6666666666666666,
              "#ed7953"
             ],
             [
              0.7777777777777778,
              "#fb9f3a"
             ],
             [
              0.8888888888888888,
              "#fdca26"
             ],
             [
              1,
              "#f0f921"
             ]
            ],
            "type": "heatmapgl"
           }
          ],
          "histogram": [
           {
            "marker": {
             "pattern": {
              "fillmode": "overlay",
              "size": 10,
              "solidity": 0.2
             }
            },
            "type": "histogram"
           }
          ],
          "histogram2d": [
           {
            "colorbar": {
             "outlinewidth": 0,
             "ticks": ""
            },
            "colorscale": [
             [
              0,
              "#0d0887"
             ],
             [
              0.1111111111111111,
              "#46039f"
             ],
             [
              0.2222222222222222,
              "#7201a8"
             ],
             [
              0.3333333333333333,
              "#9c179e"
             ],
             [
              0.4444444444444444,
              "#bd3786"
             ],
             [
              0.5555555555555556,
              "#d8576b"
             ],
             [
              0.6666666666666666,
              "#ed7953"
             ],
             [
              0.7777777777777778,
              "#fb9f3a"
             ],
             [
              0.8888888888888888,
              "#fdca26"
             ],
             [
              1,
              "#f0f921"
             ]
            ],
            "type": "histogram2d"
           }
          ],
          "histogram2dcontour": [
           {
            "colorbar": {
             "outlinewidth": 0,
             "ticks": ""
            },
            "colorscale": [
             [
              0,
              "#0d0887"
             ],
             [
              0.1111111111111111,
              "#46039f"
             ],
             [
              0.2222222222222222,
              "#7201a8"
             ],
             [
              0.3333333333333333,
              "#9c179e"
             ],
             [
              0.4444444444444444,
              "#bd3786"
             ],
             [
              0.5555555555555556,
              "#d8576b"
             ],
             [
              0.6666666666666666,
              "#ed7953"
             ],
             [
              0.7777777777777778,
              "#fb9f3a"
             ],
             [
              0.8888888888888888,
              "#fdca26"
             ],
             [
              1,
              "#f0f921"
             ]
            ],
            "type": "histogram2dcontour"
           }
          ],
          "mesh3d": [
           {
            "colorbar": {
             "outlinewidth": 0,
             "ticks": ""
            },
            "type": "mesh3d"
           }
          ],
          "parcoords": [
           {
            "line": {
             "colorbar": {
              "outlinewidth": 0,
              "ticks": ""
             }
            },
            "type": "parcoords"
           }
          ],
          "pie": [
           {
            "automargin": true,
            "type": "pie"
           }
          ],
          "scatter": [
           {
            "fillpattern": {
             "fillmode": "overlay",
             "size": 10,
             "solidity": 0.2
            },
            "type": "scatter"
           }
          ],
          "scatter3d": [
           {
            "line": {
             "colorbar": {
              "outlinewidth": 0,
              "ticks": ""
             }
            },
            "marker": {
             "colorbar": {
              "outlinewidth": 0,
              "ticks": ""
             }
            },
            "type": "scatter3d"
           }
          ],
          "scattercarpet": [
           {
            "marker": {
             "colorbar": {
              "outlinewidth": 0,
              "ticks": ""
             }
            },
            "type": "scattercarpet"
           }
          ],
          "scattergeo": [
           {
            "marker": {
             "colorbar": {
              "outlinewidth": 0,
              "ticks": ""
             }
            },
            "type": "scattergeo"
           }
          ],
          "scattergl": [
           {
            "marker": {
             "colorbar": {
              "outlinewidth": 0,
              "ticks": ""
             }
            },
            "type": "scattergl"
           }
          ],
          "scattermapbox": [
           {
            "marker": {
             "colorbar": {
              "outlinewidth": 0,
              "ticks": ""
             }
            },
            "type": "scattermapbox"
           }
          ],
          "scatterpolar": [
           {
            "marker": {
             "colorbar": {
              "outlinewidth": 0,
              "ticks": ""
             }
            },
            "type": "scatterpolar"
           }
          ],
          "scatterpolargl": [
           {
            "marker": {
             "colorbar": {
              "outlinewidth": 0,
              "ticks": ""
             }
            },
            "type": "scatterpolargl"
           }
          ],
          "scatterternary": [
           {
            "marker": {
             "colorbar": {
              "outlinewidth": 0,
              "ticks": ""
             }
            },
            "type": "scatterternary"
           }
          ],
          "surface": [
           {
            "colorbar": {
             "outlinewidth": 0,
             "ticks": ""
            },
            "colorscale": [
             [
              0,
              "#0d0887"
             ],
             [
              0.1111111111111111,
              "#46039f"
             ],
             [
              0.2222222222222222,
              "#7201a8"
             ],
             [
              0.3333333333333333,
              "#9c179e"
             ],
             [
              0.4444444444444444,
              "#bd3786"
             ],
             [
              0.5555555555555556,
              "#d8576b"
             ],
             [
              0.6666666666666666,
              "#ed7953"
             ],
             [
              0.7777777777777778,
              "#fb9f3a"
             ],
             [
              0.8888888888888888,
              "#fdca26"
             ],
             [
              1,
              "#f0f921"
             ]
            ],
            "type": "surface"
           }
          ],
          "table": [
           {
            "cells": {
             "fill": {
              "color": "#EBF0F8"
             },
             "line": {
              "color": "white"
             }
            },
            "header": {
             "fill": {
              "color": "#C8D4E3"
             },
             "line": {
              "color": "white"
             }
            },
            "type": "table"
           }
          ]
         },
         "layout": {
          "annotationdefaults": {
           "arrowcolor": "#2a3f5f",
           "arrowhead": 0,
           "arrowwidth": 1
          },
          "autotypenumbers": "strict",
          "coloraxis": {
           "colorbar": {
            "outlinewidth": 0,
            "ticks": ""
           }
          },
          "colorscale": {
           "diverging": [
            [
             0,
             "#8e0152"
            ],
            [
             0.1,
             "#c51b7d"
            ],
            [
             0.2,
             "#de77ae"
            ],
            [
             0.3,
             "#f1b6da"
            ],
            [
             0.4,
             "#fde0ef"
            ],
            [
             0.5,
             "#f7f7f7"
            ],
            [
             0.6,
             "#e6f5d0"
            ],
            [
             0.7,
             "#b8e186"
            ],
            [
             0.8,
             "#7fbc41"
            ],
            [
             0.9,
             "#4d9221"
            ],
            [
             1,
             "#276419"
            ]
           ],
           "sequential": [
            [
             0,
             "#0d0887"
            ],
            [
             0.1111111111111111,
             "#46039f"
            ],
            [
             0.2222222222222222,
             "#7201a8"
            ],
            [
             0.3333333333333333,
             "#9c179e"
            ],
            [
             0.4444444444444444,
             "#bd3786"
            ],
            [
             0.5555555555555556,
             "#d8576b"
            ],
            [
             0.6666666666666666,
             "#ed7953"
            ],
            [
             0.7777777777777778,
             "#fb9f3a"
            ],
            [
             0.8888888888888888,
             "#fdca26"
            ],
            [
             1,
             "#f0f921"
            ]
           ],
           "sequentialminus": [
            [
             0,
             "#0d0887"
            ],
            [
             0.1111111111111111,
             "#46039f"
            ],
            [
             0.2222222222222222,
             "#7201a8"
            ],
            [
             0.3333333333333333,
             "#9c179e"
            ],
            [
             0.4444444444444444,
             "#bd3786"
            ],
            [
             0.5555555555555556,
             "#d8576b"
            ],
            [
             0.6666666666666666,
             "#ed7953"
            ],
            [
             0.7777777777777778,
             "#fb9f3a"
            ],
            [
             0.8888888888888888,
             "#fdca26"
            ],
            [
             1,
             "#f0f921"
            ]
           ]
          },
          "colorway": [
           "#636efa",
           "#EF553B",
           "#00cc96",
           "#ab63fa",
           "#FFA15A",
           "#19d3f3",
           "#FF6692",
           "#B6E880",
           "#FF97FF",
           "#FECB52"
          ],
          "font": {
           "color": "#2a3f5f"
          },
          "geo": {
           "bgcolor": "white",
           "lakecolor": "white",
           "landcolor": "#E5ECF6",
           "showlakes": true,
           "showland": true,
           "subunitcolor": "white"
          },
          "hoverlabel": {
           "align": "left"
          },
          "hovermode": "closest",
          "mapbox": {
           "style": "light"
          },
          "paper_bgcolor": "white",
          "plot_bgcolor": "#E5ECF6",
          "polar": {
           "angularaxis": {
            "gridcolor": "white",
            "linecolor": "white",
            "ticks": ""
           },
           "bgcolor": "#E5ECF6",
           "radialaxis": {
            "gridcolor": "white",
            "linecolor": "white",
            "ticks": ""
           }
          },
          "scene": {
           "xaxis": {
            "backgroundcolor": "#E5ECF6",
            "gridcolor": "white",
            "gridwidth": 2,
            "linecolor": "white",
            "showbackground": true,
            "ticks": "",
            "zerolinecolor": "white"
           },
           "yaxis": {
            "backgroundcolor": "#E5ECF6",
            "gridcolor": "white",
            "gridwidth": 2,
            "linecolor": "white",
            "showbackground": true,
            "ticks": "",
            "zerolinecolor": "white"
           },
           "zaxis": {
            "backgroundcolor": "#E5ECF6",
            "gridcolor": "white",
            "gridwidth": 2,
            "linecolor": "white",
            "showbackground": true,
            "ticks": "",
            "zerolinecolor": "white"
           }
          },
          "shapedefaults": {
           "line": {
            "color": "#2a3f5f"
           }
          },
          "ternary": {
           "aaxis": {
            "gridcolor": "white",
            "linecolor": "white",
            "ticks": ""
           },
           "baxis": {
            "gridcolor": "white",
            "linecolor": "white",
            "ticks": ""
           },
           "bgcolor": "#E5ECF6",
           "caxis": {
            "gridcolor": "white",
            "linecolor": "white",
            "ticks": ""
           }
          },
          "title": {
           "x": 0.05
          },
          "xaxis": {
           "automargin": true,
           "gridcolor": "white",
           "linecolor": "white",
           "ticks": "",
           "title": {
            "standoff": 15
           },
           "zerolinecolor": "white",
           "zerolinewidth": 2
          },
          "yaxis": {
           "automargin": true,
           "gridcolor": "white",
           "linecolor": "white",
           "ticks": "",
           "title": {
            "standoff": 15
           },
           "zerolinecolor": "white",
           "zerolinewidth": 2
          }
         }
        },
        "title": {
         "font": {
          "color": "#4D5663"
         },
         "text": "EVOLUCIÓN DE LAS MUERTES INFANTILES EN EL TIEMPO"
        },
        "xaxis": {
         "gridcolor": "#E1E5ED",
         "showgrid": true,
         "tickfont": {
          "color": "#4D5663"
         },
         "title": {
          "font": {
           "color": "#4D5663"
          },
          "text": "Periodo"
         },
         "zerolinecolor": "#E1E5ED"
        },
        "yaxis": {
         "gridcolor": "#E1E5ED",
         "showgrid": true,
         "tickfont": {
          "color": "#4D5663"
         },
         "title": {
          "font": {
           "color": "#4D5663"
          },
          "text": "Total"
         },
         "zerolinecolor": "#E1E5ED"
        }
       }
      },
      "text/html": [
       "<div>                            <div id=\"9d645b55-0d89-461f-9443-1c3ff1846fba\" class=\"plotly-graph-div\" style=\"height:525px; width:100%;\"></div>            <script type=\"text/javascript\">                require([\"plotly\"], function(Plotly) {                    window.PLOTLYENV=window.PLOTLYENV || {};\n",
       "                    window.PLOTLYENV.BASE_URL='https://plot.ly';                                    if (document.getElementById(\"9d645b55-0d89-461f-9443-1c3ff1846fba\")) {                    Plotly.newPlot(                        \"9d645b55-0d89-461f-9443-1c3ff1846fba\",                        [{\"marker\":{\"color\":\"rgba(255, 153, 51, 0.6)\",\"line\":{\"color\":\"rgba(255, 153, 51, 1.0)\",\"width\":1}},\"name\":\"Total\",\"orientation\":\"v\",\"text\":\"\",\"x\":[1980,1981,1982,1983,1984,1980,1981,1985,1986,1987,1982,1983,1990,1989,1984,1988,1992,1991,1986,1985,1987,1993,1988,2004,2007,1992,2008,2005,1989,1994,1990,2002,1991,2006,2009,1993,2001,2003,1995,1996,2000,2011,2010,1994,2012,1997,1999,1998,2014,1995,1996,2013,1997,2015,1998,2016,2017,1999,2018,2000,1980,2003,2002,2001,2005,2004,2006,2008,2010,1980,2007,2011,1981,1980,1981,2009,1982,1980,1982,1983,1981,1983,2012,1984,1980,1983,1982,1984,1985,1986,1984,1985,1985,1980,1985,2016,2013,1983,1981,2014,1986,1981,1989,1986,1980,2015,1987,1980,2017,1987,1981,1982,1986,1982,1987,1991,1989,1988,1988,1984,2018,1981,1981,1980,1990,1983,1982,1981,1988,1987,1990,1982,1980,1982,1985,1983,1984,1993,1990,1988,1989,1992,1981,1981,1984,1988,1985,1991,1980,1992,1986,1994,1993,1986,1983,1984,1983,1982,1991,1987,1982,1982,1994,1986,1992,1983,1988,1983,1983,1984,1980,1986,1997,1996,1980,1985,1985,1987,1981,1985,1987,1989,1990,1989,1981,1990,1993,1984,1995,1996,1988,1990,1994,1984,1989,1989,1991,1990,1991,1989,1985,1982,1997,1992,1986,1988,1993,1992,1992,1986,1987,1995,1983,1998,1980,1986,1987,1988,1999,1994,1991,2003,1993,1995,2000,1981,2004,1998,1984,1987,1989,1996,2009,2005,1998,1998,2000,1980,2006,2001,1996,2002,2002,1997,2001,1999,1990,1985,2008,1988,1999,1983,1994,1986,1984,1989,1980,1991,1996,2004,1982,2003,1985,1995,1988,2007,1983,2011,2007,2010,2005,1991,2012,1995,2010,1997,2000,1980,1996,1981,1993,1992,2001,1998,2002,2013,2003,1992,2006,1987,1993,2000,1994,2008,2006,1981,1984,1997,1990,1984,2015,1980,2017,1993,1984,2002,2012,1988,1995,1999,1983,1992,2009,1986,1982,2008,1987,1991,2003,2005,1996,1980,2010,1985,2009,2002,1982,1995,2007,2011,1984,1981,1980,1980,2004,1989,1997,2007,1991,1990,1994,1993,2014,1993,1993,2017,1985,1991,1999,2008,1981,2004,2005,2003,1981,1985,2018,2001,1986,1985,2003,1992,2014,2003,1982,1982,1981,2009,2013,1991,1989,2004,2016,1995,1996,2009,2002,1998,1983,2010,1994,1983,1997,2012,2006,1990,1980,2002,2015,1994,1985,1983,2006,2000,2001,1981,1992,1994,1985,1990,2005,2011,1981,1990,2017,2005,2008,2018,2008,1998,2013,1982,1981,1991,2003,1988,1989,2007,1986,2013,2000,1986,1987,2005,2016,1988,1995,2011,1997,2009,1987,1986,1984,1980,2000,2010,2014,1982,2016,1987,2004,2009,2018,1982,2001,1992,1987,2012,2010,1984,1988,1983,1999,1990,1990,1988,1994,1982,1982,1983,1986,2004,1982,2014,1983,2007,1984,2005,1993,1999,2008,2006,2012,2015,1983,1996,1989,1986,1999,1984,1989,2011,2006,2008,1994,2011,1994,1988,2012,1987,2001,1997,1999,2016,1986,1984,2013,1999,1993,2018,2006,2012,2015,1983,2008,1985,1991,1988,2007,2003,1985,1997,1995,1980,1989,2000,2017,2009,1998,2015,1986,1986,1996,2007,1992,1983,1988,1996,1988,1984,1992,2001,2017,1984,2004,2018,2005,1993,1998,2006,1995,1983,2009,2003,2011,1989,2004,1990,2004,1985,1987,2013,2007,1982,1987,1984,1997,1998,2010,2002,1994,2016,1985,2016,2012,2014,1998,2014,1992,1995,1985,1997,2006,1981,1993,2010,1984,1991,1986,2000,1986,2016,1987,1985,2001,1989,1986,2013,1989,1996,2006,1990,1981,2010,1992,1990,1997,2007,2000,1989,1980,2018,1998,2013,2002,1996,1994,1994,1987,1980,1980,2012,2014,1999,1997,1984,2005,2002,1981,1987,2011,2003,2006,1998,2000,2004,1993,2009,1981,1991,2005,1992,1995,2008,1990,2010,2002,1983,1994,1990,2015,1990,2005,1988,1987,2005,2000,2014,1988,1992,1991,1999,1998,2009,2006,2007,1993,1995,2013,2009,1998,1993,2018,1989,1981,2017,2015,1985,1990,2018,2000,2008,2011,2007,1995,2011,2009,2007,1995,1996,1994,2018,1998,1994,2004,1982,1993,2000,1991,2016,2017,2000,1989,2001,1980,2012,1996,1991,2003,2008,1995,2002,1982,1996,2001,1990,2005,2002,2011,2014,2015,1992,2003,1980,1996,2009,2012,1993,1988,1995,1996,1980,1992,2006,1993,1989,2008,1991,2007,2003,2007,2011,1991,2013,2009,1988,2001,1999,2007,2011,1985,1987,1992,2003,1999,2003,1996,2017,1995,1983,1988,2017,1991,2004,1990,2004,1988,2006,2001,1995,2009,2012,1981,1986,1980,1992,2006,2018,1986,1994,2001,1998,2000,2010,2002,2013,2012,2011,2016,2010,2008,1996,1981,2016,1991,1985,2008,2004,2007,2015,2015,2007,2009,2012,2010,2010,1985,1991,1987,1994,2017,2003,2001,2003,1986,1999,1998,1997,2004,1991,2003,2004,1985,2011,1999,1987,1992,2012,2008,1989,2018,2005,2006,1983,2018,2002,2016,1996,2002,2003,1999,1987,1996,1993,2002,2008,2000,2015,2015,1984,1995,2014,1997,2013,1983,2006,2014,2002,2005,1997,2010,2010,2005,2005,1981,1995,2015,1990,2013,2016,2012,1987,1999,1997,1989,2002,1999,2009,2008,1997,1984,2012,2004,2012,2014,2001,2010,1994,1989,1995,1992,2008,2018,2015,1993,1986,2016,1982,2014,2009,2017,2014,2004,2005,2017,1997,2013,2009,1990,2000,1995,1996,2006,1995,1991,2002,1982,2013,1992,2017,1980,1998,1985,2012,2016,2001,1991,2016,2016,2006,1986,2017,2014,2016,1982,2002,2014,1996,1982,2010,2000,1984,1989,1982,1983,1997,2001,1993,2004,2017,2008,1988,1993,1991,1987,2013,1995,2004,1996,1999,1985,2018,2015,2009,1998,2005,1998,2002,1999,1992,2007,1990,2011,1980,2015,2006,1997,2007,2017,1993,1991,1986,1984,1985,1980,2011,1990,2001,2011,1994,2003,1984,2016,2010,2010,2010,2001,2000,1994,1982,2007,1994,2011,2008,1999,1998,1988,2011,1995,2008,2012,2008,2015,1996,2015,2002,1998,2014,1983,2014,2013,2017,2001,2018,2003,1998,1983,1989,1997,2016,1983,2016,1998,1987,2018,2011,1998,2001,1989,1991,1994,2006,1989,2014,1987,1990,1999,1981,1992,2016,2016,2005,1984,1990,1997,2007,1993,2005,2015,2017,1990,2007,2014,2012,1992,2017,2015,1999,1995,1993,2015,1988,2011,2018,1984,2000,1989,1990,2013,1987,2017,2011,2000,2015,2018,2005,2014,2007,1993,2012,2013,2011,2018,2015,1986,2009,2000,1993,1997,2001,2010,2018,1999,2009,2003,2017,1996,2012,2012,2017,2018,1981,2013,2018,2010,1982,2012,2008,1992,2012,1993,1990,2014,1984,2013,2004,2011,1988,2009,2001,2005,2013,2002,2005,2010,2013,1983,2011,1994,2013,2016,2014,2001,2017,1994,2016,2006,2000,2018,2011,2006,2005,1988,2000,2000,1994,2007,2015,1997,2004,2003,1999,2000,2012,2015,2002,1986,2000,1996,1997,2002,2013,2007,1990,2004,2010,2011,2006,2012,2007,1988,2016,2008,1993,2008,2000,2007,2003,1999,2014,2014,2005,2005,1981,1981,2008,2000,2011,1997,1996,1982,2015,2011,1994,1985,1990,1998,2018,2009,1993,1987,2004,2004,2015,2018,2010,1989,2008,1997,1999,2009,2008,1996,2017,1992,2015,1999,2010,2001,2003,2002,2015,1982,1989,2016,2009,2004,2008,1983,1986,2007,2004,2013,2005,2012,2010,1988,1997,2010,2014,1993,2016,1984,1994,1998,2009,1992,1994,2006,2000,2013,2002,2006,2008,1996,2001,2014,2003,2018,2012,2010,2016,1980,1995,1995,1986,1985,2002,2008,2009,2004,2003,1998,1994,2017,2015,2017,1992,1998,2001,1995,2002,1989,2015,2018,2010,2004,2004,2017,2009,2013,1997,2003,2009,2015,2010,1995,2011,2008,2011,2018,1992,2005,1993,2012,1994,2000,2014,1999,2003,2001,2001,1995,2014,2018,2001,2003,2005,1987,1997,1991,2007,2001,1991,1997,1993,1989,1987,2017,1998,1996,2003,1988,1991,2013,2008,2010,2007,2009,2006,2004,1991,2016,1993,1999,2011,2008,1996,2015,2000,2010,2006,1998,2013,2018,2002,1982,1981,2006,2014,1997,2005,2016,2014,1983,2010,2013,1988,2012,2017,1990,2016,2001,1985,1987,1980,2016,2006,1994,2006,2007,1992,2010,2007,1999,1995,2012,1982,2018,2014,2017,2006,2018,2005,2017,1980,1996,2014,1998,2017,2000,2003,2014,1998,1995,1981,1984,1989,1990,2016,2009,2011,1987,1995,2014,1988,1991,1987,1992,2001,2001,1990,2008,1992,1998,2002,1996,1991,2004,2002,2014,2014,2001,2003,2016,1981,1999,1983,2009,2015,2005,2006,2007,2010,2011,2008,1983,2018,1980,1999,2017,2017,1997,2013,2016,2001,1995,1989,2016,1981,1999,2016,1982,1982,2013,2007,1983,2004,1981,2002,1980,2005,2009,1999,1994,2017,1998,1996,2003,2005,2006,1994,2016,2006,2013,1996,2000,1998,2013,2000,2011,1988,1990,1996,1992,2009,2012,2002,2011,1997,2012,2016,2009,1982,1995,2008,1996,2013,1999,2000,2002,2009,2010,2014,2010,1980,1984,1989,2015,2004,1998,2005,1999,1996,2014,2012,2007,2017,1988,1989,1984,1986,1987,1989,1990,1989,1986,1992,1991,2011,2013,2004,1987,1985,1986,1993,1985,1988,1992,1993,2011,2005,1998,2018,2006,1991,2018,2001,1991,1995,2013,1991,1988,1984,1991,1989,1990,2015,2012,1997,1996,2007,1984,1980,2010,1983,1989,1986,2012,2009,2003,1981,1991,2006,2018,1994,2009,2011,2012,2013,2014,2016,2017,2018,1980,1999,2010,2003,2000,2001,2014,2008,2009,2010,2012,2015,2015,2007,2015,2016,2017,1981,2003,2004,1988,2018,1990,2013,1991,1993,2018,2016,2017,1999,2012,2001,1995,2002,1994,1992,1992,1998,2004,1998,1984,1983,1998,1985,1986,1994,2002,2017,1980,1981,1982,1983,1982,1984,1991,1987,1988,2018,1984,1988,1990,1995,1996,1997,1987,1999,2002,2000,2003,2005,2006,2007,2008,2006,2006,2017,2018,2016,2015,2014,2013,1980,1981,1982,1983,1984,1986,1985,2001,1997,1986,2005,2003,2014,2013,2011,2010,2009,2008,2007,2005,2009,2004,2002,2018,2001,2000,1998,1994,1993,2010,2008,1988,1997,1990,1989,1991,2016,1992,1993,1994,1995,1996,1998,2007,1999,2000,2001,2002,2003,2004,2005,2006,1992,1985,1984,1982,2013,2014,2015,2017,1980,2006,1991,1983,2011,1984,1992,1985,1987,1988,1989,1990,2018,2000,1988,2013,1984,2015,2016,2017,2018,1980,1981,1982,2012,1981,1985,2001,1999,1989,1990,1991,2003,2002,1992,1993,1994,1991,1999,1998,1997,1996,1995,1994,1993,1992,1996,1995,1997,1987,1985,2003,1983,1999,2002,2003,2004,2000,2001,2002,2003,1996,1997,1998,1986,2006,1989,1993,1995,2012,2011,2010,2009,2008,2007,2005,2008,2004,1985,2014,2012,1982,2005,1998,1997,1996,1995,1994,1993,1992,1988,1987,2000,1999,2001,2011,2016,1985,1986,1987,1986,1984,2017,2001,1990,1996,2002,2014,2013,2011,2010,2008,2007,2004,2015,1988,2002,2004,2005,1983,2007,2008,2009,2010,1986,2000,2016,2009,2007,1997,2009,2003,2004,1994,2011,2012,2014,1993,1983,2006,1999,2008,2015,1988,2005,1989,2015,2018,2006,2004,2003,1982,2007,1992,2004,1997,2000,2017,2018,1980,1999,2016,2015,2014,2013,2013,2005,2009,2006,2007,2011,1983,1984,1985,1986,1987,1981,2004,2012,2000,1991,2000,1993,1994,1997,1998,1999,2001,1995,2015,2016,2017,2002,2003,2008,2004,2005,2006,2007,2009,2010,2011,2012,2018,2005,1985,1994,1987,1989,1990,1992,1982,1980,2012,2006,2007,1983,2008,1985,2010,2011,2013,2015,2017,2018,1981,1982,1993,1986,1997,2003,1996,2002,2002,2015,2012,2013,2014,2001,2017,2018,2017,1980,1981,1985,1986,1987,1990,1994,1995,1998,2000,1995,1997],\"y\":[3190,3115,2754,2484,2046,1804,1785,1652,1613,1606,1554,1416,1354,1351,1341,1304,1201,1181,1147,1132,1075,1051,986,971,945,923,917,909,909,904,902,893,893,892,879,871,870,860,847,841,831,812,807,806,802,779,766,759,747,720,717,693,673,649,626,614,610,607,595,575,522,519,518,496,492,488,468,466,434,431,431,423,422,421,414,383,359,357,356,354,326,325,312,311,309,305,303,298,289,289,289,289,284,280,278,275,274,273,266,265,261,260,260,260,259,259,254,252,252,251,248,245,244,240,236,235,235,234,233,233,226,223,220,220,215,215,213,213,213,211,210,208,205,204,202,202,200,200,197,195,192,188,185,184,183,183,182,181,181,176,175,174,173,173,172,172,172,171,169,165,165,165,164,163,162,161,160,160,159,159,159,155,154,154,151,151,149,148,146,146,146,146,144,143,142,139,139,139,139,138,137,136,136,136,135,134,132,131,129,129,129,127,126,125,124,123,122,122,120,119,118,118,117,117,116,114,113,113,112,112,111,111,111,111,110,110,109,109,108,107,107,107,106,106,106,105,105,104,104,103,103,103,102,101,101,101,101,100,100,100,100,100,100,99,99,99,98,98,98,97,96,96,96,94,94,94,93,92,92,92,92,92,92,91,91,90,89,89,88,87,87,87,86,86,85,85,84,84,84,84,84,83,82,82,81,81,81,81,81,81,80,80,80,80,80,80,79,79,79,79,78,78,78,78,78,77,77,77,76,76,76,76,76,76,75,75,75,74,74,74,74,74,74,74,73,73,73,73,73,72,72,72,72,71,71,71,70,70,70,70,70,70,70,69,69,69,69,68,68,68,68,68,68,67,67,67,66,66,66,66,66,66,65,65,65,65,65,65,65,64,64,64,64,64,64,63,63,63,62,62,62,62,61,61,61,61,61,61,60,60,60,59,59,59,59,59,59,58,58,58,58,58,58,58,58,58,58,57,57,57,57,57,57,57,57,56,56,56,56,56,56,56,56,55,55,55,55,55,55,55,55,54,54,54,54,54,54,54,53,53,53,53,52,52,52,52,52,51,51,51,51,51,51,51,50,50,50,50,50,50,50,49,49,49,49,49,48,48,48,48,48,48,47,47,47,47,47,47,46,46,46,46,46,46,46,45,45,45,45,45,45,45,44,44,44,44,44,44,44,43,43,43,43,43,43,43,43,42,42,42,42,42,42,42,42,42,42,42,42,41,41,41,41,41,41,40,40,40,40,40,40,40,40,40,40,40,40,39,39,39,39,39,39,39,38,38,38,38,38,38,38,38,38,38,38,38,38,38,38,37,37,37,37,37,36,36,36,36,36,36,36,36,36,36,36,36,35,35,35,35,35,35,34,34,34,34,34,34,34,34,34,34,34,34,34,34,33,33,33,33,33,33,33,33,32,32,32,32,32,32,32,32,32,32,32,32,31,31,31,31,31,31,31,31,31,31,31,31,31,31,31,31,31,31,31,31,31,30,30,30,30,30,30,30,30,30,30,30,30,30,30,30,30,30,30,29,29,29,29,29,29,29,29,29,29,29,29,29,29,29,28,28,28,28,28,28,28,28,28,28,28,28,27,27,27,27,27,27,27,27,27,27,27,27,27,26,26,26,26,26,26,26,26,26,26,26,25,25,25,25,25,25,25,25,25,25,25,25,25,25,25,25,25,24,24,24,24,24,24,24,24,24,24,24,24,24,24,24,24,24,24,24,24,24,24,23,23,23,23,23,23,23,23,23,23,23,23,23,23,23,23,23,23,23,22,22,22,22,22,22,22,22,22,22,22,22,22,22,22,22,22,22,22,21,21,21,21,21,21,21,21,21,21,21,21,21,21,21,21,21,21,21,21,20,20,20,20,20,20,20,20,20,20,20,20,20,20,20,20,20,19,19,19,19,19,19,19,19,19,19,19,19,19,19,19,19,19,19,19,19,19,19,19,19,19,18,18,18,18,18,18,18,18,18,18,18,18,18,18,18,18,18,18,18,18,18,18,18,18,18,18,18,18,17,17,17,17,17,17,17,17,17,17,17,17,17,17,17,17,16,16,16,16,16,16,16,16,16,16,16,16,16,16,16,16,16,16,16,16,16,16,16,16,16,16,16,16,16,16,16,16,16,16,16,16,16,16,15,15,15,15,15,15,15,15,15,15,15,15,15,15,15,15,15,15,15,15,15,15,15,15,15,15,15,15,14,14,14,14,14,14,14,14,14,14,14,14,14,14,14,14,14,14,14,14,14,14,14,13,13,13,13,13,13,13,13,13,13,13,13,13,13,13,13,13,13,13,13,13,12,12,12,12,12,12,12,12,12,12,12,12,12,12,12,12,12,12,12,12,12,12,12,12,12,12,12,12,12,12,12,11,11,11,11,11,11,11,11,11,11,11,11,11,11,11,11,11,11,11,11,11,11,11,11,11,11,11,11,11,10,10,10,10,10,10,10,10,10,10,10,10,10,10,10,10,10,10,10,10,10,10,10,10,10,10,10,10,10,10,10,10,10,10,9,9,9,9,9,9,9,9,9,9,9,9,9,9,9,9,9,9,9,9,9,9,9,9,9,9,9,9,9,9,9,9,9,9,9,8,8,8,8,8,8,8,8,8,8,8,8,8,8,8,8,8,8,8,8,8,8,8,8,8,8,8,8,8,8,8,8,8,8,8,8,8,8,8,8,8,8,8,8,8,8,8,7,7,7,7,7,7,7,7,7,7,7,7,7,7,7,7,7,7,7,7,7,7,7,7,7,7,7,7,7,7,7,7,7,7,7,7,7,7,7,7,7,7,7,7,7,7,6,6,6,6,6,6,6,6,6,6,6,6,6,6,6,6,6,6,6,6,6,6,6,6,6,6,6,6,6,6,6,6,6,6,6,6,6,6,6,6,6,6,6,6,6,6,6,5,5,5,5,5,5,5,5,5,5,5,5,5,5,5,5,5,5,5,5,5,5,5,5,5,5,5,5,5,5,5,5,5,5,5,5,5,5,5,5,5,5,5,5,4,4,4,4,4,4,4,4,4,4,4,4,4,4,4,4,4,4,4,4,4,4,4,4,4,4,4,4,4,4,4,4,4,4,4,4,4,4,4,4,4,4,4,3,3,3,3,3,3,3,3,3,3,3,3,3,3,3,3,3,3,3,3,3,3,3,3,3,3,3,3,3,3,3,3,3,3,3,3,3,3,2,2,2,2,2,2,2,2,2,2,2,2,2,2,2,2,2,2,2,2,2,2,2,2,2,2,2,2,2,2,2,2,2,2,2,2,2,2,2,2,2,2,2,2,2,2,2,2,2,2,2,2,2,2,2,2,2,2,2,2,2,2,2,2,2,2,2,2,1,1,1,1,1,1,1,1,1,1,1,1,1,1,1,1,1,1,1,1,1,1,1,1,1,1,1,1,1,1,1,1,1,1,1,1,1,1,1,1,1,1,1,1,1,1,1,1,1,1,1,1,1,1,1,1,1,1,1,1,1,1,1,1,1,1,1,1,1,1,1,1,1,1,1,1,1,1,1,1,1,1,1,1,1,1,1,1,1,1,1,1,1,1,1,1,1,1,1,1,1,1,1,1,1,1,1,1,1,1,1,1,1,1,0,0,0,0,0,0,0,0,0,0,0,0,0,0,0,0,0,0,0,0,0,0,0,0,0,0,0,0,0,0,0,0,0,0,0,0,0,0,0,0,0,0,0,0,0,0,0,0,0,0,0,0,0,0,0,0,0,0,0,0,0,0,0,0,0,0,0,0,0,0,0,0,0,0,0,0,0,0,0,0,0,0,0,0,0,0,0,0,0,0,0,0,0,0,0,0,0,0,0,0,0,0,0,0,0,0,0,0,0,0,0,0,0,0,0,0,0,0,0,0,0,0,0,0,0,0,0,0,0,0,0,0,0,0,0,0,0,0,0,0,0,0,0,0,0,0,0,0,0,0,0,0,0,0,0,0,0,0,0,0,0,0,0,0,0,0,0,0,0,0,0,0,0,0,0,0,0,0,0,0,0,0,0,0,0,0,0,0,0,0,0,0,0,0,0,0,0,0,0,0,0,0,0,0,0,0,0,0,0,0,0,0,0,0,0,0,0,0,0,0,0,0,0,0,0,0,0,0,0,0,0,0,0,0,0,0,0,0,0,0,0,0,0,0,0,0,0,0,0,0,0,0,0,0,0,0,0,0,0,0,0,0,0,0,0,0,0,0,0,0,0,0,0,0,0,0,0,0,0,0,0,0,0,0,0,0,0,0,0,0,0,0,0,0,0,0,0,0,0,0,0,0,0,0,0,0,0,0,0,0,0,0,0,0,0,0,0,0,0,0,0,0,0,0,0,0,0,0,0,0,0,0,0,0,0,0,0,0,0,0,0,0,0,0,0,0,0,0,0,0,0,0,0,0,0,0,0,0,0,0,0,0,0,0,0,0,0,0,0,0,0,0,0,0,0,0,0,0,0,0,0,0,0,0,0,0,0,0,0,0,0,0,0,0,0,0,0,0,0,0,0,0,0,0],\"type\":\"bar\"}],                        {\"legend\":{\"bgcolor\":\"#F5F6F9\",\"font\":{\"color\":\"#4D5663\"}},\"paper_bgcolor\":\"#F5F6F9\",\"plot_bgcolor\":\"#F5F6F9\",\"template\":{\"data\":{\"barpolar\":[{\"marker\":{\"line\":{\"color\":\"#E5ECF6\",\"width\":0.5},\"pattern\":{\"fillmode\":\"overlay\",\"size\":10,\"solidity\":0.2}},\"type\":\"barpolar\"}],\"bar\":[{\"error_x\":{\"color\":\"#2a3f5f\"},\"error_y\":{\"color\":\"#2a3f5f\"},\"marker\":{\"line\":{\"color\":\"#E5ECF6\",\"width\":0.5},\"pattern\":{\"fillmode\":\"overlay\",\"size\":10,\"solidity\":0.2}},\"type\":\"bar\"}],\"carpet\":[{\"aaxis\":{\"endlinecolor\":\"#2a3f5f\",\"gridcolor\":\"white\",\"linecolor\":\"white\",\"minorgridcolor\":\"white\",\"startlinecolor\":\"#2a3f5f\"},\"baxis\":{\"endlinecolor\":\"#2a3f5f\",\"gridcolor\":\"white\",\"linecolor\":\"white\",\"minorgridcolor\":\"white\",\"startlinecolor\":\"#2a3f5f\"},\"type\":\"carpet\"}],\"choropleth\":[{\"colorbar\":{\"outlinewidth\":0,\"ticks\":\"\"},\"type\":\"choropleth\"}],\"contourcarpet\":[{\"colorbar\":{\"outlinewidth\":0,\"ticks\":\"\"},\"type\":\"contourcarpet\"}],\"contour\":[{\"colorbar\":{\"outlinewidth\":0,\"ticks\":\"\"},\"colorscale\":[[0.0,\"#0d0887\"],[0.1111111111111111,\"#46039f\"],[0.2222222222222222,\"#7201a8\"],[0.3333333333333333,\"#9c179e\"],[0.4444444444444444,\"#bd3786\"],[0.5555555555555556,\"#d8576b\"],[0.6666666666666666,\"#ed7953\"],[0.7777777777777778,\"#fb9f3a\"],[0.8888888888888888,\"#fdca26\"],[1.0,\"#f0f921\"]],\"type\":\"contour\"}],\"heatmapgl\":[{\"colorbar\":{\"outlinewidth\":0,\"ticks\":\"\"},\"colorscale\":[[0.0,\"#0d0887\"],[0.1111111111111111,\"#46039f\"],[0.2222222222222222,\"#7201a8\"],[0.3333333333333333,\"#9c179e\"],[0.4444444444444444,\"#bd3786\"],[0.5555555555555556,\"#d8576b\"],[0.6666666666666666,\"#ed7953\"],[0.7777777777777778,\"#fb9f3a\"],[0.8888888888888888,\"#fdca26\"],[1.0,\"#f0f921\"]],\"type\":\"heatmapgl\"}],\"heatmap\":[{\"colorbar\":{\"outlinewidth\":0,\"ticks\":\"\"},\"colorscale\":[[0.0,\"#0d0887\"],[0.1111111111111111,\"#46039f\"],[0.2222222222222222,\"#7201a8\"],[0.3333333333333333,\"#9c179e\"],[0.4444444444444444,\"#bd3786\"],[0.5555555555555556,\"#d8576b\"],[0.6666666666666666,\"#ed7953\"],[0.7777777777777778,\"#fb9f3a\"],[0.8888888888888888,\"#fdca26\"],[1.0,\"#f0f921\"]],\"type\":\"heatmap\"}],\"histogram2dcontour\":[{\"colorbar\":{\"outlinewidth\":0,\"ticks\":\"\"},\"colorscale\":[[0.0,\"#0d0887\"],[0.1111111111111111,\"#46039f\"],[0.2222222222222222,\"#7201a8\"],[0.3333333333333333,\"#9c179e\"],[0.4444444444444444,\"#bd3786\"],[0.5555555555555556,\"#d8576b\"],[0.6666666666666666,\"#ed7953\"],[0.7777777777777778,\"#fb9f3a\"],[0.8888888888888888,\"#fdca26\"],[1.0,\"#f0f921\"]],\"type\":\"histogram2dcontour\"}],\"histogram2d\":[{\"colorbar\":{\"outlinewidth\":0,\"ticks\":\"\"},\"colorscale\":[[0.0,\"#0d0887\"],[0.1111111111111111,\"#46039f\"],[0.2222222222222222,\"#7201a8\"],[0.3333333333333333,\"#9c179e\"],[0.4444444444444444,\"#bd3786\"],[0.5555555555555556,\"#d8576b\"],[0.6666666666666666,\"#ed7953\"],[0.7777777777777778,\"#fb9f3a\"],[0.8888888888888888,\"#fdca26\"],[1.0,\"#f0f921\"]],\"type\":\"histogram2d\"}],\"histogram\":[{\"marker\":{\"pattern\":{\"fillmode\":\"overlay\",\"size\":10,\"solidity\":0.2}},\"type\":\"histogram\"}],\"mesh3d\":[{\"colorbar\":{\"outlinewidth\":0,\"ticks\":\"\"},\"type\":\"mesh3d\"}],\"parcoords\":[{\"line\":{\"colorbar\":{\"outlinewidth\":0,\"ticks\":\"\"}},\"type\":\"parcoords\"}],\"pie\":[{\"automargin\":true,\"type\":\"pie\"}],\"scatter3d\":[{\"line\":{\"colorbar\":{\"outlinewidth\":0,\"ticks\":\"\"}},\"marker\":{\"colorbar\":{\"outlinewidth\":0,\"ticks\":\"\"}},\"type\":\"scatter3d\"}],\"scattercarpet\":[{\"marker\":{\"colorbar\":{\"outlinewidth\":0,\"ticks\":\"\"}},\"type\":\"scattercarpet\"}],\"scattergeo\":[{\"marker\":{\"colorbar\":{\"outlinewidth\":0,\"ticks\":\"\"}},\"type\":\"scattergeo\"}],\"scattergl\":[{\"marker\":{\"colorbar\":{\"outlinewidth\":0,\"ticks\":\"\"}},\"type\":\"scattergl\"}],\"scattermapbox\":[{\"marker\":{\"colorbar\":{\"outlinewidth\":0,\"ticks\":\"\"}},\"type\":\"scattermapbox\"}],\"scatterpolargl\":[{\"marker\":{\"colorbar\":{\"outlinewidth\":0,\"ticks\":\"\"}},\"type\":\"scatterpolargl\"}],\"scatterpolar\":[{\"marker\":{\"colorbar\":{\"outlinewidth\":0,\"ticks\":\"\"}},\"type\":\"scatterpolar\"}],\"scatter\":[{\"fillpattern\":{\"fillmode\":\"overlay\",\"size\":10,\"solidity\":0.2},\"type\":\"scatter\"}],\"scatterternary\":[{\"marker\":{\"colorbar\":{\"outlinewidth\":0,\"ticks\":\"\"}},\"type\":\"scatterternary\"}],\"surface\":[{\"colorbar\":{\"outlinewidth\":0,\"ticks\":\"\"},\"colorscale\":[[0.0,\"#0d0887\"],[0.1111111111111111,\"#46039f\"],[0.2222222222222222,\"#7201a8\"],[0.3333333333333333,\"#9c179e\"],[0.4444444444444444,\"#bd3786\"],[0.5555555555555556,\"#d8576b\"],[0.6666666666666666,\"#ed7953\"],[0.7777777777777778,\"#fb9f3a\"],[0.8888888888888888,\"#fdca26\"],[1.0,\"#f0f921\"]],\"type\":\"surface\"}],\"table\":[{\"cells\":{\"fill\":{\"color\":\"#EBF0F8\"},\"line\":{\"color\":\"white\"}},\"header\":{\"fill\":{\"color\":\"#C8D4E3\"},\"line\":{\"color\":\"white\"}},\"type\":\"table\"}]},\"layout\":{\"annotationdefaults\":{\"arrowcolor\":\"#2a3f5f\",\"arrowhead\":0,\"arrowwidth\":1},\"autotypenumbers\":\"strict\",\"coloraxis\":{\"colorbar\":{\"outlinewidth\":0,\"ticks\":\"\"}},\"colorscale\":{\"diverging\":[[0,\"#8e0152\"],[0.1,\"#c51b7d\"],[0.2,\"#de77ae\"],[0.3,\"#f1b6da\"],[0.4,\"#fde0ef\"],[0.5,\"#f7f7f7\"],[0.6,\"#e6f5d0\"],[0.7,\"#b8e186\"],[0.8,\"#7fbc41\"],[0.9,\"#4d9221\"],[1,\"#276419\"]],\"sequential\":[[0.0,\"#0d0887\"],[0.1111111111111111,\"#46039f\"],[0.2222222222222222,\"#7201a8\"],[0.3333333333333333,\"#9c179e\"],[0.4444444444444444,\"#bd3786\"],[0.5555555555555556,\"#d8576b\"],[0.6666666666666666,\"#ed7953\"],[0.7777777777777778,\"#fb9f3a\"],[0.8888888888888888,\"#fdca26\"],[1.0,\"#f0f921\"]],\"sequentialminus\":[[0.0,\"#0d0887\"],[0.1111111111111111,\"#46039f\"],[0.2222222222222222,\"#7201a8\"],[0.3333333333333333,\"#9c179e\"],[0.4444444444444444,\"#bd3786\"],[0.5555555555555556,\"#d8576b\"],[0.6666666666666666,\"#ed7953\"],[0.7777777777777778,\"#fb9f3a\"],[0.8888888888888888,\"#fdca26\"],[1.0,\"#f0f921\"]]},\"colorway\":[\"#636efa\",\"#EF553B\",\"#00cc96\",\"#ab63fa\",\"#FFA15A\",\"#19d3f3\",\"#FF6692\",\"#B6E880\",\"#FF97FF\",\"#FECB52\"],\"font\":{\"color\":\"#2a3f5f\"},\"geo\":{\"bgcolor\":\"white\",\"lakecolor\":\"white\",\"landcolor\":\"#E5ECF6\",\"showlakes\":true,\"showland\":true,\"subunitcolor\":\"white\"},\"hoverlabel\":{\"align\":\"left\"},\"hovermode\":\"closest\",\"mapbox\":{\"style\":\"light\"},\"paper_bgcolor\":\"white\",\"plot_bgcolor\":\"#E5ECF6\",\"polar\":{\"angularaxis\":{\"gridcolor\":\"white\",\"linecolor\":\"white\",\"ticks\":\"\"},\"bgcolor\":\"#E5ECF6\",\"radialaxis\":{\"gridcolor\":\"white\",\"linecolor\":\"white\",\"ticks\":\"\"}},\"scene\":{\"xaxis\":{\"backgroundcolor\":\"#E5ECF6\",\"gridcolor\":\"white\",\"gridwidth\":2,\"linecolor\":\"white\",\"showbackground\":true,\"ticks\":\"\",\"zerolinecolor\":\"white\"},\"yaxis\":{\"backgroundcolor\":\"#E5ECF6\",\"gridcolor\":\"white\",\"gridwidth\":2,\"linecolor\":\"white\",\"showbackground\":true,\"ticks\":\"\",\"zerolinecolor\":\"white\"},\"zaxis\":{\"backgroundcolor\":\"#E5ECF6\",\"gridcolor\":\"white\",\"gridwidth\":2,\"linecolor\":\"white\",\"showbackground\":true,\"ticks\":\"\",\"zerolinecolor\":\"white\"}},\"shapedefaults\":{\"line\":{\"color\":\"#2a3f5f\"}},\"ternary\":{\"aaxis\":{\"gridcolor\":\"white\",\"linecolor\":\"white\",\"ticks\":\"\"},\"baxis\":{\"gridcolor\":\"white\",\"linecolor\":\"white\",\"ticks\":\"\"},\"bgcolor\":\"#E5ECF6\",\"caxis\":{\"gridcolor\":\"white\",\"linecolor\":\"white\",\"ticks\":\"\"}},\"title\":{\"x\":0.05},\"xaxis\":{\"automargin\":true,\"gridcolor\":\"white\",\"linecolor\":\"white\",\"ticks\":\"\",\"title\":{\"standoff\":15},\"zerolinecolor\":\"white\",\"zerolinewidth\":2},\"yaxis\":{\"automargin\":true,\"gridcolor\":\"white\",\"linecolor\":\"white\",\"ticks\":\"\",\"title\":{\"standoff\":15},\"zerolinecolor\":\"white\",\"zerolinewidth\":2}}},\"title\":{\"font\":{\"color\":\"#4D5663\"},\"text\":\"EVOLUCI\\u00d3N DE LAS MUERTES INFANTILES EN EL TIEMPO\"},\"xaxis\":{\"gridcolor\":\"#E1E5ED\",\"showgrid\":true,\"tickfont\":{\"color\":\"#4D5663\"},\"title\":{\"font\":{\"color\":\"#4D5663\"},\"text\":\"Periodo\"},\"zerolinecolor\":\"#E1E5ED\"},\"yaxis\":{\"gridcolor\":\"#E1E5ED\",\"showgrid\":true,\"tickfont\":{\"color\":\"#4D5663\"},\"title\":{\"font\":{\"color\":\"#4D5663\"},\"text\":\"Total\"},\"zerolinecolor\":\"#E1E5ED\"}},                        {\"showLink\": true, \"linkText\": \"Export to plot.ly\", \"plotlyServerURL\": \"https://plot.ly\", \"responsive\": true}                    ).then(function(){\n",
       "                            \n",
       "var gd = document.getElementById('9d645b55-0d89-461f-9443-1c3ff1846fba');\n",
       "var x = new MutationObserver(function (mutations, observer) {{\n",
       "        var display = window.getComputedStyle(gd).display;\n",
       "        if (!display || display === 'none') {{\n",
       "            console.log([gd, 'removed!']);\n",
       "            Plotly.purge(gd);\n",
       "            observer.disconnect();\n",
       "        }}\n",
       "}});\n",
       "\n",
       "// Listen for the removal of the full notebook cells\n",
       "var notebookContainer = gd.closest('#notebook-container');\n",
       "if (notebookContainer) {{\n",
       "    x.observe(notebookContainer, {childList: true});\n",
       "}}\n",
       "\n",
       "// Listen for the clearing of the current output cell\n",
       "var outputEl = gd.closest('.output');\n",
       "if (outputEl) {{\n",
       "    x.observe(outputEl, {childList: true});\n",
       "}}\n",
       "\n",
       "                        })                };                });            </script>        </div>"
      ]
     },
     "metadata": {},
     "output_type": "display_data"
    }
   ],
   "source": [
    "children_4.iplot(kind='bar',\n",
    "                  x='Periodo',\n",
    "                y='Total',\n",
    "                  xTitle='Periodo',\n",
    "                  yTitle='Total',\n",
    "                  title='EVOLUCIÓN DE LAS MUERTES INFANTILES EN EL TIEMPO')"
   ]
  }
 ],
 "metadata": {
  "kernelspec": {
   "display_name": "Python [conda env:m2_env]",
   "language": "python",
   "name": "conda-env-m2_env-py"
  },
  "language_info": {
   "codemirror_mode": {
    "name": "ipython",
    "version": 3
   },
   "file_extension": ".py",
   "mimetype": "text/x-python",
   "name": "python",
   "nbconvert_exporter": "python",
   "pygments_lexer": "ipython3",
   "version": "3.9.16"
  }
 },
 "nbformat": 4,
 "nbformat_minor": 2
}
